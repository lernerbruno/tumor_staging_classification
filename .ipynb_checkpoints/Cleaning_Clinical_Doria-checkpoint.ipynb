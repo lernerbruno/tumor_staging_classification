{
 "cells": [
  {
   "cell_type": "code",
   "execution_count": 113,
   "metadata": {
    "ExecuteTime": {
     "end_time": "2019-08-18T08:27:55.393089Z",
     "start_time": "2019-08-18T08:27:55.383142Z"
    }
   },
   "outputs": [],
   "source": [
    "%matplotlib inline\n",
    "import pandas as pd\n",
    "import json\n",
    "import gzip\n",
    "import os\n",
    "import numpy as np\n",
    "import sys\n",
    "from pandas.io.json import json_normalize\n",
    "import seaborn as sns"
   ]
  },
  {
   "cell_type": "markdown",
   "metadata": {},
   "source": [
    "# Clinical"
   ]
  },
  {
   "cell_type": "markdown",
   "metadata": {},
   "source": [
    "## Importing the clinical data"
   ]
  },
  {
   "cell_type": "code",
   "execution_count": 114,
   "metadata": {
    "ExecuteTime": {
     "end_time": "2019-08-18T08:27:56.140091Z",
     "start_time": "2019-08-18T08:27:56.039385Z"
    }
   },
   "outputs": [
    {
     "data": {
      "text/html": [
       "<div>\n",
       "<style scoped>\n",
       "    .dataframe tbody tr th:only-of-type {\n",
       "        vertical-align: middle;\n",
       "    }\n",
       "\n",
       "    .dataframe tbody tr th {\n",
       "        vertical-align: top;\n",
       "    }\n",
       "\n",
       "    .dataframe thead th {\n",
       "        text-align: right;\n",
       "    }\n",
       "</style>\n",
       "<table border=\"1\" class=\"dataframe\">\n",
       "  <thead>\n",
       "    <tr style=\"text-align: right;\">\n",
       "      <th></th>\n",
       "      <th>diagnoses</th>\n",
       "      <th>case_id</th>\n",
       "      <th>demographic</th>\n",
       "      <th>exposures</th>\n",
       "    </tr>\n",
       "  </thead>\n",
       "  <tbody>\n",
       "    <tr>\n",
       "      <th>0</th>\n",
       "      <td>[{'year_of_diagnosis': 2010, 'classification_o...</td>\n",
       "      <td>dd96a9c7-899c-47cd-a0f9-b149ed07a5d6</td>\n",
       "      <td>{'updated_datetime': '2019-04-28T14:06:27.1878...</td>\n",
       "      <td>[{'cigarettes_per_day': None, 'weight': None, ...</td>\n",
       "    </tr>\n",
       "    <tr>\n",
       "      <th>1</th>\n",
       "      <td>[{'year_of_diagnosis': 1995, 'classification_o...</td>\n",
       "      <td>3f834fa7-6d7b-4b85-98c0-5c55d55b6c95</td>\n",
       "      <td>{'updated_datetime': '2019-04-28T13:48:46.4035...</td>\n",
       "      <td>[{'cigarettes_per_day': None, 'weight': None, ...</td>\n",
       "    </tr>\n",
       "    <tr>\n",
       "      <th>2</th>\n",
       "      <td>[{'year_of_diagnosis': 1994, 'classification_o...</td>\n",
       "      <td>451e1a67-47e6-4738-99d7-fb7771ef61a3</td>\n",
       "      <td>{'updated_datetime': '2019-04-28T13:49:33.3043...</td>\n",
       "      <td>[{'cigarettes_per_day': None, 'weight': None, ...</td>\n",
       "    </tr>\n",
       "    <tr>\n",
       "      <th>3</th>\n",
       "      <td>[{'year_of_diagnosis': 1994, 'classification_o...</td>\n",
       "      <td>178b2c48-c07d-422e-ae17-8bcfd996ad51</td>\n",
       "      <td>{'updated_datetime': '2019-04-28T13:44:29.1433...</td>\n",
       "      <td>[{'cigarettes_per_day': None, 'weight': None, ...</td>\n",
       "    </tr>\n",
       "    <tr>\n",
       "      <th>4</th>\n",
       "      <td>[{'year_of_diagnosis': 2011, 'classification_o...</td>\n",
       "      <td>dddd8e2f-e540-418a-b02e-698d18a12c14</td>\n",
       "      <td>{'updated_datetime': '2019-04-28T13:41:37.6619...</td>\n",
       "      <td>[{'cigarettes_per_day': None, 'weight': None, ...</td>\n",
       "    </tr>\n",
       "  </tbody>\n",
       "</table>\n",
       "</div>"
      ],
      "text/plain": [
       "                                           diagnoses  \\\n",
       "0  [{'year_of_diagnosis': 2010, 'classification_o...   \n",
       "1  [{'year_of_diagnosis': 1995, 'classification_o...   \n",
       "2  [{'year_of_diagnosis': 1994, 'classification_o...   \n",
       "3  [{'year_of_diagnosis': 1994, 'classification_o...   \n",
       "4  [{'year_of_diagnosis': 2011, 'classification_o...   \n",
       "\n",
       "                                case_id  \\\n",
       "0  dd96a9c7-899c-47cd-a0f9-b149ed07a5d6   \n",
       "1  3f834fa7-6d7b-4b85-98c0-5c55d55b6c95   \n",
       "2  451e1a67-47e6-4738-99d7-fb7771ef61a3   \n",
       "3  178b2c48-c07d-422e-ae17-8bcfd996ad51   \n",
       "4  dddd8e2f-e540-418a-b02e-698d18a12c14   \n",
       "\n",
       "                                         demographic  \\\n",
       "0  {'updated_datetime': '2019-04-28T14:06:27.1878...   \n",
       "1  {'updated_datetime': '2019-04-28T13:48:46.4035...   \n",
       "2  {'updated_datetime': '2019-04-28T13:49:33.3043...   \n",
       "3  {'updated_datetime': '2019-04-28T13:44:29.1433...   \n",
       "4  {'updated_datetime': '2019-04-28T13:41:37.6619...   \n",
       "\n",
       "                                           exposures  \n",
       "0  [{'cigarettes_per_day': None, 'weight': None, ...  \n",
       "1  [{'cigarettes_per_day': None, 'weight': None, ...  \n",
       "2  [{'cigarettes_per_day': None, 'weight': None, ...  \n",
       "3  [{'cigarettes_per_day': None, 'weight': None, ...  \n",
       "4  [{'cigarettes_per_day': None, 'weight': None, ...  "
      ]
     },
     "execution_count": 114,
     "metadata": {},
     "output_type": "execute_result"
    }
   ],
   "source": [
    "clinical = pd.read_json('clinical.json')\n",
    "clinical.head()"
   ]
  },
  {
   "cell_type": "code",
   "execution_count": 115,
   "metadata": {
    "ExecuteTime": {
     "end_time": "2019-08-18T08:27:56.148073Z",
     "start_time": "2019-08-18T08:27:56.142086Z"
    }
   },
   "outputs": [
    {
     "data": {
      "text/plain": [
       "(1036, 4)"
      ]
     },
     "execution_count": 115,
     "metadata": {},
     "output_type": "execute_result"
    }
   ],
   "source": [
    "clinical.shape"
   ]
  },
  {
   "cell_type": "markdown",
   "metadata": {},
   "source": [
    "## Extracting the nested dicts"
   ]
  },
  {
   "cell_type": "code",
   "execution_count": 116,
   "metadata": {
    "ExecuteTime": {
     "end_time": "2019-08-18T08:27:56.399398Z",
     "start_time": "2019-08-18T08:27:56.394413Z"
    }
   },
   "outputs": [],
   "source": [
    "def get_nested(e, key):\n",
    "    e_dict = e\n",
    "    result = None\n",
    "    if type(e) is dict:\n",
    "        e_dict = np.array([e])\n",
    "        \n",
    "    try:\n",
    "        result = e_dict[0][key]\n",
    "    except KeyError:\n",
    "        result = np.nan\n",
    "        \n",
    "    return result"
   ]
  },
  {
   "cell_type": "code",
   "execution_count": 117,
   "metadata": {
    "ExecuteTime": {
     "end_time": "2019-08-18T08:27:56.632804Z",
     "start_time": "2019-08-18T08:27:56.406381Z"
    }
   },
   "outputs": [],
   "source": [
    "columns = ['diagnoses', 'demographic', 'exposures', 'treatments']\n",
    "for c in columns:\n",
    "    column_dict = clinical[c][0]\n",
    "    if type(column_dict) is dict:\n",
    "        column_dict = np.array([column_dict])\n",
    "\n",
    "    keys = list(column_dict[0].keys())\n",
    "    for key in keys:\n",
    "        clinical[key] = clinical[c].apply(get_nested, args=(key,))\n",
    "\n",
    "    clinical = clinical.drop(columns=[c])"
   ]
  },
  {
   "cell_type": "code",
   "execution_count": 118,
   "metadata": {
    "ExecuteTime": {
     "end_time": "2019-08-18T08:27:56.672692Z",
     "start_time": "2019-08-18T08:27:56.635766Z"
    }
   },
   "outputs": [
    {
     "data": {
      "text/html": [
       "<div>\n",
       "<style scoped>\n",
       "    .dataframe tbody tr th:only-of-type {\n",
       "        vertical-align: middle;\n",
       "    }\n",
       "\n",
       "    .dataframe tbody tr th {\n",
       "        vertical-align: top;\n",
       "    }\n",
       "\n",
       "    .dataframe thead th {\n",
       "        text-align: right;\n",
       "    }\n",
       "</style>\n",
       "<table border=\"1\" class=\"dataframe\">\n",
       "  <thead>\n",
       "    <tr style=\"text-align: right;\">\n",
       "      <th></th>\n",
       "      <th>case_id</th>\n",
       "      <th>year_of_diagnosis</th>\n",
       "      <th>classification_of_tumor</th>\n",
       "      <th>last_known_disease_status</th>\n",
       "      <th>updated_datetime</th>\n",
       "      <th>primary_diagnosis</th>\n",
       "      <th>submitter_id</th>\n",
       "      <th>tumor_stage</th>\n",
       "      <th>age_at_diagnosis</th>\n",
       "      <th>morphology</th>\n",
       "      <th>...</th>\n",
       "      <th>initial_disease_status</th>\n",
       "      <th>treatment_type</th>\n",
       "      <th>treatment_id</th>\n",
       "      <th>therapeutic_agents</th>\n",
       "      <th>regimen_or_line_of_therapy</th>\n",
       "      <th>treatment_intent_type</th>\n",
       "      <th>treatment_anatomic_site</th>\n",
       "      <th>treatment_outcome</th>\n",
       "      <th>days_to_treatment_end</th>\n",
       "      <th>treatment_or_therapy</th>\n",
       "    </tr>\n",
       "  </thead>\n",
       "  <tbody>\n",
       "    <tr>\n",
       "      <th>0</th>\n",
       "      <td>dd96a9c7-899c-47cd-a0f9-b149ed07a5d6</td>\n",
       "      <td>2010.0</td>\n",
       "      <td>not reported</td>\n",
       "      <td>not reported</td>\n",
       "      <td>2019-05-03T14:03:43.043868-05:00</td>\n",
       "      <td>Infiltrating duct carcinoma, NOS</td>\n",
       "      <td>TCGA-D8-A1JB_treatment_1</td>\n",
       "      <td>stage iib</td>\n",
       "      <td>19822.0</td>\n",
       "      <td>8500/3</td>\n",
       "      <td>...</td>\n",
       "      <td>NaN</td>\n",
       "      <td>Pharmaceutical Therapy, NOS</td>\n",
       "      <td>60dc52b4-276e-575d-9e03-21293919d0f6</td>\n",
       "      <td>None</td>\n",
       "      <td>NaN</td>\n",
       "      <td>None</td>\n",
       "      <td>NaN</td>\n",
       "      <td>NaN</td>\n",
       "      <td>NaN</td>\n",
       "      <td>yes</td>\n",
       "    </tr>\n",
       "    <tr>\n",
       "      <th>1</th>\n",
       "      <td>3f834fa7-6d7b-4b85-98c0-5c55d55b6c95</td>\n",
       "      <td>1995.0</td>\n",
       "      <td>not reported</td>\n",
       "      <td>not reported</td>\n",
       "      <td>2019-05-03T14:03:43.043868-05:00</td>\n",
       "      <td>Lobular carcinoma, NOS</td>\n",
       "      <td>TCGA-B6-A0IE_treatment_1</td>\n",
       "      <td>stage iiia</td>\n",
       "      <td>13982.0</td>\n",
       "      <td>8520/3</td>\n",
       "      <td>...</td>\n",
       "      <td>NaN</td>\n",
       "      <td>Pharmaceutical Therapy, NOS</td>\n",
       "      <td>d9a24d31-6ed6-5231-a545-edd78387c611</td>\n",
       "      <td>None</td>\n",
       "      <td>NaN</td>\n",
       "      <td>None</td>\n",
       "      <td>NaN</td>\n",
       "      <td>NaN</td>\n",
       "      <td>NaN</td>\n",
       "      <td>yes</td>\n",
       "    </tr>\n",
       "    <tr>\n",
       "      <th>2</th>\n",
       "      <td>451e1a67-47e6-4738-99d7-fb7771ef61a3</td>\n",
       "      <td>1994.0</td>\n",
       "      <td>not reported</td>\n",
       "      <td>not reported</td>\n",
       "      <td>2019-05-03T14:03:43.043868-05:00</td>\n",
       "      <td>Infiltrating duct and lobular carcinoma</td>\n",
       "      <td>TCGA-B6-A0RP_treatment_1</td>\n",
       "      <td>not reported</td>\n",
       "      <td>26941.0</td>\n",
       "      <td>8522/3</td>\n",
       "      <td>...</td>\n",
       "      <td>NaN</td>\n",
       "      <td>Pharmaceutical Therapy, NOS</td>\n",
       "      <td>22b0d7de-607e-5eb2-9260-dd22294c1842</td>\n",
       "      <td>None</td>\n",
       "      <td>NaN</td>\n",
       "      <td>None</td>\n",
       "      <td>NaN</td>\n",
       "      <td>NaN</td>\n",
       "      <td>NaN</td>\n",
       "      <td>yes</td>\n",
       "    </tr>\n",
       "    <tr>\n",
       "      <th>3</th>\n",
       "      <td>178b2c48-c07d-422e-ae17-8bcfd996ad51</td>\n",
       "      <td>1994.0</td>\n",
       "      <td>not reported</td>\n",
       "      <td>not reported</td>\n",
       "      <td>2019-04-28T13:44:29.143389-05:00</td>\n",
       "      <td>Infiltrating duct carcinoma, NOS</td>\n",
       "      <td>TCGA-B6-A0X1_treatment</td>\n",
       "      <td>not reported</td>\n",
       "      <td>17624.0</td>\n",
       "      <td>8500/3</td>\n",
       "      <td>...</td>\n",
       "      <td>NaN</td>\n",
       "      <td>Radiation Therapy, NOS</td>\n",
       "      <td>3ec5b0b5-a3d6-5673-8ecb-9aac1ded9b12</td>\n",
       "      <td>None</td>\n",
       "      <td>NaN</td>\n",
       "      <td>None</td>\n",
       "      <td>NaN</td>\n",
       "      <td>NaN</td>\n",
       "      <td>NaN</td>\n",
       "      <td>yes</td>\n",
       "    </tr>\n",
       "    <tr>\n",
       "      <th>4</th>\n",
       "      <td>dddd8e2f-e540-418a-b02e-698d18a12c14</td>\n",
       "      <td>2011.0</td>\n",
       "      <td>not reported</td>\n",
       "      <td>not reported</td>\n",
       "      <td>2019-05-03T14:03:43.043868-05:00</td>\n",
       "      <td>Infiltrating duct carcinoma, NOS</td>\n",
       "      <td>TCGA-A7-A26H_treatment_1</td>\n",
       "      <td>stage iia</td>\n",
       "      <td>26423.0</td>\n",
       "      <td>8500/3</td>\n",
       "      <td>...</td>\n",
       "      <td>NaN</td>\n",
       "      <td>Pharmaceutical Therapy, NOS</td>\n",
       "      <td>8f13abc3-c782-524e-bce4-7cffcc4d648f</td>\n",
       "      <td>None</td>\n",
       "      <td>NaN</td>\n",
       "      <td>None</td>\n",
       "      <td>NaN</td>\n",
       "      <td>NaN</td>\n",
       "      <td>NaN</td>\n",
       "      <td>yes</td>\n",
       "    </tr>\n",
       "  </tbody>\n",
       "</table>\n",
       "<p>5 rows × 54 columns</p>\n",
       "</div>"
      ],
      "text/plain": [
       "                                case_id  year_of_diagnosis  \\\n",
       "0  dd96a9c7-899c-47cd-a0f9-b149ed07a5d6             2010.0   \n",
       "1  3f834fa7-6d7b-4b85-98c0-5c55d55b6c95             1995.0   \n",
       "2  451e1a67-47e6-4738-99d7-fb7771ef61a3             1994.0   \n",
       "3  178b2c48-c07d-422e-ae17-8bcfd996ad51             1994.0   \n",
       "4  dddd8e2f-e540-418a-b02e-698d18a12c14             2011.0   \n",
       "\n",
       "  classification_of_tumor last_known_disease_status  \\\n",
       "0            not reported              not reported   \n",
       "1            not reported              not reported   \n",
       "2            not reported              not reported   \n",
       "3            not reported              not reported   \n",
       "4            not reported              not reported   \n",
       "\n",
       "                   updated_datetime                        primary_diagnosis  \\\n",
       "0  2019-05-03T14:03:43.043868-05:00         Infiltrating duct carcinoma, NOS   \n",
       "1  2019-05-03T14:03:43.043868-05:00                   Lobular carcinoma, NOS   \n",
       "2  2019-05-03T14:03:43.043868-05:00  Infiltrating duct and lobular carcinoma   \n",
       "3  2019-04-28T13:44:29.143389-05:00         Infiltrating duct carcinoma, NOS   \n",
       "4  2019-05-03T14:03:43.043868-05:00         Infiltrating duct carcinoma, NOS   \n",
       "\n",
       "               submitter_id   tumor_stage  age_at_diagnosis morphology  ...  \\\n",
       "0  TCGA-D8-A1JB_treatment_1     stage iib           19822.0     8500/3  ...   \n",
       "1  TCGA-B6-A0IE_treatment_1    stage iiia           13982.0     8520/3  ...   \n",
       "2  TCGA-B6-A0RP_treatment_1  not reported           26941.0     8522/3  ...   \n",
       "3    TCGA-B6-A0X1_treatment  not reported           17624.0     8500/3  ...   \n",
       "4  TCGA-A7-A26H_treatment_1     stage iia           26423.0     8500/3  ...   \n",
       "\n",
       "  initial_disease_status               treatment_type  \\\n",
       "0                    NaN  Pharmaceutical Therapy, NOS   \n",
       "1                    NaN  Pharmaceutical Therapy, NOS   \n",
       "2                    NaN  Pharmaceutical Therapy, NOS   \n",
       "3                    NaN       Radiation Therapy, NOS   \n",
       "4                    NaN  Pharmaceutical Therapy, NOS   \n",
       "\n",
       "                           treatment_id therapeutic_agents  \\\n",
       "0  60dc52b4-276e-575d-9e03-21293919d0f6               None   \n",
       "1  d9a24d31-6ed6-5231-a545-edd78387c611               None   \n",
       "2  22b0d7de-607e-5eb2-9260-dd22294c1842               None   \n",
       "3  3ec5b0b5-a3d6-5673-8ecb-9aac1ded9b12               None   \n",
       "4  8f13abc3-c782-524e-bce4-7cffcc4d648f               None   \n",
       "\n",
       "  regimen_or_line_of_therapy treatment_intent_type treatment_anatomic_site  \\\n",
       "0                        NaN                  None                     NaN   \n",
       "1                        NaN                  None                     NaN   \n",
       "2                        NaN                  None                     NaN   \n",
       "3                        NaN                  None                     NaN   \n",
       "4                        NaN                  None                     NaN   \n",
       "\n",
       "  treatment_outcome  days_to_treatment_end treatment_or_therapy  \n",
       "0               NaN                    NaN                  yes  \n",
       "1               NaN                    NaN                  yes  \n",
       "2               NaN                    NaN                  yes  \n",
       "3               NaN                    NaN                  yes  \n",
       "4               NaN                    NaN                  yes  \n",
       "\n",
       "[5 rows x 54 columns]"
      ]
     },
     "execution_count": 118,
     "metadata": {},
     "output_type": "execute_result"
    }
   ],
   "source": [
    "clinical.head()"
   ]
  },
  {
   "cell_type": "code",
   "execution_count": 119,
   "metadata": {
    "ExecuteTime": {
     "end_time": "2019-08-18T08:27:56.706578Z",
     "start_time": "2019-08-18T08:27:56.674662Z"
    }
   },
   "outputs": [
    {
     "data": {
      "text/plain": [
       "(1036, 54)"
      ]
     },
     "execution_count": 119,
     "metadata": {},
     "output_type": "execute_result"
    }
   ],
   "source": [
    "clinical.shape"
   ]
  },
  {
   "cell_type": "markdown",
   "metadata": {},
   "source": [
    "## Removing columns that add no info"
   ]
  },
  {
   "cell_type": "markdown",
   "metadata": {},
   "source": [
    "### Unique values:"
   ]
  },
  {
   "cell_type": "code",
   "execution_count": 120,
   "metadata": {
    "ExecuteTime": {
     "end_time": "2019-08-18T08:27:57.395739Z",
     "start_time": "2019-08-18T08:27:57.294007Z"
    }
   },
   "outputs": [
    {
     "name": "stdout",
     "output_type": "stream",
     "text": [
      "case_id\n",
      "submitter_id\n",
      "diagnosis_id\n",
      "demographic_id\n",
      "exposure_id\n",
      "treatment_id\n"
     ]
    }
   ],
   "source": [
    "NUM_RECORDS = len(clinical)\n",
    "for col in clinical.columns:\n",
    "    if len(clinical[col].value_counts()) == NUM_RECORDS:\n",
    "        print(col)"
   ]
  },
  {
   "cell_type": "markdown",
   "metadata": {},
   "source": [
    "**case_id** and **submitter_id** will be kept in the DF for now, since we need it in order to match the two tables later"
   ]
  },
  {
   "cell_type": "markdown",
   "metadata": {},
   "source": [
    "All of the other unique columns can be removed since they don't have any information that we need:"
   ]
  },
  {
   "cell_type": "code",
   "execution_count": 121,
   "metadata": {
    "ExecuteTime": {
     "end_time": "2019-08-18T08:27:57.995133Z",
     "start_time": "2019-08-18T08:27:57.987178Z"
    }
   },
   "outputs": [],
   "source": [
    "clinical = clinical.drop(columns=['diagnosis_id', 'demographic_id', 'exposure_id', 'treatment_id'])"
   ]
  },
  {
   "cell_type": "code",
   "execution_count": 122,
   "metadata": {
    "ExecuteTime": {
     "end_time": "2019-08-18T08:27:58.014089Z",
     "start_time": "2019-08-18T08:27:57.998123Z"
    }
   },
   "outputs": [
    {
     "data": {
      "text/plain": [
       "(1036, 50)"
      ]
     },
     "execution_count": 122,
     "metadata": {},
     "output_type": "execute_result"
    }
   ],
   "source": [
    "clinical.shape"
   ]
  },
  {
   "cell_type": "markdown",
   "metadata": {},
   "source": [
    "I will change the content of the column 'submitter_id' by removing the ending:"
   ]
  },
  {
   "cell_type": "code",
   "execution_count": 123,
   "metadata": {
    "ExecuteTime": {
     "end_time": "2019-08-18T08:27:58.345193Z",
     "start_time": "2019-08-18T08:27:58.338213Z"
    }
   },
   "outputs": [],
   "source": [
    "clinical['submitter_id'] = clinical['submitter_id'].apply(lambda x: x[:x.find(\"_\")])"
   ]
  },
  {
   "cell_type": "code",
   "execution_count": 124,
   "metadata": {
    "ExecuteTime": {
     "end_time": "2019-08-18T08:27:58.409049Z",
     "start_time": "2019-08-18T08:27:58.347189Z"
    }
   },
   "outputs": [
    {
     "data": {
      "text/html": [
       "<div>\n",
       "<style scoped>\n",
       "    .dataframe tbody tr th:only-of-type {\n",
       "        vertical-align: middle;\n",
       "    }\n",
       "\n",
       "    .dataframe tbody tr th {\n",
       "        vertical-align: top;\n",
       "    }\n",
       "\n",
       "    .dataframe thead th {\n",
       "        text-align: right;\n",
       "    }\n",
       "</style>\n",
       "<table border=\"1\" class=\"dataframe\">\n",
       "  <thead>\n",
       "    <tr style=\"text-align: right;\">\n",
       "      <th></th>\n",
       "      <th>case_id</th>\n",
       "      <th>year_of_diagnosis</th>\n",
       "      <th>classification_of_tumor</th>\n",
       "      <th>last_known_disease_status</th>\n",
       "      <th>updated_datetime</th>\n",
       "      <th>primary_diagnosis</th>\n",
       "      <th>submitter_id</th>\n",
       "      <th>tumor_stage</th>\n",
       "      <th>age_at_diagnosis</th>\n",
       "      <th>morphology</th>\n",
       "      <th>...</th>\n",
       "      <th>treatment_effect</th>\n",
       "      <th>initial_disease_status</th>\n",
       "      <th>treatment_type</th>\n",
       "      <th>therapeutic_agents</th>\n",
       "      <th>regimen_or_line_of_therapy</th>\n",
       "      <th>treatment_intent_type</th>\n",
       "      <th>treatment_anatomic_site</th>\n",
       "      <th>treatment_outcome</th>\n",
       "      <th>days_to_treatment_end</th>\n",
       "      <th>treatment_or_therapy</th>\n",
       "    </tr>\n",
       "  </thead>\n",
       "  <tbody>\n",
       "    <tr>\n",
       "      <th>0</th>\n",
       "      <td>dd96a9c7-899c-47cd-a0f9-b149ed07a5d6</td>\n",
       "      <td>2010.0</td>\n",
       "      <td>not reported</td>\n",
       "      <td>not reported</td>\n",
       "      <td>2019-05-03T14:03:43.043868-05:00</td>\n",
       "      <td>Infiltrating duct carcinoma, NOS</td>\n",
       "      <td>TCGA-D8-A1JB</td>\n",
       "      <td>stage iib</td>\n",
       "      <td>19822.0</td>\n",
       "      <td>8500/3</td>\n",
       "      <td>...</td>\n",
       "      <td>NaN</td>\n",
       "      <td>NaN</td>\n",
       "      <td>Pharmaceutical Therapy, NOS</td>\n",
       "      <td>None</td>\n",
       "      <td>NaN</td>\n",
       "      <td>None</td>\n",
       "      <td>NaN</td>\n",
       "      <td>NaN</td>\n",
       "      <td>NaN</td>\n",
       "      <td>yes</td>\n",
       "    </tr>\n",
       "    <tr>\n",
       "      <th>1</th>\n",
       "      <td>3f834fa7-6d7b-4b85-98c0-5c55d55b6c95</td>\n",
       "      <td>1995.0</td>\n",
       "      <td>not reported</td>\n",
       "      <td>not reported</td>\n",
       "      <td>2019-05-03T14:03:43.043868-05:00</td>\n",
       "      <td>Lobular carcinoma, NOS</td>\n",
       "      <td>TCGA-B6-A0IE</td>\n",
       "      <td>stage iiia</td>\n",
       "      <td>13982.0</td>\n",
       "      <td>8520/3</td>\n",
       "      <td>...</td>\n",
       "      <td>NaN</td>\n",
       "      <td>NaN</td>\n",
       "      <td>Pharmaceutical Therapy, NOS</td>\n",
       "      <td>None</td>\n",
       "      <td>NaN</td>\n",
       "      <td>None</td>\n",
       "      <td>NaN</td>\n",
       "      <td>NaN</td>\n",
       "      <td>NaN</td>\n",
       "      <td>yes</td>\n",
       "    </tr>\n",
       "    <tr>\n",
       "      <th>2</th>\n",
       "      <td>451e1a67-47e6-4738-99d7-fb7771ef61a3</td>\n",
       "      <td>1994.0</td>\n",
       "      <td>not reported</td>\n",
       "      <td>not reported</td>\n",
       "      <td>2019-05-03T14:03:43.043868-05:00</td>\n",
       "      <td>Infiltrating duct and lobular carcinoma</td>\n",
       "      <td>TCGA-B6-A0RP</td>\n",
       "      <td>not reported</td>\n",
       "      <td>26941.0</td>\n",
       "      <td>8522/3</td>\n",
       "      <td>...</td>\n",
       "      <td>NaN</td>\n",
       "      <td>NaN</td>\n",
       "      <td>Pharmaceutical Therapy, NOS</td>\n",
       "      <td>None</td>\n",
       "      <td>NaN</td>\n",
       "      <td>None</td>\n",
       "      <td>NaN</td>\n",
       "      <td>NaN</td>\n",
       "      <td>NaN</td>\n",
       "      <td>yes</td>\n",
       "    </tr>\n",
       "    <tr>\n",
       "      <th>3</th>\n",
       "      <td>178b2c48-c07d-422e-ae17-8bcfd996ad51</td>\n",
       "      <td>1994.0</td>\n",
       "      <td>not reported</td>\n",
       "      <td>not reported</td>\n",
       "      <td>2019-04-28T13:44:29.143389-05:00</td>\n",
       "      <td>Infiltrating duct carcinoma, NOS</td>\n",
       "      <td>TCGA-B6-A0X1</td>\n",
       "      <td>not reported</td>\n",
       "      <td>17624.0</td>\n",
       "      <td>8500/3</td>\n",
       "      <td>...</td>\n",
       "      <td>NaN</td>\n",
       "      <td>NaN</td>\n",
       "      <td>Radiation Therapy, NOS</td>\n",
       "      <td>None</td>\n",
       "      <td>NaN</td>\n",
       "      <td>None</td>\n",
       "      <td>NaN</td>\n",
       "      <td>NaN</td>\n",
       "      <td>NaN</td>\n",
       "      <td>yes</td>\n",
       "    </tr>\n",
       "    <tr>\n",
       "      <th>4</th>\n",
       "      <td>dddd8e2f-e540-418a-b02e-698d18a12c14</td>\n",
       "      <td>2011.0</td>\n",
       "      <td>not reported</td>\n",
       "      <td>not reported</td>\n",
       "      <td>2019-05-03T14:03:43.043868-05:00</td>\n",
       "      <td>Infiltrating duct carcinoma, NOS</td>\n",
       "      <td>TCGA-A7-A26H</td>\n",
       "      <td>stage iia</td>\n",
       "      <td>26423.0</td>\n",
       "      <td>8500/3</td>\n",
       "      <td>...</td>\n",
       "      <td>NaN</td>\n",
       "      <td>NaN</td>\n",
       "      <td>Pharmaceutical Therapy, NOS</td>\n",
       "      <td>None</td>\n",
       "      <td>NaN</td>\n",
       "      <td>None</td>\n",
       "      <td>NaN</td>\n",
       "      <td>NaN</td>\n",
       "      <td>NaN</td>\n",
       "      <td>yes</td>\n",
       "    </tr>\n",
       "  </tbody>\n",
       "</table>\n",
       "<p>5 rows × 50 columns</p>\n",
       "</div>"
      ],
      "text/plain": [
       "                                case_id  year_of_diagnosis  \\\n",
       "0  dd96a9c7-899c-47cd-a0f9-b149ed07a5d6             2010.0   \n",
       "1  3f834fa7-6d7b-4b85-98c0-5c55d55b6c95             1995.0   \n",
       "2  451e1a67-47e6-4738-99d7-fb7771ef61a3             1994.0   \n",
       "3  178b2c48-c07d-422e-ae17-8bcfd996ad51             1994.0   \n",
       "4  dddd8e2f-e540-418a-b02e-698d18a12c14             2011.0   \n",
       "\n",
       "  classification_of_tumor last_known_disease_status  \\\n",
       "0            not reported              not reported   \n",
       "1            not reported              not reported   \n",
       "2            not reported              not reported   \n",
       "3            not reported              not reported   \n",
       "4            not reported              not reported   \n",
       "\n",
       "                   updated_datetime                        primary_diagnosis  \\\n",
       "0  2019-05-03T14:03:43.043868-05:00         Infiltrating duct carcinoma, NOS   \n",
       "1  2019-05-03T14:03:43.043868-05:00                   Lobular carcinoma, NOS   \n",
       "2  2019-05-03T14:03:43.043868-05:00  Infiltrating duct and lobular carcinoma   \n",
       "3  2019-04-28T13:44:29.143389-05:00         Infiltrating duct carcinoma, NOS   \n",
       "4  2019-05-03T14:03:43.043868-05:00         Infiltrating duct carcinoma, NOS   \n",
       "\n",
       "   submitter_id   tumor_stage  age_at_diagnosis morphology  ...  \\\n",
       "0  TCGA-D8-A1JB     stage iib           19822.0     8500/3  ...   \n",
       "1  TCGA-B6-A0IE    stage iiia           13982.0     8520/3  ...   \n",
       "2  TCGA-B6-A0RP  not reported           26941.0     8522/3  ...   \n",
       "3  TCGA-B6-A0X1  not reported           17624.0     8500/3  ...   \n",
       "4  TCGA-A7-A26H     stage iia           26423.0     8500/3  ...   \n",
       "\n",
       "  treatment_effect initial_disease_status               treatment_type  \\\n",
       "0              NaN                    NaN  Pharmaceutical Therapy, NOS   \n",
       "1              NaN                    NaN  Pharmaceutical Therapy, NOS   \n",
       "2              NaN                    NaN  Pharmaceutical Therapy, NOS   \n",
       "3              NaN                    NaN       Radiation Therapy, NOS   \n",
       "4              NaN                    NaN  Pharmaceutical Therapy, NOS   \n",
       "\n",
       "  therapeutic_agents regimen_or_line_of_therapy treatment_intent_type  \\\n",
       "0               None                        NaN                  None   \n",
       "1               None                        NaN                  None   \n",
       "2               None                        NaN                  None   \n",
       "3               None                        NaN                  None   \n",
       "4               None                        NaN                  None   \n",
       "\n",
       "  treatment_anatomic_site  treatment_outcome days_to_treatment_end  \\\n",
       "0                     NaN                NaN                   NaN   \n",
       "1                     NaN                NaN                   NaN   \n",
       "2                     NaN                NaN                   NaN   \n",
       "3                     NaN                NaN                   NaN   \n",
       "4                     NaN                NaN                   NaN   \n",
       "\n",
       "  treatment_or_therapy  \n",
       "0                  yes  \n",
       "1                  yes  \n",
       "2                  yes  \n",
       "3                  yes  \n",
       "4                  yes  \n",
       "\n",
       "[5 rows x 50 columns]"
      ]
     },
     "execution_count": 124,
     "metadata": {},
     "output_type": "execute_result"
    }
   ],
   "source": [
    "clinical.head()"
   ]
  },
  {
   "cell_type": "markdown",
   "metadata": {},
   "source": [
    "### Column of all NaNs:"
   ]
  },
  {
   "cell_type": "code",
   "execution_count": 125,
   "metadata": {
    "ExecuteTime": {
     "end_time": "2019-08-18T08:27:58.726176Z",
     "start_time": "2019-08-18T08:27:58.692291Z"
    }
   },
   "outputs": [
    {
     "name": "stdout",
     "output_type": "stream",
     "text": [
      "['days_to_last_known_disease_status', 'days_to_recurrence', 'cigarettes_per_day', 'weight', 'alcohol_intensity', 'bmi', 'years_smoked', 'height', 'days_to_treatment_start', 'treatment_effect', 'initial_disease_status', 'therapeutic_agents', 'regimen_or_line_of_therapy', 'treatment_intent_type', 'treatment_anatomic_site', 'treatment_outcome', 'days_to_treatment_end']\n"
     ]
    }
   ],
   "source": [
    "all_nones = []\n",
    "for col in clinical.columns:\n",
    "    if sum(clinical[col].isnull()) == NUM_RECORDS:\n",
    "        all_nones.append(col)\n",
    "print(all_nones)"
   ]
  },
  {
   "cell_type": "markdown",
   "metadata": {},
   "source": [
    "Those columns will be removed since they don't have any informatyion in them:"
   ]
  },
  {
   "cell_type": "code",
   "execution_count": 126,
   "metadata": {
    "ExecuteTime": {
     "end_time": "2019-08-18T08:27:59.051306Z",
     "start_time": "2019-08-18T08:27:59.044326Z"
    }
   },
   "outputs": [],
   "source": [
    "clinical = clinical.drop(columns=all_nones)"
   ]
  },
  {
   "cell_type": "code",
   "execution_count": 127,
   "metadata": {
    "ExecuteTime": {
     "end_time": "2019-08-18T08:27:59.071254Z",
     "start_time": "2019-08-18T08:27:59.054299Z"
    }
   },
   "outputs": [
    {
     "data": {
      "text/plain": [
       "(1036, 33)"
      ]
     },
     "execution_count": 127,
     "metadata": {},
     "output_type": "execute_result"
    }
   ],
   "source": [
    "clinical.shape"
   ]
  },
  {
   "cell_type": "markdown",
   "metadata": {},
   "source": [
    "### One value for all of the records:"
   ]
  },
  {
   "cell_type": "code",
   "execution_count": 128,
   "metadata": {
    "ExecuteTime": {
     "end_time": "2019-08-18T08:27:59.465224Z",
     "start_time": "2019-08-18T08:27:59.390401Z"
    }
   },
   "outputs": [
    {
     "data": {
      "text/plain": [
       "['classification_of_tumor',\n",
       " 'last_known_disease_status',\n",
       " 'state',\n",
       " 'tumor_grade',\n",
       " 'days_to_diagnosis',\n",
       " 'progression_or_recurrence',\n",
       " 'gender',\n",
       " 'alcohol_history']"
      ]
     },
     "execution_count": 128,
     "metadata": {},
     "output_type": "execute_result"
    }
   ],
   "source": [
    "all_same = []\n",
    "for col in clinical.columns:\n",
    "    if len(clinical[col].value_counts()) == 1:\n",
    "        all_same.append(col)\n",
    "all_same"
   ]
  },
  {
   "cell_type": "markdown",
   "metadata": {},
   "source": [
    "All of there columns will also be removed since they don't have any added value:"
   ]
  },
  {
   "cell_type": "code",
   "execution_count": 129,
   "metadata": {
    "ExecuteTime": {
     "end_time": "2019-08-18T08:27:59.752433Z",
     "start_time": "2019-08-18T08:27:59.744453Z"
    }
   },
   "outputs": [],
   "source": [
    "clinical = clinical.drop(columns=all_same)"
   ]
  },
  {
   "cell_type": "code",
   "execution_count": 130,
   "metadata": {
    "ExecuteTime": {
     "end_time": "2019-08-18T08:27:59.777365Z",
     "start_time": "2019-08-18T08:27:59.754427Z"
    }
   },
   "outputs": [
    {
     "data": {
      "text/plain": [
       "(1036, 25)"
      ]
     },
     "execution_count": 130,
     "metadata": {},
     "output_type": "execute_result"
    }
   ],
   "source": [
    "clinical.shape"
   ]
  },
  {
   "cell_type": "markdown",
   "metadata": {},
   "source": [
    "## Checking out all of the columns"
   ]
  },
  {
   "cell_type": "code",
   "execution_count": 131,
   "metadata": {
    "ExecuteTime": {
     "end_time": "2019-08-18T08:28:00.164330Z",
     "start_time": "2019-08-18T08:28:00.121446Z"
    }
   },
   "outputs": [
    {
     "data": {
      "text/html": [
       "<div>\n",
       "<style scoped>\n",
       "    .dataframe tbody tr th:only-of-type {\n",
       "        vertical-align: middle;\n",
       "    }\n",
       "\n",
       "    .dataframe tbody tr th {\n",
       "        vertical-align: top;\n",
       "    }\n",
       "\n",
       "    .dataframe thead th {\n",
       "        text-align: right;\n",
       "    }\n",
       "</style>\n",
       "<table border=\"1\" class=\"dataframe\">\n",
       "  <thead>\n",
       "    <tr style=\"text-align: right;\">\n",
       "      <th></th>\n",
       "      <th>case_id</th>\n",
       "      <th>year_of_diagnosis</th>\n",
       "      <th>updated_datetime</th>\n",
       "      <th>primary_diagnosis</th>\n",
       "      <th>submitter_id</th>\n",
       "      <th>tumor_stage</th>\n",
       "      <th>age_at_diagnosis</th>\n",
       "      <th>morphology</th>\n",
       "      <th>created_datetime</th>\n",
       "      <th>prior_treatment</th>\n",
       "      <th>...</th>\n",
       "      <th>days_to_last_follow_up</th>\n",
       "      <th>year_of_birth</th>\n",
       "      <th>race</th>\n",
       "      <th>days_to_birth</th>\n",
       "      <th>ethnicity</th>\n",
       "      <th>vital_status</th>\n",
       "      <th>age_at_index</th>\n",
       "      <th>year_of_death</th>\n",
       "      <th>treatment_type</th>\n",
       "      <th>treatment_or_therapy</th>\n",
       "    </tr>\n",
       "  </thead>\n",
       "  <tbody>\n",
       "    <tr>\n",
       "      <th>0</th>\n",
       "      <td>dd96a9c7-899c-47cd-a0f9-b149ed07a5d6</td>\n",
       "      <td>2010.0</td>\n",
       "      <td>2019-05-03T14:03:43.043868-05:00</td>\n",
       "      <td>Infiltrating duct carcinoma, NOS</td>\n",
       "      <td>TCGA-D8-A1JB</td>\n",
       "      <td>stage iib</td>\n",
       "      <td>19822.0</td>\n",
       "      <td>8500/3</td>\n",
       "      <td>2019-04-28T14:06:27.187807-05:00</td>\n",
       "      <td>No</td>\n",
       "      <td>...</td>\n",
       "      <td>1688.0</td>\n",
       "      <td>1956.0</td>\n",
       "      <td>white</td>\n",
       "      <td>-19822.0</td>\n",
       "      <td>not hispanic or latino</td>\n",
       "      <td>Alive</td>\n",
       "      <td>54</td>\n",
       "      <td>NaN</td>\n",
       "      <td>Pharmaceutical Therapy, NOS</td>\n",
       "      <td>yes</td>\n",
       "    </tr>\n",
       "    <tr>\n",
       "      <th>1</th>\n",
       "      <td>3f834fa7-6d7b-4b85-98c0-5c55d55b6c95</td>\n",
       "      <td>1995.0</td>\n",
       "      <td>2019-05-03T14:03:43.043868-05:00</td>\n",
       "      <td>Lobular carcinoma, NOS</td>\n",
       "      <td>TCGA-B6-A0IE</td>\n",
       "      <td>stage iiia</td>\n",
       "      <td>13982.0</td>\n",
       "      <td>8520/3</td>\n",
       "      <td>2019-04-28T13:48:46.403564-05:00</td>\n",
       "      <td>No</td>\n",
       "      <td>...</td>\n",
       "      <td>NaN</td>\n",
       "      <td>1957.0</td>\n",
       "      <td>black or african american</td>\n",
       "      <td>-13982.0</td>\n",
       "      <td>not hispanic or latino</td>\n",
       "      <td>Dead</td>\n",
       "      <td>38</td>\n",
       "      <td>2000.0</td>\n",
       "      <td>Pharmaceutical Therapy, NOS</td>\n",
       "      <td>yes</td>\n",
       "    </tr>\n",
       "    <tr>\n",
       "      <th>2</th>\n",
       "      <td>451e1a67-47e6-4738-99d7-fb7771ef61a3</td>\n",
       "      <td>1994.0</td>\n",
       "      <td>2019-05-03T14:03:43.043868-05:00</td>\n",
       "      <td>Infiltrating duct and lobular carcinoma</td>\n",
       "      <td>TCGA-B6-A0RP</td>\n",
       "      <td>not reported</td>\n",
       "      <td>26941.0</td>\n",
       "      <td>8522/3</td>\n",
       "      <td>2019-04-28T13:49:33.304314-05:00</td>\n",
       "      <td>No</td>\n",
       "      <td>...</td>\n",
       "      <td>NaN</td>\n",
       "      <td>1921.0</td>\n",
       "      <td>white</td>\n",
       "      <td>-26941.0</td>\n",
       "      <td>not hispanic or latino</td>\n",
       "      <td>Dead</td>\n",
       "      <td>73</td>\n",
       "      <td>2002.0</td>\n",
       "      <td>Pharmaceutical Therapy, NOS</td>\n",
       "      <td>yes</td>\n",
       "    </tr>\n",
       "    <tr>\n",
       "      <th>3</th>\n",
       "      <td>178b2c48-c07d-422e-ae17-8bcfd996ad51</td>\n",
       "      <td>1994.0</td>\n",
       "      <td>2019-04-28T13:44:29.143389-05:00</td>\n",
       "      <td>Infiltrating duct carcinoma, NOS</td>\n",
       "      <td>TCGA-B6-A0X1</td>\n",
       "      <td>not reported</td>\n",
       "      <td>17624.0</td>\n",
       "      <td>8500/3</td>\n",
       "      <td>None</td>\n",
       "      <td>No</td>\n",
       "      <td>...</td>\n",
       "      <td>5677.0</td>\n",
       "      <td>1946.0</td>\n",
       "      <td>white</td>\n",
       "      <td>-17624.0</td>\n",
       "      <td>not hispanic or latino</td>\n",
       "      <td>Dead</td>\n",
       "      <td>48</td>\n",
       "      <td>NaN</td>\n",
       "      <td>Radiation Therapy, NOS</td>\n",
       "      <td>yes</td>\n",
       "    </tr>\n",
       "    <tr>\n",
       "      <th>4</th>\n",
       "      <td>dddd8e2f-e540-418a-b02e-698d18a12c14</td>\n",
       "      <td>2011.0</td>\n",
       "      <td>2019-05-03T14:03:43.043868-05:00</td>\n",
       "      <td>Infiltrating duct carcinoma, NOS</td>\n",
       "      <td>TCGA-A7-A26H</td>\n",
       "      <td>stage iia</td>\n",
       "      <td>26423.0</td>\n",
       "      <td>8500/3</td>\n",
       "      <td>2019-04-28T13:41:37.661995-05:00</td>\n",
       "      <td>No</td>\n",
       "      <td>...</td>\n",
       "      <td>724.0</td>\n",
       "      <td>1939.0</td>\n",
       "      <td>white</td>\n",
       "      <td>-26423.0</td>\n",
       "      <td>not hispanic or latino</td>\n",
       "      <td>Alive</td>\n",
       "      <td>72</td>\n",
       "      <td>NaN</td>\n",
       "      <td>Pharmaceutical Therapy, NOS</td>\n",
       "      <td>yes</td>\n",
       "    </tr>\n",
       "  </tbody>\n",
       "</table>\n",
       "<p>5 rows × 25 columns</p>\n",
       "</div>"
      ],
      "text/plain": [
       "                                case_id  year_of_diagnosis  \\\n",
       "0  dd96a9c7-899c-47cd-a0f9-b149ed07a5d6             2010.0   \n",
       "1  3f834fa7-6d7b-4b85-98c0-5c55d55b6c95             1995.0   \n",
       "2  451e1a67-47e6-4738-99d7-fb7771ef61a3             1994.0   \n",
       "3  178b2c48-c07d-422e-ae17-8bcfd996ad51             1994.0   \n",
       "4  dddd8e2f-e540-418a-b02e-698d18a12c14             2011.0   \n",
       "\n",
       "                   updated_datetime                        primary_diagnosis  \\\n",
       "0  2019-05-03T14:03:43.043868-05:00         Infiltrating duct carcinoma, NOS   \n",
       "1  2019-05-03T14:03:43.043868-05:00                   Lobular carcinoma, NOS   \n",
       "2  2019-05-03T14:03:43.043868-05:00  Infiltrating duct and lobular carcinoma   \n",
       "3  2019-04-28T13:44:29.143389-05:00         Infiltrating duct carcinoma, NOS   \n",
       "4  2019-05-03T14:03:43.043868-05:00         Infiltrating duct carcinoma, NOS   \n",
       "\n",
       "   submitter_id   tumor_stage  age_at_diagnosis morphology  \\\n",
       "0  TCGA-D8-A1JB     stage iib           19822.0     8500/3   \n",
       "1  TCGA-B6-A0IE    stage iiia           13982.0     8520/3   \n",
       "2  TCGA-B6-A0RP  not reported           26941.0     8522/3   \n",
       "3  TCGA-B6-A0X1  not reported           17624.0     8500/3   \n",
       "4  TCGA-A7-A26H     stage iia           26423.0     8500/3   \n",
       "\n",
       "                   created_datetime prior_treatment  ...  \\\n",
       "0  2019-04-28T14:06:27.187807-05:00              No  ...   \n",
       "1  2019-04-28T13:48:46.403564-05:00              No  ...   \n",
       "2  2019-04-28T13:49:33.304314-05:00              No  ...   \n",
       "3                              None              No  ...   \n",
       "4  2019-04-28T13:41:37.661995-05:00              No  ...   \n",
       "\n",
       "  days_to_last_follow_up year_of_birth                       race  \\\n",
       "0                 1688.0        1956.0                      white   \n",
       "1                    NaN        1957.0  black or african american   \n",
       "2                    NaN        1921.0                      white   \n",
       "3                 5677.0        1946.0                      white   \n",
       "4                  724.0        1939.0                      white   \n",
       "\n",
       "  days_to_birth               ethnicity  vital_status  age_at_index  \\\n",
       "0      -19822.0  not hispanic or latino         Alive            54   \n",
       "1      -13982.0  not hispanic or latino          Dead            38   \n",
       "2      -26941.0  not hispanic or latino          Dead            73   \n",
       "3      -17624.0  not hispanic or latino          Dead            48   \n",
       "4      -26423.0  not hispanic or latino         Alive            72   \n",
       "\n",
       "  year_of_death               treatment_type treatment_or_therapy  \n",
       "0           NaN  Pharmaceutical Therapy, NOS                  yes  \n",
       "1        2000.0  Pharmaceutical Therapy, NOS                  yes  \n",
       "2        2002.0  Pharmaceutical Therapy, NOS                  yes  \n",
       "3           NaN       Radiation Therapy, NOS                  yes  \n",
       "4           NaN  Pharmaceutical Therapy, NOS                  yes  \n",
       "\n",
       "[5 rows x 25 columns]"
      ]
     },
     "execution_count": 131,
     "metadata": {},
     "output_type": "execute_result"
    }
   ],
   "source": [
    "clinical.head()"
   ]
  },
  {
   "cell_type": "markdown",
   "metadata": {},
   "source": [
    "### updated_datetime"
   ]
  },
  {
   "cell_type": "code",
   "execution_count": 132,
   "metadata": {
    "ExecuteTime": {
     "end_time": "2019-08-18T08:28:00.644049Z",
     "start_time": "2019-08-18T08:28:00.633076Z"
    }
   },
   "outputs": [
    {
     "data": {
      "text/plain": [
       "2019-05-03T14:03:43.043868-05:00    524\n",
       "2019-04-28T13:54:32.082307-05:00      1\n",
       "2019-04-28T13:35:21.963003-05:00      1\n",
       "2019-04-28T13:52:28.485796-05:00      1\n",
       "2019-04-28T13:30:18.658451-05:00      1\n",
       "Name: updated_datetime, dtype: int64"
      ]
     },
     "execution_count": 132,
     "metadata": {},
     "output_type": "execute_result"
    }
   ],
   "source": [
    "clinical['updated_datetime'].value_counts().head()"
   ]
  },
  {
   "cell_type": "markdown",
   "metadata": {},
   "source": [
    "It seems like the column 'updated_datetime' has information about the last date in which the information was updated. Since this is not information that we care about, I will remove it:"
   ]
  },
  {
   "cell_type": "code",
   "execution_count": 133,
   "metadata": {
    "ExecuteTime": {
     "end_time": "2019-08-18T08:28:00.970177Z",
     "start_time": "2019-08-18T08:28:00.964192Z"
    }
   },
   "outputs": [],
   "source": [
    "clinical = clinical.drop(columns=['updated_datetime'])"
   ]
  },
  {
   "cell_type": "code",
   "execution_count": 134,
   "metadata": {
    "ExecuteTime": {
     "end_time": "2019-08-18T08:28:01.019046Z",
     "start_time": "2019-08-18T08:28:00.972170Z"
    }
   },
   "outputs": [
    {
     "data": {
      "text/plain": [
       "(1036, 24)"
      ]
     },
     "execution_count": 134,
     "metadata": {},
     "output_type": "execute_result"
    }
   ],
   "source": [
    "clinical.shape"
   ]
  },
  {
   "cell_type": "markdown",
   "metadata": {},
   "source": [
    "### primary_diagnosis"
   ]
  },
  {
   "cell_type": "code",
   "execution_count": 135,
   "metadata": {
    "ExecuteTime": {
     "end_time": "2019-08-18T08:28:01.346194Z",
     "start_time": "2019-08-18T08:28:01.336224Z"
    }
   },
   "outputs": [
    {
     "data": {
      "text/plain": [
       "Infiltrating duct carcinoma, NOS                            763\n",
       "Lobular carcinoma, NOS                                      201\n",
       "Infiltrating duct and lobular carcinoma                      28\n",
       "Infiltrating duct mixed with other types of carcinoma        19\n",
       "Infiltrating lobular mixed with other types of carcinoma      6\n",
       "Intraductal papillary adenocarcinoma with invasion            6\n",
       "Medullary carcinoma, NOS                                      6\n",
       "Intraductal micropapillary carcinoma                          3\n",
       "Paget disease and infiltrating duct carcinoma of breast       3\n",
       "Secretory carcinoma of breast                                 1\n",
       "Name: primary_diagnosis, dtype: int64"
      ]
     },
     "execution_count": 135,
     "metadata": {},
     "output_type": "execute_result"
    }
   ],
   "source": [
    "clinical['primary_diagnosis'].value_counts()"
   ]
  },
  {
   "cell_type": "markdown",
   "metadata": {},
   "source": [
    "I don't think that this is information that we care about (please correct me if I'm wrong), so I will remove it:"
   ]
  },
  {
   "cell_type": "code",
   "execution_count": 136,
   "metadata": {
    "ExecuteTime": {
     "end_time": "2019-08-18T08:28:01.704212Z",
     "start_time": "2019-08-18T08:28:01.696257Z"
    }
   },
   "outputs": [],
   "source": [
    "clinical = clinical.drop(columns=['primary_diagnosis'])"
   ]
  },
  {
   "cell_type": "code",
   "execution_count": 137,
   "metadata": {
    "ExecuteTime": {
     "end_time": "2019-08-18T08:28:01.724160Z",
     "start_time": "2019-08-18T08:28:01.706206Z"
    }
   },
   "outputs": [
    {
     "data": {
      "text/plain": [
       "(1036, 23)"
      ]
     },
     "execution_count": 137,
     "metadata": {},
     "output_type": "execute_result"
    }
   ],
   "source": [
    "clinical.shape"
   ]
  },
  {
   "cell_type": "markdown",
   "metadata": {},
   "source": [
    "### tumor_stage (the target)"
   ]
  },
  {
   "cell_type": "code",
   "execution_count": 138,
   "metadata": {
    "ExecuteTime": {
     "end_time": "2019-08-18T08:28:02.306631Z",
     "start_time": "2019-08-18T08:28:02.298646Z"
    }
   },
   "outputs": [
    {
     "data": {
      "text/plain": [
       "0"
      ]
     },
     "execution_count": 138,
     "metadata": {},
     "output_type": "execute_result"
    }
   ],
   "source": [
    "sum(clinical['tumor_stage'].isnull())"
   ]
  },
  {
   "cell_type": "markdown",
   "metadata": {},
   "source": [
    "It has no nulls, which is a good thing. The problem is that it has 11 records that are 'not reported'. In addition, stage X means that the stage wasn't determined."
   ]
  },
  {
   "cell_type": "code",
   "execution_count": 139,
   "metadata": {
    "ExecuteTime": {
     "end_time": "2019-08-18T08:28:02.647716Z",
     "start_time": "2019-08-18T08:28:02.639712Z"
    }
   },
   "outputs": [
    {
     "data": {
      "text/plain": [
       "stage iia       337\n",
       "stage iib       245\n",
       "stage iiia      149\n",
       "stage i          83\n",
       "stage ia         83\n",
       "stage iiic       62\n",
       "stage iiib       23\n",
       "stage iv         19\n",
       "stage x          12\n",
       "not reported     11\n",
       "stage ib          5\n",
       "stage ii          5\n",
       "stage iii         2\n",
       "Name: tumor_stage, dtype: int64"
      ]
     },
     "execution_count": 139,
     "metadata": {},
     "output_type": "execute_result"
    }
   ],
   "source": [
    "clinical['tumor_stage'].value_counts()"
   ]
  },
  {
   "cell_type": "markdown",
   "metadata": {},
   "source": [
    "For this column, we need to do a few things (I guess we should do it together):\n",
    "\n",
    "* decide what to do with the missing values (not reported and stage x)\n",
    "* decide whether to keep stages with the same number seperated (maybe we can apply models and see?)\n",
    "* change the values to numbers according to the previous one"
   ]
  },
  {
   "cell_type": "markdown",
   "metadata": {},
   "source": [
    "### age_at_diagnosis"
   ]
  },
  {
   "cell_type": "markdown",
   "metadata": {},
   "source": [
    "This column contains information about the age of the women when she was diagnosed. The value in the column is the number of days that she had lived until diagnosis."
   ]
  },
  {
   "cell_type": "code",
   "execution_count": 140,
   "metadata": {
    "ExecuteTime": {
     "end_time": "2019-08-18T08:28:27.219975Z",
     "start_time": "2019-08-18T08:28:27.199067Z"
    }
   },
   "outputs": [
    {
     "data": {
      "text/html": [
       "<div>\n",
       "<style scoped>\n",
       "    .dataframe tbody tr th:only-of-type {\n",
       "        vertical-align: middle;\n",
       "    }\n",
       "\n",
       "    .dataframe tbody tr th {\n",
       "        vertical-align: top;\n",
       "    }\n",
       "\n",
       "    .dataframe thead th {\n",
       "        text-align: right;\n",
       "    }\n",
       "</style>\n",
       "<table border=\"1\" class=\"dataframe\">\n",
       "  <thead>\n",
       "    <tr style=\"text-align: right;\">\n",
       "      <th></th>\n",
       "      <th>age_at_diagnosis</th>\n",
       "    </tr>\n",
       "  </thead>\n",
       "  <tbody>\n",
       "    <tr>\n",
       "      <th>count</th>\n",
       "      <td>1022.000000</td>\n",
       "    </tr>\n",
       "    <tr>\n",
       "      <th>mean</th>\n",
       "      <td>21487.875734</td>\n",
       "    </tr>\n",
       "    <tr>\n",
       "      <th>std</th>\n",
       "      <td>4811.606429</td>\n",
       "    </tr>\n",
       "    <tr>\n",
       "      <th>min</th>\n",
       "      <td>9706.000000</td>\n",
       "    </tr>\n",
       "    <tr>\n",
       "      <th>25%</th>\n",
       "      <td>17923.250000</td>\n",
       "    </tr>\n",
       "    <tr>\n",
       "      <th>50%</th>\n",
       "      <td>21490.000000</td>\n",
       "    </tr>\n",
       "    <tr>\n",
       "      <th>75%</th>\n",
       "      <td>24800.000000</td>\n",
       "    </tr>\n",
       "    <tr>\n",
       "      <th>max</th>\n",
       "      <td>32872.000000</td>\n",
       "    </tr>\n",
       "  </tbody>\n",
       "</table>\n",
       "</div>"
      ],
      "text/plain": [
       "       age_at_diagnosis\n",
       "count       1022.000000\n",
       "mean       21487.875734\n",
       "std         4811.606429\n",
       "min         9706.000000\n",
       "25%        17923.250000\n",
       "50%        21490.000000\n",
       "75%        24800.000000\n",
       "max        32872.000000"
      ]
     },
     "execution_count": 140,
     "metadata": {},
     "output_type": "execute_result"
    }
   ],
   "source": [
    "clinical[['age_at_diagnosis']].describe()"
   ]
  },
  {
   "cell_type": "markdown",
   "metadata": {},
   "source": [
    "I will convert the values of the column into years, so we can interpret the data more easly ourselves:"
   ]
  },
  {
   "cell_type": "code",
   "execution_count": 141,
   "metadata": {
    "ExecuteTime": {
     "end_time": "2019-08-18T08:28:31.407775Z",
     "start_time": "2019-08-18T08:28:31.401794Z"
    }
   },
   "outputs": [],
   "source": [
    "clinical['age_at_diagnosis'] = clinical['age_at_diagnosis'].apply(lambda x: x / 365)"
   ]
  },
  {
   "cell_type": "code",
   "execution_count": 142,
   "metadata": {
    "ExecuteTime": {
     "end_time": "2019-08-18T08:28:33.123188Z",
     "start_time": "2019-08-18T08:28:33.105262Z"
    }
   },
   "outputs": [
    {
     "data": {
      "text/html": [
       "<div>\n",
       "<style scoped>\n",
       "    .dataframe tbody tr th:only-of-type {\n",
       "        vertical-align: middle;\n",
       "    }\n",
       "\n",
       "    .dataframe tbody tr th {\n",
       "        vertical-align: top;\n",
       "    }\n",
       "\n",
       "    .dataframe thead th {\n",
       "        text-align: right;\n",
       "    }\n",
       "</style>\n",
       "<table border=\"1\" class=\"dataframe\">\n",
       "  <thead>\n",
       "    <tr style=\"text-align: right;\">\n",
       "      <th></th>\n",
       "      <th>age_at_diagnosis</th>\n",
       "    </tr>\n",
       "  </thead>\n",
       "  <tbody>\n",
       "    <tr>\n",
       "      <th>count</th>\n",
       "      <td>1022.000000</td>\n",
       "    </tr>\n",
       "    <tr>\n",
       "      <th>mean</th>\n",
       "      <td>58.870892</td>\n",
       "    </tr>\n",
       "    <tr>\n",
       "      <th>std</th>\n",
       "      <td>13.182483</td>\n",
       "    </tr>\n",
       "    <tr>\n",
       "      <th>min</th>\n",
       "      <td>26.591781</td>\n",
       "    </tr>\n",
       "    <tr>\n",
       "      <th>25%</th>\n",
       "      <td>49.104795</td>\n",
       "    </tr>\n",
       "    <tr>\n",
       "      <th>50%</th>\n",
       "      <td>58.876712</td>\n",
       "    </tr>\n",
       "    <tr>\n",
       "      <th>75%</th>\n",
       "      <td>67.945205</td>\n",
       "    </tr>\n",
       "    <tr>\n",
       "      <th>max</th>\n",
       "      <td>90.060274</td>\n",
       "    </tr>\n",
       "  </tbody>\n",
       "</table>\n",
       "</div>"
      ],
      "text/plain": [
       "       age_at_diagnosis\n",
       "count       1022.000000\n",
       "mean          58.870892\n",
       "std           13.182483\n",
       "min           26.591781\n",
       "25%           49.104795\n",
       "50%           58.876712\n",
       "75%           67.945205\n",
       "max           90.060274"
      ]
     },
     "execution_count": 142,
     "metadata": {},
     "output_type": "execute_result"
    }
   ],
   "source": [
    "clinical[['age_at_diagnosis']].describe()"
   ]
  },
  {
   "cell_type": "markdown",
   "metadata": {},
   "source": [
    "Another thing that we can do is to convert this column to categories instead of the value itself, since I suppose that we care more about the group of the women rather than her exact age.\n",
    "\n",
    "Now let's look at nulls:"
   ]
  },
  {
   "cell_type": "code",
   "execution_count": 143,
   "metadata": {
    "ExecuteTime": {
     "end_time": "2019-08-18T08:28:36.235867Z",
     "start_time": "2019-08-18T08:28:36.228908Z"
    }
   },
   "outputs": [
    {
     "data": {
      "text/plain": [
       "14"
      ]
     },
     "execution_count": 143,
     "metadata": {},
     "output_type": "execute_result"
    }
   ],
   "source": [
    "sum(clinical['age_at_diagnosis'].isnull())"
   ]
  },
  {
   "cell_type": "markdown",
   "metadata": {},
   "source": [
    "I will replace these values with the mean value. (The mean and median in this case are very close so I just chose one of them)"
   ]
  },
  {
   "cell_type": "code",
   "execution_count": 144,
   "metadata": {
    "ExecuteTime": {
     "end_time": "2019-08-18T08:28:40.029718Z",
     "start_time": "2019-08-18T08:28:40.024734Z"
    }
   },
   "outputs": [
    {
     "data": {
      "text/plain": [
       "58.8708924215211"
      ]
     },
     "execution_count": 144,
     "metadata": {},
     "output_type": "execute_result"
    }
   ],
   "source": [
    "clinical['age_at_diagnosis'].mean()"
   ]
  },
  {
   "cell_type": "code",
   "execution_count": 145,
   "metadata": {
    "ExecuteTime": {
     "end_time": "2019-08-18T08:28:41.453935Z",
     "start_time": "2019-08-18T08:28:41.447953Z"
    }
   },
   "outputs": [
    {
     "data": {
      "text/plain": [
       "58.87671232876713"
      ]
     },
     "execution_count": 145,
     "metadata": {},
     "output_type": "execute_result"
    }
   ],
   "source": [
    "clinical['age_at_diagnosis'].median()"
   ]
  },
  {
   "cell_type": "code",
   "execution_count": 146,
   "metadata": {
    "ExecuteTime": {
     "end_time": "2019-08-18T08:28:45.467179Z",
     "start_time": "2019-08-18T08:28:45.461193Z"
    }
   },
   "outputs": [],
   "source": [
    "clinical['age_at_diagnosis'] = clinical['age_at_diagnosis'].fillna(clinical['age_at_diagnosis'].mean())"
   ]
  },
  {
   "cell_type": "code",
   "execution_count": 147,
   "metadata": {
    "ExecuteTime": {
     "end_time": "2019-08-18T08:28:46.599153Z",
     "start_time": "2019-08-18T08:28:46.592194Z"
    }
   },
   "outputs": [
    {
     "data": {
      "text/plain": [
       "0"
      ]
     },
     "execution_count": 147,
     "metadata": {},
     "output_type": "execute_result"
    }
   ],
   "source": [
    "sum(clinical['age_at_diagnosis'].isnull())"
   ]
  },
  {
   "cell_type": "markdown",
   "metadata": {},
   "source": [
    "### morphology"
   ]
  },
  {
   "cell_type": "markdown",
   "metadata": {},
   "source": [
    "**morphology** column contains information about the morphology of the tumor. This is not information that we need so I will remove it. Also I think that there is a little bit of target leakage in this column, since it contains information about the tumor itself, and the goal of the project is not to have this kind of information."
   ]
  },
  {
   "cell_type": "code",
   "execution_count": 148,
   "metadata": {
    "ExecuteTime": {
     "end_time": "2019-08-18T08:28:54.000788Z",
     "start_time": "2019-08-18T08:28:53.989840Z"
    }
   },
   "outputs": [
    {
     "data": {
      "text/plain": [
       "8500/3    763\n",
       "8520/3    201\n",
       "8522/3     28\n",
       "8523/3     19\n",
       "8524/3      6\n",
       "8510/3      6\n",
       "8503/3      6\n",
       "8541/3      3\n",
       "8507/3      3\n",
       "8502/3      1\n",
       "Name: morphology, dtype: int64"
      ]
     },
     "execution_count": 148,
     "metadata": {},
     "output_type": "execute_result"
    }
   ],
   "source": [
    "clinical['morphology'].value_counts()"
   ]
  },
  {
   "cell_type": "code",
   "execution_count": 149,
   "metadata": {
    "ExecuteTime": {
     "end_time": "2019-08-18T08:28:54.022750Z",
     "start_time": "2019-08-18T08:28:54.002779Z"
    }
   },
   "outputs": [],
   "source": [
    "clinical = clinical.drop(columns=['morphology'])"
   ]
  },
  {
   "cell_type": "code",
   "execution_count": 150,
   "metadata": {
    "ExecuteTime": {
     "end_time": "2019-08-18T08:28:54.041676Z",
     "start_time": "2019-08-18T08:28:54.025737Z"
    }
   },
   "outputs": [
    {
     "data": {
      "text/plain": [
       "(1036, 22)"
      ]
     },
     "execution_count": 150,
     "metadata": {},
     "output_type": "execute_result"
    }
   ],
   "source": [
    "clinical.shape"
   ]
  },
  {
   "cell_type": "markdown",
   "metadata": {},
   "source": [
    "### created_datetime, prior_treatment, icd_10_code"
   ]
  },
  {
   "cell_type": "markdown",
   "metadata": {
    "ExecuteTime": {
     "end_time": "2019-08-17T12:34:56.322710Z",
     "start_time": "2019-08-17T12:34:56.314731Z"
    }
   },
   "source": [
    "**created_datetime** contains information about the datetime in which this record was added to the website.\n",
    "\n",
    "**prior_treatment** contains information about prior treatmens given to the patient.\n",
    "\n",
    "**ICD-10 code** is a diagnostic code used to describe a patient’s medical condition.\n",
    "\n",
    "All of these columns contains information that we don't care about, therefore I will remove them:"
   ]
  },
  {
   "cell_type": "code",
   "execution_count": 151,
   "metadata": {
    "ExecuteTime": {
     "end_time": "2019-08-18T08:28:54.797655Z",
     "start_time": "2019-08-18T08:28:54.789700Z"
    }
   },
   "outputs": [],
   "source": [
    "not_valuable = ['created_datetime', 'prior_treatment', 'icd_10_code']\n",
    "clinical = clinical.drop(columns=not_valuable)"
   ]
  },
  {
   "cell_type": "code",
   "execution_count": 152,
   "metadata": {
    "ExecuteTime": {
     "end_time": "2019-08-18T08:28:54.820592Z",
     "start_time": "2019-08-18T08:28:54.799649Z"
    }
   },
   "outputs": [
    {
     "data": {
      "text/plain": [
       "(1036, 19)"
      ]
     },
     "execution_count": 152,
     "metadata": {},
     "output_type": "execute_result"
    }
   ],
   "source": [
    "clinical.shape"
   ]
  },
  {
   "cell_type": "code",
   "execution_count": 153,
   "metadata": {
    "ExecuteTime": {
     "end_time": "2019-08-18T08:28:54.922325Z",
     "start_time": "2019-08-18T08:28:54.823586Z"
    }
   },
   "outputs": [
    {
     "data": {
      "text/html": [
       "<div>\n",
       "<style scoped>\n",
       "    .dataframe tbody tr th:only-of-type {\n",
       "        vertical-align: middle;\n",
       "    }\n",
       "\n",
       "    .dataframe tbody tr th {\n",
       "        vertical-align: top;\n",
       "    }\n",
       "\n",
       "    .dataframe thead th {\n",
       "        text-align: right;\n",
       "    }\n",
       "</style>\n",
       "<table border=\"1\" class=\"dataframe\">\n",
       "  <thead>\n",
       "    <tr style=\"text-align: right;\">\n",
       "      <th></th>\n",
       "      <th>case_id</th>\n",
       "      <th>year_of_diagnosis</th>\n",
       "      <th>submitter_id</th>\n",
       "      <th>tumor_stage</th>\n",
       "      <th>age_at_diagnosis</th>\n",
       "      <th>tissue_or_organ_of_origin</th>\n",
       "      <th>prior_malignancy</th>\n",
       "      <th>synchronous_malignancy</th>\n",
       "      <th>site_of_resection_or_biopsy</th>\n",
       "      <th>days_to_last_follow_up</th>\n",
       "      <th>year_of_birth</th>\n",
       "      <th>race</th>\n",
       "      <th>days_to_birth</th>\n",
       "      <th>ethnicity</th>\n",
       "      <th>vital_status</th>\n",
       "      <th>age_at_index</th>\n",
       "      <th>year_of_death</th>\n",
       "      <th>treatment_type</th>\n",
       "      <th>treatment_or_therapy</th>\n",
       "    </tr>\n",
       "  </thead>\n",
       "  <tbody>\n",
       "    <tr>\n",
       "      <th>0</th>\n",
       "      <td>dd96a9c7-899c-47cd-a0f9-b149ed07a5d6</td>\n",
       "      <td>2010.0</td>\n",
       "      <td>TCGA-D8-A1JB</td>\n",
       "      <td>stage iib</td>\n",
       "      <td>54.306849</td>\n",
       "      <td>Breast, NOS</td>\n",
       "      <td>no</td>\n",
       "      <td>No</td>\n",
       "      <td>Breast, NOS</td>\n",
       "      <td>1688.0</td>\n",
       "      <td>1956.0</td>\n",
       "      <td>white</td>\n",
       "      <td>-19822.0</td>\n",
       "      <td>not hispanic or latino</td>\n",
       "      <td>Alive</td>\n",
       "      <td>54</td>\n",
       "      <td>NaN</td>\n",
       "      <td>Pharmaceutical Therapy, NOS</td>\n",
       "      <td>yes</td>\n",
       "    </tr>\n",
       "    <tr>\n",
       "      <th>1</th>\n",
       "      <td>3f834fa7-6d7b-4b85-98c0-5c55d55b6c95</td>\n",
       "      <td>1995.0</td>\n",
       "      <td>TCGA-B6-A0IE</td>\n",
       "      <td>stage iiia</td>\n",
       "      <td>38.306849</td>\n",
       "      <td>Breast, NOS</td>\n",
       "      <td>no</td>\n",
       "      <td>No</td>\n",
       "      <td>Breast, NOS</td>\n",
       "      <td>NaN</td>\n",
       "      <td>1957.0</td>\n",
       "      <td>black or african american</td>\n",
       "      <td>-13982.0</td>\n",
       "      <td>not hispanic or latino</td>\n",
       "      <td>Dead</td>\n",
       "      <td>38</td>\n",
       "      <td>2000.0</td>\n",
       "      <td>Pharmaceutical Therapy, NOS</td>\n",
       "      <td>yes</td>\n",
       "    </tr>\n",
       "    <tr>\n",
       "      <th>2</th>\n",
       "      <td>451e1a67-47e6-4738-99d7-fb7771ef61a3</td>\n",
       "      <td>1994.0</td>\n",
       "      <td>TCGA-B6-A0RP</td>\n",
       "      <td>not reported</td>\n",
       "      <td>73.810959</td>\n",
       "      <td>Breast, NOS</td>\n",
       "      <td>no</td>\n",
       "      <td>No</td>\n",
       "      <td>Breast, NOS</td>\n",
       "      <td>NaN</td>\n",
       "      <td>1921.0</td>\n",
       "      <td>white</td>\n",
       "      <td>-26941.0</td>\n",
       "      <td>not hispanic or latino</td>\n",
       "      <td>Dead</td>\n",
       "      <td>73</td>\n",
       "      <td>2002.0</td>\n",
       "      <td>Pharmaceutical Therapy, NOS</td>\n",
       "      <td>yes</td>\n",
       "    </tr>\n",
       "    <tr>\n",
       "      <th>3</th>\n",
       "      <td>178b2c48-c07d-422e-ae17-8bcfd996ad51</td>\n",
       "      <td>1994.0</td>\n",
       "      <td>TCGA-B6-A0X1</td>\n",
       "      <td>not reported</td>\n",
       "      <td>48.284932</td>\n",
       "      <td>Breast, NOS</td>\n",
       "      <td>no</td>\n",
       "      <td>No</td>\n",
       "      <td>Breast, NOS</td>\n",
       "      <td>5677.0</td>\n",
       "      <td>1946.0</td>\n",
       "      <td>white</td>\n",
       "      <td>-17624.0</td>\n",
       "      <td>not hispanic or latino</td>\n",
       "      <td>Dead</td>\n",
       "      <td>48</td>\n",
       "      <td>NaN</td>\n",
       "      <td>Radiation Therapy, NOS</td>\n",
       "      <td>yes</td>\n",
       "    </tr>\n",
       "    <tr>\n",
       "      <th>4</th>\n",
       "      <td>dddd8e2f-e540-418a-b02e-698d18a12c14</td>\n",
       "      <td>2011.0</td>\n",
       "      <td>TCGA-A7-A26H</td>\n",
       "      <td>stage iia</td>\n",
       "      <td>72.391781</td>\n",
       "      <td>Breast, NOS</td>\n",
       "      <td>yes</td>\n",
       "      <td>Not Reported</td>\n",
       "      <td>Breast, NOS</td>\n",
       "      <td>724.0</td>\n",
       "      <td>1939.0</td>\n",
       "      <td>white</td>\n",
       "      <td>-26423.0</td>\n",
       "      <td>not hispanic or latino</td>\n",
       "      <td>Alive</td>\n",
       "      <td>72</td>\n",
       "      <td>NaN</td>\n",
       "      <td>Pharmaceutical Therapy, NOS</td>\n",
       "      <td>yes</td>\n",
       "    </tr>\n",
       "  </tbody>\n",
       "</table>\n",
       "</div>"
      ],
      "text/plain": [
       "                                case_id  year_of_diagnosis  submitter_id  \\\n",
       "0  dd96a9c7-899c-47cd-a0f9-b149ed07a5d6             2010.0  TCGA-D8-A1JB   \n",
       "1  3f834fa7-6d7b-4b85-98c0-5c55d55b6c95             1995.0  TCGA-B6-A0IE   \n",
       "2  451e1a67-47e6-4738-99d7-fb7771ef61a3             1994.0  TCGA-B6-A0RP   \n",
       "3  178b2c48-c07d-422e-ae17-8bcfd996ad51             1994.0  TCGA-B6-A0X1   \n",
       "4  dddd8e2f-e540-418a-b02e-698d18a12c14             2011.0  TCGA-A7-A26H   \n",
       "\n",
       "    tumor_stage  age_at_diagnosis tissue_or_organ_of_origin prior_malignancy  \\\n",
       "0     stage iib         54.306849               Breast, NOS               no   \n",
       "1    stage iiia         38.306849               Breast, NOS               no   \n",
       "2  not reported         73.810959               Breast, NOS               no   \n",
       "3  not reported         48.284932               Breast, NOS               no   \n",
       "4     stage iia         72.391781               Breast, NOS              yes   \n",
       "\n",
       "  synchronous_malignancy site_of_resection_or_biopsy  days_to_last_follow_up  \\\n",
       "0                     No                 Breast, NOS                  1688.0   \n",
       "1                     No                 Breast, NOS                     NaN   \n",
       "2                     No                 Breast, NOS                     NaN   \n",
       "3                     No                 Breast, NOS                  5677.0   \n",
       "4           Not Reported                 Breast, NOS                   724.0   \n",
       "\n",
       "   year_of_birth                       race  days_to_birth  \\\n",
       "0         1956.0                      white       -19822.0   \n",
       "1         1957.0  black or african american       -13982.0   \n",
       "2         1921.0                      white       -26941.0   \n",
       "3         1946.0                      white       -17624.0   \n",
       "4         1939.0                      white       -26423.0   \n",
       "\n",
       "                ethnicity vital_status  age_at_index  year_of_death  \\\n",
       "0  not hispanic or latino        Alive            54            NaN   \n",
       "1  not hispanic or latino         Dead            38         2000.0   \n",
       "2  not hispanic or latino         Dead            73         2002.0   \n",
       "3  not hispanic or latino         Dead            48            NaN   \n",
       "4  not hispanic or latino        Alive            72            NaN   \n",
       "\n",
       "                treatment_type treatment_or_therapy  \n",
       "0  Pharmaceutical Therapy, NOS                  yes  \n",
       "1  Pharmaceutical Therapy, NOS                  yes  \n",
       "2  Pharmaceutical Therapy, NOS                  yes  \n",
       "3       Radiation Therapy, NOS                  yes  \n",
       "4  Pharmaceutical Therapy, NOS                  yes  "
      ]
     },
     "execution_count": 153,
     "metadata": {},
     "output_type": "execute_result"
    }
   ],
   "source": [
    "clinical.head()"
   ]
  },
  {
   "cell_type": "markdown",
   "metadata": {},
   "source": [
    "### year_of_diagnosis"
   ]
  },
  {
   "cell_type": "markdown",
   "metadata": {},
   "source": [
    "This column contains important information about the year that the patient was diagnosed with cancer. Nevertheless, we have information about the age of the patient at diagnosis, which is more important for us. Therefore, I will remove it:"
   ]
  },
  {
   "cell_type": "code",
   "execution_count": 154,
   "metadata": {
    "ExecuteTime": {
     "end_time": "2019-08-18T08:28:55.569604Z",
     "start_time": "2019-08-18T08:28:55.563607Z"
    }
   },
   "outputs": [],
   "source": [
    "clinical = clinical.drop(columns=['year_of_diagnosis'])"
   ]
  },
  {
   "cell_type": "code",
   "execution_count": 155,
   "metadata": {
    "ExecuteTime": {
     "end_time": "2019-08-18T08:28:55.616465Z",
     "start_time": "2019-08-18T08:28:55.574576Z"
    }
   },
   "outputs": [
    {
     "data": {
      "text/plain": [
       "(1036, 18)"
      ]
     },
     "execution_count": 155,
     "metadata": {},
     "output_type": "execute_result"
    }
   ],
   "source": [
    "clinical.shape"
   ]
  },
  {
   "cell_type": "markdown",
   "metadata": {},
   "source": [
    "### tissue_or_organ_of_origin"
   ]
  },
  {
   "cell_type": "markdown",
   "metadata": {
    "ExecuteTime": {
     "end_time": "2019-08-17T12:41:58.004075Z",
     "start_time": "2019-08-17T12:41:57.998080Z"
    }
   },
   "source": [
    "The column contains inforamtion about the exact location of the tumor. I don't think that this is something that interests us so I will remove it:"
   ]
  },
  {
   "cell_type": "code",
   "execution_count": 156,
   "metadata": {
    "ExecuteTime": {
     "end_time": "2019-08-18T08:28:56.341527Z",
     "start_time": "2019-08-18T08:28:56.332549Z"
    }
   },
   "outputs": [
    {
     "data": {
      "text/plain": [
       "Breast, NOS                       1027\n",
       "Lower-inner quadrant of breast       3\n",
       "Upper-outer quadrant of breast       2\n",
       "Upper-inner quadrant of breast       2\n",
       "Overlapping lesion of breast         1\n",
       "Lower-outer quadrant of breast       1\n",
       "Name: tissue_or_organ_of_origin, dtype: int64"
      ]
     },
     "execution_count": 156,
     "metadata": {},
     "output_type": "execute_result"
    }
   ],
   "source": [
    "clinical['tissue_or_organ_of_origin'].value_counts()"
   ]
  },
  {
   "cell_type": "code",
   "execution_count": 157,
   "metadata": {
    "ExecuteTime": {
     "end_time": "2019-08-18T08:28:56.361497Z",
     "start_time": "2019-08-18T08:28:56.344518Z"
    }
   },
   "outputs": [],
   "source": [
    "clinical = clinical.drop(columns=['tissue_or_organ_of_origin'])"
   ]
  },
  {
   "cell_type": "code",
   "execution_count": 158,
   "metadata": {
    "ExecuteTime": {
     "end_time": "2019-08-18T08:28:56.380447Z",
     "start_time": "2019-08-18T08:28:56.364464Z"
    }
   },
   "outputs": [
    {
     "data": {
      "text/plain": [
       "(1036, 17)"
      ]
     },
     "execution_count": 158,
     "metadata": {},
     "output_type": "execute_result"
    }
   ],
   "source": [
    "clinical.shape"
   ]
  },
  {
   "cell_type": "markdown",
   "metadata": {},
   "source": [
    "### prior_malignancy"
   ]
  },
  {
   "cell_type": "markdown",
   "metadata": {},
   "source": [
    "Meant to tell if the patient has had cancer before. I guess that this could be interesting, so I will convert it to 1 and 0:"
   ]
  },
  {
   "cell_type": "code",
   "execution_count": 159,
   "metadata": {
    "ExecuteTime": {
     "end_time": "2019-08-18T08:28:57.165324Z",
     "start_time": "2019-08-18T08:28:57.155350Z"
    },
    "scrolled": true
   },
   "outputs": [
    {
     "data": {
      "text/plain": [
       "no              973\n",
       "yes              62\n",
       "not reported      1\n",
       "Name: prior_malignancy, dtype: int64"
      ]
     },
     "execution_count": 159,
     "metadata": {},
     "output_type": "execute_result"
    }
   ],
   "source": [
    "clinical['prior_malignancy'].value_counts()"
   ]
  },
  {
   "cell_type": "code",
   "execution_count": 160,
   "metadata": {
    "ExecuteTime": {
     "end_time": "2019-08-18T08:28:57.183275Z",
     "start_time": "2019-08-18T08:28:57.168315Z"
    }
   },
   "outputs": [],
   "source": [
    "clinical['prior_malignancy'] = clinical['prior_malignancy'].replace({'no': 0, 'yes': 1})"
   ]
  },
  {
   "cell_type": "code",
   "execution_count": 161,
   "metadata": {
    "ExecuteTime": {
     "end_time": "2019-08-18T08:28:57.203223Z",
     "start_time": "2019-08-18T08:28:57.186267Z"
    }
   },
   "outputs": [
    {
     "data": {
      "text/plain": [
       "0               973\n",
       "1                62\n",
       "not reported      1\n",
       "Name: prior_malignancy, dtype: int64"
      ]
     },
     "execution_count": 161,
     "metadata": {},
     "output_type": "execute_result"
    }
   ],
   "source": [
    "clinical['prior_malignancy'].value_counts()"
   ]
  },
  {
   "cell_type": "markdown",
   "metadata": {},
   "source": [
    "As for the record that had 'not reported', I will replace the value with the mode of this column, which is 0:"
   ]
  },
  {
   "cell_type": "code",
   "execution_count": 162,
   "metadata": {
    "ExecuteTime": {
     "end_time": "2019-08-18T08:28:57.583216Z",
     "start_time": "2019-08-18T08:28:57.574254Z"
    }
   },
   "outputs": [
    {
     "data": {
      "text/plain": [
       "0    0\n",
       "dtype: object"
      ]
     },
     "execution_count": 162,
     "metadata": {},
     "output_type": "execute_result"
    }
   ],
   "source": [
    "clinical['prior_malignancy'].mode()"
   ]
  },
  {
   "cell_type": "code",
   "execution_count": 163,
   "metadata": {
    "ExecuteTime": {
     "end_time": "2019-08-18T08:28:57.600165Z",
     "start_time": "2019-08-18T08:28:57.586198Z"
    }
   },
   "outputs": [],
   "source": [
    "clinical['prior_malignancy'] = clinical['prior_malignancy'].replace({'not reported': 0}) "
   ]
  },
  {
   "cell_type": "code",
   "execution_count": 164,
   "metadata": {
    "ExecuteTime": {
     "end_time": "2019-08-18T08:28:57.621139Z",
     "start_time": "2019-08-18T08:28:57.603153Z"
    }
   },
   "outputs": [
    {
     "data": {
      "text/plain": [
       "0    974\n",
       "1     62\n",
       "Name: prior_malignancy, dtype: int64"
      ]
     },
     "execution_count": 164,
     "metadata": {},
     "output_type": "execute_result"
    }
   ],
   "source": [
    "clinical['prior_malignancy'].value_counts()"
   ]
  },
  {
   "cell_type": "markdown",
   "metadata": {},
   "source": [
    "The column doesn't have any null values:"
   ]
  },
  {
   "cell_type": "code",
   "execution_count": 165,
   "metadata": {
    "ExecuteTime": {
     "end_time": "2019-08-18T08:28:58.016071Z",
     "start_time": "2019-08-18T08:28:58.009075Z"
    }
   },
   "outputs": [
    {
     "data": {
      "text/plain": [
       "0"
      ]
     },
     "execution_count": 165,
     "metadata": {},
     "output_type": "execute_result"
    }
   ],
   "source": [
    "sum(clinical['prior_malignancy'].isnull())"
   ]
  },
  {
   "cell_type": "markdown",
   "metadata": {},
   "source": [
    "### synchronous_malignancy"
   ]
  },
  {
   "cell_type": "markdown",
   "metadata": {},
   "source": [
    "The column describes whether the patient had an additional malignant diagnosis at the same time the breast cancer was diagnosed. If both tumors were sequenced, both tumors would have synchronous malignancies.\n",
    "\n",
    "Let's look at the values of the column:"
   ]
  },
  {
   "cell_type": "code",
   "execution_count": 166,
   "metadata": {
    "ExecuteTime": {
     "end_time": "2019-08-18T08:28:59.154006Z",
     "start_time": "2019-08-18T08:28:59.144034Z"
    }
   },
   "outputs": [
    {
     "data": {
      "text/plain": [
       "No              973\n",
       "Not Reported     63\n",
       "Name: synchronous_malignancy, dtype: int64"
      ]
     },
     "execution_count": 166,
     "metadata": {},
     "output_type": "execute_result"
    }
   ],
   "source": [
    "clinical['synchronous_malignancy'].value_counts()"
   ]
  },
  {
   "cell_type": "markdown",
   "metadata": {},
   "source": [
    "I think that this column can be dropped, since there are a lot of values registered as not reported, and the rest of it is only one value - no. (Tell me if you think otherwise)"
   ]
  },
  {
   "cell_type": "code",
   "execution_count": 167,
   "metadata": {
    "ExecuteTime": {
     "end_time": "2019-08-18T08:28:59.627739Z",
     "start_time": "2019-08-18T08:28:59.620771Z"
    }
   },
   "outputs": [],
   "source": [
    "clinical = clinical.drop(columns=['synchronous_malignancy'])"
   ]
  },
  {
   "cell_type": "code",
   "execution_count": 168,
   "metadata": {
    "ExecuteTime": {
     "end_time": "2019-08-18T08:28:59.713517Z",
     "start_time": "2019-08-18T08:28:59.630730Z"
    }
   },
   "outputs": [
    {
     "data": {
      "text/plain": [
       "(1036, 16)"
      ]
     },
     "execution_count": 168,
     "metadata": {},
     "output_type": "execute_result"
    }
   ],
   "source": [
    "clinical.shape"
   ]
  },
  {
   "cell_type": "markdown",
   "metadata": {},
   "source": [
    "### site_of_resection_or_biopsy"
   ]
  },
  {
   "cell_type": "code",
   "execution_count": 169,
   "metadata": {
    "ExecuteTime": {
     "end_time": "2019-08-18T08:29:00.138371Z",
     "start_time": "2019-08-18T08:29:00.127407Z"
    }
   },
   "outputs": [
    {
     "data": {
      "text/plain": [
       "Breast, NOS                       1027\n",
       "Lower-inner quadrant of breast       3\n",
       "Upper-outer quadrant of breast       2\n",
       "Upper-inner quadrant of breast       2\n",
       "Overlapping lesion of breast         1\n",
       "Lower-outer quadrant of breast       1\n",
       "Name: site_of_resection_or_biopsy, dtype: int64"
      ]
     },
     "execution_count": 169,
     "metadata": {},
     "output_type": "execute_result"
    }
   ],
   "source": [
    "clinical['site_of_resection_or_biopsy'].value_counts()"
   ]
  },
  {
   "cell_type": "markdown",
   "metadata": {},
   "source": [
    "Here the column has information about the place of the tumor. As I said in tissue_or_organ_of_origin, I will remove it:"
   ]
  },
  {
   "cell_type": "code",
   "execution_count": 170,
   "metadata": {
    "ExecuteTime": {
     "end_time": "2019-08-18T08:29:00.608119Z",
     "start_time": "2019-08-18T08:29:00.601135Z"
    }
   },
   "outputs": [],
   "source": [
    "clinical = clinical.drop(columns=['site_of_resection_or_biopsy'])"
   ]
  },
  {
   "cell_type": "code",
   "execution_count": 171,
   "metadata": {
    "ExecuteTime": {
     "end_time": "2019-08-18T08:29:00.626066Z",
     "start_time": "2019-08-18T08:29:00.612106Z"
    }
   },
   "outputs": [
    {
     "data": {
      "text/plain": [
       "(1036, 15)"
      ]
     },
     "execution_count": 171,
     "metadata": {},
     "output_type": "execute_result"
    }
   ],
   "source": [
    "clinical.shape"
   ]
  },
  {
   "cell_type": "code",
   "execution_count": 172,
   "metadata": {
    "ExecuteTime": {
     "end_time": "2019-08-18T08:29:00.662972Z",
     "start_time": "2019-08-18T08:29:00.629069Z"
    }
   },
   "outputs": [
    {
     "data": {
      "text/html": [
       "<div>\n",
       "<style scoped>\n",
       "    .dataframe tbody tr th:only-of-type {\n",
       "        vertical-align: middle;\n",
       "    }\n",
       "\n",
       "    .dataframe tbody tr th {\n",
       "        vertical-align: top;\n",
       "    }\n",
       "\n",
       "    .dataframe thead th {\n",
       "        text-align: right;\n",
       "    }\n",
       "</style>\n",
       "<table border=\"1\" class=\"dataframe\">\n",
       "  <thead>\n",
       "    <tr style=\"text-align: right;\">\n",
       "      <th></th>\n",
       "      <th>case_id</th>\n",
       "      <th>submitter_id</th>\n",
       "      <th>tumor_stage</th>\n",
       "      <th>age_at_diagnosis</th>\n",
       "      <th>prior_malignancy</th>\n",
       "      <th>days_to_last_follow_up</th>\n",
       "      <th>year_of_birth</th>\n",
       "      <th>race</th>\n",
       "      <th>days_to_birth</th>\n",
       "      <th>ethnicity</th>\n",
       "      <th>vital_status</th>\n",
       "      <th>age_at_index</th>\n",
       "      <th>year_of_death</th>\n",
       "      <th>treatment_type</th>\n",
       "      <th>treatment_or_therapy</th>\n",
       "    </tr>\n",
       "  </thead>\n",
       "  <tbody>\n",
       "    <tr>\n",
       "      <th>0</th>\n",
       "      <td>dd96a9c7-899c-47cd-a0f9-b149ed07a5d6</td>\n",
       "      <td>TCGA-D8-A1JB</td>\n",
       "      <td>stage iib</td>\n",
       "      <td>54.306849</td>\n",
       "      <td>0</td>\n",
       "      <td>1688.0</td>\n",
       "      <td>1956.0</td>\n",
       "      <td>white</td>\n",
       "      <td>-19822.0</td>\n",
       "      <td>not hispanic or latino</td>\n",
       "      <td>Alive</td>\n",
       "      <td>54</td>\n",
       "      <td>NaN</td>\n",
       "      <td>Pharmaceutical Therapy, NOS</td>\n",
       "      <td>yes</td>\n",
       "    </tr>\n",
       "    <tr>\n",
       "      <th>1</th>\n",
       "      <td>3f834fa7-6d7b-4b85-98c0-5c55d55b6c95</td>\n",
       "      <td>TCGA-B6-A0IE</td>\n",
       "      <td>stage iiia</td>\n",
       "      <td>38.306849</td>\n",
       "      <td>0</td>\n",
       "      <td>NaN</td>\n",
       "      <td>1957.0</td>\n",
       "      <td>black or african american</td>\n",
       "      <td>-13982.0</td>\n",
       "      <td>not hispanic or latino</td>\n",
       "      <td>Dead</td>\n",
       "      <td>38</td>\n",
       "      <td>2000.0</td>\n",
       "      <td>Pharmaceutical Therapy, NOS</td>\n",
       "      <td>yes</td>\n",
       "    </tr>\n",
       "    <tr>\n",
       "      <th>2</th>\n",
       "      <td>451e1a67-47e6-4738-99d7-fb7771ef61a3</td>\n",
       "      <td>TCGA-B6-A0RP</td>\n",
       "      <td>not reported</td>\n",
       "      <td>73.810959</td>\n",
       "      <td>0</td>\n",
       "      <td>NaN</td>\n",
       "      <td>1921.0</td>\n",
       "      <td>white</td>\n",
       "      <td>-26941.0</td>\n",
       "      <td>not hispanic or latino</td>\n",
       "      <td>Dead</td>\n",
       "      <td>73</td>\n",
       "      <td>2002.0</td>\n",
       "      <td>Pharmaceutical Therapy, NOS</td>\n",
       "      <td>yes</td>\n",
       "    </tr>\n",
       "    <tr>\n",
       "      <th>3</th>\n",
       "      <td>178b2c48-c07d-422e-ae17-8bcfd996ad51</td>\n",
       "      <td>TCGA-B6-A0X1</td>\n",
       "      <td>not reported</td>\n",
       "      <td>48.284932</td>\n",
       "      <td>0</td>\n",
       "      <td>5677.0</td>\n",
       "      <td>1946.0</td>\n",
       "      <td>white</td>\n",
       "      <td>-17624.0</td>\n",
       "      <td>not hispanic or latino</td>\n",
       "      <td>Dead</td>\n",
       "      <td>48</td>\n",
       "      <td>NaN</td>\n",
       "      <td>Radiation Therapy, NOS</td>\n",
       "      <td>yes</td>\n",
       "    </tr>\n",
       "    <tr>\n",
       "      <th>4</th>\n",
       "      <td>dddd8e2f-e540-418a-b02e-698d18a12c14</td>\n",
       "      <td>TCGA-A7-A26H</td>\n",
       "      <td>stage iia</td>\n",
       "      <td>72.391781</td>\n",
       "      <td>1</td>\n",
       "      <td>724.0</td>\n",
       "      <td>1939.0</td>\n",
       "      <td>white</td>\n",
       "      <td>-26423.0</td>\n",
       "      <td>not hispanic or latino</td>\n",
       "      <td>Alive</td>\n",
       "      <td>72</td>\n",
       "      <td>NaN</td>\n",
       "      <td>Pharmaceutical Therapy, NOS</td>\n",
       "      <td>yes</td>\n",
       "    </tr>\n",
       "  </tbody>\n",
       "</table>\n",
       "</div>"
      ],
      "text/plain": [
       "                                case_id  submitter_id   tumor_stage  \\\n",
       "0  dd96a9c7-899c-47cd-a0f9-b149ed07a5d6  TCGA-D8-A1JB     stage iib   \n",
       "1  3f834fa7-6d7b-4b85-98c0-5c55d55b6c95  TCGA-B6-A0IE    stage iiia   \n",
       "2  451e1a67-47e6-4738-99d7-fb7771ef61a3  TCGA-B6-A0RP  not reported   \n",
       "3  178b2c48-c07d-422e-ae17-8bcfd996ad51  TCGA-B6-A0X1  not reported   \n",
       "4  dddd8e2f-e540-418a-b02e-698d18a12c14  TCGA-A7-A26H     stage iia   \n",
       "\n",
       "   age_at_diagnosis  prior_malignancy  days_to_last_follow_up  year_of_birth  \\\n",
       "0         54.306849                 0                  1688.0         1956.0   \n",
       "1         38.306849                 0                     NaN         1957.0   \n",
       "2         73.810959                 0                     NaN         1921.0   \n",
       "3         48.284932                 0                  5677.0         1946.0   \n",
       "4         72.391781                 1                   724.0         1939.0   \n",
       "\n",
       "                        race  days_to_birth               ethnicity  \\\n",
       "0                      white       -19822.0  not hispanic or latino   \n",
       "1  black or african american       -13982.0  not hispanic or latino   \n",
       "2                      white       -26941.0  not hispanic or latino   \n",
       "3                      white       -17624.0  not hispanic or latino   \n",
       "4                      white       -26423.0  not hispanic or latino   \n",
       "\n",
       "  vital_status  age_at_index  year_of_death               treatment_type  \\\n",
       "0        Alive            54            NaN  Pharmaceutical Therapy, NOS   \n",
       "1         Dead            38         2000.0  Pharmaceutical Therapy, NOS   \n",
       "2         Dead            73         2002.0  Pharmaceutical Therapy, NOS   \n",
       "3         Dead            48            NaN       Radiation Therapy, NOS   \n",
       "4        Alive            72            NaN  Pharmaceutical Therapy, NOS   \n",
       "\n",
       "  treatment_or_therapy  \n",
       "0                  yes  \n",
       "1                  yes  \n",
       "2                  yes  \n",
       "3                  yes  \n",
       "4                  yes  "
      ]
     },
     "execution_count": 172,
     "metadata": {},
     "output_type": "execute_result"
    }
   ],
   "source": [
    "clinical.head()"
   ]
  },
  {
   "cell_type": "markdown",
   "metadata": {},
   "source": [
    "### days_to_last_follow_up"
   ]
  },
  {
   "cell_type": "markdown",
   "metadata": {
    "ExecuteTime": {
     "end_time": "2019-08-17T12:59:24.861242Z",
     "start_time": "2019-08-17T12:59:24.854284Z"
    }
   },
   "source": [
    "Information about the days from diagnosis to the last follow up. We don't care about that, so it will be removed:"
   ]
  },
  {
   "cell_type": "code",
   "execution_count": 173,
   "metadata": {
    "ExecuteTime": {
     "end_time": "2019-08-18T08:29:01.597469Z",
     "start_time": "2019-08-18T08:29:01.590488Z"
    }
   },
   "outputs": [],
   "source": [
    "clinical = clinical.drop(columns=['days_to_last_follow_up'])"
   ]
  },
  {
   "cell_type": "code",
   "execution_count": 174,
   "metadata": {
    "ExecuteTime": {
     "end_time": "2019-08-18T08:29:01.617416Z",
     "start_time": "2019-08-18T08:29:01.605448Z"
    }
   },
   "outputs": [
    {
     "data": {
      "text/plain": [
       "(1036, 14)"
      ]
     },
     "execution_count": 174,
     "metadata": {},
     "output_type": "execute_result"
    }
   ],
   "source": [
    "clinical.shape"
   ]
  },
  {
   "cell_type": "markdown",
   "metadata": {},
   "source": [
    "### year_of_death, vital_status"
   ]
  },
  {
   "cell_type": "markdown",
   "metadata": {},
   "source": [
    "Both of these columns contains information about the death of the patient. This is not information that we would like to have, since we want our model tool to the able to predict the stage of a women that are still alive. Therefore I will remove both of them:"
   ]
  },
  {
   "cell_type": "code",
   "execution_count": 175,
   "metadata": {
    "ExecuteTime": {
     "end_time": "2019-08-18T08:29:02.597796Z",
     "start_time": "2019-08-18T08:29:02.586825Z"
    }
   },
   "outputs": [
    {
     "data": {
      "text/plain": [
       "2008.0    15\n",
       "2005.0    11\n",
       "2010.0    11\n",
       "2004.0    10\n",
       "2001.0     8\n",
       "2002.0     6\n",
       "2006.0     6\n",
       "2000.0     5\n",
       "2009.0     5\n",
       "2003.0     5\n",
       "1999.0     5\n",
       "1998.0     3\n",
       "2007.0     3\n",
       "1992.0     2\n",
       "1996.0     2\n",
       "2012.0     1\n",
       "2013.0     1\n",
       "1995.0     1\n",
       "1994.0     1\n",
       "Name: year_of_death, dtype: int64"
      ]
     },
     "execution_count": 175,
     "metadata": {},
     "output_type": "execute_result"
    }
   ],
   "source": [
    "clinical['year_of_death'].value_counts()"
   ]
  },
  {
   "cell_type": "code",
   "execution_count": 176,
   "metadata": {
    "ExecuteTime": {
     "end_time": "2019-08-18T08:29:02.619737Z",
     "start_time": "2019-08-18T08:29:02.600787Z"
    }
   },
   "outputs": [
    {
     "data": {
      "text/plain": [
       "Alive    892\n",
       "Dead     144\n",
       "Name: vital_status, dtype: int64"
      ]
     },
     "execution_count": 176,
     "metadata": {},
     "output_type": "execute_result"
    }
   ],
   "source": [
    "clinical['vital_status'].value_counts()"
   ]
  },
  {
   "cell_type": "code",
   "execution_count": 177,
   "metadata": {
    "ExecuteTime": {
     "end_time": "2019-08-18T08:29:02.637688Z",
     "start_time": "2019-08-18T08:29:02.623725Z"
    }
   },
   "outputs": [],
   "source": [
    "clinical = clinical.drop(columns=['vital_status', 'year_of_death'])"
   ]
  },
  {
   "cell_type": "code",
   "execution_count": 178,
   "metadata": {
    "ExecuteTime": {
     "end_time": "2019-08-18T08:29:02.657635Z",
     "start_time": "2019-08-18T08:29:02.640679Z"
    }
   },
   "outputs": [
    {
     "data": {
      "text/plain": [
       "(1036, 12)"
      ]
     },
     "execution_count": 178,
     "metadata": {},
     "output_type": "execute_result"
    }
   ],
   "source": [
    "clinical.shape"
   ]
  },
  {
   "cell_type": "markdown",
   "metadata": {},
   "source": [
    "### year_of_birth, days_to_birth"
   ]
  },
  {
   "cell_type": "markdown",
   "metadata": {},
   "source": [
    "**days_to_birth** is the number of days between the date used for index and the date from a person's date of birth, represented as a calculated negative number of days.\n",
    "\n",
    "**year_of_birth** is self explanatory."
   ]
  },
  {
   "cell_type": "markdown",
   "metadata": {},
   "source": [
    "We don't need both of these columns since we have the information about the women's age at diagnosis. I will remove them:"
   ]
  },
  {
   "cell_type": "code",
   "execution_count": 179,
   "metadata": {
    "ExecuteTime": {
     "end_time": "2019-08-18T08:29:04.515665Z",
     "start_time": "2019-08-18T08:29:04.503699Z"
    }
   },
   "outputs": [
    {
     "data": {
      "text/plain": [
       "-32872.0    8\n",
       "-22199.0    3\n",
       "-24315.0    2\n",
       "-23404.0    2\n",
       "-16642.0    2\n",
       "           ..\n",
       "-20625.0    1\n",
       "-23922.0    1\n",
       "-27400.0    1\n",
       "-31932.0    1\n",
       "-22848.0    1\n",
       "Name: days_to_birth, Length: 986, dtype: int64"
      ]
     },
     "execution_count": 179,
     "metadata": {},
     "output_type": "execute_result"
    }
   ],
   "source": [
    "clinical['days_to_birth'].value_counts()"
   ]
  },
  {
   "cell_type": "code",
   "execution_count": 180,
   "metadata": {
    "ExecuteTime": {
     "end_time": "2019-08-18T08:29:04.533617Z",
     "start_time": "2019-08-18T08:29:04.518657Z"
    }
   },
   "outputs": [],
   "source": [
    "clinical = clinical.drop(columns=['year_of_birth', 'days_to_birth'])"
   ]
  },
  {
   "cell_type": "code",
   "execution_count": 181,
   "metadata": {
    "ExecuteTime": {
     "end_time": "2019-08-18T08:29:04.571517Z",
     "start_time": "2019-08-18T08:29:04.537607Z"
    }
   },
   "outputs": [
    {
     "data": {
      "text/plain": [
       "(1036, 10)"
      ]
     },
     "execution_count": 181,
     "metadata": {},
     "output_type": "execute_result"
    }
   ],
   "source": [
    "clinical.shape"
   ]
  },
  {
   "cell_type": "markdown",
   "metadata": {},
   "source": [
    "### treatment_type, treatment_or_therapy"
   ]
  },
  {
   "cell_type": "markdown",
   "metadata": {},
   "source": [
    "These two columns contains information about the treatement given to the patients. This is not information that we would like to keep since we want to diagnose our patients according to their general information and genes, and not according to treatement that they had taken. Moreover, the treatement if given according to the stage of the patient, and we don't want to have target leakage."
   ]
  },
  {
   "cell_type": "code",
   "execution_count": 182,
   "metadata": {
    "ExecuteTime": {
     "end_time": "2019-08-18T08:29:05.457147Z",
     "start_time": "2019-08-18T08:29:05.446177Z"
    }
   },
   "outputs": [
    {
     "data": {
      "text/plain": [
       "Pharmaceutical Therapy, NOS    524\n",
       "Radiation Therapy, NOS         512\n",
       "Name: treatment_type, dtype: int64"
      ]
     },
     "execution_count": 182,
     "metadata": {},
     "output_type": "execute_result"
    }
   ],
   "source": [
    "clinical['treatment_type'].value_counts()"
   ]
  },
  {
   "cell_type": "code",
   "execution_count": 183,
   "metadata": {
    "ExecuteTime": {
     "end_time": "2019-08-18T08:29:05.478093Z",
     "start_time": "2019-08-18T08:29:05.459141Z"
    }
   },
   "outputs": [
    {
     "data": {
      "text/plain": [
       "yes             665\n",
       "no              282\n",
       "not reported     89\n",
       "Name: treatment_or_therapy, dtype: int64"
      ]
     },
     "execution_count": 183,
     "metadata": {},
     "output_type": "execute_result"
    }
   ],
   "source": [
    "clinical['treatment_or_therapy'].value_counts()"
   ]
  },
  {
   "cell_type": "code",
   "execution_count": 184,
   "metadata": {
    "ExecuteTime": {
     "end_time": "2019-08-18T08:29:05.496043Z",
     "start_time": "2019-08-18T08:29:05.481084Z"
    }
   },
   "outputs": [],
   "source": [
    "clinical = clinical.drop(columns=['treatment_type', 'treatment_or_therapy'])"
   ]
  },
  {
   "cell_type": "code",
   "execution_count": 185,
   "metadata": {
    "ExecuteTime": {
     "end_time": "2019-08-18T08:29:05.512999Z",
     "start_time": "2019-08-18T08:29:05.499049Z"
    }
   },
   "outputs": [
    {
     "data": {
      "text/plain": [
       "(1036, 8)"
      ]
     },
     "execution_count": 185,
     "metadata": {},
     "output_type": "execute_result"
    }
   ],
   "source": [
    "clinical.shape"
   ]
  },
  {
   "cell_type": "markdown",
   "metadata": {},
   "source": [
    "### race, ethnicity"
   ]
  },
  {
   "cell_type": "markdown",
   "metadata": {},
   "source": [
    "Let's look at both of the columns:"
   ]
  },
  {
   "cell_type": "code",
   "execution_count": 186,
   "metadata": {
    "ExecuteTime": {
     "end_time": "2019-08-18T08:29:06.421588Z",
     "start_time": "2019-08-18T08:29:06.411620Z"
    }
   },
   "outputs": [
    {
     "data": {
      "text/plain": [
       "white                               714\n",
       "black or african american           172\n",
       "not reported                         93\n",
       "asian                                56\n",
       "american indian or alaska native      1\n",
       "Name: race, dtype: int64"
      ]
     },
     "execution_count": 186,
     "metadata": {},
     "output_type": "execute_result"
    }
   ],
   "source": [
    "clinical['race'].value_counts()"
   ]
  },
  {
   "cell_type": "code",
   "execution_count": 187,
   "metadata": {
    "ExecuteTime": {
     "end_time": "2019-08-18T08:29:06.445507Z",
     "start_time": "2019-08-18T08:29:06.424564Z"
    }
   },
   "outputs": [
    {
     "data": {
      "text/plain": [
       "not hispanic or latino    830\n",
       "not reported              170\n",
       "hispanic or latino         36\n",
       "Name: ethnicity, dtype: int64"
      ]
     },
     "execution_count": 187,
     "metadata": {},
     "output_type": "execute_result"
    }
   ],
   "source": [
    "clinical['ethnicity'].value_counts()"
   ]
  },
  {
   "cell_type": "markdown",
   "metadata": {},
   "source": [
    "They both contain information about the ethnicity of the patient. I tried to see maybe we can combine both of them, and then to have one column with all of these categories, but it seems like it's not possible, for example:"
   ]
  },
  {
   "cell_type": "markdown",
   "metadata": {},
   "source": [
    "patients who are both white and hispanic or latino:"
   ]
  },
  {
   "cell_type": "code",
   "execution_count": 188,
   "metadata": {
    "ExecuteTime": {
     "end_time": "2019-08-18T08:29:07.675243Z",
     "start_time": "2019-08-18T08:29:07.665273Z"
    }
   },
   "outputs": [
    {
     "data": {
      "text/plain": [
       "31"
      ]
     },
     "execution_count": 188,
     "metadata": {},
     "output_type": "execute_result"
    }
   ],
   "source": [
    "len(clinical[(clinical['race'] == 'white') & (clinical['ethnicity'] == 'hispanic or latino')])"
   ]
  },
  {
   "cell_type": "markdown",
   "metadata": {},
   "source": [
    "patients who are both white and not hispanic or latino:"
   ]
  },
  {
   "cell_type": "code",
   "execution_count": 189,
   "metadata": {
    "ExecuteTime": {
     "end_time": "2019-08-18T08:29:08.666568Z",
     "start_time": "2019-08-18T08:29:08.654597Z"
    }
   },
   "outputs": [
    {
     "data": {
      "text/plain": [
       "618"
      ]
     },
     "execution_count": 189,
     "metadata": {},
     "output_type": "execute_result"
    }
   ],
   "source": [
    "len(clinical[(clinical['race'] == 'white') & (clinical['ethnicity'] == 'not hispanic or latino')])"
   ]
  },
  {
   "cell_type": "markdown",
   "metadata": {},
   "source": [
    "We can see that there is an overlap on some of the values - for example, if someone if white and not hispanic or latino, what does it mean? Does it mean that she is not white and only hispanic? I don't know what to do with this. \n",
    "\n",
    "What I decided to do is to remove the ethnicity column and leave the race column in."
   ]
  },
  {
   "cell_type": "code",
   "execution_count": 190,
   "metadata": {
    "ExecuteTime": {
     "end_time": "2019-08-18T08:29:09.481386Z",
     "start_time": "2019-08-18T08:29:09.474406Z"
    }
   },
   "outputs": [],
   "source": [
    "clinical = clinical.drop(columns=['ethnicity'])"
   ]
  },
  {
   "cell_type": "code",
   "execution_count": 191,
   "metadata": {
    "ExecuteTime": {
     "end_time": "2019-08-18T08:29:09.503328Z",
     "start_time": "2019-08-18T08:29:09.483381Z"
    }
   },
   "outputs": [
    {
     "data": {
      "text/plain": [
       "(1036, 7)"
      ]
     },
     "execution_count": 191,
     "metadata": {},
     "output_type": "execute_result"
    }
   ],
   "source": [
    "clinical.shape"
   ]
  },
  {
   "cell_type": "markdown",
   "metadata": {},
   "source": [
    "The column of race I will turn into one hot encoding, yet I will remove the columns of 'american indian or alaska native' (which will contain only one value as 1) and 'not reported' (doesn't have any information in it)."
   ]
  },
  {
   "cell_type": "code",
   "execution_count": 192,
   "metadata": {
    "ExecuteTime": {
     "end_time": "2019-08-18T08:29:10.249335Z",
     "start_time": "2019-08-18T08:29:10.238362Z"
    },
    "scrolled": true
   },
   "outputs": [],
   "source": [
    "clinical = pd.get_dummies(clinical, columns=['race'])"
   ]
  },
  {
   "cell_type": "code",
   "execution_count": 193,
   "metadata": {
    "ExecuteTime": {
     "end_time": "2019-08-18T08:29:10.293226Z",
     "start_time": "2019-08-18T08:29:10.252324Z"
    }
   },
   "outputs": [],
   "source": [
    "clinical = clinical.drop(columns=['race_american indian or alaska native', 'race_not reported'])"
   ]
  },
  {
   "cell_type": "code",
   "execution_count": 194,
   "metadata": {
    "ExecuteTime": {
     "end_time": "2019-08-18T08:29:10.319146Z",
     "start_time": "2019-08-18T08:29:10.296206Z"
    }
   },
   "outputs": [
    {
     "data": {
      "text/plain": [
       "(1036, 9)"
      ]
     },
     "execution_count": 194,
     "metadata": {},
     "output_type": "execute_result"
    }
   ],
   "source": [
    "clinical.shape"
   ]
  },
  {
   "cell_type": "markdown",
   "metadata": {},
   "source": [
    "### age_at_index"
   ]
  },
  {
   "cell_type": "markdown",
   "metadata": {},
   "source": [
    "Contains information about the patient's age (in years) on the reference or anchor date date used during date obfuscation. Data obfuscation (DO) is a form of data masking where data is purposely scrambled to prevent unauthorized access to sensitive materials, or in our case for privacy preservation.\n",
    "\n",
    "I believe that we don't need this information, therefore I will remove the column:"
   ]
  },
  {
   "cell_type": "code",
   "execution_count": 195,
   "metadata": {
    "ExecuteTime": {
     "end_time": "2019-08-18T08:29:11.402266Z",
     "start_time": "2019-08-18T08:29:11.395267Z"
    }
   },
   "outputs": [],
   "source": [
    "clinical = clinical.drop(columns=['age_at_index'])"
   ]
  },
  {
   "cell_type": "markdown",
   "metadata": {},
   "source": [
    "## Final result - Clean data!"
   ]
  },
  {
   "cell_type": "code",
   "execution_count": 196,
   "metadata": {
    "ExecuteTime": {
     "end_time": "2019-08-18T08:29:12.087431Z",
     "start_time": "2019-08-18T08:29:12.081445Z"
    }
   },
   "outputs": [
    {
     "data": {
      "text/plain": [
       "(1036, 8)"
      ]
     },
     "execution_count": 196,
     "metadata": {},
     "output_type": "execute_result"
    }
   ],
   "source": [
    "clinical.shape"
   ]
  },
  {
   "cell_type": "code",
   "execution_count": 197,
   "metadata": {
    "ExecuteTime": {
     "end_time": "2019-08-18T08:29:12.116342Z",
     "start_time": "2019-08-18T08:29:12.095394Z"
    },
    "scrolled": true
   },
   "outputs": [
    {
     "data": {
      "text/plain": [
       "case_id                           0\n",
       "submitter_id                      0\n",
       "tumor_stage                       0\n",
       "age_at_diagnosis                  0\n",
       "prior_malignancy                  0\n",
       "race_asian                        0\n",
       "race_black or african american    0\n",
       "race_white                        0\n",
       "dtype: int64"
      ]
     },
     "execution_count": 197,
     "metadata": {},
     "output_type": "execute_result"
    }
   ],
   "source": [
    "clinical.isnull().sum()"
   ]
  },
  {
   "cell_type": "code",
   "execution_count": 198,
   "metadata": {
    "ExecuteTime": {
     "end_time": "2019-08-18T08:29:12.145262Z",
     "start_time": "2019-08-18T08:29:12.120330Z"
    }
   },
   "outputs": [
    {
     "data": {
      "text/html": [
       "<div>\n",
       "<style scoped>\n",
       "    .dataframe tbody tr th:only-of-type {\n",
       "        vertical-align: middle;\n",
       "    }\n",
       "\n",
       "    .dataframe tbody tr th {\n",
       "        vertical-align: top;\n",
       "    }\n",
       "\n",
       "    .dataframe thead th {\n",
       "        text-align: right;\n",
       "    }\n",
       "</style>\n",
       "<table border=\"1\" class=\"dataframe\">\n",
       "  <thead>\n",
       "    <tr style=\"text-align: right;\">\n",
       "      <th></th>\n",
       "      <th>case_id</th>\n",
       "      <th>submitter_id</th>\n",
       "      <th>tumor_stage</th>\n",
       "      <th>age_at_diagnosis</th>\n",
       "      <th>prior_malignancy</th>\n",
       "      <th>race_asian</th>\n",
       "      <th>race_black or african american</th>\n",
       "      <th>race_white</th>\n",
       "    </tr>\n",
       "  </thead>\n",
       "  <tbody>\n",
       "    <tr>\n",
       "      <th>0</th>\n",
       "      <td>dd96a9c7-899c-47cd-a0f9-b149ed07a5d6</td>\n",
       "      <td>TCGA-D8-A1JB</td>\n",
       "      <td>stage iib</td>\n",
       "      <td>54.306849</td>\n",
       "      <td>0</td>\n",
       "      <td>0</td>\n",
       "      <td>0</td>\n",
       "      <td>1</td>\n",
       "    </tr>\n",
       "    <tr>\n",
       "      <th>1</th>\n",
       "      <td>3f834fa7-6d7b-4b85-98c0-5c55d55b6c95</td>\n",
       "      <td>TCGA-B6-A0IE</td>\n",
       "      <td>stage iiia</td>\n",
       "      <td>38.306849</td>\n",
       "      <td>0</td>\n",
       "      <td>0</td>\n",
       "      <td>1</td>\n",
       "      <td>0</td>\n",
       "    </tr>\n",
       "    <tr>\n",
       "      <th>2</th>\n",
       "      <td>451e1a67-47e6-4738-99d7-fb7771ef61a3</td>\n",
       "      <td>TCGA-B6-A0RP</td>\n",
       "      <td>not reported</td>\n",
       "      <td>73.810959</td>\n",
       "      <td>0</td>\n",
       "      <td>0</td>\n",
       "      <td>0</td>\n",
       "      <td>1</td>\n",
       "    </tr>\n",
       "    <tr>\n",
       "      <th>3</th>\n",
       "      <td>178b2c48-c07d-422e-ae17-8bcfd996ad51</td>\n",
       "      <td>TCGA-B6-A0X1</td>\n",
       "      <td>not reported</td>\n",
       "      <td>48.284932</td>\n",
       "      <td>0</td>\n",
       "      <td>0</td>\n",
       "      <td>0</td>\n",
       "      <td>1</td>\n",
       "    </tr>\n",
       "    <tr>\n",
       "      <th>4</th>\n",
       "      <td>dddd8e2f-e540-418a-b02e-698d18a12c14</td>\n",
       "      <td>TCGA-A7-A26H</td>\n",
       "      <td>stage iia</td>\n",
       "      <td>72.391781</td>\n",
       "      <td>1</td>\n",
       "      <td>0</td>\n",
       "      <td>0</td>\n",
       "      <td>1</td>\n",
       "    </tr>\n",
       "  </tbody>\n",
       "</table>\n",
       "</div>"
      ],
      "text/plain": [
       "                                case_id  submitter_id   tumor_stage  \\\n",
       "0  dd96a9c7-899c-47cd-a0f9-b149ed07a5d6  TCGA-D8-A1JB     stage iib   \n",
       "1  3f834fa7-6d7b-4b85-98c0-5c55d55b6c95  TCGA-B6-A0IE    stage iiia   \n",
       "2  451e1a67-47e6-4738-99d7-fb7771ef61a3  TCGA-B6-A0RP  not reported   \n",
       "3  178b2c48-c07d-422e-ae17-8bcfd996ad51  TCGA-B6-A0X1  not reported   \n",
       "4  dddd8e2f-e540-418a-b02e-698d18a12c14  TCGA-A7-A26H     stage iia   \n",
       "\n",
       "   age_at_diagnosis  prior_malignancy  race_asian  \\\n",
       "0         54.306849                 0           0   \n",
       "1         38.306849                 0           0   \n",
       "2         73.810959                 0           0   \n",
       "3         48.284932                 0           0   \n",
       "4         72.391781                 1           0   \n",
       "\n",
       "   race_black or african american  race_white  \n",
       "0                               0           1  \n",
       "1                               1           0  \n",
       "2                               0           1  \n",
       "3                               0           1  \n",
       "4                               0           1  "
      ]
     },
     "execution_count": 198,
     "metadata": {},
     "output_type": "execute_result"
    }
   ],
   "source": [
    "clinical.head()"
   ]
  },
  {
   "cell_type": "markdown",
   "metadata": {},
   "source": [
    "## Exporting the data"
   ]
  },
  {
   "cell_type": "code",
   "execution_count": 199,
   "metadata": {
    "ExecuteTime": {
     "end_time": "2019-08-18T08:29:12.722744Z",
     "start_time": "2019-08-18T08:29:12.705764Z"
    }
   },
   "outputs": [],
   "source": [
    "clinical.to_csv('clinical_clean_doria.csv')"
   ]
  }
 ],
 "metadata": {
  "kernelspec": {
   "display_name": "Python 3",
   "language": "python",
   "name": "python3"
  },
  "language_info": {
   "codemirror_mode": {
    "name": "ipython",
    "version": 3
   },
   "file_extension": ".py",
   "mimetype": "text/x-python",
   "name": "python",
   "nbconvert_exporter": "python",
   "pygments_lexer": "ipython3",
   "version": "3.7.3"
  },
  "latex_envs": {
   "LaTeX_envs_menu_present": true,
   "autoclose": false,
   "autocomplete": true,
   "bibliofile": "biblio.bib",
   "cite_by": "apalike",
   "current_citInitial": 1,
   "eqLabelWithNumbers": true,
   "eqNumInitial": 1,
   "hotkeys": {
    "equation": "Ctrl-E",
    "itemize": "Ctrl-I"
   },
   "labels_anchors": false,
   "latex_user_defs": false,
   "report_style_numbering": false,
   "user_envs_cfg": false
  },
  "toc": {
   "base_numbering": 1,
   "nav_menu": {},
   "number_sections": true,
   "sideBar": true,
   "skip_h1_title": false,
   "title_cell": "Table of Contents",
   "title_sidebar": "Contents",
   "toc_cell": false,
   "toc_position": {},
   "toc_section_display": true,
   "toc_window_display": false
  }
 },
 "nbformat": 4,
 "nbformat_minor": 2
}
