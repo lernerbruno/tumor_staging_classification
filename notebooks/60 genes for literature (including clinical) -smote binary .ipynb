{
 "cells": [
  {
   "cell_type": "code",
   "execution_count": 1,
   "metadata": {
    "ExecuteTime": {
     "end_time": "2019-08-23T18:56:51.108841Z",
     "start_time": "2019-08-23T18:56:39.371840Z"
    }
   },
   "outputs": [
    {
     "name": "stderr",
     "output_type": "stream",
     "text": [
      "Using TensorFlow backend.\n"
     ]
    }
   ],
   "source": [
    "import pandas as pd\n",
    "import numpy as np\n",
    "import matplotlib.pyplot as plt\n",
    "from sklearn import preprocessing\n",
    "import seaborn as sns\n",
    "from sklearn.ensemble import RandomForestClassifier\n",
    "from sklearn.model_selection import train_test_split\n",
    "from sklearn import preprocessing\n",
    "from sklearn.metrics import confusion_matrix, auc, roc_curve, average_precision_score, roc_auc_score, precision_recall_curve\n",
    "from sklearn.linear_model import LogisticRegression\n",
    "from sklearn.utils import class_weight\n",
    "from sklearn.metrics import accuracy_score\n",
    "from imblearn.over_sampling import SMOTE\n",
    "import xgboost as xgb\n",
    "from sklearn.metrics import roc_auc_score\n",
    "from sklearn.metrics import accuracy_score\n",
    "from sklearn import metrics\n",
    "sns.set()"
   ]
  },
  {
   "cell_type": "markdown",
   "metadata": {},
   "source": [
    "# Random Forest Classifier -  60 genes from literature (no clinical) -smote binary"
   ]
  },
  {
   "cell_type": "markdown",
   "metadata": {},
   "source": []
  },
  {
   "cell_type": "markdown",
   "metadata": {},
   "source": [
    "## Helper functions"
   ]
  },
  {
   "cell_type": "code",
   "execution_count": 2,
   "metadata": {
    "ExecuteTime": {
     "end_time": "2019-08-23T18:56:51.128358Z",
     "start_time": "2019-08-23T18:56:51.108841Z"
    }
   },
   "outputs": [],
   "source": [
    "def plot_confusion_matrix(y_true, y_pred,\n",
    "                          normalize=False,\n",
    "                          title=None,\n",
    "                          cmap=plt.cm.Blues):\n",
    "\n",
    "    # Compute confusion matrix\n",
    "    cm = confusion_matrix(y_true, y_pred)\n",
    "    \n",
    "    # Get accuracy\n",
    "    right = np.diagonal(cm).sum()\n",
    "    acc = float(right)/cm.sum()\n",
    "    print(\"Accuracy is {} %\".format(acc*100))\n",
    "    tpr = float(cm[1,1])/cm[1,:].sum()\n",
    "    fpr = float(cm[0,1])/cm[0,:].sum()\n",
    "    precision = float(cm[1,1])/cm[:,1].sum()\n",
    "    \n",
    "    fig, ax = plt.subplots()\n",
    "    im = ax.imshow(cm, interpolation='nearest', cmap=cmap)\n",
    "    ax.figure.colorbar(im, ax=ax)\n",
    "    # We want to show all ticks...\n",
    "    ax.set(xticks=np.arange(cm.shape[1]),\n",
    "           yticks=np.arange(cm.shape[0]),\n",
    "           # ... and label them with the respective list entries\n",
    "           title=title,\n",
    "           ylabel='True label',\n",
    "           xlabel='Predicted label')\n",
    "\n",
    "    # Rotate the tick labels and set their alignment.\n",
    "    plt.setp(ax.get_xticklabels(), rotation=45, ha=\"right\",\n",
    "             rotation_mode=\"anchor\")\n",
    "\n",
    "    # Loop over data dimensions and create text annotations.\n",
    "    fmt = '.2f' if normalize else 'd'\n",
    "    thresh = cm.max() / 2.\n",
    "    for i in range(cm.shape[0]):\n",
    "        for j in range(cm.shape[1]):\n",
    "            ax.text(j, i, format(cm[i, j], fmt),\n",
    "                    ha=\"center\", va=\"center\",\n",
    "                    color=\"white\" if cm[i, j] > thresh else \"black\")\n",
    "    fig.tight_layout()\n",
    "    return acc, tpr, fpr, precision"
   ]
  },
  {
   "cell_type": "markdown",
   "metadata": {},
   "source": [
    "# Data preprocessing"
   ]
  },
  {
   "cell_type": "code",
   "execution_count": 3,
   "metadata": {
    "ExecuteTime": {
     "end_time": "2019-08-23T18:58:05.937602Z",
     "start_time": "2019-08-23T18:56:54.773495Z"
    }
   },
   "outputs": [],
   "source": [
    "df = pd.read_csv('cleaned.csv')"
   ]
  },
  {
   "cell_type": "code",
   "execution_count": 4,
   "metadata": {
    "ExecuteTime": {
     "end_time": "2019-08-23T19:00:11.600947Z",
     "start_time": "2019-08-23T19:00:11.549049Z"
    },
    "scrolled": true
   },
   "outputs": [
    {
     "data": {
      "text/html": [
       "<div>\n",
       "<style scoped>\n",
       "    .dataframe tbody tr th:only-of-type {\n",
       "        vertical-align: middle;\n",
       "    }\n",
       "\n",
       "    .dataframe tbody tr th {\n",
       "        vertical-align: top;\n",
       "    }\n",
       "\n",
       "    .dataframe thead th {\n",
       "        text-align: right;\n",
       "    }\n",
       "</style>\n",
       "<table border=\"1\" class=\"dataframe\">\n",
       "  <thead>\n",
       "    <tr style=\"text-align: right;\">\n",
       "      <th></th>\n",
       "      <th>Unnamed: 0</th>\n",
       "      <th>case_id</th>\n",
       "      <th>submitter_id</th>\n",
       "      <th>tumor_stage</th>\n",
       "      <th>age_at_diagnosis</th>\n",
       "      <th>prior_malignancy</th>\n",
       "      <th>race</th>\n",
       "      <th>ENSG00000000003.13</th>\n",
       "      <th>ENSG00000000005.5</th>\n",
       "      <th>ENSG00000000419.11</th>\n",
       "      <th>...</th>\n",
       "      <th>ENSG00000281903.1</th>\n",
       "      <th>ENSG00000281904.1</th>\n",
       "      <th>ENSG00000281905.1</th>\n",
       "      <th>ENSG00000281906.1</th>\n",
       "      <th>ENSG00000281909.1</th>\n",
       "      <th>ENSG00000281910.1</th>\n",
       "      <th>ENSG00000281912.1</th>\n",
       "      <th>ENSG00000281918.1</th>\n",
       "      <th>ENSG00000281920.1</th>\n",
       "      <th>ENSG00000281921.1</th>\n",
       "    </tr>\n",
       "  </thead>\n",
       "  <tbody>\n",
       "    <tr>\n",
       "      <th>0</th>\n",
       "      <td>0</td>\n",
       "      <td>4d0fec97-e024-4608-a0cc-426a3decc7b1</td>\n",
       "      <td>TCGA-AR-A252_exposure</td>\n",
       "      <td>stage i</td>\n",
       "      <td>50.989041</td>\n",
       "      <td>0</td>\n",
       "      <td>white</td>\n",
       "      <td>2608.0</td>\n",
       "      <td>289.0</td>\n",
       "      <td>1661.0</td>\n",
       "      <td>...</td>\n",
       "      <td>15.0</td>\n",
       "      <td>3.0</td>\n",
       "      <td>0.0</td>\n",
       "      <td>0.0</td>\n",
       "      <td>1.0</td>\n",
       "      <td>0.0</td>\n",
       "      <td>75.0</td>\n",
       "      <td>1.0</td>\n",
       "      <td>2.0</td>\n",
       "      <td>0.0</td>\n",
       "    </tr>\n",
       "    <tr>\n",
       "      <th>1</th>\n",
       "      <td>1</td>\n",
       "      <td>bb8d42d3-ad65-4d88-ae1d-f9aadfc7962d</td>\n",
       "      <td>TCGA-AO-A1KS_exposure</td>\n",
       "      <td>stage iia</td>\n",
       "      <td>69.123288</td>\n",
       "      <td>0</td>\n",
       "      <td>white</td>\n",
       "      <td>5789.0</td>\n",
       "      <td>34.0</td>\n",
       "      <td>2538.0</td>\n",
       "      <td>...</td>\n",
       "      <td>41.0</td>\n",
       "      <td>1.0</td>\n",
       "      <td>0.0</td>\n",
       "      <td>0.0</td>\n",
       "      <td>5.0</td>\n",
       "      <td>1.0</td>\n",
       "      <td>24.0</td>\n",
       "      <td>0.0</td>\n",
       "      <td>2.0</td>\n",
       "      <td>0.0</td>\n",
       "    </tr>\n",
       "    <tr>\n",
       "      <th>2</th>\n",
       "      <td>2</td>\n",
       "      <td>c694615c-b1c6-499c-8058-995633ebf948</td>\n",
       "      <td>TCGA-E9-A1RF_exposure</td>\n",
       "      <td>stage iiia</td>\n",
       "      <td>68.819178</td>\n",
       "      <td>0</td>\n",
       "      <td>white</td>\n",
       "      <td>4544.0</td>\n",
       "      <td>1881.0</td>\n",
       "      <td>1565.0</td>\n",
       "      <td>...</td>\n",
       "      <td>26.0</td>\n",
       "      <td>3.0</td>\n",
       "      <td>0.0</td>\n",
       "      <td>0.0</td>\n",
       "      <td>0.0</td>\n",
       "      <td>0.0</td>\n",
       "      <td>16.0</td>\n",
       "      <td>1.0</td>\n",
       "      <td>3.0</td>\n",
       "      <td>0.0</td>\n",
       "    </tr>\n",
       "    <tr>\n",
       "      <th>3</th>\n",
       "      <td>3</td>\n",
       "      <td>c694615c-b1c6-499c-8058-995633ebf948</td>\n",
       "      <td>TCGA-E9-A1RF_exposure</td>\n",
       "      <td>stage iiia</td>\n",
       "      <td>68.819178</td>\n",
       "      <td>0</td>\n",
       "      <td>white</td>\n",
       "      <td>676.0</td>\n",
       "      <td>41.0</td>\n",
       "      <td>3732.0</td>\n",
       "      <td>...</td>\n",
       "      <td>14.0</td>\n",
       "      <td>1.0</td>\n",
       "      <td>0.0</td>\n",
       "      <td>0.0</td>\n",
       "      <td>3.0</td>\n",
       "      <td>1.0</td>\n",
       "      <td>61.0</td>\n",
       "      <td>3.0</td>\n",
       "      <td>6.0</td>\n",
       "      <td>0.0</td>\n",
       "    </tr>\n",
       "    <tr>\n",
       "      <th>4</th>\n",
       "      <td>4</td>\n",
       "      <td>1285eb55-415c-494a-aa58-936f0427cdd0</td>\n",
       "      <td>TCGA-V7-A7HQ_exposure</td>\n",
       "      <td>stage iiia</td>\n",
       "      <td>75.846575</td>\n",
       "      <td>0</td>\n",
       "      <td>black or african american</td>\n",
       "      <td>2299.0</td>\n",
       "      <td>5.0</td>\n",
       "      <td>708.0</td>\n",
       "      <td>...</td>\n",
       "      <td>4.0</td>\n",
       "      <td>0.0</td>\n",
       "      <td>0.0</td>\n",
       "      <td>0.0</td>\n",
       "      <td>0.0</td>\n",
       "      <td>0.0</td>\n",
       "      <td>208.0</td>\n",
       "      <td>0.0</td>\n",
       "      <td>19.0</td>\n",
       "      <td>0.0</td>\n",
       "    </tr>\n",
       "  </tbody>\n",
       "</table>\n",
       "<p>5 rows × 58270 columns</p>\n",
       "</div>"
      ],
      "text/plain": [
       "   Unnamed: 0                               case_id           submitter_id  \\\n",
       "0           0  4d0fec97-e024-4608-a0cc-426a3decc7b1  TCGA-AR-A252_exposure   \n",
       "1           1  bb8d42d3-ad65-4d88-ae1d-f9aadfc7962d  TCGA-AO-A1KS_exposure   \n",
       "2           2  c694615c-b1c6-499c-8058-995633ebf948  TCGA-E9-A1RF_exposure   \n",
       "3           3  c694615c-b1c6-499c-8058-995633ebf948  TCGA-E9-A1RF_exposure   \n",
       "4           4  1285eb55-415c-494a-aa58-936f0427cdd0  TCGA-V7-A7HQ_exposure   \n",
       "\n",
       "  tumor_stage  age_at_diagnosis  prior_malignancy                       race  \\\n",
       "0     stage i         50.989041                 0                      white   \n",
       "1   stage iia         69.123288                 0                      white   \n",
       "2  stage iiia         68.819178                 0                      white   \n",
       "3  stage iiia         68.819178                 0                      white   \n",
       "4  stage iiia         75.846575                 0  black or african american   \n",
       "\n",
       "   ENSG00000000003.13  ENSG00000000005.5  ENSG00000000419.11  ...  \\\n",
       "0              2608.0              289.0              1661.0  ...   \n",
       "1              5789.0               34.0              2538.0  ...   \n",
       "2              4544.0             1881.0              1565.0  ...   \n",
       "3               676.0               41.0              3732.0  ...   \n",
       "4              2299.0                5.0               708.0  ...   \n",
       "\n",
       "   ENSG00000281903.1  ENSG00000281904.1  ENSG00000281905.1  ENSG00000281906.1  \\\n",
       "0               15.0                3.0                0.0                0.0   \n",
       "1               41.0                1.0                0.0                0.0   \n",
       "2               26.0                3.0                0.0                0.0   \n",
       "3               14.0                1.0                0.0                0.0   \n",
       "4                4.0                0.0                0.0                0.0   \n",
       "\n",
       "   ENSG00000281909.1  ENSG00000281910.1  ENSG00000281912.1  ENSG00000281918.1  \\\n",
       "0                1.0                0.0               75.0                1.0   \n",
       "1                5.0                1.0               24.0                0.0   \n",
       "2                0.0                0.0               16.0                1.0   \n",
       "3                3.0                1.0               61.0                3.0   \n",
       "4                0.0                0.0              208.0                0.0   \n",
       "\n",
       "   ENSG00000281920.1  ENSG00000281921.1  \n",
       "0                2.0                0.0  \n",
       "1                2.0                0.0  \n",
       "2                3.0                0.0  \n",
       "3                6.0                0.0  \n",
       "4               19.0                0.0  \n",
       "\n",
       "[5 rows x 58270 columns]"
      ]
     },
     "execution_count": 4,
     "metadata": {},
     "output_type": "execute_result"
    }
   ],
   "source": [
    "df.head()"
   ]
  },
  {
   "cell_type": "code",
   "execution_count": 5,
   "metadata": {
    "ExecuteTime": {
     "end_time": "2019-08-23T19:00:34.756713Z",
     "start_time": "2019-08-23T19:00:34.736771Z"
    }
   },
   "outputs": [
    {
     "data": {
      "text/plain": [
       "0    1096\n",
       "1      68\n",
       "Name: prior_malignancy, dtype: int64"
      ]
     },
     "execution_count": 5,
     "metadata": {},
     "output_type": "execute_result"
    }
   ],
   "source": [
    "df['prior_malignancy'].value_counts()"
   ]
  },
  {
   "cell_type": "code",
   "execution_count": 6,
   "metadata": {
    "ExecuteTime": {
     "end_time": "2019-08-23T19:00:40.192810Z",
     "start_time": "2019-08-23T19:00:39.850683Z"
    },
    "scrolled": true
   },
   "outputs": [
    {
     "data": {
      "text/html": [
       "<div>\n",
       "<style scoped>\n",
       "    .dataframe tbody tr th:only-of-type {\n",
       "        vertical-align: middle;\n",
       "    }\n",
       "\n",
       "    .dataframe tbody tr th {\n",
       "        vertical-align: top;\n",
       "    }\n",
       "\n",
       "    .dataframe thead th {\n",
       "        text-align: right;\n",
       "    }\n",
       "</style>\n",
       "<table border=\"1\" class=\"dataframe\">\n",
       "  <thead>\n",
       "    <tr style=\"text-align: right;\">\n",
       "      <th></th>\n",
       "      <th>case_id</th>\n",
       "      <th>submitter_id</th>\n",
       "      <th>tumor_stage</th>\n",
       "      <th>age_at_diagnosis</th>\n",
       "      <th>prior_malignancy</th>\n",
       "      <th>race</th>\n",
       "      <th>ENSG00000000003.13</th>\n",
       "      <th>ENSG00000000005.5</th>\n",
       "      <th>ENSG00000000419.11</th>\n",
       "      <th>ENSG00000000457.12</th>\n",
       "      <th>...</th>\n",
       "      <th>ENSG00000281903.1</th>\n",
       "      <th>ENSG00000281904.1</th>\n",
       "      <th>ENSG00000281905.1</th>\n",
       "      <th>ENSG00000281906.1</th>\n",
       "      <th>ENSG00000281909.1</th>\n",
       "      <th>ENSG00000281910.1</th>\n",
       "      <th>ENSG00000281912.1</th>\n",
       "      <th>ENSG00000281918.1</th>\n",
       "      <th>ENSG00000281920.1</th>\n",
       "      <th>ENSG00000281921.1</th>\n",
       "    </tr>\n",
       "  </thead>\n",
       "  <tbody>\n",
       "    <tr>\n",
       "      <th>0</th>\n",
       "      <td>4d0fec97-e024-4608-a0cc-426a3decc7b1</td>\n",
       "      <td>TCGA-AR-A252_exposure</td>\n",
       "      <td>stage i</td>\n",
       "      <td>50.989041</td>\n",
       "      <td>0</td>\n",
       "      <td>white</td>\n",
       "      <td>2608.0</td>\n",
       "      <td>289.0</td>\n",
       "      <td>1661.0</td>\n",
       "      <td>2081.0</td>\n",
       "      <td>...</td>\n",
       "      <td>15.0</td>\n",
       "      <td>3.0</td>\n",
       "      <td>0.0</td>\n",
       "      <td>0.0</td>\n",
       "      <td>1.0</td>\n",
       "      <td>0.0</td>\n",
       "      <td>75.0</td>\n",
       "      <td>1.0</td>\n",
       "      <td>2.0</td>\n",
       "      <td>0.0</td>\n",
       "    </tr>\n",
       "    <tr>\n",
       "      <th>1</th>\n",
       "      <td>bb8d42d3-ad65-4d88-ae1d-f9aadfc7962d</td>\n",
       "      <td>TCGA-AO-A1KS_exposure</td>\n",
       "      <td>stage iia</td>\n",
       "      <td>69.123288</td>\n",
       "      <td>0</td>\n",
       "      <td>white</td>\n",
       "      <td>5789.0</td>\n",
       "      <td>34.0</td>\n",
       "      <td>2538.0</td>\n",
       "      <td>2572.0</td>\n",
       "      <td>...</td>\n",
       "      <td>41.0</td>\n",
       "      <td>1.0</td>\n",
       "      <td>0.0</td>\n",
       "      <td>0.0</td>\n",
       "      <td>5.0</td>\n",
       "      <td>1.0</td>\n",
       "      <td>24.0</td>\n",
       "      <td>0.0</td>\n",
       "      <td>2.0</td>\n",
       "      <td>0.0</td>\n",
       "    </tr>\n",
       "    <tr>\n",
       "      <th>2</th>\n",
       "      <td>c694615c-b1c6-499c-8058-995633ebf948</td>\n",
       "      <td>TCGA-E9-A1RF_exposure</td>\n",
       "      <td>stage iiia</td>\n",
       "      <td>68.819178</td>\n",
       "      <td>0</td>\n",
       "      <td>white</td>\n",
       "      <td>4544.0</td>\n",
       "      <td>1881.0</td>\n",
       "      <td>1565.0</td>\n",
       "      <td>1356.0</td>\n",
       "      <td>...</td>\n",
       "      <td>26.0</td>\n",
       "      <td>3.0</td>\n",
       "      <td>0.0</td>\n",
       "      <td>0.0</td>\n",
       "      <td>0.0</td>\n",
       "      <td>0.0</td>\n",
       "      <td>16.0</td>\n",
       "      <td>1.0</td>\n",
       "      <td>3.0</td>\n",
       "      <td>0.0</td>\n",
       "    </tr>\n",
       "    <tr>\n",
       "      <th>3</th>\n",
       "      <td>c694615c-b1c6-499c-8058-995633ebf948</td>\n",
       "      <td>TCGA-E9-A1RF_exposure</td>\n",
       "      <td>stage iiia</td>\n",
       "      <td>68.819178</td>\n",
       "      <td>0</td>\n",
       "      <td>white</td>\n",
       "      <td>676.0</td>\n",
       "      <td>41.0</td>\n",
       "      <td>3732.0</td>\n",
       "      <td>3155.0</td>\n",
       "      <td>...</td>\n",
       "      <td>14.0</td>\n",
       "      <td>1.0</td>\n",
       "      <td>0.0</td>\n",
       "      <td>0.0</td>\n",
       "      <td>3.0</td>\n",
       "      <td>1.0</td>\n",
       "      <td>61.0</td>\n",
       "      <td>3.0</td>\n",
       "      <td>6.0</td>\n",
       "      <td>0.0</td>\n",
       "    </tr>\n",
       "    <tr>\n",
       "      <th>4</th>\n",
       "      <td>1285eb55-415c-494a-aa58-936f0427cdd0</td>\n",
       "      <td>TCGA-V7-A7HQ_exposure</td>\n",
       "      <td>stage iiia</td>\n",
       "      <td>75.846575</td>\n",
       "      <td>0</td>\n",
       "      <td>black or african american</td>\n",
       "      <td>2299.0</td>\n",
       "      <td>5.0</td>\n",
       "      <td>708.0</td>\n",
       "      <td>388.0</td>\n",
       "      <td>...</td>\n",
       "      <td>4.0</td>\n",
       "      <td>0.0</td>\n",
       "      <td>0.0</td>\n",
       "      <td>0.0</td>\n",
       "      <td>0.0</td>\n",
       "      <td>0.0</td>\n",
       "      <td>208.0</td>\n",
       "      <td>0.0</td>\n",
       "      <td>19.0</td>\n",
       "      <td>0.0</td>\n",
       "    </tr>\n",
       "  </tbody>\n",
       "</table>\n",
       "<p>5 rows × 58269 columns</p>\n",
       "</div>"
      ],
      "text/plain": [
       "                                case_id           submitter_id tumor_stage  \\\n",
       "0  4d0fec97-e024-4608-a0cc-426a3decc7b1  TCGA-AR-A252_exposure     stage i   \n",
       "1  bb8d42d3-ad65-4d88-ae1d-f9aadfc7962d  TCGA-AO-A1KS_exposure   stage iia   \n",
       "2  c694615c-b1c6-499c-8058-995633ebf948  TCGA-E9-A1RF_exposure  stage iiia   \n",
       "3  c694615c-b1c6-499c-8058-995633ebf948  TCGA-E9-A1RF_exposure  stage iiia   \n",
       "4  1285eb55-415c-494a-aa58-936f0427cdd0  TCGA-V7-A7HQ_exposure  stage iiia   \n",
       "\n",
       "   age_at_diagnosis  prior_malignancy                       race  \\\n",
       "0         50.989041                 0                      white   \n",
       "1         69.123288                 0                      white   \n",
       "2         68.819178                 0                      white   \n",
       "3         68.819178                 0                      white   \n",
       "4         75.846575                 0  black or african american   \n",
       "\n",
       "   ENSG00000000003.13  ENSG00000000005.5  ENSG00000000419.11  \\\n",
       "0              2608.0              289.0              1661.0   \n",
       "1              5789.0               34.0              2538.0   \n",
       "2              4544.0             1881.0              1565.0   \n",
       "3               676.0               41.0              3732.0   \n",
       "4              2299.0                5.0               708.0   \n",
       "\n",
       "   ENSG00000000457.12  ...  ENSG00000281903.1  ENSG00000281904.1  \\\n",
       "0              2081.0  ...               15.0                3.0   \n",
       "1              2572.0  ...               41.0                1.0   \n",
       "2              1356.0  ...               26.0                3.0   \n",
       "3              3155.0  ...               14.0                1.0   \n",
       "4               388.0  ...                4.0                0.0   \n",
       "\n",
       "   ENSG00000281905.1  ENSG00000281906.1  ENSG00000281909.1  ENSG00000281910.1  \\\n",
       "0                0.0                0.0                1.0                0.0   \n",
       "1                0.0                0.0                5.0                1.0   \n",
       "2                0.0                0.0                0.0                0.0   \n",
       "3                0.0                0.0                3.0                1.0   \n",
       "4                0.0                0.0                0.0                0.0   \n",
       "\n",
       "   ENSG00000281912.1  ENSG00000281918.1  ENSG00000281920.1  ENSG00000281921.1  \n",
       "0               75.0                1.0                2.0                0.0  \n",
       "1               24.0                0.0                2.0                0.0  \n",
       "2               16.0                1.0                3.0                0.0  \n",
       "3               61.0                3.0                6.0                0.0  \n",
       "4              208.0                0.0               19.0                0.0  \n",
       "\n",
       "[5 rows x 58269 columns]"
      ]
     },
     "execution_count": 6,
     "metadata": {},
     "output_type": "execute_result"
    }
   ],
   "source": [
    "df=df.drop(['Unnamed: 0'],axis=1)\n",
    "df.head()"
   ]
  },
  {
   "cell_type": "code",
   "execution_count": 7,
   "metadata": {
    "ExecuteTime": {
     "end_time": "2019-08-23T19:01:02.522817Z",
     "start_time": "2019-08-23T19:01:02.506839Z"
    },
    "scrolled": true
   },
   "outputs": [
    {
     "data": {
      "text/plain": [
       "white                               832\n",
       "black or african american           180\n",
       "not reported                         94\n",
       "asian                                57\n",
       "american indian or alaska native      1\n",
       "Name: race, dtype: int64"
      ]
     },
     "execution_count": 7,
     "metadata": {},
     "output_type": "execute_result"
    }
   ],
   "source": [
    "df['race'].value_counts()"
   ]
  },
  {
   "cell_type": "code",
   "execution_count": 9,
   "metadata": {
    "ExecuteTime": {
     "end_time": "2019-08-23T19:02:04.500500Z",
     "start_time": "2019-08-23T19:02:04.229000Z"
    },
    "scrolled": true
   },
   "outputs": [
    {
     "data": {
      "text/plain": [
       "white                        832\n",
       "black or african american    180\n",
       "not reported                  94\n",
       "asian                         57\n",
       "Name: race, dtype: int64"
      ]
     },
     "execution_count": 9,
     "metadata": {},
     "output_type": "execute_result"
    }
   ],
   "source": [
    "df = df[df['race'] != 'american indian or alaska native']\n",
    "df['race'].value_counts()"
   ]
  },
  {
   "cell_type": "code",
   "execution_count": 11,
   "metadata": {
    "ExecuteTime": {
     "end_time": "2019-08-23T19:03:28.346203Z",
     "start_time": "2019-08-23T19:03:27.677291Z"
    }
   },
   "outputs": [],
   "source": [
    "df = pd.get_dummies(df, columns=['race'], prefix='race')"
   ]
  },
  {
   "cell_type": "code",
   "execution_count": 12,
   "metadata": {
    "ExecuteTime": {
     "end_time": "2019-08-23T19:03:41.474018Z",
     "start_time": "2019-08-23T19:03:41.418086Z"
    }
   },
   "outputs": [
    {
     "data": {
      "text/html": [
       "<div>\n",
       "<style scoped>\n",
       "    .dataframe tbody tr th:only-of-type {\n",
       "        vertical-align: middle;\n",
       "    }\n",
       "\n",
       "    .dataframe tbody tr th {\n",
       "        vertical-align: top;\n",
       "    }\n",
       "\n",
       "    .dataframe thead th {\n",
       "        text-align: right;\n",
       "    }\n",
       "</style>\n",
       "<table border=\"1\" class=\"dataframe\">\n",
       "  <thead>\n",
       "    <tr style=\"text-align: right;\">\n",
       "      <th></th>\n",
       "      <th>case_id</th>\n",
       "      <th>submitter_id</th>\n",
       "      <th>tumor_stage</th>\n",
       "      <th>age_at_diagnosis</th>\n",
       "      <th>prior_malignancy</th>\n",
       "      <th>ENSG00000000003.13</th>\n",
       "      <th>ENSG00000000005.5</th>\n",
       "      <th>ENSG00000000419.11</th>\n",
       "      <th>ENSG00000000457.12</th>\n",
       "      <th>ENSG00000000460.15</th>\n",
       "      <th>...</th>\n",
       "      <th>ENSG00000281909.1</th>\n",
       "      <th>ENSG00000281910.1</th>\n",
       "      <th>ENSG00000281912.1</th>\n",
       "      <th>ENSG00000281918.1</th>\n",
       "      <th>ENSG00000281920.1</th>\n",
       "      <th>ENSG00000281921.1</th>\n",
       "      <th>race_asian</th>\n",
       "      <th>race_black or african american</th>\n",
       "      <th>race_not reported</th>\n",
       "      <th>race_white</th>\n",
       "    </tr>\n",
       "  </thead>\n",
       "  <tbody>\n",
       "    <tr>\n",
       "      <th>0</th>\n",
       "      <td>4d0fec97-e024-4608-a0cc-426a3decc7b1</td>\n",
       "      <td>TCGA-AR-A252_exposure</td>\n",
       "      <td>stage i</td>\n",
       "      <td>50.989041</td>\n",
       "      <td>0</td>\n",
       "      <td>2608.0</td>\n",
       "      <td>289.0</td>\n",
       "      <td>1661.0</td>\n",
       "      <td>2081.0</td>\n",
       "      <td>684.0</td>\n",
       "      <td>...</td>\n",
       "      <td>1.0</td>\n",
       "      <td>0.0</td>\n",
       "      <td>75.0</td>\n",
       "      <td>1.0</td>\n",
       "      <td>2.0</td>\n",
       "      <td>0.0</td>\n",
       "      <td>0</td>\n",
       "      <td>0</td>\n",
       "      <td>0</td>\n",
       "      <td>1</td>\n",
       "    </tr>\n",
       "    <tr>\n",
       "      <th>1</th>\n",
       "      <td>bb8d42d3-ad65-4d88-ae1d-f9aadfc7962d</td>\n",
       "      <td>TCGA-AO-A1KS_exposure</td>\n",
       "      <td>stage iia</td>\n",
       "      <td>69.123288</td>\n",
       "      <td>0</td>\n",
       "      <td>5789.0</td>\n",
       "      <td>34.0</td>\n",
       "      <td>2538.0</td>\n",
       "      <td>2572.0</td>\n",
       "      <td>1292.0</td>\n",
       "      <td>...</td>\n",
       "      <td>5.0</td>\n",
       "      <td>1.0</td>\n",
       "      <td>24.0</td>\n",
       "      <td>0.0</td>\n",
       "      <td>2.0</td>\n",
       "      <td>0.0</td>\n",
       "      <td>0</td>\n",
       "      <td>0</td>\n",
       "      <td>0</td>\n",
       "      <td>1</td>\n",
       "    </tr>\n",
       "    <tr>\n",
       "      <th>2</th>\n",
       "      <td>c694615c-b1c6-499c-8058-995633ebf948</td>\n",
       "      <td>TCGA-E9-A1RF_exposure</td>\n",
       "      <td>stage iiia</td>\n",
       "      <td>68.819178</td>\n",
       "      <td>0</td>\n",
       "      <td>4544.0</td>\n",
       "      <td>1881.0</td>\n",
       "      <td>1565.0</td>\n",
       "      <td>1356.0</td>\n",
       "      <td>294.0</td>\n",
       "      <td>...</td>\n",
       "      <td>0.0</td>\n",
       "      <td>0.0</td>\n",
       "      <td>16.0</td>\n",
       "      <td>1.0</td>\n",
       "      <td>3.0</td>\n",
       "      <td>0.0</td>\n",
       "      <td>0</td>\n",
       "      <td>0</td>\n",
       "      <td>0</td>\n",
       "      <td>1</td>\n",
       "    </tr>\n",
       "    <tr>\n",
       "      <th>3</th>\n",
       "      <td>c694615c-b1c6-499c-8058-995633ebf948</td>\n",
       "      <td>TCGA-E9-A1RF_exposure</td>\n",
       "      <td>stage iiia</td>\n",
       "      <td>68.819178</td>\n",
       "      <td>0</td>\n",
       "      <td>676.0</td>\n",
       "      <td>41.0</td>\n",
       "      <td>3732.0</td>\n",
       "      <td>3155.0</td>\n",
       "      <td>1010.0</td>\n",
       "      <td>...</td>\n",
       "      <td>3.0</td>\n",
       "      <td>1.0</td>\n",
       "      <td>61.0</td>\n",
       "      <td>3.0</td>\n",
       "      <td>6.0</td>\n",
       "      <td>0.0</td>\n",
       "      <td>0</td>\n",
       "      <td>0</td>\n",
       "      <td>0</td>\n",
       "      <td>1</td>\n",
       "    </tr>\n",
       "    <tr>\n",
       "      <th>4</th>\n",
       "      <td>1285eb55-415c-494a-aa58-936f0427cdd0</td>\n",
       "      <td>TCGA-V7-A7HQ_exposure</td>\n",
       "      <td>stage iiia</td>\n",
       "      <td>75.846575</td>\n",
       "      <td>0</td>\n",
       "      <td>2299.0</td>\n",
       "      <td>5.0</td>\n",
       "      <td>708.0</td>\n",
       "      <td>388.0</td>\n",
       "      <td>93.0</td>\n",
       "      <td>...</td>\n",
       "      <td>0.0</td>\n",
       "      <td>0.0</td>\n",
       "      <td>208.0</td>\n",
       "      <td>0.0</td>\n",
       "      <td>19.0</td>\n",
       "      <td>0.0</td>\n",
       "      <td>0</td>\n",
       "      <td>1</td>\n",
       "      <td>0</td>\n",
       "      <td>0</td>\n",
       "    </tr>\n",
       "  </tbody>\n",
       "</table>\n",
       "<p>5 rows × 58272 columns</p>\n",
       "</div>"
      ],
      "text/plain": [
       "                                case_id           submitter_id tumor_stage  \\\n",
       "0  4d0fec97-e024-4608-a0cc-426a3decc7b1  TCGA-AR-A252_exposure     stage i   \n",
       "1  bb8d42d3-ad65-4d88-ae1d-f9aadfc7962d  TCGA-AO-A1KS_exposure   stage iia   \n",
       "2  c694615c-b1c6-499c-8058-995633ebf948  TCGA-E9-A1RF_exposure  stage iiia   \n",
       "3  c694615c-b1c6-499c-8058-995633ebf948  TCGA-E9-A1RF_exposure  stage iiia   \n",
       "4  1285eb55-415c-494a-aa58-936f0427cdd0  TCGA-V7-A7HQ_exposure  stage iiia   \n",
       "\n",
       "   age_at_diagnosis  prior_malignancy  ENSG00000000003.13  ENSG00000000005.5  \\\n",
       "0         50.989041                 0              2608.0              289.0   \n",
       "1         69.123288                 0              5789.0               34.0   \n",
       "2         68.819178                 0              4544.0             1881.0   \n",
       "3         68.819178                 0               676.0               41.0   \n",
       "4         75.846575                 0              2299.0                5.0   \n",
       "\n",
       "   ENSG00000000419.11  ENSG00000000457.12  ENSG00000000460.15  ...  \\\n",
       "0              1661.0              2081.0               684.0  ...   \n",
       "1              2538.0              2572.0              1292.0  ...   \n",
       "2              1565.0              1356.0               294.0  ...   \n",
       "3              3732.0              3155.0              1010.0  ...   \n",
       "4               708.0               388.0                93.0  ...   \n",
       "\n",
       "   ENSG00000281909.1  ENSG00000281910.1  ENSG00000281912.1  ENSG00000281918.1  \\\n",
       "0                1.0                0.0               75.0                1.0   \n",
       "1                5.0                1.0               24.0                0.0   \n",
       "2                0.0                0.0               16.0                1.0   \n",
       "3                3.0                1.0               61.0                3.0   \n",
       "4                0.0                0.0              208.0                0.0   \n",
       "\n",
       "   ENSG00000281920.1  ENSG00000281921.1  race_asian  \\\n",
       "0                2.0                0.0           0   \n",
       "1                2.0                0.0           0   \n",
       "2                3.0                0.0           0   \n",
       "3                6.0                0.0           0   \n",
       "4               19.0                0.0           0   \n",
       "\n",
       "   race_black or african american  race_not reported  race_white  \n",
       "0                               0                  0           1  \n",
       "1                               0                  0           1  \n",
       "2                               0                  0           1  \n",
       "3                               0                  0           1  \n",
       "4                               1                  0           0  \n",
       "\n",
       "[5 rows x 58272 columns]"
      ]
     },
     "execution_count": 12,
     "metadata": {},
     "output_type": "execute_result"
    }
   ],
   "source": [
    "df.head()"
   ]
  },
  {
   "cell_type": "code",
   "execution_count": 13,
   "metadata": {
    "ExecuteTime": {
     "end_time": "2019-08-23T19:03:58.678624Z",
     "start_time": "2019-08-23T19:03:58.642713Z"
    }
   },
   "outputs": [],
   "source": [
    "df_literature_genes = pd.read_csv('literature_genes.csv')"
   ]
  },
  {
   "cell_type": "code",
   "execution_count": 14,
   "metadata": {
    "ExecuteTime": {
     "end_time": "2019-08-23T19:03:59.399962Z",
     "start_time": "2019-08-23T19:03:59.379984Z"
    }
   },
   "outputs": [
    {
     "data": {
      "text/html": [
       "<div>\n",
       "<style scoped>\n",
       "    .dataframe tbody tr th:only-of-type {\n",
       "        vertical-align: middle;\n",
       "    }\n",
       "\n",
       "    .dataframe tbody tr th {\n",
       "        vertical-align: top;\n",
       "    }\n",
       "\n",
       "    .dataframe thead th {\n",
       "        text-align: right;\n",
       "    }\n",
       "</style>\n",
       "<table border=\"1\" class=\"dataframe\">\n",
       "  <thead>\n",
       "    <tr style=\"text-align: right;\">\n",
       "      <th></th>\n",
       "      <th>Name</th>\n",
       "      <th>Code</th>\n",
       "    </tr>\n",
       "  </thead>\n",
       "  <tbody>\n",
       "    <tr>\n",
       "      <th>0</th>\n",
       "      <td>IDH2 | isocitrate dehydrogenase 2</td>\n",
       "      <td>ENSG00000182054</td>\n",
       "    </tr>\n",
       "    <tr>\n",
       "      <th>1</th>\n",
       "      <td>FLJ10540 | hypothetical protein</td>\n",
       "      <td>ENSG00000138180</td>\n",
       "    </tr>\n",
       "    <tr>\n",
       "      <th>2</th>\n",
       "      <td>KNSL1 | kinesin-like 1</td>\n",
       "      <td>ENSG00000138160</td>\n",
       "    </tr>\n",
       "    <tr>\n",
       "      <th>3</th>\n",
       "      <td>ANKT | nucleolar protein ANKT</td>\n",
       "      <td>ENSG00000137804</td>\n",
       "    </tr>\n",
       "    <tr>\n",
       "      <th>4</th>\n",
       "      <td>PRO2000 | PRO2000 protein</td>\n",
       "      <td>ENSG00000156802</td>\n",
       "    </tr>\n",
       "  </tbody>\n",
       "</table>\n",
       "</div>"
      ],
      "text/plain": [
       "                                Name             Code\n",
       "0  IDH2 | isocitrate dehydrogenase 2  ENSG00000182054\n",
       "1    FLJ10540 | hypothetical protein  ENSG00000138180\n",
       "2             KNSL1 | kinesin-like 1  ENSG00000138160\n",
       "3      ANKT | nucleolar protein ANKT  ENSG00000137804\n",
       "4          PRO2000 | PRO2000 protein  ENSG00000156802"
      ]
     },
     "execution_count": 14,
     "metadata": {},
     "output_type": "execute_result"
    }
   ],
   "source": [
    "df_literature_genes.head()"
   ]
  },
  {
   "cell_type": "code",
   "execution_count": 15,
   "metadata": {
    "ExecuteTime": {
     "end_time": "2019-08-23T19:04:02.184510Z",
     "start_time": "2019-08-23T19:04:01.386315Z"
    },
    "scrolled": true
   },
   "outputs": [
    {
     "data": {
      "text/plain": [
       "['ENSG00000182054.8',\n",
       " 'ENSG00000138180.14',\n",
       " 'ENSG00000138160.5',\n",
       " 'ENSG00000137804.11',\n",
       " 'ENSG00000156802.11',\n",
       " 'ENSG00000227799.1',\n",
       " 'ENSG00000051180.15',\n",
       " 'ENSG00000175063.15',\n",
       " 'ENSG00000011426.9',\n",
       " 'ENSG00000123737.11',\n",
       " 'ENSG00000087586.16',\n",
       " 'ENSG00000115163.13',\n",
       " 'ENSG00000197170.8',\n",
       " 'ENSG00000168078.8',\n",
       " 'ENSG00000177889.8',\n",
       " 'ENSG00000197747.7',\n",
       " 'ENSG00000228410.4',\n",
       " 'ENSG00000171848.12',\n",
       " 'ENSG00000131747.13',\n",
       " 'ENSG00000120526.9',\n",
       " 'ENSG00000135476.10',\n",
       " 'ENSG00000237810.3',\n",
       " 'ENSG00000013810.17',\n",
       " 'ENSG00000115310.16',\n",
       " 'ENSG00000117650.11',\n",
       " 'ENSG00000100526.18',\n",
       " 'ENSG00000161800.11',\n",
       " 'ENSG00000171848.12',\n",
       " 'ENSG00000169679.13',\n",
       " 'ENSG00000123975.4',\n",
       " 'ENSG00000012048.18',\n",
       " 'ENSG00000139618.13',\n",
       " 'ENSG00000141510.14',\n",
       " 'ENSG00000039068.17',\n",
       " 'ENSG00000141736.12',\n",
       " 'ENSG00000111276.9',\n",
       " 'ENSG00000100985.7',\n",
       " 'ENSG00000157227.11',\n",
       " 'ENSG00000147649.8',\n",
       " 'ENSG00000139687.12',\n",
       " 'ENSG00000136997.13',\n",
       " 'ENSG00000177606.6',\n",
       " 'ENSG00000147889.15',\n",
       " 'ENSG00000270499.1',\n",
       " 'ENSG00000087586.16',\n",
       " 'ENSG00000089685.13',\n",
       " 'ENSG00000134057.13',\n",
       " 'ENSG00000101057.14',\n",
       " 'ENSG00000099953.8',\n",
       " 'ENSG00000136943.9',\n",
       " 'ENSG00000166582.8',\n",
       " 'ENSG00000141738.12',\n",
       " 'ENSG00000104412.6',\n",
       " 'ENSG00000082175.13',\n",
       " 'ENSG00000171791.11',\n",
       " 'ENSG00000175356.11',\n",
       " 'ENSG00000134184.11',\n",
       " 'ENSG00000129226.12',\n",
       " 'ENSG00000107262.15']"
      ]
     },
     "execution_count": 15,
     "metadata": {},
     "output_type": "execute_result"
    }
   ],
   "source": [
    "good_codes = []\n",
    "for code in df_literature_genes['Code']:\n",
    "    good_code = df.columns[df.columns.str.startswith(code)].values[0]\n",
    "    good_codes.append(good_code)\n",
    "good_codes"
   ]
  },
  {
   "cell_type": "code",
   "execution_count": 16,
   "metadata": {
    "ExecuteTime": {
     "end_time": "2019-08-23T19:04:05.944540Z",
     "start_time": "2019-08-23T19:04:05.932595Z"
    },
    "scrolled": true
   },
   "outputs": [
    {
     "data": {
      "text/plain": [
       "stage iia     378\n",
       "stage iib     280\n",
       "stage iiia    167\n",
       "stage i        99\n",
       "stage ia       88\n",
       "stage iiic     67\n",
       "stage iiib     27\n",
       "stage x        24\n",
       "stage iv       21\n",
       "stage ii        5\n",
       "stage ib        5\n",
       "stage iii       2\n",
       "Name: tumor_stage, dtype: int64"
      ]
     },
     "execution_count": 16,
     "metadata": {},
     "output_type": "execute_result"
    }
   ],
   "source": [
    "df['tumor_stage'].value_counts()"
   ]
  },
  {
   "cell_type": "code",
   "execution_count": 17,
   "metadata": {
    "ExecuteTime": {
     "end_time": "2019-08-23T19:04:07.668221Z",
     "start_time": "2019-08-23T19:04:06.896565Z"
    }
   },
   "outputs": [],
   "source": [
    "df = df[df.tumor_stage != 'stage x']"
   ]
  },
  {
   "cell_type": "code",
   "execution_count": 18,
   "metadata": {
    "ExecuteTime": {
     "end_time": "2019-08-23T19:04:08.866671Z",
     "start_time": "2019-08-23T19:04:08.854695Z"
    }
   },
   "outputs": [
    {
     "data": {
      "text/plain": [
       "stage iia     378\n",
       "stage iib     280\n",
       "stage iiia    167\n",
       "stage i        99\n",
       "stage ia       88\n",
       "stage iiic     67\n",
       "stage iiib     27\n",
       "stage iv       21\n",
       "stage ii        5\n",
       "stage ib        5\n",
       "stage iii       2\n",
       "Name: tumor_stage, dtype: int64"
      ]
     },
     "execution_count": 18,
     "metadata": {},
     "output_type": "execute_result"
    }
   ],
   "source": [
    "df['tumor_stage'].value_counts()"
   ]
  },
  {
   "cell_type": "code",
   "execution_count": 19,
   "metadata": {
    "ExecuteTime": {
     "end_time": "2019-08-23T19:04:11.099266Z",
     "start_time": "2019-08-23T19:04:10.983383Z"
    },
    "scrolled": true
   },
   "outputs": [
    {
     "data": {
      "text/html": [
       "<div>\n",
       "<style scoped>\n",
       "    .dataframe tbody tr th:only-of-type {\n",
       "        vertical-align: middle;\n",
       "    }\n",
       "\n",
       "    .dataframe tbody tr th {\n",
       "        vertical-align: top;\n",
       "    }\n",
       "\n",
       "    .dataframe thead th {\n",
       "        text-align: right;\n",
       "    }\n",
       "</style>\n",
       "<table border=\"1\" class=\"dataframe\">\n",
       "  <thead>\n",
       "    <tr style=\"text-align: right;\">\n",
       "      <th></th>\n",
       "      <th>case_id</th>\n",
       "      <th>submitter_id</th>\n",
       "      <th>tumor_stage</th>\n",
       "      <th>age_at_diagnosis</th>\n",
       "      <th>prior_malignancy</th>\n",
       "      <th>ENSG00000000003.13</th>\n",
       "      <th>ENSG00000000005.5</th>\n",
       "      <th>ENSG00000000419.11</th>\n",
       "      <th>ENSG00000000457.12</th>\n",
       "      <th>ENSG00000000460.15</th>\n",
       "      <th>...</th>\n",
       "      <th>ENSG00000281909.1</th>\n",
       "      <th>ENSG00000281910.1</th>\n",
       "      <th>ENSG00000281912.1</th>\n",
       "      <th>ENSG00000281918.1</th>\n",
       "      <th>ENSG00000281920.1</th>\n",
       "      <th>ENSG00000281921.1</th>\n",
       "      <th>race_asian</th>\n",
       "      <th>race_black or african american</th>\n",
       "      <th>race_not reported</th>\n",
       "      <th>race_white</th>\n",
       "    </tr>\n",
       "  </thead>\n",
       "  <tbody>\n",
       "    <tr>\n",
       "      <th>0</th>\n",
       "      <td>4d0fec97-e024-4608-a0cc-426a3decc7b1</td>\n",
       "      <td>TCGA-AR-A252_exposure</td>\n",
       "      <td>0</td>\n",
       "      <td>50.989041</td>\n",
       "      <td>0</td>\n",
       "      <td>2608.0</td>\n",
       "      <td>289.0</td>\n",
       "      <td>1661.0</td>\n",
       "      <td>2081.0</td>\n",
       "      <td>684.0</td>\n",
       "      <td>...</td>\n",
       "      <td>1.0</td>\n",
       "      <td>0.0</td>\n",
       "      <td>75.0</td>\n",
       "      <td>1.0</td>\n",
       "      <td>2.0</td>\n",
       "      <td>0.0</td>\n",
       "      <td>0</td>\n",
       "      <td>0</td>\n",
       "      <td>0</td>\n",
       "      <td>1</td>\n",
       "    </tr>\n",
       "    <tr>\n",
       "      <th>1</th>\n",
       "      <td>bb8d42d3-ad65-4d88-ae1d-f9aadfc7962d</td>\n",
       "      <td>TCGA-AO-A1KS_exposure</td>\n",
       "      <td>0</td>\n",
       "      <td>69.123288</td>\n",
       "      <td>0</td>\n",
       "      <td>5789.0</td>\n",
       "      <td>34.0</td>\n",
       "      <td>2538.0</td>\n",
       "      <td>2572.0</td>\n",
       "      <td>1292.0</td>\n",
       "      <td>...</td>\n",
       "      <td>5.0</td>\n",
       "      <td>1.0</td>\n",
       "      <td>24.0</td>\n",
       "      <td>0.0</td>\n",
       "      <td>2.0</td>\n",
       "      <td>0.0</td>\n",
       "      <td>0</td>\n",
       "      <td>0</td>\n",
       "      <td>0</td>\n",
       "      <td>1</td>\n",
       "    </tr>\n",
       "    <tr>\n",
       "      <th>2</th>\n",
       "      <td>c694615c-b1c6-499c-8058-995633ebf948</td>\n",
       "      <td>TCGA-E9-A1RF_exposure</td>\n",
       "      <td>1</td>\n",
       "      <td>68.819178</td>\n",
       "      <td>0</td>\n",
       "      <td>4544.0</td>\n",
       "      <td>1881.0</td>\n",
       "      <td>1565.0</td>\n",
       "      <td>1356.0</td>\n",
       "      <td>294.0</td>\n",
       "      <td>...</td>\n",
       "      <td>0.0</td>\n",
       "      <td>0.0</td>\n",
       "      <td>16.0</td>\n",
       "      <td>1.0</td>\n",
       "      <td>3.0</td>\n",
       "      <td>0.0</td>\n",
       "      <td>0</td>\n",
       "      <td>0</td>\n",
       "      <td>0</td>\n",
       "      <td>1</td>\n",
       "    </tr>\n",
       "    <tr>\n",
       "      <th>3</th>\n",
       "      <td>c694615c-b1c6-499c-8058-995633ebf948</td>\n",
       "      <td>TCGA-E9-A1RF_exposure</td>\n",
       "      <td>1</td>\n",
       "      <td>68.819178</td>\n",
       "      <td>0</td>\n",
       "      <td>676.0</td>\n",
       "      <td>41.0</td>\n",
       "      <td>3732.0</td>\n",
       "      <td>3155.0</td>\n",
       "      <td>1010.0</td>\n",
       "      <td>...</td>\n",
       "      <td>3.0</td>\n",
       "      <td>1.0</td>\n",
       "      <td>61.0</td>\n",
       "      <td>3.0</td>\n",
       "      <td>6.0</td>\n",
       "      <td>0.0</td>\n",
       "      <td>0</td>\n",
       "      <td>0</td>\n",
       "      <td>0</td>\n",
       "      <td>1</td>\n",
       "    </tr>\n",
       "    <tr>\n",
       "      <th>4</th>\n",
       "      <td>1285eb55-415c-494a-aa58-936f0427cdd0</td>\n",
       "      <td>TCGA-V7-A7HQ_exposure</td>\n",
       "      <td>1</td>\n",
       "      <td>75.846575</td>\n",
       "      <td>0</td>\n",
       "      <td>2299.0</td>\n",
       "      <td>5.0</td>\n",
       "      <td>708.0</td>\n",
       "      <td>388.0</td>\n",
       "      <td>93.0</td>\n",
       "      <td>...</td>\n",
       "      <td>0.0</td>\n",
       "      <td>0.0</td>\n",
       "      <td>208.0</td>\n",
       "      <td>0.0</td>\n",
       "      <td>19.0</td>\n",
       "      <td>0.0</td>\n",
       "      <td>0</td>\n",
       "      <td>1</td>\n",
       "      <td>0</td>\n",
       "      <td>0</td>\n",
       "    </tr>\n",
       "  </tbody>\n",
       "</table>\n",
       "<p>5 rows × 58272 columns</p>\n",
       "</div>"
      ],
      "text/plain": [
       "                                case_id           submitter_id  tumor_stage  \\\n",
       "0  4d0fec97-e024-4608-a0cc-426a3decc7b1  TCGA-AR-A252_exposure            0   \n",
       "1  bb8d42d3-ad65-4d88-ae1d-f9aadfc7962d  TCGA-AO-A1KS_exposure            0   \n",
       "2  c694615c-b1c6-499c-8058-995633ebf948  TCGA-E9-A1RF_exposure            1   \n",
       "3  c694615c-b1c6-499c-8058-995633ebf948  TCGA-E9-A1RF_exposure            1   \n",
       "4  1285eb55-415c-494a-aa58-936f0427cdd0  TCGA-V7-A7HQ_exposure            1   \n",
       "\n",
       "   age_at_diagnosis  prior_malignancy  ENSG00000000003.13  ENSG00000000005.5  \\\n",
       "0         50.989041                 0              2608.0              289.0   \n",
       "1         69.123288                 0              5789.0               34.0   \n",
       "2         68.819178                 0              4544.0             1881.0   \n",
       "3         68.819178                 0               676.0               41.0   \n",
       "4         75.846575                 0              2299.0                5.0   \n",
       "\n",
       "   ENSG00000000419.11  ENSG00000000457.12  ENSG00000000460.15  ...  \\\n",
       "0              1661.0              2081.0               684.0  ...   \n",
       "1              2538.0              2572.0              1292.0  ...   \n",
       "2              1565.0              1356.0               294.0  ...   \n",
       "3              3732.0              3155.0              1010.0  ...   \n",
       "4               708.0               388.0                93.0  ...   \n",
       "\n",
       "   ENSG00000281909.1  ENSG00000281910.1  ENSG00000281912.1  ENSG00000281918.1  \\\n",
       "0                1.0                0.0               75.0                1.0   \n",
       "1                5.0                1.0               24.0                0.0   \n",
       "2                0.0                0.0               16.0                1.0   \n",
       "3                3.0                1.0               61.0                3.0   \n",
       "4                0.0                0.0              208.0                0.0   \n",
       "\n",
       "   ENSG00000281920.1  ENSG00000281921.1  race_asian  \\\n",
       "0                2.0                0.0           0   \n",
       "1                2.0                0.0           0   \n",
       "2                3.0                0.0           0   \n",
       "3                6.0                0.0           0   \n",
       "4               19.0                0.0           0   \n",
       "\n",
       "   race_black or african american  race_not reported  race_white  \n",
       "0                               0                  0           1  \n",
       "1                               0                  0           1  \n",
       "2                               0                  0           1  \n",
       "3                               0                  0           1  \n",
       "4                               1                  0           0  \n",
       "\n",
       "[5 rows x 58272 columns]"
      ]
     },
     "execution_count": 19,
     "metadata": {},
     "output_type": "execute_result"
    }
   ],
   "source": [
    "def is_tumor_stage(x):\n",
    "    if x in ['stage iia', 'stage iib','ii','stage i', 'stage ia', 'stage ib']:\n",
    "        return 0\n",
    "    else:\n",
    "        return 1\n",
    "df['tumor_stage'] = df['tumor_stage'].apply(is_tumor_stage)    \n",
    "df.head()"
   ]
  },
  {
   "cell_type": "code",
   "execution_count": 20,
   "metadata": {
    "ExecuteTime": {
     "end_time": "2019-08-23T19:04:15.024964Z",
     "start_time": "2019-08-23T19:04:15.012951Z"
    }
   },
   "outputs": [
    {
     "data": {
      "text/plain": [
       "0    850\n",
       "1    289\n",
       "Name: tumor_stage, dtype: int64"
      ]
     },
     "execution_count": 20,
     "metadata": {},
     "output_type": "execute_result"
    }
   ],
   "source": [
    "df['tumor_stage'].value_counts()"
   ]
  },
  {
   "cell_type": "markdown",
   "metadata": {},
   "source": [
    "# Modeling and Results"
   ]
  },
  {
   "cell_type": "markdown",
   "metadata": {},
   "source": [
    "## Split data"
   ]
  },
  {
   "cell_type": "code",
   "execution_count": 21,
   "metadata": {
    "ExecuteTime": {
     "end_time": "2019-08-23T19:05:53.683681Z",
     "start_time": "2019-08-23T19:05:53.659718Z"
    }
   },
   "outputs": [],
   "source": [
    "X = df[['age_at_diagnosis','prior_malignancy','ENSG00000182054.8', 'race_asian', \n",
    "        'race_black or african american', 'race_not reported', 'race_white', \n",
    "        'ENSG00000138180.14',\n",
    " 'ENSG00000138160.5',\n",
    " 'ENSG00000137804.11',\n",
    " 'ENSG00000156802.11',\n",
    " 'ENSG00000227799.1',\n",
    " 'ENSG00000051180.15',\n",
    " 'ENSG00000175063.15',\n",
    " 'ENSG00000011426.9',\n",
    " 'ENSG00000123737.11',\n",
    " 'ENSG00000087586.16',\n",
    " 'ENSG00000115163.13',\n",
    " 'ENSG00000197170.8',\n",
    " 'ENSG00000168078.8',\n",
    " 'ENSG00000177889.8',\n",
    " 'ENSG00000197747.7',\n",
    " 'ENSG00000228410.4',\n",
    " 'ENSG00000171848.12',\n",
    " 'ENSG00000131747.13',\n",
    " 'ENSG00000120526.9',\n",
    " 'ENSG00000135476.10',\n",
    " 'ENSG00000237810.3',\n",
    " 'ENSG00000013810.17',\n",
    " 'ENSG00000115310.16',\n",
    " 'ENSG00000117650.11',\n",
    " 'ENSG00000100526.18',\n",
    " 'ENSG00000161800.11',\n",
    " 'ENSG00000171848.12',\n",
    " 'ENSG00000169679.13',\n",
    " 'ENSG00000123975.4',\n",
    " 'ENSG00000012048.18',\n",
    " 'ENSG00000139618.13',\n",
    " 'ENSG00000141510.14',\n",
    " 'ENSG00000039068.17',\n",
    " 'ENSG00000141736.12',\n",
    " 'ENSG00000111276.9',\n",
    " 'ENSG00000100985.7',\n",
    " 'ENSG00000157227.11',\n",
    " 'ENSG00000147649.8',\n",
    " 'ENSG00000139687.12',\n",
    " 'ENSG00000136997.13',\n",
    " 'ENSG00000177606.6',\n",
    " 'ENSG00000147889.15',\n",
    " 'ENSG00000270499.1',\n",
    " 'ENSG00000087586.16',\n",
    " 'ENSG00000089685.13',\n",
    " 'ENSG00000134057.13',\n",
    " 'ENSG00000101057.14',\n",
    " 'ENSG00000099953.8',\n",
    " 'ENSG00000136943.9',\n",
    " 'ENSG00000166582.8',\n",
    " 'ENSG00000141738.12',\n",
    " 'ENSG00000104412.6',\n",
    " 'ENSG00000082175.13',\n",
    " 'ENSG00000171791.11',\n",
    " 'ENSG00000175356.11',\n",
    " 'ENSG00000134184.11',\n",
    " 'ENSG00000129226.12',\n",
    " 'ENSG00000107262.15']]\n",
    "y = df['tumor_stage']"
   ]
  },
  {
   "cell_type": "code",
   "execution_count": 22,
   "metadata": {
    "ExecuteTime": {
     "end_time": "2019-08-23T19:05:54.649518Z",
     "start_time": "2019-08-23T19:05:54.629545Z"
    }
   },
   "outputs": [],
   "source": [
    "X_train, X_test, y_train, y_test = train_test_split(X, y, test_size=0.2)"
   ]
  },
  {
   "cell_type": "code",
   "execution_count": 23,
   "metadata": {
    "ExecuteTime": {
     "end_time": "2019-08-23T19:05:55.908704Z",
     "start_time": "2019-08-23T19:05:55.900670Z"
    }
   },
   "outputs": [
    {
     "name": "stdout",
     "output_type": "stream",
     "text": [
      "Before OverSampling, counts of label '0': 685 \n",
      "\n",
      "Before OverSampling, counts of label '1': 226 \n",
      "\n"
     ]
    }
   ],
   "source": [
    "print(\"Before OverSampling, counts of label '0': {} \\n\".format(sum(y_train==0)))\n",
    "print(\"Before OverSampling, counts of label '1': {} \\n\".format(sum(y_train==1)))"
   ]
  },
  {
   "cell_type": "markdown",
   "metadata": {},
   "source": [
    "## Smote"
   ]
  },
  {
   "cell_type": "code",
   "execution_count": 24,
   "metadata": {
    "ExecuteTime": {
     "end_time": "2019-08-23T19:05:59.429751Z",
     "start_time": "2019-08-23T19:05:59.389813Z"
    }
   },
   "outputs": [],
   "source": [
    "smt = SMOTE()\n",
    "X_train, y_train = smt.fit_sample(X_train, y_train)"
   ]
  },
  {
   "cell_type": "code",
   "execution_count": 25,
   "metadata": {
    "ExecuteTime": {
     "end_time": "2019-08-23T19:06:00.446410Z",
     "start_time": "2019-08-23T19:06:00.430429Z"
    }
   },
   "outputs": [
    {
     "name": "stdout",
     "output_type": "stream",
     "text": [
      "After OverSampling, the shape of train_X: (1370, 65)\n",
      "After OverSampling, the shape of train_y: (1370,) \n",
      "\n",
      "After OverSampling, counts of label '0': 685\n",
      "After OverSampling, counts of label '1': 685\n"
     ]
    }
   ],
   "source": [
    "print('After OverSampling, the shape of train_X: {}'.format(X_train.shape))\n",
    "print('After OverSampling, the shape of train_y: {} \\n'.format(y_train.shape))\n",
    "\n",
    "print(\"After OverSampling, counts of label '0': {}\".format(sum(y_train==0)))\n",
    "print(\"After OverSampling, counts of label '1': {}\".format(sum(y_train==1)))"
   ]
  },
  {
   "cell_type": "code",
   "execution_count": 26,
   "metadata": {
    "ExecuteTime": {
     "end_time": "2019-08-23T19:06:05.158548Z",
     "start_time": "2019-08-23T19:06:05.146574Z"
    }
   },
   "outputs": [
    {
     "data": {
      "text/plain": [
       "array([685, 685], dtype=int64)"
      ]
     },
     "execution_count": 26,
     "metadata": {},
     "output_type": "execute_result"
    }
   ],
   "source": [
    "np.bincount(y_train)"
   ]
  },
  {
   "cell_type": "markdown",
   "metadata": {},
   "source": [
    "## Logistic Regression (Smote)"
   ]
  },
  {
   "cell_type": "code",
   "execution_count": 27,
   "metadata": {
    "ExecuteTime": {
     "end_time": "2019-08-23T19:06:09.140710Z",
     "start_time": "2019-08-23T19:06:07.707424Z"
    }
   },
   "outputs": [
    {
     "name": "stderr",
     "output_type": "stream",
     "text": [
      "C:\\Users\\danak\\Anaconda3\\lib\\site-packages\\sklearn\\linear_model\\logistic.py:432: FutureWarning: Default solver will be changed to 'lbfgs' in 0.22. Specify a solver to silence this warning.\n",
      "  FutureWarning)\n"
     ]
    },
    {
     "name": "stdout",
     "output_type": "stream",
     "text": [
      "accuracy score train: 0.6532846715328468\n",
      "accuracy score test: 0.5526315789473685\n"
     ]
    }
   ],
   "source": [
    "lr = LogisticRegression()\n",
    "lr.fit(X_train, y_train)\n",
    "y_pred = lr.predict(X_test)\n",
    "y_pred_train = lr.predict(X_train)\n",
    "print(f'accuracy score train: {accuracy_score(y_train, y_pred_train)}')\n",
    "print(f'accuracy score test: {accuracy_score(y_test, y_pred)}')"
   ]
  },
  {
   "cell_type": "code",
   "execution_count": 28,
   "metadata": {
    "ExecuteTime": {
     "end_time": "2019-08-23T19:06:16.655129Z",
     "start_time": "2019-08-23T19:06:16.450349Z"
    }
   },
   "outputs": [
    {
     "name": "stdout",
     "output_type": "stream",
     "text": [
      "Accuracy is 55.26315789473685 %\n"
     ]
    },
    {
     "data": {
      "image/png": "[encoded data removed]",
      "text/plain": [
       "<Figure size 432x288 with 2 Axes>"
      ]
     },
     "metadata": {
      "needs_background": "light"
     },
     "output_type": "display_data"
    },
    {
     "name": "stdout",
     "output_type": "stream",
     "text": [
      "TPR = 0.4126984126984127, FPR = 0.3939393939393939, Precision = 0.2857142857142857\n"
     ]
    }
   ],
   "source": [
    "acc, tpr, fpr, precision = plot_confusion_matrix(y_test, y_pred)\n",
    "plt.show()\n",
    "print(f\"TPR = {tpr}, FPR = {fpr}, Precision = {precision}\")"
   ]
  },
  {
   "cell_type": "markdown",
   "metadata": {},
   "source": [
    "## RandomForestClassifier  (Smote)"
   ]
  },
  {
   "cell_type": "code",
   "execution_count": 29,
   "metadata": {
    "ExecuteTime": {
     "end_time": "2019-08-23T19:06:28.191955Z",
     "start_time": "2019-08-23T19:06:23.511671Z"
    }
   },
   "outputs": [
    {
     "name": "stdout",
     "output_type": "stream",
     "text": [
      "[1.26706901e-02 7.64317477e-03 7.59611191e-03 9.50249049e-03\n",
      " 3.15806902e-02 5.32399216e-03 7.92592409e-02 9.65501925e-03\n",
      " 3.82051625e-03 5.84645236e-03 4.94746844e-03 5.72061614e-03\n",
      " 1.13328332e-02 1.19990885e-02 6.94255854e-03 3.59506252e-02\n",
      " 2.11011829e-02 4.84863667e-03 5.95566860e-03 5.72758656e-03\n",
      " 1.20092316e-02 2.37331873e-02 4.73517128e-05 3.56988803e-03\n",
      " 4.48988377e-03 5.88179896e-03 5.42448115e-03 2.14135966e-02\n",
      " 6.54810009e-03 1.84528879e-02 5.69095986e-03 6.28973276e-03\n",
      " 4.81902099e-03 4.84936913e-03 5.74469481e-03 7.45122675e-03\n",
      " 7.20815293e-03 5.13087058e-03 1.16742129e-02 9.11305630e-03\n",
      " 7.04680668e-03 1.45421248e-02 5.51991523e-02 6.14027234e-03\n",
      " 5.00332823e-03 1.26238331e-02 2.02811207e-02 1.50637311e-02\n",
      " 1.18313566e-02 3.13035094e-02 2.31546411e-02 5.66381938e-03\n",
      " 3.81275886e-03 9.00723661e-03 8.99032650e-03 1.57717925e-02\n",
      " 1.31365197e-02 6.51947952e-03 1.50917374e-02 7.16430798e-02\n",
      " 1.77823522e-02 5.17123237e-02 6.89093449e-02 2.60503152e-02\n",
      " 2.67526905e-02]\n",
      "accuracy score train: 0.7883211678832117\n",
      "accuracy score test: 0.618421052631579\n"
     ]
    }
   ],
   "source": [
    "clf = RandomForestClassifier(n_estimators=2000, max_depth=3)\n",
    "clf.fit(X_train, y_train) \n",
    "y_pred_train = clf.predict(X_train)\n",
    "y_pred_test = clf.predict(X_test)\n",
    "y_scoer_train = clf.predict_proba(X_train)\n",
    "y_scoer_test =  clf.predict_proba(X_test)\n",
    "print(clf.feature_importances_)\n",
    "print(f'accuracy score train: {accuracy_score(y_train, y_pred_train)}')\n",
    "print(f'accuracy score test: {accuracy_score(y_test, y_pred_test)}')"
   ]
  },
  {
   "cell_type": "code",
   "execution_count": 30,
   "metadata": {
    "ExecuteTime": {
     "end_time": "2019-08-23T19:06:34.609269Z",
     "start_time": "2019-08-23T19:06:34.451118Z"
    }
   },
   "outputs": [
    {
     "name": "stdout",
     "output_type": "stream",
     "text": [
      "Accuracy is 61.8421052631579 %\n"
     ]
    },
    {
     "data": {
      "image/png": "[encoded data removed]",
      "text/plain": [
       "<Figure size 432x288 with 2 Axes>"
      ]
     },
     "metadata": {
      "needs_background": "light"
     },
     "output_type": "display_data"
    },
    {
     "name": "stdout",
     "output_type": "stream",
     "text": [
      "TPR = 0.4444444444444444, FPR = 0.3151515151515151, Precision = 0.35\n"
     ]
    }
   ],
   "source": [
    "acc, tpr, fpr, precision = plot_confusion_matrix(y_test, y_pred_test)\n",
    "plt.show()\n",
    "print(f\"TPR = {tpr}, FPR = {fpr}, Precision = {precision}\")"
   ]
  },
  {
   "cell_type": "markdown",
   "metadata": {},
   "source": [
    "## AdaBoost Classifier (Smote)"
   ]
  },
  {
   "cell_type": "code",
   "execution_count": 31,
   "metadata": {
    "ExecuteTime": {
     "end_time": "2019-08-23T19:06:43.323975Z",
     "start_time": "2019-08-23T19:06:42.422430Z"
    },
    "scrolled": true
   },
   "outputs": [
    {
     "name": "stdout",
     "output_type": "stream",
     "text": [
      "[0.02 0.03 0.01 0.01 0.   0.   0.03 0.01 0.02 0.01 0.   0.01 0.   0.01\n",
      " 0.02 0.02 0.01 0.   0.01 0.01 0.03 0.03 0.   0.   0.01 0.02 0.01 0.07\n",
      " 0.01 0.02 0.   0.   0.02 0.   0.   0.01 0.02 0.01 0.02 0.03 0.   0.02\n",
      " 0.02 0.   0.   0.   0.03 0.01 0.   0.14 0.   0.03 0.   0.01 0.   0.01\n",
      " 0.01 0.   0.02 0.02 0.   0.05 0.04 0.02 0.03]\n",
      "accuracy score train: 0.7883211678832117\n",
      "accuracy score test: 0.618421052631579\n"
     ]
    }
   ],
   "source": [
    "from sklearn.ensemble import AdaBoostClassifier\n",
    "from sklearn.datasets import make_classification\n",
    "adb = AdaBoostClassifier(n_estimators=100).fit(X_train, y_train)  \n",
    "\n",
    "y_pred_train_adb = adb.predict(X_train)\n",
    "y_pred_test_adb = adb.predict(X_test)\n",
    "y_scoer_train_adb = adb.predict_proba(X_train)\n",
    "y_scoer_test_adb =  adb.predict_proba(X_test)\n",
    "print(adb.feature_importances_)\n",
    "print(f'accuracy score train: {accuracy_score(y_train, y_pred_train)}')\n",
    "print(f'accuracy score test: {accuracy_score(y_test, y_pred_test)}')\n"
   ]
  },
  {
   "cell_type": "code",
   "execution_count": 32,
   "metadata": {
    "ExecuteTime": {
     "end_time": "2019-08-23T19:06:48.885488Z",
     "start_time": "2019-08-23T19:06:48.737645Z"
    }
   },
   "outputs": [
    {
     "name": "stdout",
     "output_type": "stream",
     "text": [
      "Accuracy is 66.22807017543859 %\n"
     ]
    },
    {
     "data": {
      "image/png": "[encoded data removed]",
      "text/plain": [
       "<Figure size 432x288 with 2 Axes>"
      ]
     },
     "metadata": {
      "needs_background": "light"
     },
     "output_type": "display_data"
    },
    {
     "name": "stdout",
     "output_type": "stream",
     "text": [
      "TPR = 0.36507936507936506, FPR = 0.22424242424242424, Precision = 0.38333333333333336\n"
     ]
    }
   ],
   "source": [
    "acc, tpr, fpr, precision = plot_confusion_matrix(y_test, y_pred_test_adb)\n",
    "plt.show()\n",
    "print(f\"TPR = {tpr}, FPR = {fpr}, Precision = {precision}\")"
   ]
  },
  {
   "cell_type": "code",
   "execution_count": null,
   "metadata": {},
   "outputs": [],
   "source": []
  }
 ],
 "metadata": {
  "kernelspec": {
   "display_name": "Python 3",
   "language": "python",
   "name": "python3"
  },
  "language_info": {
   "codemirror_mode": {
    "name": "ipython",
    "version": 3
   },
   "file_extension": ".py",
   "mimetype": "text/x-python",
   "name": "python",
   "nbconvert_exporter": "python",
   "pygments_lexer": "ipython3",
   "version": "3.6.8"
  },
  "latex_envs": {
   "LaTeX_envs_menu_present": true,
   "autoclose": false,
   "autocomplete": true,
   "bibliofile": "biblio.bib",
   "cite_by": "apalike",
   "current_citInitial": 1,
   "eqLabelWithNumbers": true,
   "eqNumInitial": 1,
   "hotkeys": {
    "equation": "Ctrl-E",
    "itemize": "Ctrl-I"
   },
   "labels_anchors": false,
   "latex_user_defs": false,
   "report_style_numbering": false,
   "user_envs_cfg": false
  },
  "toc": {
   "base_numbering": 1,
   "nav_menu": {},
   "number_sections": true,
   "sideBar": true,
   "skip_h1_title": false,
   "title_cell": "Table of Contents",
   "title_sidebar": "Contents",
   "toc_cell": false,
   "toc_position": {},
   "toc_section_display": true,
   "toc_window_display": false
  }
 },
 "nbformat": 4,
 "nbformat_minor": 2
}
