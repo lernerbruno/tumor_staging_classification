{
 "cells": [
  {
   "cell_type": "code",
   "execution_count": 77,
   "metadata": {},
   "outputs": [],
   "source": [
    "import pandas as pd\n",
    "import numpy as np\n",
    "import matplotlib.pyplot as plt\n",
    "from sklearn import preprocessing\n",
    "import seaborn as sns\n",
    "sns.set()"
   ]
  },
  {
   "cell_type": "code",
   "execution_count": 78,
   "metadata": {
    "scrolled": true
   },
   "outputs": [
    {
     "data": {
      "text/html": [
       "<div>\n",
       "<style scoped>\n",
       "    .dataframe tbody tr th:only-of-type {\n",
       "        vertical-align: middle;\n",
       "    }\n",
       "\n",
       "    .dataframe tbody tr th {\n",
       "        vertical-align: top;\n",
       "    }\n",
       "\n",
       "    .dataframe thead th {\n",
       "        text-align: right;\n",
       "    }\n",
       "</style>\n",
       "<table border=\"1\" class=\"dataframe\">\n",
       "  <thead>\n",
       "    <tr style=\"text-align: right;\">\n",
       "      <th></th>\n",
       "      <th>file_name</th>\n",
       "      <th>case_id</th>\n",
       "      <th>year_of_diagnosis</th>\n",
       "      <th>classification_of_tumor</th>\n",
       "      <th>last_known_disease_status</th>\n",
       "      <th>updated_datetime</th>\n",
       "      <th>primary_diagnosis</th>\n",
       "      <th>submitter_id</th>\n",
       "      <th>tumor_stage</th>\n",
       "      <th>age_at_diagnosis</th>\n",
       "      <th>...</th>\n",
       "      <th>ENSGR0000275287.3</th>\n",
       "      <th>ENSGR0000276543.3</th>\n",
       "      <th>ENSGR0000277120.3</th>\n",
       "      <th>ENSGR0000280767.1</th>\n",
       "      <th>ENSGR0000281849.1</th>\n",
       "      <th>__alignment_not_unique</th>\n",
       "      <th>__ambiguous</th>\n",
       "      <th>__no_feature</th>\n",
       "      <th>__not_aligned</th>\n",
       "      <th>__too_low_aQual</th>\n",
       "    </tr>\n",
       "  </thead>\n",
       "  <tbody>\n",
       "    <tr>\n",
       "      <th>0</th>\n",
       "      <td>2b5c518f-8327-478a-a282-01bfe59aca4c.htseq.cou...</td>\n",
       "      <td>4d0fec97-e024-4608-a0cc-426a3decc7b1</td>\n",
       "      <td>2007.0</td>\n",
       "      <td>not reported</td>\n",
       "      <td>not reported</td>\n",
       "      <td>2019-04-28T13:50:16.849041-05:00</td>\n",
       "      <td>Infiltrating duct carcinoma, NOS</td>\n",
       "      <td>TCGA-AR-A252_exposure</td>\n",
       "      <td>stage i</td>\n",
       "      <td>18611.0</td>\n",
       "      <td>...</td>\n",
       "      <td>0.0</td>\n",
       "      <td>0.0</td>\n",
       "      <td>0.0</td>\n",
       "      <td>0.0</td>\n",
       "      <td>0.0</td>\n",
       "      <td>33323894.0</td>\n",
       "      <td>3232629.0</td>\n",
       "      <td>5808920.0</td>\n",
       "      <td>0.0</td>\n",
       "      <td>0.0</td>\n",
       "    </tr>\n",
       "    <tr>\n",
       "      <th>1</th>\n",
       "      <td>64262505-9f17-4989-94c9-fc6db56ca676.htseq.cou...</td>\n",
       "      <td>bb8d42d3-ad65-4d88-ae1d-f9aadfc7962d</td>\n",
       "      <td>2010.0</td>\n",
       "      <td>not reported</td>\n",
       "      <td>not reported</td>\n",
       "      <td>2019-04-28T13:39:49.010685-05:00</td>\n",
       "      <td>Lobular carcinoma, NOS</td>\n",
       "      <td>TCGA-AO-A1KS_exposure</td>\n",
       "      <td>stage iia</td>\n",
       "      <td>25230.0</td>\n",
       "      <td>...</td>\n",
       "      <td>0.0</td>\n",
       "      <td>0.0</td>\n",
       "      <td>0.0</td>\n",
       "      <td>0.0</td>\n",
       "      <td>0.0</td>\n",
       "      <td>19183901.0</td>\n",
       "      <td>2673271.0</td>\n",
       "      <td>6146344.0</td>\n",
       "      <td>0.0</td>\n",
       "      <td>0.0</td>\n",
       "    </tr>\n",
       "  </tbody>\n",
       "</table>\n",
       "<p>2 rows × 60532 columns</p>\n",
       "</div>"
      ],
      "text/plain": [
       "                                           file_name  \\\n",
       "0  2b5c518f-8327-478a-a282-01bfe59aca4c.htseq.cou...   \n",
       "1  64262505-9f17-4989-94c9-fc6db56ca676.htseq.cou...   \n",
       "\n",
       "                                case_id  year_of_diagnosis  \\\n",
       "0  4d0fec97-e024-4608-a0cc-426a3decc7b1             2007.0   \n",
       "1  bb8d42d3-ad65-4d88-ae1d-f9aadfc7962d             2010.0   \n",
       "\n",
       "  classification_of_tumor last_known_disease_status  \\\n",
       "0            not reported              not reported   \n",
       "1            not reported              not reported   \n",
       "\n",
       "                   updated_datetime                 primary_diagnosis  \\\n",
       "0  2019-04-28T13:50:16.849041-05:00  Infiltrating duct carcinoma, NOS   \n",
       "1  2019-04-28T13:39:49.010685-05:00            Lobular carcinoma, NOS   \n",
       "\n",
       "            submitter_id tumor_stage  age_at_diagnosis  ... ENSGR0000275287.3  \\\n",
       "0  TCGA-AR-A252_exposure     stage i           18611.0  ...               0.0   \n",
       "1  TCGA-AO-A1KS_exposure   stage iia           25230.0  ...               0.0   \n",
       "\n",
       "   ENSGR0000276543.3  ENSGR0000277120.3 ENSGR0000280767.1 ENSGR0000281849.1  \\\n",
       "0                0.0                0.0               0.0               0.0   \n",
       "1                0.0                0.0               0.0               0.0   \n",
       "\n",
       "   __alignment_not_unique __ambiguous __no_feature __not_aligned  \\\n",
       "0              33323894.0   3232629.0    5808920.0           0.0   \n",
       "1              19183901.0   2673271.0    6146344.0           0.0   \n",
       "\n",
       "  __too_low_aQual  \n",
       "0             0.0  \n",
       "1             0.0  \n",
       "\n",
       "[2 rows x 60532 columns]"
      ]
     },
     "execution_count": 78,
     "metadata": {},
     "output_type": "execute_result"
    }
   ],
   "source": [
    "df = pd.read_csv('data/gathered.csv').drop(columns=['Unnamed: 0'])\n",
    "df.head(2)"
   ]
  },
  {
   "cell_type": "markdown",
   "metadata": {},
   "source": [
    "# Gens expressions"
   ]
  },
  {
   "cell_type": "code",
   "execution_count": 80,
   "metadata": {},
   "outputs": [],
   "source": [
    "gens_indexes = df.columns[df.columns.str.startswith('ENSG')]\n",
    "gens = df[gens_indexes]\n",
    "gens_varieties = gens.nunique()"
   ]
  },
  {
   "cell_type": "code",
   "execution_count": 81,
   "metadata": {},
   "outputs": [
    {
     "name": "stdout",
     "output_type": "stream",
     "text": [
      "The total number of gens we have is 60483\n",
      "But 3.67 % have the same value for all the dataset\n"
     ]
    }
   ],
   "source": [
    "percentage_of_non_varying = np.round(float(len(gens_varieties[gens_varieties == 1]))*100/len(gens_varieties), 2)\n",
    "print(f\"\"\"The total number of gens we have is {len(gens_varieties)}\n",
    "But {percentage_of_non_varying} % have the same value for all the dataset\"\"\")"
   ]
  },
  {
   "cell_type": "markdown",
   "metadata": {},
   "source": [
    "So we will drop insignificant gens from df"
   ]
  },
  {
   "cell_type": "code",
   "execution_count": 82,
   "metadata": {},
   "outputs": [],
   "source": [
    "insignificant_gens = np.array(gens_varieties[gens_varieties == 1].index)\n",
    "df = df.drop(columns=insignificant_gens)"
   ]
  },
  {
   "cell_type": "code",
   "execution_count": 83,
   "metadata": {
    "scrolled": true
   },
   "outputs": [
    {
     "data": {
      "text/plain": [
       "(1164, 58312)"
      ]
     },
     "execution_count": 83,
     "metadata": {},
     "output_type": "execute_result"
    }
   ],
   "source": [
    "df.shape"
   ]
  },
  {
   "cell_type": "markdown",
   "metadata": {},
   "source": [
    "# Clinical info\n"
   ]
  },
  {
   "cell_type": "code",
   "execution_count": 84,
   "metadata": {},
   "outputs": [],
   "source": [
    "gens_indexes = df.columns[df.columns.str.startswith('ENSG')]\n",
    "clinical = df.drop(columns=gens_indexes)"
   ]
  },
  {
   "cell_type": "code",
   "execution_count": 85,
   "metadata": {
    "scrolled": false
   },
   "outputs": [
    {
     "data": {
      "text/plain": [
       "classification_of_tumor      1\n",
       "last_known_disease_status    1\n",
       "state                        1\n",
       "tumor_grade                  1\n",
       "days_to_diagnosis            1\n",
       "progression_or_recurrence    1\n",
       "gender                       1\n",
       "alcohol_history              1\n",
       "__not_aligned                1\n",
       "__too_low_aQual              1\n",
       "dtype: int64"
      ]
     },
     "execution_count": 85,
     "metadata": {},
     "output_type": "execute_result"
    }
   ],
   "source": [
    "feature_uniques = clinical.nunique()\n",
    "feature_uniques[feature_uniques==1]"
   ]
  },
  {
   "cell_type": "code",
   "execution_count": 86,
   "metadata": {},
   "outputs": [],
   "source": [
    "columns_to_drop = []\n",
    "columns_to_drop = columns_to_drop + list(feature_uniques[feature_uniques==1].index)"
   ]
  },
  {
   "cell_type": "code",
   "execution_count": 87,
   "metadata": {},
   "outputs": [
    {
     "name": "stdout",
     "output_type": "stream",
     "text": [
      "file_name\n",
      "case_id\n",
      "updated_datetime\n",
      "submitter_id\n",
      "diagnosis_id\n",
      "treatments\n",
      "demographic_id\n",
      "exposure_id\n",
      "__alignment_not_unique\n",
      "__ambiguous\n",
      "__no_feature\n"
     ]
    }
   ],
   "source": [
    "NUM_RECORDS = len(clinical)\n",
    "for col in clinical.columns:\n",
    "    if len(clinical[col].value_counts()) == NUM_RECORDS or len(clinical[col].value_counts()) == 1036:\n",
    "        print(col)\n",
    "        columns_to_drop.append(col)"
   ]
  },
  {
   "cell_type": "markdown",
   "metadata": {},
   "source": [
    "**case_id** and **submitter_id** will be kept in the DF for now, since we need it in order to match the two tables later  \n",
    "All of the other unique columns can be removed since they don't have any information that we need:\n"
   ]
  },
  {
   "cell_type": "code",
   "execution_count": 89,
   "metadata": {},
   "outputs": [],
   "source": [
    "columns_to_drop.remove('submitter_id')\n",
    "columns_to_drop.remove('case_id')"
   ]
  },
  {
   "cell_type": "markdown",
   "metadata": {},
   "source": [
    "#### Column of all NaNs:"
   ]
  },
  {
   "cell_type": "code",
   "execution_count": 90,
   "metadata": {},
   "outputs": [
    {
     "name": "stdout",
     "output_type": "stream",
     "text": [
      "['days_to_last_known_disease_status', 'created_datetime', 'days_to_recurrence', 'cigarettes_per_day', 'weight', 'alcohol_intensity', 'bmi', 'years_smoked', 'height']\n"
     ]
    }
   ],
   "source": [
    "all_nones = []\n",
    "for col in clinical.columns:\n",
    "    if sum(clinical[col].isnull()) == NUM_RECORDS:\n",
    "        all_nones.append(col)\n",
    "print(all_nones)\n",
    "\n",
    "columns_to_drop = columns_to_drop + all_nones"
   ]
  },
  {
   "cell_type": "markdown",
   "metadata": {},
   "source": [
    "#### Column of 1 value:"
   ]
  },
  {
   "cell_type": "code",
   "execution_count": 91,
   "metadata": {},
   "outputs": [
    {
     "name": "stdout",
     "output_type": "stream",
     "text": [
      "['classification_of_tumor', 'last_known_disease_status', 'state', 'tumor_grade', 'days_to_diagnosis', 'progression_or_recurrence', 'gender', 'alcohol_history', '__not_aligned', '__too_low_aQual']\n"
     ]
    }
   ],
   "source": [
    "all_same = []\n",
    "for col in clinical.columns:\n",
    "    if len(clinical[col].value_counts()) == 1:\n",
    "        all_same.append(col)\n",
    "print(all_same)\n",
    "\n",
    "columns_to_drop = columns_to_drop + all_same"
   ]
  },
  {
   "cell_type": "markdown",
   "metadata": {},
   "source": [
    "#### Checking others features"
   ]
  },
  {
   "cell_type": "code",
   "execution_count": 92,
   "metadata": {},
   "outputs": [
    {
     "data": {
      "text/plain": [
       "2019-04-28T08:46:02.486768-05:00    4\n",
       "2019-04-28T08:47:05.568166-05:00    4\n",
       "2019-04-28T08:45:30.379556-05:00    3\n",
       "2019-04-28T13:49:59.868148-05:00    3\n",
       "2019-04-28T13:53:52.434304-05:00    3\n",
       "Name: updated_datetime, dtype: int64"
      ]
     },
     "execution_count": 92,
     "metadata": {},
     "output_type": "execute_result"
    }
   ],
   "source": [
    "clinical['updated_datetime'].value_counts().head()"
   ]
  },
  {
   "cell_type": "markdown",
   "metadata": {},
   "source": [
    "It seems like the column 'updated_datetime' has information about the last date in which the information was updated. Since this is not information that we care about, I will remove it:"
   ]
  },
  {
   "cell_type": "code",
   "execution_count": 93,
   "metadata": {},
   "outputs": [],
   "source": [
    "columns_to_drop.append('updated_datetime')"
   ]
  },
  {
   "cell_type": "code",
   "execution_count": 94,
   "metadata": {},
   "outputs": [
    {
     "data": {
      "text/plain": [
       "Infiltrating duct carcinoma, NOS                            866\n",
       "Lobular carcinoma, NOS                                      211\n",
       "Infiltrating duct and lobular carcinoma                      37\n",
       "Infiltrating duct mixed with other types of carcinoma        21\n",
       "Medullary carcinoma, NOS                                      8\n",
       "Infiltrating lobular mixed with other types of carcinoma      7\n",
       "Intraductal papillary adenocarcinoma with invasion            6\n",
       "Paget disease and infiltrating duct carcinoma of breast       4\n",
       "Intraductal micropapillary carcinoma                          3\n",
       "Secretory carcinoma of breast                                 1\n",
       "Name: primary_diagnosis, dtype: int64"
      ]
     },
     "execution_count": 94,
     "metadata": {},
     "output_type": "execute_result"
    }
   ],
   "source": [
    "clinical['primary_diagnosis'].value_counts()"
   ]
  },
  {
   "cell_type": "markdown",
   "metadata": {},
   "source": [
    "I don't think that this is information that we care about (please correct me if I'm wrong), so I will remove it:"
   ]
  },
  {
   "cell_type": "code",
   "execution_count": 95,
   "metadata": {},
   "outputs": [],
   "source": [
    "columns_to_drop.append('primary_diagnosis')"
   ]
  },
  {
   "cell_type": "markdown",
   "metadata": {},
   "source": [
    "**age_at_diagnosis**  \n",
    "This column contains information about the age of the women when she was diagnosed. The value in the column is the number of days that she had lived until diagnosis.  "
   ]
  },
  {
   "cell_type": "code",
   "execution_count": 96,
   "metadata": {},
   "outputs": [
    {
     "data": {
      "text/html": [
       "<div>\n",
       "<style scoped>\n",
       "    .dataframe tbody tr th:only-of-type {\n",
       "        vertical-align: middle;\n",
       "    }\n",
       "\n",
       "    .dataframe tbody tr th {\n",
       "        vertical-align: top;\n",
       "    }\n",
       "\n",
       "    .dataframe thead th {\n",
       "        text-align: right;\n",
       "    }\n",
       "</style>\n",
       "<table border=\"1\" class=\"dataframe\">\n",
       "  <thead>\n",
       "    <tr style=\"text-align: right;\">\n",
       "      <th></th>\n",
       "      <th>age_at_diagnosis</th>\n",
       "    </tr>\n",
       "  </thead>\n",
       "  <tbody>\n",
       "    <tr>\n",
       "      <th>count</th>\n",
       "      <td>1149.000000</td>\n",
       "    </tr>\n",
       "    <tr>\n",
       "      <th>mean</th>\n",
       "      <td>21421.413403</td>\n",
       "    </tr>\n",
       "    <tr>\n",
       "      <th>std</th>\n",
       "      <td>4860.540308</td>\n",
       "    </tr>\n",
       "    <tr>\n",
       "      <th>min</th>\n",
       "      <td>9706.000000</td>\n",
       "    </tr>\n",
       "    <tr>\n",
       "      <th>25%</th>\n",
       "      <td>17710.000000</td>\n",
       "    </tr>\n",
       "    <tr>\n",
       "      <th>50%</th>\n",
       "      <td>21426.000000</td>\n",
       "    </tr>\n",
       "    <tr>\n",
       "      <th>75%</th>\n",
       "      <td>24746.000000</td>\n",
       "    </tr>\n",
       "    <tr>\n",
       "      <th>max</th>\n",
       "      <td>32872.000000</td>\n",
       "    </tr>\n",
       "  </tbody>\n",
       "</table>\n",
       "</div>"
      ],
      "text/plain": [
       "       age_at_diagnosis\n",
       "count       1149.000000\n",
       "mean       21421.413403\n",
       "std         4860.540308\n",
       "min         9706.000000\n",
       "25%        17710.000000\n",
       "50%        21426.000000\n",
       "75%        24746.000000\n",
       "max        32872.000000"
      ]
     },
     "execution_count": 96,
     "metadata": {},
     "output_type": "execute_result"
    }
   ],
   "source": [
    "clinical[['age_at_diagnosis']].describe()"
   ]
  },
  {
   "cell_type": "markdown",
   "metadata": {},
   "source": [
    "I will convert the values of the column into years, so we can interpret the data more easly ourselves:"
   ]
  },
  {
   "cell_type": "code",
   "execution_count": 97,
   "metadata": {},
   "outputs": [],
   "source": [
    "df['age_at_diagnosis'] = df['age_at_diagnosis'].apply(lambda x: x / 365)"
   ]
  },
  {
   "cell_type": "markdown",
   "metadata": {},
   "source": [
    "Now lets check nulls"
   ]
  },
  {
   "cell_type": "code",
   "execution_count": 98,
   "metadata": {},
   "outputs": [
    {
     "data": {
      "text/plain": [
       "15"
      ]
     },
     "execution_count": 98,
     "metadata": {},
     "output_type": "execute_result"
    }
   ],
   "source": [
    "sum(clinical['age_at_diagnosis'].isnull())"
   ]
  },
  {
   "cell_type": "code",
   "execution_count": 99,
   "metadata": {},
   "outputs": [],
   "source": [
    "df['age_at_diagnosis'] = df['age_at_diagnosis'].fillna(df['age_at_diagnosis'].mean())"
   ]
  },
  {
   "cell_type": "markdown",
   "metadata": {},
   "source": [
    "**morphology**   \n",
    "This column contains information about the morphology of the tumor. This is not information that we need so I will remove it. Also I think that there is a little bit of target leakage in this column, since it contains information about the tumor itself, and the goal of the project is not to have this kind of information."
   ]
  },
  {
   "cell_type": "code",
   "execution_count": 100,
   "metadata": {},
   "outputs": [],
   "source": [
    "columns_to_drop.append('morphology')"
   ]
  },
  {
   "cell_type": "markdown",
   "metadata": {},
   "source": [
    "**created_datetime** contains information about the datetime in which this record was added to the website.\n",
    "\n",
    "**prior_treatment** contains information about prior treatmens given to the patient.\n",
    "\n",
    "**ICD-10 code** is a diagnostic code used to describe a patient’s medical condition.\n",
    "\n",
    "All of these columns contains information that we don't care about, therefore I will remove them:"
   ]
  },
  {
   "cell_type": "code",
   "execution_count": 101,
   "metadata": {},
   "outputs": [],
   "source": [
    "columns_to_drop = columns_to_drop + ['created_datetime', 'prior_treatment', 'icd_10_code']"
   ]
  },
  {
   "cell_type": "markdown",
   "metadata": {},
   "source": [
    "**year_of_diagnosis**  \n",
    "This column contains important information about the year that the patient was diagnosed with cancer. Nevertheless, we have information about the age of the patient at diagnosis, which is more important for us. Therefore, I will remove it:"
   ]
  },
  {
   "cell_type": "code",
   "execution_count": 102,
   "metadata": {},
   "outputs": [],
   "source": [
    "columns_to_drop.append('year_of_diagnosis')"
   ]
  },
  {
   "cell_type": "markdown",
   "metadata": {},
   "source": [
    "**tissue_or_organ_of_origin**  \n",
    "The column contains inforamtion about the exact location of the tumor. I don't think that this is something that interests us so I will remove it:"
   ]
  },
  {
   "cell_type": "code",
   "execution_count": 103,
   "metadata": {},
   "outputs": [],
   "source": [
    "columns_to_drop.append('tissue_or_organ_of_origin')"
   ]
  },
  {
   "cell_type": "markdown",
   "metadata": {},
   "source": [
    "**prior_malignancy**  \n",
    "Meant to tell if the patient has had cancer before. I guess that this could be interesting, so I will convert it to 1 and 0:"
   ]
  },
  {
   "cell_type": "code",
   "execution_count": 104,
   "metadata": {},
   "outputs": [
    {
     "data": {
      "text/plain": [
       "no              1095\n",
       "yes               68\n",
       "not reported       1\n",
       "Name: prior_malignancy, dtype: int64"
      ]
     },
     "execution_count": 104,
     "metadata": {},
     "output_type": "execute_result"
    }
   ],
   "source": [
    "clinical['prior_malignancy'].value_counts()"
   ]
  },
  {
   "cell_type": "code",
   "execution_count": 105,
   "metadata": {},
   "outputs": [],
   "source": [
    "df['prior_malignancy'] = df['prior_malignancy'].replace({'no': 0, 'yes': 1})"
   ]
  },
  {
   "cell_type": "markdown",
   "metadata": {},
   "source": [
    "As for the record that had 'not reported', I will replace the value with the mode of this column, which is 0:"
   ]
  },
  {
   "cell_type": "code",
   "execution_count": 106,
   "metadata": {},
   "outputs": [
    {
     "name": "stdout",
     "output_type": "stream",
     "text": [
      "0    no\n",
      "dtype: object\n"
     ]
    }
   ],
   "source": [
    "print(clinical['prior_malignancy'].mode())\n",
    "df['prior_malignancy'] = df['prior_malignancy'].replace({'not reported': 0}) "
   ]
  },
  {
   "cell_type": "markdown",
   "metadata": {},
   "source": [
    "**synchronous_malignancy**  \n",
    "The column describes whether the patient had an additional malignant diagnosis at the same time the breast cancer was diagnosed. If both tumors were sequenced, both tumors would have synchronous malignancies.\n",
    "\n",
    "Let's look at the values of the column:"
   ]
  },
  {
   "cell_type": "code",
   "execution_count": 107,
   "metadata": {},
   "outputs": [
    {
     "data": {
      "text/plain": [
       "No              1095\n",
       "Not Reported      69\n",
       "Name: synchronous_malignancy, dtype: int64"
      ]
     },
     "execution_count": 107,
     "metadata": {},
     "output_type": "execute_result"
    }
   ],
   "source": [
    "clinical['synchronous_malignancy'].value_counts()"
   ]
  },
  {
   "cell_type": "markdown",
   "metadata": {},
   "source": [
    "I think that this column can be dropped, since there are a lot of values registered as not reported, and the rest of it is only one value - no. (Tell me if you think otherwise)"
   ]
  },
  {
   "cell_type": "code",
   "execution_count": 108,
   "metadata": {},
   "outputs": [],
   "source": [
    "columns_to_drop.append('synchronous_malignancy')"
   ]
  },
  {
   "cell_type": "markdown",
   "metadata": {},
   "source": [
    "**site_of_resection_or_biopsy**  \n",
    "Here the column has information about the place of the tumor. As I said in tissue_or_organ_of_origin, I will remove it:"
   ]
  },
  {
   "cell_type": "code",
   "execution_count": 109,
   "metadata": {},
   "outputs": [
    {
     "data": {
      "text/plain": [
       "Breast, NOS                       1148\n",
       "Lower-inner quadrant of breast       6\n",
       "Upper-outer quadrant of breast       5\n",
       "Overlapping lesion of breast         2\n",
       "Upper-inner quadrant of breast       2\n",
       "Lower-outer quadrant of breast       1\n",
       "Name: site_of_resection_or_biopsy, dtype: int64"
      ]
     },
     "execution_count": 109,
     "metadata": {},
     "output_type": "execute_result"
    }
   ],
   "source": [
    "clinical['site_of_resection_or_biopsy'].value_counts()"
   ]
  },
  {
   "cell_type": "code",
   "execution_count": 110,
   "metadata": {},
   "outputs": [],
   "source": [
    "columns_to_drop.append('site_of_resection_or_biopsy')"
   ]
  },
  {
   "cell_type": "markdown",
   "metadata": {},
   "source": [
    "**days_to_last_follow_up**  \n",
    "Information about the days from diagnosis to the last follow up. We don't care about that, so it will be removed:"
   ]
  },
  {
   "cell_type": "code",
   "execution_count": 111,
   "metadata": {},
   "outputs": [],
   "source": [
    "columns_to_drop.append('days_to_last_follow_up')"
   ]
  },
  {
   "cell_type": "markdown",
   "metadata": {},
   "source": [
    "**year_of_death, vital_status**  \n",
    "\n",
    "Both of these columns contains information about the death of the patient. This is not information that we would like to have, since we want our model tool to the able to predict the stage of a women that are still alive. Therefore I will remove both of them:"
   ]
  },
  {
   "cell_type": "code",
   "execution_count": 112,
   "metadata": {},
   "outputs": [
    {
     "name": "stdout",
     "output_type": "stream",
     "text": [
      "2008.0    18\n",
      "2005.0    17\n",
      "2004.0    16\n",
      "2001.0    14\n",
      "2010.0    12\n",
      "2006.0    10\n",
      "2002.0     9\n",
      "2000.0     8\n",
      "2003.0     8\n",
      "1999.0     7\n",
      "2007.0     6\n",
      "2009.0     5\n",
      "1998.0     3\n",
      "1992.0     2\n",
      "1996.0     2\n",
      "2013.0     1\n",
      "1995.0     1\n",
      "1994.0     1\n",
      "2012.0     1\n",
      "Name: year_of_death, dtype: int64\n",
      "Alive    971\n",
      "Dead     193\n",
      "Name: vital_status, dtype: int64\n"
     ]
    }
   ],
   "source": [
    "print(clinical['year_of_death'].value_counts())\n",
    "print(clinical['vital_status'].value_counts())"
   ]
  },
  {
   "cell_type": "code",
   "execution_count": 113,
   "metadata": {},
   "outputs": [],
   "source": [
    "columns_to_drop.append('year_of_death')\n",
    "columns_to_drop.append('vital_status')"
   ]
  },
  {
   "cell_type": "markdown",
   "metadata": {},
   "source": [
    "**days_to_birth** is the number of days between the date used for index and the date from a person's date of birth, represented as a calculated negative number of days.\n",
    "\n",
    "**year_of_birth** is self explanatory.\n",
    "\n",
    "We don't need both of these columns since we have the information about the women's age at diagnosis. I will remove them:"
   ]
  },
  {
   "cell_type": "code",
   "execution_count": 114,
   "metadata": {},
   "outputs": [],
   "source": [
    "columns_to_drop.append('days_to_birth')\n",
    "columns_to_drop.append('year_of_birth')"
   ]
  },
  {
   "cell_type": "markdown",
   "metadata": {},
   "source": [
    "**treatment_type, treatment_or_therapy**  \n",
    "\n",
    "These two columns contains information about the treatement given to the patients. This is not information that we would like to keep since we want to diagnose our patients according to their general information and genes, and not according to treatement that they had taken. Moreover, the treatement if given according to the stage of the patient, and we don't want to have target leakage."
   ]
  },
  {
   "cell_type": "code",
   "execution_count": 115,
   "metadata": {},
   "outputs": [],
   "source": [
    "# columns_to_drop.append('treatment_type')\n",
    "# columns_to_drop.append('treatment_or_therapy')"
   ]
  },
  {
   "cell_type": "markdown",
   "metadata": {},
   "source": [
    "**race, ethnicity**"
   ]
  },
  {
   "cell_type": "code",
   "execution_count": 116,
   "metadata": {},
   "outputs": [
    {
     "data": {
      "text/plain": [
       "white                               832\n",
       "black or african american           180\n",
       "not reported                         94\n",
       "asian                                57\n",
       "american indian or alaska native      1\n",
       "Name: race, dtype: int64"
      ]
     },
     "execution_count": 116,
     "metadata": {},
     "output_type": "execute_result"
    }
   ],
   "source": [
    "clinical['race'].value_counts()"
   ]
  },
  {
   "cell_type": "code",
   "execution_count": 117,
   "metadata": {},
   "outputs": [
    {
     "data": {
      "text/plain": [
       "not hispanic or latino    933\n",
       "not reported              195\n",
       "hispanic or latino         36\n",
       "Name: ethnicity, dtype: int64"
      ]
     },
     "execution_count": 117,
     "metadata": {},
     "output_type": "execute_result"
    }
   ],
   "source": [
    "clinical['ethnicity'].value_counts()"
   ]
  },
  {
   "cell_type": "markdown",
   "metadata": {},
   "source": [
    "They both contain information about the ethnicity of the patient. I tried to see maybe we can combine both of them, and then to have one column with all of these categories, but it seems like it's not possible, for example:\n",
    "\n",
    "patients who are both white and hispanic or latino:"
   ]
  },
  {
   "cell_type": "code",
   "execution_count": 118,
   "metadata": {},
   "outputs": [
    {
     "name": "stdout",
     "output_type": "stream",
     "text": [
      "31\n",
      "712\n"
     ]
    }
   ],
   "source": [
    "print(len(df[(df['race'] == 'white') & (df['ethnicity'] == 'hispanic or latino')]))\n",
    "print(len(df[(df['race'] == 'white') & (df['ethnicity'] == 'not hispanic or latino')]))"
   ]
  },
  {
   "cell_type": "markdown",
   "metadata": {},
   "source": [
    "We can see that there is an overlap on some of the values - for example, if someone if white and not hispanic or latino, what does it mean? Does it mean that she is not white and only hispanic? I don't know what to do with this. \n",
    "\n",
    "What I decided to do is to remove the ethnicity column and leave the race column in."
   ]
  },
  {
   "cell_type": "code",
   "execution_count": 119,
   "metadata": {},
   "outputs": [],
   "source": [
    "columns_to_drop.append('ethnicity')"
   ]
  },
  {
   "cell_type": "markdown",
   "metadata": {},
   "source": [
    "**age_at_index**  \n",
    "\n",
    "Contains information about the patient's age (in years) on the reference or anchor date date used during date obfuscation. Data obfuscation (DO) is a form of data masking where data is purposely scrambled to prevent unauthorized access to sensitive materials, or in our case for privacy preservation.\n",
    "\n",
    "I believe that we don't need this information, therefore I will remove the column:"
   ]
  },
  {
   "cell_type": "code",
   "execution_count": 120,
   "metadata": {},
   "outputs": [],
   "source": [
    "columns_to_drop.append('age_at_index')"
   ]
  },
  {
   "cell_type": "markdown",
   "metadata": {},
   "source": [
    "### Drop it"
   ]
  },
  {
   "cell_type": "code",
   "execution_count": 123,
   "metadata": {
    "scrolled": true
   },
   "outputs": [],
   "source": [
    "df = df.drop(columns=np.unique(columns_to_drop))"
   ]
  },
  {
   "cell_type": "code",
   "execution_count": 124,
   "metadata": {},
   "outputs": [
    {
     "data": {
      "text/plain": [
       "(1164, 58269)"
      ]
     },
     "execution_count": 124,
     "metadata": {},
     "output_type": "execute_result"
    }
   ],
   "source": [
    "df.shape"
   ]
  },
  {
   "cell_type": "markdown",
   "metadata": {},
   "source": [
    "## Label"
   ]
  },
  {
   "cell_type": "code",
   "execution_count": 24,
   "metadata": {
    "scrolled": false
   },
   "outputs": [
    {
     "data": {
      "text/plain": [
       "stage iia       378\n",
       "stage iib       280\n",
       "stage iiia      167\n",
       "stage i          99\n",
       "stage ia         88\n",
       "stage iiic       68\n",
       "stage iiib       27\n",
       "stage iv         21\n",
       "stage x          12\n",
       "not reported     12\n",
       "stage ii          5\n",
       "stage ib          5\n",
       "stage iii         2\n",
       "Name: tumor_stage, dtype: int64"
      ]
     },
     "execution_count": 24,
     "metadata": {},
     "output_type": "execute_result"
    }
   ],
   "source": [
    "clinical['tumor_stage'].value_counts()"
   ]
  },
  {
   "cell_type": "markdown",
   "metadata": {},
   "source": [
    "`stage x` means that the tumor can't be assessed, which is basically the same as `not reported`.  \n",
    "  \n",
    "So let's merge it"
   ]
  },
  {
   "cell_type": "code",
   "execution_count": 126,
   "metadata": {},
   "outputs": [],
   "source": [
    "df['tumor_stage'] = df['tumor_stage'].replace({'not reported': 'stage x' })"
   ]
  },
  {
   "cell_type": "code",
   "execution_count": 128,
   "metadata": {},
   "outputs": [
    {
     "data": {
      "text/plain": [
       "stage iia     378\n",
       "stage iib     280\n",
       "stage iiia    167\n",
       "stage i        99\n",
       "stage ia       88\n",
       "stage iiic     68\n",
       "stage iiib     27\n",
       "stage x        24\n",
       "stage iv       21\n",
       "stage ib        5\n",
       "stage ii        5\n",
       "stage iii       2\n",
       "Name: tumor_stage, dtype: int64"
      ]
     },
     "execution_count": 128,
     "metadata": {},
     "output_type": "execute_result"
    }
   ],
   "source": [
    "df['tumor_stage'].value_counts()"
   ]
  },
  {
   "cell_type": "markdown",
   "metadata": {},
   "source": [
    "# Persist it"
   ]
  },
  {
   "cell_type": "code",
   "execution_count": 129,
   "metadata": {
    "scrolled": true
   },
   "outputs": [],
   "source": [
    "df.to_csv('data/cleaned.csv')"
   ]
  }
 ],
 "metadata": {
  "kernelspec": {
   "display_name": "Python 3",
   "language": "python",
   "name": "python3"
  },
  "language_info": {
   "codemirror_mode": {
    "name": "ipython",
    "version": 3
   },
   "file_extension": ".py",
   "mimetype": "text/x-python",
   "name": "python",
   "nbconvert_exporter": "python",
   "pygments_lexer": "ipython3",
   "version": "3.7.3"
  }
 },
 "nbformat": 4,
 "nbformat_minor": 2
}
