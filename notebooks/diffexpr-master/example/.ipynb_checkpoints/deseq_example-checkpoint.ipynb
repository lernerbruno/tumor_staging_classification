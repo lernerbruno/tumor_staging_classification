{
 "cells": [
  {
   "cell_type": "code",
   "execution_count": 1,
   "metadata": {},
   "outputs": [],
   "source": [
    "%matplotlib inline"
   ]
  },
  {
   "cell_type": "markdown",
   "metadata": {},
   "source": [
    "# Porting DESeq into python using rpy2#\n",
    "\n",
    "I will use a small example of [ERCC transcript](https://www.thermofisher.com/order/catalog/product/4456740) from [samples A and B in MAQC data](https://www.ncbi.nlm.nih.gov/pmc/articles/PMC3272078/)."
   ]
  },
  {
   "cell_type": "code",
   "execution_count": 7,
   "metadata": {},
   "outputs": [],
   "source": [
    "import pandas as pd \n",
    "import numpy as np"
   ]
  },
  {
   "cell_type": "markdown",
   "metadata": {},
   "source": [
    "We will read the table and it should only contains count data of ERCC spikeins (rows) and 3 replicates from each of samples A and B (columns)."
   ]
  },
  {
   "cell_type": "code",
   "execution_count": 4,
   "metadata": {},
   "outputs": [
    {
     "data": {
      "text/html": [
       "<div>\n",
       "<style scoped>\n",
       "    .dataframe tbody tr th:only-of-type {\n",
       "        vertical-align: middle;\n",
       "    }\n",
       "\n",
       "    .dataframe tbody tr th {\n",
       "        vertical-align: top;\n",
       "    }\n",
       "\n",
       "    .dataframe thead th {\n",
       "        text-align: right;\n",
       "    }\n",
       "</style>\n",
       "<table border=\"1\" class=\"dataframe\">\n",
       "  <thead>\n",
       "    <tr style=\"text-align: right;\">\n",
       "      <th></th>\n",
       "      <th>id</th>\n",
       "      <th>A_1</th>\n",
       "      <th>A_2</th>\n",
       "      <th>A_3</th>\n",
       "      <th>B_1</th>\n",
       "      <th>B_2</th>\n",
       "      <th>B_3</th>\n",
       "    </tr>\n",
       "  </thead>\n",
       "  <tbody>\n",
       "    <tr>\n",
       "      <th>0</th>\n",
       "      <td>ERCC-00002</td>\n",
       "      <td>111461</td>\n",
       "      <td>106261</td>\n",
       "      <td>107547</td>\n",
       "      <td>333944</td>\n",
       "      <td>199252</td>\n",
       "      <td>186947</td>\n",
       "    </tr>\n",
       "    <tr>\n",
       "      <th>1</th>\n",
       "      <td>ERCC-00003</td>\n",
       "      <td>6735</td>\n",
       "      <td>5387</td>\n",
       "      <td>5265</td>\n",
       "      <td>13937</td>\n",
       "      <td>8584</td>\n",
       "      <td>8596</td>\n",
       "    </tr>\n",
       "    <tr>\n",
       "      <th>2</th>\n",
       "      <td>ERCC-00004</td>\n",
       "      <td>17673</td>\n",
       "      <td>13983</td>\n",
       "      <td>15462</td>\n",
       "      <td>5065</td>\n",
       "      <td>3222</td>\n",
       "      <td>3353</td>\n",
       "    </tr>\n",
       "    <tr>\n",
       "      <th>3</th>\n",
       "      <td>ERCC-00009</td>\n",
       "      <td>4669</td>\n",
       "      <td>4431</td>\n",
       "      <td>4211</td>\n",
       "      <td>6939</td>\n",
       "      <td>4155</td>\n",
       "      <td>3647</td>\n",
       "    </tr>\n",
       "    <tr>\n",
       "      <th>4</th>\n",
       "      <td>ERCC-00012</td>\n",
       "      <td>0</td>\n",
       "      <td>2</td>\n",
       "      <td>0</td>\n",
       "      <td>0</td>\n",
       "      <td>0</td>\n",
       "      <td>0</td>\n",
       "    </tr>\n",
       "  </tbody>\n",
       "</table>\n",
       "</div>"
      ],
      "text/plain": [
       "           id     A_1     A_2     A_3     B_1     B_2     B_3\n",
       "0  ERCC-00002  111461  106261  107547  333944  199252  186947\n",
       "1  ERCC-00003    6735    5387    5265   13937    8584    8596\n",
       "2  ERCC-00004   17673   13983   15462    5065    3222    3353\n",
       "3  ERCC-00009    4669    4431    4211    6939    4155    3647\n",
       "4  ERCC-00012       0       2       0       0       0       0"
      ]
     },
     "execution_count": 4,
     "metadata": {},
     "output_type": "execute_result"
    }
   ],
   "source": [
    "df = pd.read_table('../test/data/ercc.tsv')\n",
    "df.head()"
   ]
  },
  {
   "cell_type": "markdown",
   "metadata": {},
   "source": [
    "And here, we will create a design matrix based on the samples in the count table. Note that the sample name has to be used as the ```pd.DataFrame``` index"
   ]
  },
  {
   "cell_type": "code",
   "execution_count": 6,
   "metadata": {},
   "outputs": [
    {
     "data": {
      "text/html": [
       "<div>\n",
       "<style scoped>\n",
       "    .dataframe tbody tr th:only-of-type {\n",
       "        vertical-align: middle;\n",
       "    }\n",
       "\n",
       "    .dataframe tbody tr th {\n",
       "        vertical-align: top;\n",
       "    }\n",
       "\n",
       "    .dataframe thead th {\n",
       "        text-align: right;\n",
       "    }\n",
       "</style>\n",
       "<table border=\"1\" class=\"dataframe\">\n",
       "  <thead>\n",
       "    <tr style=\"text-align: right;\">\n",
       "      <th></th>\n",
       "      <th>samplename</th>\n",
       "      <th>sample</th>\n",
       "      <th>replicate</th>\n",
       "    </tr>\n",
       "    <tr>\n",
       "      <th>samplename</th>\n",
       "      <th></th>\n",
       "      <th></th>\n",
       "      <th></th>\n",
       "    </tr>\n",
       "  </thead>\n",
       "  <tbody>\n",
       "    <tr>\n",
       "      <th>A_1</th>\n",
       "      <td>A_1</td>\n",
       "      <td>A</td>\n",
       "      <td>1</td>\n",
       "    </tr>\n",
       "    <tr>\n",
       "      <th>A_2</th>\n",
       "      <td>A_2</td>\n",
       "      <td>A</td>\n",
       "      <td>2</td>\n",
       "    </tr>\n",
       "    <tr>\n",
       "      <th>A_3</th>\n",
       "      <td>A_3</td>\n",
       "      <td>A</td>\n",
       "      <td>3</td>\n",
       "    </tr>\n",
       "    <tr>\n",
       "      <th>B_1</th>\n",
       "      <td>B_1</td>\n",
       "      <td>B</td>\n",
       "      <td>1</td>\n",
       "    </tr>\n",
       "    <tr>\n",
       "      <th>B_2</th>\n",
       "      <td>B_2</td>\n",
       "      <td>B</td>\n",
       "      <td>2</td>\n",
       "    </tr>\n",
       "  </tbody>\n",
       "</table>\n",
       "</div>"
      ],
      "text/plain": [
       "           samplename sample replicate\n",
       "samplename                            \n",
       "A_1               A_1      A         1\n",
       "A_2               A_2      A         2\n",
       "A_3               A_3      A         3\n",
       "B_1               B_1      B         1\n",
       "B_2               B_2      B         2"
      ]
     },
     "execution_count": 6,
     "metadata": {},
     "output_type": "execute_result"
    }
   ],
   "source": [
    "sample_df = pd.DataFrame({'samplename': df.columns}) \\\n",
    "        .query('samplename != \"id\"')\\\n",
    "        .assign(sample = lambda d: d.samplename.str.extract('([AB])_', expand=False)) \\\n",
    "        .assign(replicate = lambda d: d.samplename.str.extract('_([123])', expand=False)) \n",
    "sample_df.index = sample_df.samplename\n",
    "sample_df.head()"
   ]
  },
  {
   "cell_type": "markdown",
   "metadata": {},
   "source": [
    "Running DESeq2 is jsut like how it is run in ```R```, but instead of the row.name being gene ID for the count table, we can jsut tell the function which column is the gene ID:"
   ]
  },
  {
   "cell_type": "code",
   "execution_count": 8,
   "metadata": {},
   "outputs": [
    {
     "name": "stderr",
     "output_type": "stream",
     "text": [
      "/Users/wckdouglas/miniconda3/lib/python3.6/site-packages/rpy2/rinterface/__init__.py:145: RRuntimeWarning: estimating size factors\n",
      "\n",
      "  warnings.warn(x, RRuntimeWarning)\n",
      "/Users/wckdouglas/miniconda3/lib/python3.6/site-packages/rpy2/rinterface/__init__.py:145: RRuntimeWarning: estimating dispersions\n",
      "\n",
      "  warnings.warn(x, RRuntimeWarning)\n",
      "/Users/wckdouglas/miniconda3/lib/python3.6/site-packages/rpy2/rinterface/__init__.py:145: RRuntimeWarning: gene-wise dispersion estimates\n",
      "\n",
      "  warnings.warn(x, RRuntimeWarning)\n",
      "/Users/wckdouglas/miniconda3/lib/python3.6/site-packages/rpy2/rinterface/__init__.py:145: RRuntimeWarning: mean-dispersion relationship\n",
      "\n",
      "  warnings.warn(x, RRuntimeWarning)\n",
      "/Users/wckdouglas/miniconda3/lib/python3.6/site-packages/rpy2/rinterface/__init__.py:145: RRuntimeWarning: final dispersion estimates\n",
      "\n",
      "  warnings.warn(x, RRuntimeWarning)\n",
      "/Users/wckdouglas/miniconda3/lib/python3.6/site-packages/rpy2/rinterface/__init__.py:145: RRuntimeWarning: fitting model and testing\n",
      "\n",
      "  warnings.warn(x, RRuntimeWarning)\n"
     ]
    },
    {
     "data": {
      "text/html": [
       "<div>\n",
       "<style scoped>\n",
       "    .dataframe tbody tr th:only-of-type {\n",
       "        vertical-align: middle;\n",
       "    }\n",
       "\n",
       "    .dataframe tbody tr th {\n",
       "        vertical-align: top;\n",
       "    }\n",
       "\n",
       "    .dataframe thead th {\n",
       "        text-align: right;\n",
       "    }\n",
       "</style>\n",
       "<table border=\"1\" class=\"dataframe\">\n",
       "  <thead>\n",
       "    <tr style=\"text-align: right;\">\n",
       "      <th></th>\n",
       "      <th>baseMean</th>\n",
       "      <th>log2FoldChange</th>\n",
       "      <th>lfcSE</th>\n",
       "      <th>stat</th>\n",
       "      <th>pvalue</th>\n",
       "      <th>padj</th>\n",
       "      <th>id</th>\n",
       "    </tr>\n",
       "  </thead>\n",
       "  <tbody>\n",
       "    <tr>\n",
       "      <th>0</th>\n",
       "      <td>167917.342729</td>\n",
       "      <td>0.807649</td>\n",
       "      <td>0.051993</td>\n",
       "      <td>15.533875</td>\n",
       "      <td>2.046331e-54</td>\n",
       "      <td>2.046331e-53</td>\n",
       "      <td>ERCC-00002</td>\n",
       "    </tr>\n",
       "    <tr>\n",
       "      <th>1</th>\n",
       "      <td>7902.634073</td>\n",
       "      <td>0.521388</td>\n",
       "      <td>0.062290</td>\n",
       "      <td>8.370336</td>\n",
       "      <td>5.745424e-17</td>\n",
       "      <td>3.283100e-16</td>\n",
       "      <td>ERCC-00003</td>\n",
       "    </tr>\n",
       "    <tr>\n",
       "      <th>2</th>\n",
       "      <td>10567.048228</td>\n",
       "      <td>-2.329519</td>\n",
       "      <td>0.074693</td>\n",
       "      <td>-31.187762</td>\n",
       "      <td>1.561303e-213</td>\n",
       "      <td>3.122606e-212</td>\n",
       "      <td>ERCC-00004</td>\n",
       "    </tr>\n",
       "    <tr>\n",
       "      <th>3</th>\n",
       "      <td>4672.573043</td>\n",
       "      <td>-0.194859</td>\n",
       "      <td>0.053849</td>\n",
       "      <td>-3.618595</td>\n",
       "      <td>2.962069e-04</td>\n",
       "      <td>6.969575e-04</td>\n",
       "      <td>ERCC-00009</td>\n",
       "    </tr>\n",
       "    <tr>\n",
       "      <th>4</th>\n",
       "      <td>0.384257</td>\n",
       "      <td>-2.175395</td>\n",
       "      <td>4.035226</td>\n",
       "      <td>-0.539101</td>\n",
       "      <td>5.898171e-01</td>\n",
       "      <td>NaN</td>\n",
       "      <td>ERCC-00012</td>\n",
       "    </tr>\n",
       "  </tbody>\n",
       "</table>\n",
       "</div>"
      ],
      "text/plain": [
       "        baseMean  log2FoldChange     lfcSE       stat         pvalue  \\\n",
       "0  167917.342729        0.807649  0.051993  15.533875   2.046331e-54   \n",
       "1    7902.634073        0.521388  0.062290   8.370336   5.745424e-17   \n",
       "2   10567.048228       -2.329519  0.074693 -31.187762  1.561303e-213   \n",
       "3    4672.573043       -0.194859  0.053849  -3.618595   2.962069e-04   \n",
       "4       0.384257       -2.175395  4.035226  -0.539101   5.898171e-01   \n",
       "\n",
       "            padj          id  \n",
       "0   2.046331e-53  ERCC-00002  \n",
       "1   3.283100e-16  ERCC-00003  \n",
       "2  3.122606e-212  ERCC-00004  \n",
       "3   6.969575e-04  ERCC-00009  \n",
       "4            NaN  ERCC-00012  "
      ]
     },
     "execution_count": 8,
     "metadata": {},
     "output_type": "execute_result"
    }
   ],
   "source": [
    "from diffexp.py_deseq import py_DESeq2\n",
    "\n",
    "dds = py_DESeq2(count_matrix = df,\n",
    "               design_matrix = sample_df,\n",
    "               design_formula = '~ sample',\n",
    "               gene_column = 'id') # <- telling DESeq2 this should be the gene ID column\n",
    "    \n",
    "dds.run_deseq() \n",
    "dds.get_deseq_result()\n",
    "res = dds.deseq_result \n",
    "res.head()"
   ]
  },
  {
   "cell_type": "code",
   "execution_count": 14,
   "metadata": {},
   "outputs": [
    {
     "name": "stderr",
     "output_type": "stream",
     "text": [
      "/Users/wckdouglas/miniconda3/lib/python3.6/site-packages/ipykernel_launcher.py:2: RuntimeWarning: divide by zero encountered in log2\n",
      "  \n",
      "/Users/wckdouglas/miniconda3/lib/python3.6/site-packages/ipykernel_launcher.py:2: RuntimeWarning: invalid value encountered in log2\n",
      "  \n"
     ]
    },
    {
     "data": {
      "text/plain": [
       "<matplotlib.collections.PathCollection at 0x1225be5f8>"
      ]
     },
     "execution_count": 14,
     "metadata": {},
     "output_type": "execute_result"
    },
    {
     "data": {
      "image/png": "[encoded data removed]",
      "text/plain": [
       "<matplotlib.figure.Figure at 0x122567198>"
      ]
     },
     "metadata": {},
     "output_type": "display_data"
    }
   ],
   "source": [
    "import matplotlib.pyplot as plt\n",
    "plt.scatter(res.log2FoldChange, -np.log2(res.padj))"
   ]
  }
 ],
 "metadata": {
  "kernelspec": {
   "display_name": "Python 3",
   "language": "python",
   "name": "python3"
  },
  "language_info": {
   "codemirror_mode": {
    "name": "ipython",
    "version": 3
   },
   "file_extension": ".py",
   "mimetype": "text/x-python",
   "name": "python",
   "nbconvert_exporter": "python",
   "pygments_lexer": "ipython3",
   "version": "3.6.5"
  }
 },
 "nbformat": 4,
 "nbformat_minor": 2
}
