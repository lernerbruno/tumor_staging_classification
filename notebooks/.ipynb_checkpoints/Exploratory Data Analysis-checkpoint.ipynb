{
 "cells": [
  {
   "cell_type": "code",
   "execution_count": 3,
   "metadata": {},
   "outputs": [],
   "source": [
    "import pandas as pd\n",
    "import numpy as np"
   ]
  },
  {
   "cell_type": "markdown",
   "metadata": {},
   "source": [
    "### Helper functions"
   ]
  },
  {
   "cell_type": "code",
   "execution_count": 4,
   "metadata": {},
   "outputs": [],
   "source": [
    "def display_group_density_plot(df, groupby, on, palette, figsize):\n",
    "    \"\"\"\n",
    "    Displays a density plot by group, given a continuous variable, and a group to split the data by\n",
    "    :param df: DataFrame to display data from\n",
    "    :param groupby: Column name by which plots would be grouped (Categorical, maximum 10 categories)\n",
    "    :param on: Column name of the different density plots\n",
    "    :param palette: Color palette to use for drawing\n",
    "    :param figsize: Figure size\n",
    "    :return: matplotlib.axes._subplots.AxesSubplot object\n",
    "    \"\"\"\n",
    "\n",
    "    if not isinstance(df, pd.core.frame.DataFrame):\n",
    "        raise ValueError('df must be a pandas DataFrame')\n",
    "\n",
    "    if not groupby:\n",
    "        raise ValueError('groupby parameter must be provided')\n",
    "\n",
    "    elif not groupby in df.keys():\n",
    "        raise ValueError(groupby + ' column does not exist in the given DataFrame')\n",
    "\n",
    "    if not on:\n",
    "        raise ValueError('on parameter must be provided')\n",
    "\n",
    "    elif not on in df.keys():\n",
    "        raise ValueError(on + ' column does not exist in the given DataFrame')\n",
    "\n",
    "    if len(set(df[groupby])) > 10:\n",
    "        groups = df[groupby].value_counts().index[:10]\n",
    "\n",
    "    else:\n",
    "        groups = set(df[groupby])\n",
    "\n",
    "    # Get relevant palette\n",
    "    if palette:\n",
    "        palette = palette[:len(groups)]\n",
    "    else:\n",
    "        palette = sns.color_palette()[:len(groups)]\n",
    "\n",
    "    # Plot\n",
    "    fig = plt.figure(figsize=figsize)\n",
    "    ax = fig.add_subplot(111)\n",
    "    ax.legend(bbox_to_anchor=(1.04, 1), loc='upper left')\n",
    "\n",
    "    for value, color in zip(groups, palette):\n",
    "        sns.kdeplot(df.loc[df[groupby] == value][on], \\\n",
    "                    shade=True, color=color, label=value)\n",
    "\n",
    "    ax.set_title(str(\"Distribution of \" + on + \" per \" + groupby + \" group\"),\\\n",
    "                 fontsize=30)\n",
    "    \n",
    "    ax.set_xlabel(on, fontsize=20)\n",
    "    return ax "
   ]
  },
  {
   "cell_type": "markdown",
   "metadata": {},
   "source": [
    "## Looking at some genes data"
   ]
  },
  {
   "cell_type": "code",
   "execution_count": null,
   "metadata": {},
   "outputs": [],
   "source": [
    "display_group_density_plot(groupby = 'tumor_stage', \\\n",
    "                           on = 'ENSG00000000971.14', \\\n",
    "                           df = df, \\\n",
    "                           figsize = (15, 6), \\\n",
    "                           palette = sns.color_palette('Set1'));"
   ]
  },
  {
   "cell_type": "code",
   "execution_count": null,
   "metadata": {},
   "outputs": [],
   "source": []
  },
  {
   "cell_type": "markdown",
   "metadata": {},
   "source": [
    "### Genes correlation\n",
    "\n",
    "In order to do that, I will seperate the columns into chunks. Because my computer is not strong enough, I will do it on incongruent subsets for now:"
   ]
  },
  {
   "cell_type": "code",
   "execution_count": null,
   "metadata": {},
   "outputs": [],
   "source": [
    "corr_to_remove = []\n",
    "for i in tqdm(range(0, len(genes.columns), 1000)):\n",
    "    subset = genes.iloc[:, i:i + 1000]\n",
    "    corr_mat = subset.corr()\n",
    "    indices = np.where((corr_mat > 0.8) | (corr_mat < -0.8))\n",
    "    to_remove = [corr_mat.index[x] for x, y in zip(*indices) if x != y and x < y]\n",
    "    corr_to_remove.extend(to_remove)"
   ]
  },
  {
   "cell_type": "code",
   "execution_count": null,
   "metadata": {},
   "outputs": [],
   "source": [
    "corr_to_remove = set(corr_to_remove)\n",
    "len(corr_to_remove)"
   ]
  },
  {
   "cell_type": "code",
   "execution_count": null,
   "metadata": {},
   "outputs": [],
   "source": [
    "df = df.drop(columns=corr_to_remove)"
   ]
  },
  {
   "cell_type": "markdown",
   "metadata": {},
   "source": [
    "## Looking at clinical data"
   ]
  },
  {
   "cell_type": "code",
   "execution_count": null,
   "metadata": {},
   "outputs": [],
   "source": [
    "sns.set(style=\"darkgrid\")\n",
    "\n",
    "ax = sns.countplot(x = df.tumor_stage, data=df)\n",
    "plt.xticks(rotation=90)\n",
    "plt.show()\n",
    "\n",
    "cat_vars = ['morphology','prior_malignancy',  'site_of_resection_or_biopsy', 'primary_diagnosis', \\\n",
    "            'prior_treatment', 'tissue_or_organ_of_origin', 'race', 'ethnicity']\n",
    "for cat_vat in cat_vars:\n",
    "    ax = sns.countplot(x = df.tumor_stage,  hue = df[cat_vat], data=df)\n",
    "    plt.xticks(rotation=90)\n",
    "    plt.show()"
   ]
  },
  {
   "cell_type": "code",
   "execution_count": null,
   "metadata": {},
   "outputs": [],
   "source": [
    "plt.scatter(clinical['prior_malignancy'], clinical['tumor_stage'])"
   ]
  },
  {
   "cell_type": "code",
   "execution_count": null,
   "metadata": {},
   "outputs": [],
   "source": [
    "plt.scatter(clinical['site_of_resection_or_biopsy'], clinical['tumor_stage'])\n"
   ]
  },
  {
   "cell_type": "code",
   "execution_count": null,
   "metadata": {},
   "outputs": [],
   "source": [
    "plt.scatter(clinical['icd_10_code'], clinical['tumor_stage'])"
   ]
  },
  {
   "cell_type": "code",
   "execution_count": null,
   "metadata": {},
   "outputs": [],
   "source": []
  },
  {
   "cell_type": "code",
   "execution_count": null,
   "metadata": {},
   "outputs": [],
   "source": []
  },
  {
   "cell_type": "code",
   "execution_count": null,
   "metadata": {},
   "outputs": [],
   "source": [
    "sns.stripplot(x=\"SaleCondition\", y=\"SalePrice\", \\\n",
    "              data=df_house.dropna(subset=[\"SaleCondition\"]), \\\n",
    "              alpha = 0.3, jitter=False);\n",
    "plt.title('Sale Price distribution by SaleCondition')\n",
    "\n",
    "plt.show()\n",
    "\n",
    "sns.stripplot(x=\"SaleCondition\", y=\"SalePrice\", \\\n",
    "              data=df_house.dropna(subset=[\"SaleCondition\"]), \\\n",
    "              alpha = 0.3, jitter=True);\n",
    "plt.title('Sale Price distribution by SaleCondition')\n",
    "plt.show()\n"
   ]
  }
 ],
 "metadata": {
  "kernelspec": {
   "display_name": "Python 3",
   "language": "python",
   "name": "python3"
  },
  "language_info": {
   "codemirror_mode": {
    "name": "ipython",
    "version": 3
   },
   "file_extension": ".py",
   "mimetype": "text/x-python",
   "name": "python",
   "nbconvert_exporter": "python",
   "pygments_lexer": "ipython3",
   "version": "3.7.3"
  }
 },
 "nbformat": 4,
 "nbformat_minor": 2
}
