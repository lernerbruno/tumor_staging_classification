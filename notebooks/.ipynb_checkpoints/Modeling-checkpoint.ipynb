{
 "cells": [
  {
   "cell_type": "code",
   "execution_count": 219,
   "metadata": {},
   "outputs": [],
   "source": [
    "import pandas as pd\n",
    "import numpy as np\n",
    "import matplotlib.pyplot as plt\n",
    "from sklearn import preprocessing\n",
    "import seaborn as sns\n",
    "from sklearn.ensemble import RandomForestClassifier\n",
    "from sklearn.model_selection import train_test_split\n",
    "from sklearn import preprocessing\n",
    "from sklearn.metrics import confusion_matrix, auc, roc_curve, average_precision_score, roc_auc_score, precision_recall_curve\n",
    "from sklearn.linear_model import LogisticRegression\n",
    "from sklearn.utils import class_weight\n",
    "\n",
    "sns.set()"
   ]
  },
  {
   "cell_type": "markdown",
   "metadata": {},
   "source": [
    "# Helper functions"
   ]
  },
  {
   "cell_type": "code",
   "execution_count": 220,
   "metadata": {},
   "outputs": [],
   "source": [
    "def plot_confusion_matrix(y_true, y_pred,\n",
    "                          normalize=False,\n",
    "                          title=None,\n",
    "                          cmap=plt.cm.Blues):\n",
    "\n",
    "    # Compute confusion matrix\n",
    "    cm = confusion_matrix(y_true, y_pred)\n",
    "    \n",
    "    # Get accuracy\n",
    "    right = np.diagonal(cm).sum()\n",
    "    acc = float(right)/cm.sum()\n",
    "    print(\"Accuracy is {} %\".format(acc*100))\n",
    "    tpr = float(cm[1,1])/cm[1,:].sum()\n",
    "    fpr = float(cm[0,1])/cm[0,:].sum()\n",
    "    precision = float(cm[1,1])/cm[:,1].sum()\n",
    "    \n",
    "    fig, ax = plt.subplots()\n",
    "    im = ax.imshow(cm, interpolation='nearest', cmap=cmap)\n",
    "    ax.figure.colorbar(im, ax=ax)\n",
    "    # We want to show all ticks...\n",
    "    ax.set(xticks=np.arange(cm.shape[1]),\n",
    "           yticks=np.arange(cm.shape[0]),\n",
    "           # ... and label them with the respective list entries\n",
    "           title=title,\n",
    "           ylabel='True label',\n",
    "           xlabel='Predicted label')\n",
    "\n",
    "    # Rotate the tick labels and set their alignment.\n",
    "    plt.setp(ax.get_xticklabels(), rotation=45, ha=\"right\",\n",
    "             rotation_mode=\"anchor\")\n",
    "\n",
    "    # Loop over data dimensions and create text annotations.\n",
    "    fmt = '.2f' if normalize else 'd'\n",
    "    thresh = cm.max() / 2.\n",
    "    for i in range(cm.shape[0]):\n",
    "        for j in range(cm.shape[1]):\n",
    "            ax.text(j, i, format(cm[i, j], fmt),\n",
    "                    ha=\"center\", va=\"center\",\n",
    "                    color=\"white\" if cm[i, j] > thresh else \"black\")\n",
    "    fig.tight_layout()\n",
    "    return acc, tpr, fpr, precision"
   ]
  },
  {
   "cell_type": "markdown",
   "metadata": {},
   "source": [
    "# Data preprocessing"
   ]
  },
  {
   "cell_type": "markdown",
   "metadata": {},
   "source": [
    "### Removing unnecessary columns"
   ]
  },
  {
   "cell_type": "code",
   "execution_count": null,
   "metadata": {},
   "outputs": [],
   "source": [
    "clinical = clinical.drop(columns=['Unnamed: 0', 'file_name', 'case_id'])"
   ]
  },
  {
   "cell_type": "markdown",
   "metadata": {},
   "source": [
    "Remove the ones with `nunique` = 1 or 0"
   ]
  },
  {
   "cell_type": "code",
   "execution_count": 224,
   "metadata": {
    "scrolled": true
   },
   "outputs": [],
   "source": [
    "feature_uniques = clinical.nunique()"
   ]
  },
  {
   "cell_type": "code",
   "execution_count": 225,
   "metadata": {
    "scrolled": true
   },
   "outputs": [],
   "source": [
    "to_drop = feature_uniques[(feature_uniques == 1) | (feature_uniques == 0)].index\n",
    "clinical = clinical.drop(columns=to_drop)"
   ]
  },
  {
   "cell_type": "markdown",
   "metadata": {},
   "source": [
    "Look for id's and remove them"
   ]
  },
  {
   "cell_type": "code",
   "execution_count": 226,
   "metadata": {},
   "outputs": [],
   "source": [
    "feature_uniques = clinical.nunique()\n",
    "to_drop = feature_uniques[feature_uniques==len(clinical)].index\n",
    "\n",
    "clinical = clinical.drop(columns=to_drop)"
   ]
  },
  {
   "cell_type": "code",
   "execution_count": 227,
   "metadata": {},
   "outputs": [],
   "source": [
    "clinical = clinical.drop(columns=['updated_datetime'])"
   ]
  },
  {
   "cell_type": "code",
   "execution_count": null,
   "metadata": {},
   "outputs": [],
   "source": []
  },
  {
   "cell_type": "code",
   "execution_count": null,
   "metadata": {},
   "outputs": [],
   "source": []
  },
  {
   "cell_type": "code",
   "execution_count": null,
   "metadata": {},
   "outputs": [],
   "source": []
  },
  {
   "cell_type": "markdown",
   "metadata": {},
   "source": [
    "# Modeling"
   ]
  },
  {
   "cell_type": "code",
   "execution_count": 221,
   "metadata": {},
   "outputs": [
    {
     "data": {
      "text/html": [
       "<div>\n",
       "<style scoped>\n",
       "    .dataframe tbody tr th:only-of-type {\n",
       "        vertical-align: middle;\n",
       "    }\n",
       "\n",
       "    .dataframe tbody tr th {\n",
       "        vertical-align: top;\n",
       "    }\n",
       "\n",
       "    .dataframe thead th {\n",
       "        text-align: right;\n",
       "    }\n",
       "</style>\n",
       "<table border=\"1\" class=\"dataframe\">\n",
       "  <thead>\n",
       "    <tr style=\"text-align: right;\">\n",
       "      <th></th>\n",
       "      <th>Unnamed: 0</th>\n",
       "      <th>file_name</th>\n",
       "      <th>case_id</th>\n",
       "      <th>year_of_diagnosis</th>\n",
       "      <th>classification_of_tumor</th>\n",
       "      <th>last_known_disease_status</th>\n",
       "      <th>updated_datetime</th>\n",
       "      <th>primary_diagnosis</th>\n",
       "      <th>submitter_id</th>\n",
       "      <th>tumor_stage</th>\n",
       "      <th>...</th>\n",
       "      <th>ENSGR0000275287.3</th>\n",
       "      <th>ENSGR0000276543.3</th>\n",
       "      <th>ENSGR0000277120.3</th>\n",
       "      <th>ENSGR0000280767.1</th>\n",
       "      <th>ENSGR0000281849.1</th>\n",
       "      <th>__alignment_not_unique</th>\n",
       "      <th>__ambiguous</th>\n",
       "      <th>__no_feature</th>\n",
       "      <th>__not_aligned</th>\n",
       "      <th>__too_low_aQual</th>\n",
       "    </tr>\n",
       "  </thead>\n",
       "  <tbody>\n",
       "    <tr>\n",
       "      <th>0</th>\n",
       "      <td>0</td>\n",
       "      <td>2b5c518f-8327-478a-a282-01bfe59aca4c.htseq.cou...</td>\n",
       "      <td>4d0fec97-e024-4608-a0cc-426a3decc7b1</td>\n",
       "      <td>2007.0</td>\n",
       "      <td>not reported</td>\n",
       "      <td>not reported</td>\n",
       "      <td>2019-04-28T13:50:16.849041-05:00</td>\n",
       "      <td>Infiltrating duct carcinoma, NOS</td>\n",
       "      <td>TCGA-AR-A252_exposure</td>\n",
       "      <td>stage i</td>\n",
       "      <td>...</td>\n",
       "      <td>0.0</td>\n",
       "      <td>0.0</td>\n",
       "      <td>0.0</td>\n",
       "      <td>0.0</td>\n",
       "      <td>0.0</td>\n",
       "      <td>33323894.0</td>\n",
       "      <td>3232629.0</td>\n",
       "      <td>5808920.0</td>\n",
       "      <td>0.0</td>\n",
       "      <td>0.0</td>\n",
       "    </tr>\n",
       "    <tr>\n",
       "      <th>1</th>\n",
       "      <td>1</td>\n",
       "      <td>64262505-9f17-4989-94c9-fc6db56ca676.htseq.cou...</td>\n",
       "      <td>bb8d42d3-ad65-4d88-ae1d-f9aadfc7962d</td>\n",
       "      <td>2010.0</td>\n",
       "      <td>not reported</td>\n",
       "      <td>not reported</td>\n",
       "      <td>2019-04-28T13:39:49.010685-05:00</td>\n",
       "      <td>Lobular carcinoma, NOS</td>\n",
       "      <td>TCGA-AO-A1KS_exposure</td>\n",
       "      <td>stage iia</td>\n",
       "      <td>...</td>\n",
       "      <td>0.0</td>\n",
       "      <td>0.0</td>\n",
       "      <td>0.0</td>\n",
       "      <td>0.0</td>\n",
       "      <td>0.0</td>\n",
       "      <td>19183901.0</td>\n",
       "      <td>2673271.0</td>\n",
       "      <td>6146344.0</td>\n",
       "      <td>0.0</td>\n",
       "      <td>0.0</td>\n",
       "    </tr>\n",
       "    <tr>\n",
       "      <th>2</th>\n",
       "      <td>2</td>\n",
       "      <td>f5d3e683-9177-45fc-93e3-357bf7366ac4.htseq.cou...</td>\n",
       "      <td>c694615c-b1c6-499c-8058-995633ebf948</td>\n",
       "      <td>2011.0</td>\n",
       "      <td>not reported</td>\n",
       "      <td>not reported</td>\n",
       "      <td>2019-04-28T14:03:35.530385-05:00</td>\n",
       "      <td>Infiltrating duct carcinoma, NOS</td>\n",
       "      <td>TCGA-E9-A1RF_exposure</td>\n",
       "      <td>stage iiia</td>\n",
       "      <td>...</td>\n",
       "      <td>0.0</td>\n",
       "      <td>0.0</td>\n",
       "      <td>0.0</td>\n",
       "      <td>0.0</td>\n",
       "      <td>0.0</td>\n",
       "      <td>23874394.0</td>\n",
       "      <td>2400693.0</td>\n",
       "      <td>5278313.0</td>\n",
       "      <td>0.0</td>\n",
       "      <td>0.0</td>\n",
       "    </tr>\n",
       "    <tr>\n",
       "      <th>3</th>\n",
       "      <td>3</td>\n",
       "      <td>94bedc10-62c2-4bd2-bad9-0ec08c9bf5e9.htseq.cou...</td>\n",
       "      <td>c694615c-b1c6-499c-8058-995633ebf948</td>\n",
       "      <td>2011.0</td>\n",
       "      <td>not reported</td>\n",
       "      <td>not reported</td>\n",
       "      <td>2019-04-28T14:03:35.530385-05:00</td>\n",
       "      <td>Infiltrating duct carcinoma, NOS</td>\n",
       "      <td>TCGA-E9-A1RF_exposure</td>\n",
       "      <td>stage iiia</td>\n",
       "      <td>...</td>\n",
       "      <td>0.0</td>\n",
       "      <td>0.0</td>\n",
       "      <td>0.0</td>\n",
       "      <td>0.0</td>\n",
       "      <td>0.0</td>\n",
       "      <td>21737695.0</td>\n",
       "      <td>3123055.0</td>\n",
       "      <td>5182286.0</td>\n",
       "      <td>0.0</td>\n",
       "      <td>0.0</td>\n",
       "    </tr>\n",
       "    <tr>\n",
       "      <th>4</th>\n",
       "      <td>4</td>\n",
       "      <td>6999d309-8502-49ee-8d80-9d0bde00081f.htseq.cou...</td>\n",
       "      <td>1285eb55-415c-494a-aa58-936f0427cdd0</td>\n",
       "      <td>2009.0</td>\n",
       "      <td>not reported</td>\n",
       "      <td>not reported</td>\n",
       "      <td>2019-04-28T13:44:01.412721-05:00</td>\n",
       "      <td>Infiltrating duct carcinoma, NOS</td>\n",
       "      <td>TCGA-V7-A7HQ_exposure</td>\n",
       "      <td>stage iiia</td>\n",
       "      <td>...</td>\n",
       "      <td>0.0</td>\n",
       "      <td>0.0</td>\n",
       "      <td>0.0</td>\n",
       "      <td>0.0</td>\n",
       "      <td>0.0</td>\n",
       "      <td>20631886.0</td>\n",
       "      <td>2996831.0</td>\n",
       "      <td>2104393.0</td>\n",
       "      <td>0.0</td>\n",
       "      <td>0.0</td>\n",
       "    </tr>\n",
       "  </tbody>\n",
       "</table>\n",
       "<p>5 rows × 60533 columns</p>\n",
       "</div>"
      ],
      "text/plain": [
       "   Unnamed: 0                                          file_name  \\\n",
       "0           0  2b5c518f-8327-478a-a282-01bfe59aca4c.htseq.cou...   \n",
       "1           1  64262505-9f17-4989-94c9-fc6db56ca676.htseq.cou...   \n",
       "2           2  f5d3e683-9177-45fc-93e3-357bf7366ac4.htseq.cou...   \n",
       "3           3  94bedc10-62c2-4bd2-bad9-0ec08c9bf5e9.htseq.cou...   \n",
       "4           4  6999d309-8502-49ee-8d80-9d0bde00081f.htseq.cou...   \n",
       "\n",
       "                                case_id  year_of_diagnosis  \\\n",
       "0  4d0fec97-e024-4608-a0cc-426a3decc7b1             2007.0   \n",
       "1  bb8d42d3-ad65-4d88-ae1d-f9aadfc7962d             2010.0   \n",
       "2  c694615c-b1c6-499c-8058-995633ebf948             2011.0   \n",
       "3  c694615c-b1c6-499c-8058-995633ebf948             2011.0   \n",
       "4  1285eb55-415c-494a-aa58-936f0427cdd0             2009.0   \n",
       "\n",
       "  classification_of_tumor last_known_disease_status  \\\n",
       "0            not reported              not reported   \n",
       "1            not reported              not reported   \n",
       "2            not reported              not reported   \n",
       "3            not reported              not reported   \n",
       "4            not reported              not reported   \n",
       "\n",
       "                   updated_datetime                 primary_diagnosis  \\\n",
       "0  2019-04-28T13:50:16.849041-05:00  Infiltrating duct carcinoma, NOS   \n",
       "1  2019-04-28T13:39:49.010685-05:00            Lobular carcinoma, NOS   \n",
       "2  2019-04-28T14:03:35.530385-05:00  Infiltrating duct carcinoma, NOS   \n",
       "3  2019-04-28T14:03:35.530385-05:00  Infiltrating duct carcinoma, NOS   \n",
       "4  2019-04-28T13:44:01.412721-05:00  Infiltrating duct carcinoma, NOS   \n",
       "\n",
       "            submitter_id tumor_stage  ...  ENSGR0000275287.3  \\\n",
       "0  TCGA-AR-A252_exposure     stage i  ...                0.0   \n",
       "1  TCGA-AO-A1KS_exposure   stage iia  ...                0.0   \n",
       "2  TCGA-E9-A1RF_exposure  stage iiia  ...                0.0   \n",
       "3  TCGA-E9-A1RF_exposure  stage iiia  ...                0.0   \n",
       "4  TCGA-V7-A7HQ_exposure  stage iiia  ...                0.0   \n",
       "\n",
       "  ENSGR0000276543.3  ENSGR0000277120.3  ENSGR0000280767.1 ENSGR0000281849.1  \\\n",
       "0               0.0                0.0                0.0               0.0   \n",
       "1               0.0                0.0                0.0               0.0   \n",
       "2               0.0                0.0                0.0               0.0   \n",
       "3               0.0                0.0                0.0               0.0   \n",
       "4               0.0                0.0                0.0               0.0   \n",
       "\n",
       "  __alignment_not_unique  __ambiguous __no_feature __not_aligned  \\\n",
       "0             33323894.0    3232629.0    5808920.0           0.0   \n",
       "1             19183901.0    2673271.0    6146344.0           0.0   \n",
       "2             23874394.0    2400693.0    5278313.0           0.0   \n",
       "3             21737695.0    3123055.0    5182286.0           0.0   \n",
       "4             20631886.0    2996831.0    2104393.0           0.0   \n",
       "\n",
       "  __too_low_aQual  \n",
       "0             0.0  \n",
       "1             0.0  \n",
       "2             0.0  \n",
       "3             0.0  \n",
       "4             0.0  \n",
       "\n",
       "[5 rows x 60533 columns]"
      ]
     },
     "execution_count": 221,
     "metadata": {},
     "output_type": "execute_result"
    }
   ],
   "source": [
    "df = pd.read_csv('breast_cancer_gens_clinical.csv')\n",
    "df.head()"
   ]
  },
  {
   "cell_type": "markdown",
   "metadata": {},
   "source": [
    "Getting only the clinical info"
   ]
  },
  {
   "cell_type": "code",
   "execution_count": 222,
   "metadata": {
    "scrolled": true
   },
   "outputs": [
    {
     "data": {
      "text/html": [
       "<div>\n",
       "<style scoped>\n",
       "    .dataframe tbody tr th:only-of-type {\n",
       "        vertical-align: middle;\n",
       "    }\n",
       "\n",
       "    .dataframe tbody tr th {\n",
       "        vertical-align: top;\n",
       "    }\n",
       "\n",
       "    .dataframe thead th {\n",
       "        text-align: right;\n",
       "    }\n",
       "</style>\n",
       "<table border=\"1\" class=\"dataframe\">\n",
       "  <thead>\n",
       "    <tr style=\"text-align: right;\">\n",
       "      <th></th>\n",
       "      <th>Unnamed: 0</th>\n",
       "      <th>file_name</th>\n",
       "      <th>case_id</th>\n",
       "      <th>year_of_diagnosis</th>\n",
       "      <th>classification_of_tumor</th>\n",
       "      <th>last_known_disease_status</th>\n",
       "      <th>updated_datetime</th>\n",
       "      <th>primary_diagnosis</th>\n",
       "      <th>submitter_id</th>\n",
       "      <th>tumor_stage</th>\n",
       "      <th>...</th>\n",
       "      <th>alcohol_intensity</th>\n",
       "      <th>bmi</th>\n",
       "      <th>years_smoked</th>\n",
       "      <th>exposure_id</th>\n",
       "      <th>height</th>\n",
       "      <th>__alignment_not_unique</th>\n",
       "      <th>__ambiguous</th>\n",
       "      <th>__no_feature</th>\n",
       "      <th>__not_aligned</th>\n",
       "      <th>__too_low_aQual</th>\n",
       "    </tr>\n",
       "  </thead>\n",
       "  <tbody>\n",
       "    <tr>\n",
       "      <th>0</th>\n",
       "      <td>0</td>\n",
       "      <td>2b5c518f-8327-478a-a282-01bfe59aca4c.htseq.cou...</td>\n",
       "      <td>4d0fec97-e024-4608-a0cc-426a3decc7b1</td>\n",
       "      <td>2007.0</td>\n",
       "      <td>not reported</td>\n",
       "      <td>not reported</td>\n",
       "      <td>2019-04-28T13:50:16.849041-05:00</td>\n",
       "      <td>Infiltrating duct carcinoma, NOS</td>\n",
       "      <td>TCGA-AR-A252_exposure</td>\n",
       "      <td>stage i</td>\n",
       "      <td>...</td>\n",
       "      <td>NaN</td>\n",
       "      <td>NaN</td>\n",
       "      <td>NaN</td>\n",
       "      <td>f6e4e643-657e-57a3-9c66-4c8560d10395</td>\n",
       "      <td>NaN</td>\n",
       "      <td>33323894.0</td>\n",
       "      <td>3232629.0</td>\n",
       "      <td>5808920.0</td>\n",
       "      <td>0.0</td>\n",
       "      <td>0.0</td>\n",
       "    </tr>\n",
       "    <tr>\n",
       "      <th>1</th>\n",
       "      <td>1</td>\n",
       "      <td>64262505-9f17-4989-94c9-fc6db56ca676.htseq.cou...</td>\n",
       "      <td>bb8d42d3-ad65-4d88-ae1d-f9aadfc7962d</td>\n",
       "      <td>2010.0</td>\n",
       "      <td>not reported</td>\n",
       "      <td>not reported</td>\n",
       "      <td>2019-04-28T13:39:49.010685-05:00</td>\n",
       "      <td>Lobular carcinoma, NOS</td>\n",
       "      <td>TCGA-AO-A1KS_exposure</td>\n",
       "      <td>stage iia</td>\n",
       "      <td>...</td>\n",
       "      <td>NaN</td>\n",
       "      <td>NaN</td>\n",
       "      <td>NaN</td>\n",
       "      <td>9543b2f1-c629-530f-a639-720d6eca159f</td>\n",
       "      <td>NaN</td>\n",
       "      <td>19183901.0</td>\n",
       "      <td>2673271.0</td>\n",
       "      <td>6146344.0</td>\n",
       "      <td>0.0</td>\n",
       "      <td>0.0</td>\n",
       "    </tr>\n",
       "    <tr>\n",
       "      <th>2</th>\n",
       "      <td>2</td>\n",
       "      <td>f5d3e683-9177-45fc-93e3-357bf7366ac4.htseq.cou...</td>\n",
       "      <td>c694615c-b1c6-499c-8058-995633ebf948</td>\n",
       "      <td>2011.0</td>\n",
       "      <td>not reported</td>\n",
       "      <td>not reported</td>\n",
       "      <td>2019-04-28T14:03:35.530385-05:00</td>\n",
       "      <td>Infiltrating duct carcinoma, NOS</td>\n",
       "      <td>TCGA-E9-A1RF_exposure</td>\n",
       "      <td>stage iiia</td>\n",
       "      <td>...</td>\n",
       "      <td>NaN</td>\n",
       "      <td>NaN</td>\n",
       "      <td>NaN</td>\n",
       "      <td>07f30986-78af-5047-bbec-b3c3fd62aab0</td>\n",
       "      <td>NaN</td>\n",
       "      <td>23874394.0</td>\n",
       "      <td>2400693.0</td>\n",
       "      <td>5278313.0</td>\n",
       "      <td>0.0</td>\n",
       "      <td>0.0</td>\n",
       "    </tr>\n",
       "    <tr>\n",
       "      <th>3</th>\n",
       "      <td>3</td>\n",
       "      <td>94bedc10-62c2-4bd2-bad9-0ec08c9bf5e9.htseq.cou...</td>\n",
       "      <td>c694615c-b1c6-499c-8058-995633ebf948</td>\n",
       "      <td>2011.0</td>\n",
       "      <td>not reported</td>\n",
       "      <td>not reported</td>\n",
       "      <td>2019-04-28T14:03:35.530385-05:00</td>\n",
       "      <td>Infiltrating duct carcinoma, NOS</td>\n",
       "      <td>TCGA-E9-A1RF_exposure</td>\n",
       "      <td>stage iiia</td>\n",
       "      <td>...</td>\n",
       "      <td>NaN</td>\n",
       "      <td>NaN</td>\n",
       "      <td>NaN</td>\n",
       "      <td>07f30986-78af-5047-bbec-b3c3fd62aab0</td>\n",
       "      <td>NaN</td>\n",
       "      <td>21737695.0</td>\n",
       "      <td>3123055.0</td>\n",
       "      <td>5182286.0</td>\n",
       "      <td>0.0</td>\n",
       "      <td>0.0</td>\n",
       "    </tr>\n",
       "    <tr>\n",
       "      <th>4</th>\n",
       "      <td>4</td>\n",
       "      <td>6999d309-8502-49ee-8d80-9d0bde00081f.htseq.cou...</td>\n",
       "      <td>1285eb55-415c-494a-aa58-936f0427cdd0</td>\n",
       "      <td>2009.0</td>\n",
       "      <td>not reported</td>\n",
       "      <td>not reported</td>\n",
       "      <td>2019-04-28T13:44:01.412721-05:00</td>\n",
       "      <td>Infiltrating duct carcinoma, NOS</td>\n",
       "      <td>TCGA-V7-A7HQ_exposure</td>\n",
       "      <td>stage iiia</td>\n",
       "      <td>...</td>\n",
       "      <td>NaN</td>\n",
       "      <td>NaN</td>\n",
       "      <td>NaN</td>\n",
       "      <td>38ea3492-d404-5921-8616-8db392fc5cea</td>\n",
       "      <td>NaN</td>\n",
       "      <td>20631886.0</td>\n",
       "      <td>2996831.0</td>\n",
       "      <td>2104393.0</td>\n",
       "      <td>0.0</td>\n",
       "      <td>0.0</td>\n",
       "    </tr>\n",
       "  </tbody>\n",
       "</table>\n",
       "<p>5 rows × 50 columns</p>\n",
       "</div>"
      ],
      "text/plain": [
       "   Unnamed: 0                                          file_name  \\\n",
       "0           0  2b5c518f-8327-478a-a282-01bfe59aca4c.htseq.cou...   \n",
       "1           1  64262505-9f17-4989-94c9-fc6db56ca676.htseq.cou...   \n",
       "2           2  f5d3e683-9177-45fc-93e3-357bf7366ac4.htseq.cou...   \n",
       "3           3  94bedc10-62c2-4bd2-bad9-0ec08c9bf5e9.htseq.cou...   \n",
       "4           4  6999d309-8502-49ee-8d80-9d0bde00081f.htseq.cou...   \n",
       "\n",
       "                                case_id  year_of_diagnosis  \\\n",
       "0  4d0fec97-e024-4608-a0cc-426a3decc7b1             2007.0   \n",
       "1  bb8d42d3-ad65-4d88-ae1d-f9aadfc7962d             2010.0   \n",
       "2  c694615c-b1c6-499c-8058-995633ebf948             2011.0   \n",
       "3  c694615c-b1c6-499c-8058-995633ebf948             2011.0   \n",
       "4  1285eb55-415c-494a-aa58-936f0427cdd0             2009.0   \n",
       "\n",
       "  classification_of_tumor last_known_disease_status  \\\n",
       "0            not reported              not reported   \n",
       "1            not reported              not reported   \n",
       "2            not reported              not reported   \n",
       "3            not reported              not reported   \n",
       "4            not reported              not reported   \n",
       "\n",
       "                   updated_datetime                 primary_diagnosis  \\\n",
       "0  2019-04-28T13:50:16.849041-05:00  Infiltrating duct carcinoma, NOS   \n",
       "1  2019-04-28T13:39:49.010685-05:00            Lobular carcinoma, NOS   \n",
       "2  2019-04-28T14:03:35.530385-05:00  Infiltrating duct carcinoma, NOS   \n",
       "3  2019-04-28T14:03:35.530385-05:00  Infiltrating duct carcinoma, NOS   \n",
       "4  2019-04-28T13:44:01.412721-05:00  Infiltrating duct carcinoma, NOS   \n",
       "\n",
       "            submitter_id tumor_stage  ...  alcohol_intensity bmi  \\\n",
       "0  TCGA-AR-A252_exposure     stage i  ...                NaN NaN   \n",
       "1  TCGA-AO-A1KS_exposure   stage iia  ...                NaN NaN   \n",
       "2  TCGA-E9-A1RF_exposure  stage iiia  ...                NaN NaN   \n",
       "3  TCGA-E9-A1RF_exposure  stage iiia  ...                NaN NaN   \n",
       "4  TCGA-V7-A7HQ_exposure  stage iiia  ...                NaN NaN   \n",
       "\n",
       "   years_smoked                           exposure_id height  \\\n",
       "0           NaN  f6e4e643-657e-57a3-9c66-4c8560d10395    NaN   \n",
       "1           NaN  9543b2f1-c629-530f-a639-720d6eca159f    NaN   \n",
       "2           NaN  07f30986-78af-5047-bbec-b3c3fd62aab0    NaN   \n",
       "3           NaN  07f30986-78af-5047-bbec-b3c3fd62aab0    NaN   \n",
       "4           NaN  38ea3492-d404-5921-8616-8db392fc5cea    NaN   \n",
       "\n",
       "  __alignment_not_unique  __ambiguous __no_feature __not_aligned  \\\n",
       "0             33323894.0    3232629.0    5808920.0           0.0   \n",
       "1             19183901.0    2673271.0    6146344.0           0.0   \n",
       "2             23874394.0    2400693.0    5278313.0           0.0   \n",
       "3             21737695.0    3123055.0    5182286.0           0.0   \n",
       "4             20631886.0    2996831.0    2104393.0           0.0   \n",
       "\n",
       "  __too_low_aQual  \n",
       "0             0.0  \n",
       "1             0.0  \n",
       "2             0.0  \n",
       "3             0.0  \n",
       "4             0.0  \n",
       "\n",
       "[5 rows x 50 columns]"
      ]
     },
     "execution_count": 222,
     "metadata": {},
     "output_type": "execute_result"
    }
   ],
   "source": [
    "gens_indexes = df.columns[df.columns.str.startswith('ENSG')]\n",
    "gens = df[gens_indexes]\n",
    "clinical = df.drop(columns=gens.columns)\n",
    "clinical.head()"
   ]
  },
  {
   "cell_type": "markdown",
   "metadata": {},
   "source": [
    "### Removing Nans"
   ]
  },
  {
   "cell_type": "code",
   "execution_count": 228,
   "metadata": {},
   "outputs": [
    {
     "data": {
      "text/plain": [
       "Index(['year_of_diagnosis', 'primary_diagnosis', 'submitter_id', 'tumor_stage',\n",
       "       'age_at_diagnosis', 'morphology', 'prior_treatment', 'diagnosis_id',\n",
       "       'treatments', 'icd_10_code', 'tissue_or_organ_of_origin',\n",
       "       'prior_malignancy', 'synchronous_malignancy',\n",
       "       'site_of_resection_or_biopsy', 'days_to_last_follow_up',\n",
       "       'year_of_birth', 'race', 'days_to_birth', 'ethnicity', 'vital_status',\n",
       "       'demographic_id', 'age_at_index', 'year_of_death', 'exposure_id'],\n",
       "      dtype='object')"
      ]
     },
     "execution_count": 228,
     "metadata": {},
     "output_type": "execute_result"
    }
   ],
   "source": [
    "clinical[clinical.isnull()].columns"
   ]
  },
  {
   "cell_type": "code",
   "execution_count": 229,
   "metadata": {},
   "outputs": [],
   "source": [
    "clinical = clinical.fillna(0)"
   ]
  },
  {
   "cell_type": "markdown",
   "metadata": {},
   "source": [
    "## Removing ids"
   ]
  },
  {
   "cell_type": "code",
   "execution_count": 230,
   "metadata": {
    "scrolled": true
   },
   "outputs": [
    {
     "data": {
      "text/plain": [
       "year_of_diagnosis                27\n",
       "primary_diagnosis                10\n",
       "submitter_id                   1036\n",
       "tumor_stage                      13\n",
       "age_at_diagnosis                987\n",
       "morphology                       10\n",
       "prior_treatment                   3\n",
       "diagnosis_id                   1036\n",
       "treatments                     1036\n",
       "icd_10_code                       6\n",
       "tissue_or_organ_of_origin         6\n",
       "prior_malignancy                  3\n",
       "synchronous_malignancy            2\n",
       "site_of_resection_or_biopsy       6\n",
       "days_to_last_follow_up          726\n",
       "year_of_birth                    74\n",
       "race                              5\n",
       "days_to_birth                   987\n",
       "ethnicity                         3\n",
       "vital_status                      2\n",
       "demographic_id                 1036\n",
       "age_at_index                     65\n",
       "year_of_death                    20\n",
       "exposure_id                    1036\n",
       "dtype: int64"
      ]
     },
     "execution_count": 230,
     "metadata": {},
     "output_type": "execute_result"
    }
   ],
   "source": [
    "feature_uniques = clinical.nunique()\n",
    "feature_uniques"
   ]
  },
  {
   "cell_type": "code",
   "execution_count": 231,
   "metadata": {},
   "outputs": [],
   "source": [
    "to_drop = feature_uniques[feature_uniques==1036].index\n",
    "\n",
    "clinical = clinical.drop(columns=to_drop)"
   ]
  },
  {
   "cell_type": "code",
   "execution_count": 165,
   "metadata": {
    "scrolled": false
   },
   "outputs": [
    {
     "data": {
      "image/png": "[encoded data removed]",
      "text/plain": [
       "<Figure size 432x288 with 1 Axes>"
      ]
     },
     "metadata": {},
     "output_type": "display_data"
    }
   ],
   "source": [
    "sns.boxplot(y = 'tumor_stage', x = 'age_at_index', data = df);\n",
    "plt.show()"
   ]
  },
  {
   "cell_type": "code",
   "execution_count": 166,
   "metadata": {},
   "outputs": [
    {
     "data": {
      "image/png": "[encoded data removed]",
      "text/plain": [
       "<Figure size 432x288 with 1 Axes>"
      ]
     },
     "metadata": {},
     "output_type": "display_data"
    }
   ],
   "source": [
    "sns.boxplot(y = 'tumor_stage', x = 'year_of_death', data = df);\n",
    "plt.show()"
   ]
  },
  {
   "cell_type": "markdown",
   "metadata": {},
   "source": [
    "## Threat categorical - Label encoding"
   ]
  },
  {
   "cell_type": "code",
   "execution_count": 232,
   "metadata": {
    "scrolled": false
   },
   "outputs": [],
   "source": [
    "clinical_types = clinical.dtypes"
   ]
  },
  {
   "cell_type": "code",
   "execution_count": 233,
   "metadata": {},
   "outputs": [],
   "source": [
    "le = preprocessing.LabelEncoder()\n",
    "features_to_le = clinical_types[clinical_types == object].index\n",
    "for f in features_to_le:\n",
    "    if f == 'tumor_stage':\n",
    "        continue\n",
    "    clinical.loc[:, f] = le.fit_transform(clinical.loc[:, f])"
   ]
  },
  {
   "cell_type": "code",
   "execution_count": 234,
   "metadata": {},
   "outputs": [
    {
     "data": {
      "text/plain": [
       "0          stage i\n",
       "1        stage iia\n",
       "2       stage iiia\n",
       "3       stage iiia\n",
       "4       stage iiia\n",
       "           ...    \n",
       "1159     stage iia\n",
       "1160       stage x\n",
       "1161     stage iia\n",
       "1162     stage iia\n",
       "1163    stage iiib\n",
       "Name: tumor_stage, Length: 1164, dtype: object"
      ]
     },
     "execution_count": 234,
     "metadata": {},
     "output_type": "execute_result"
    }
   ],
   "source": [
    "clinical['tumor_stage']"
   ]
  },
  {
   "cell_type": "markdown",
   "metadata": {},
   "source": [
    "Split the data randomly"
   ]
  },
  {
   "cell_type": "code",
   "execution_count": 240,
   "metadata": {},
   "outputs": [],
   "source": [
    "X, y = clinical.drop(columns=['tumor_stage']), clinical['tumor_stage']"
   ]
  },
  {
   "cell_type": "code",
   "execution_count": 241,
   "metadata": {},
   "outputs": [],
   "source": [
    "X_train, X_test, y_train, y_test = train_test_split(X, y, test_size=0.33, random_state=42)"
   ]
  },
  {
   "cell_type": "markdown",
   "metadata": {},
   "source": [
    "Run a random forest on the clinical data"
   ]
  },
  {
   "cell_type": "code",
   "execution_count": 177,
   "metadata": {},
   "outputs": [],
   "source": [
    "clf = RandomForestClassifier(n_estimators=100, max_depth=10, min_samples_split=10, \\\n",
    "                             min_samples_leaf=5).fit(X_train, y_train)"
   ]
  },
  {
   "cell_type": "code",
   "execution_count": 178,
   "metadata": {},
   "outputs": [],
   "source": [
    "y_pred = clf.predict(X_test)"
   ]
  },
  {
   "cell_type": "markdown",
   "metadata": {},
   "source": [
    "## Seing results"
   ]
  },
  {
   "cell_type": "code",
   "execution_count": 179,
   "metadata": {},
   "outputs": [
    {
     "name": "stdout",
     "output_type": "stream",
     "text": [
      "Accuracy is 36.62337662337662 %\n"
     ]
    },
    {
     "data": {
      "image/png": "[encoded data removed]",
      "text/plain": [
       "<Figure size 432x288 with 2 Axes>"
      ]
     },
     "metadata": {},
     "output_type": "display_data"
    },
    {
     "name": "stdout",
     "output_type": "stream",
     "text": [
      "TPR = 0.09375, FPR = 0.0, Precision = 0.3\n"
     ]
    }
   ],
   "source": [
    "scores = clf.predict_proba(X_test)\n",
    "scores = np.array(list(map(lambda x: x[1], scores)))\n",
    "\n",
    "acc, tpr, fpr, precision = plot_confusion_matrix(y_test, y_pred)\n",
    "plt.show()\n",
    "print(f\"TPR = {tpr}, FPR = {fpr}, Precision = {precision}\")"
   ]
  },
  {
   "cell_type": "markdown",
   "metadata": {},
   "source": [
    "## Testing class unbalancing"
   ]
  },
  {
   "cell_type": "code",
   "execution_count": 205,
   "metadata": {},
   "outputs": [
    {
     "data": {
      "text/plain": [
       "{'stage iia': 786,\n",
       " 'stage iib': 884,\n",
       " 'stage iiia': 997,\n",
       " 'stage i': 1065,\n",
       " 'stage ia': 1076,\n",
       " 'stage iiic': 1096,\n",
       " 'stage iiib': 1137,\n",
       " 'stage iv': 1143,\n",
       " 'stage x': 1152,\n",
       " 'not reported': 1152,\n",
       " 'stage ib': 1159,\n",
       " 'stage ii': 1159,\n",
       " 'stage iii': 1162}"
      ]
     },
     "execution_count": 205,
     "metadata": {},
     "output_type": "execute_result"
    }
   ],
   "source": [
    "balancing = dict(clinical['tumor_stage'].value_counts())\n",
    "balancing = {key:len(clinical)-value for key, value in balancing.items()}\n",
    "balancing"
   ]
  },
  {
   "cell_type": "code",
   "execution_count": 206,
   "metadata": {},
   "outputs": [],
   "source": [
    "clf = RandomForestClassifier(n_estimators=100, max_depth=10, min_samples_split=10, \\\n",
    "                             min_samples_leaf=5, class_weight=balancing).fit(X_train, y_train)\n",
    "y_pred = clf.predict(X_test)"
   ]
  },
  {
   "cell_type": "code",
   "execution_count": 207,
   "metadata": {},
   "outputs": [
    {
     "name": "stdout",
     "output_type": "stream",
     "text": [
      "Accuracy is 36.103896103896105 %\n"
     ]
    },
    {
     "data": {
      "image/png": "[encoded data removed]",
      "text/plain": [
       "<Figure size 432x288 with 2 Axes>"
      ]
     },
     "metadata": {},
     "output_type": "display_data"
    },
    {
     "name": "stdout",
     "output_type": "stream",
     "text": [
      "TPR = 0.09375, FPR = 0.0, Precision = 0.15\n"
     ]
    }
   ],
   "source": [
    "scores = clf.predict_proba(X_test)\n",
    "scores = np.array(list(map(lambda x: x[1], scores)))\n",
    "\n",
    "acc, tpr, fpr, precision = plot_confusion_matrix(y_test, y_pred)\n",
    "plt.show()\n",
    "print(f\"TPR = {tpr}, FPR = {fpr}, Precision = {precision}\")"
   ]
  },
  {
   "cell_type": "markdown",
   "metadata": {},
   "source": [
    "## Testing doria cleaned one"
   ]
  },
  {
   "cell_type": "code",
   "execution_count": 129,
   "metadata": {
    "scrolled": true
   },
   "outputs": [
    {
     "data": {
      "text/html": [
       "<div>\n",
       "<style scoped>\n",
       "    .dataframe tbody tr th:only-of-type {\n",
       "        vertical-align: middle;\n",
       "    }\n",
       "\n",
       "    .dataframe tbody tr th {\n",
       "        vertical-align: top;\n",
       "    }\n",
       "\n",
       "    .dataframe thead th {\n",
       "        text-align: right;\n",
       "    }\n",
       "</style>\n",
       "<table border=\"1\" class=\"dataframe\">\n",
       "  <thead>\n",
       "    <tr style=\"text-align: right;\">\n",
       "      <th></th>\n",
       "      <th>case_id</th>\n",
       "      <th>submitter_id</th>\n",
       "      <th>tumor_stage</th>\n",
       "      <th>age_at_diagnosis</th>\n",
       "      <th>prior_malignancy</th>\n",
       "      <th>race_asian</th>\n",
       "      <th>race_black or african american</th>\n",
       "      <th>race_white</th>\n",
       "    </tr>\n",
       "  </thead>\n",
       "  <tbody>\n",
       "    <tr>\n",
       "      <th>0</th>\n",
       "      <td>dd96a9c7-899c-47cd-a0f9-b149ed07a5d6</td>\n",
       "      <td>TCGA-D8-A1JB_treatment_1</td>\n",
       "      <td>stage iib</td>\n",
       "      <td>19822.0</td>\n",
       "      <td>0</td>\n",
       "      <td>0</td>\n",
       "      <td>0</td>\n",
       "      <td>1</td>\n",
       "    </tr>\n",
       "    <tr>\n",
       "      <th>1</th>\n",
       "      <td>3f834fa7-6d7b-4b85-98c0-5c55d55b6c95</td>\n",
       "      <td>TCGA-B6-A0IE_treatment_1</td>\n",
       "      <td>stage iiia</td>\n",
       "      <td>13982.0</td>\n",
       "      <td>0</td>\n",
       "      <td>0</td>\n",
       "      <td>1</td>\n",
       "      <td>0</td>\n",
       "    </tr>\n",
       "    <tr>\n",
       "      <th>2</th>\n",
       "      <td>451e1a67-47e6-4738-99d7-fb7771ef61a3</td>\n",
       "      <td>TCGA-B6-A0RP_treatment_1</td>\n",
       "      <td>not reported</td>\n",
       "      <td>26941.0</td>\n",
       "      <td>0</td>\n",
       "      <td>0</td>\n",
       "      <td>0</td>\n",
       "      <td>1</td>\n",
       "    </tr>\n",
       "    <tr>\n",
       "      <th>3</th>\n",
       "      <td>178b2c48-c07d-422e-ae17-8bcfd996ad51</td>\n",
       "      <td>TCGA-B6-A0X1_treatment</td>\n",
       "      <td>not reported</td>\n",
       "      <td>17624.0</td>\n",
       "      <td>0</td>\n",
       "      <td>0</td>\n",
       "      <td>0</td>\n",
       "      <td>1</td>\n",
       "    </tr>\n",
       "    <tr>\n",
       "      <th>4</th>\n",
       "      <td>dddd8e2f-e540-418a-b02e-698d18a12c14</td>\n",
       "      <td>TCGA-A7-A26H_treatment_1</td>\n",
       "      <td>stage iia</td>\n",
       "      <td>26423.0</td>\n",
       "      <td>1</td>\n",
       "      <td>0</td>\n",
       "      <td>0</td>\n",
       "      <td>1</td>\n",
       "    </tr>\n",
       "  </tbody>\n",
       "</table>\n",
       "</div>"
      ],
      "text/plain": [
       "                                case_id              submitter_id  \\\n",
       "0  dd96a9c7-899c-47cd-a0f9-b149ed07a5d6  TCGA-D8-A1JB_treatment_1   \n",
       "1  3f834fa7-6d7b-4b85-98c0-5c55d55b6c95  TCGA-B6-A0IE_treatment_1   \n",
       "2  451e1a67-47e6-4738-99d7-fb7771ef61a3  TCGA-B6-A0RP_treatment_1   \n",
       "3  178b2c48-c07d-422e-ae17-8bcfd996ad51    TCGA-B6-A0X1_treatment   \n",
       "4  dddd8e2f-e540-418a-b02e-698d18a12c14  TCGA-A7-A26H_treatment_1   \n",
       "\n",
       "    tumor_stage  age_at_diagnosis  prior_malignancy  race_asian  \\\n",
       "0     stage iib           19822.0                 0           0   \n",
       "1    stage iiia           13982.0                 0           0   \n",
       "2  not reported           26941.0                 0           0   \n",
       "3  not reported           17624.0                 0           0   \n",
       "4     stage iia           26423.0                 1           0   \n",
       "\n",
       "   race_black or african american  race_white  \n",
       "0                               0           1  \n",
       "1                               1           0  \n",
       "2                               0           1  \n",
       "3                               0           1  \n",
       "4                               0           1  "
      ]
     },
     "execution_count": 129,
     "metadata": {},
     "output_type": "execute_result"
    }
   ],
   "source": [
    "doria_df = pd.read_csv('clinical_clean_doria.csv').drop(columns=['Unnamed: 0'])\n",
    "doria_df.head()\n"
   ]
  },
  {
   "cell_type": "code",
   "execution_count": 130,
   "metadata": {},
   "outputs": [
    {
     "data": {
      "text/plain": [
       "case_id                           1036\n",
       "submitter_id                      1036\n",
       "tumor_stage                         13\n",
       "age_at_diagnosis                   987\n",
       "prior_malignancy                     2\n",
       "race_asian                           2\n",
       "race_black or african american       2\n",
       "race_white                           2\n",
       "dtype: int64"
      ]
     },
     "execution_count": 130,
     "metadata": {},
     "output_type": "execute_result"
    }
   ],
   "source": [
    "doria_df.nunique()"
   ]
  },
  {
   "cell_type": "code",
   "execution_count": 134,
   "metadata": {},
   "outputs": [],
   "source": [
    "X, y = doria_df.drop(columns=['tumor_stage', 'case_id', 'submitter_id']), doria_df['tumor_stage']\n",
    "X_train, X_test, y_train, y_test = train_test_split(X, y, test_size=0.33, random_state=42)"
   ]
  },
  {
   "cell_type": "code",
   "execution_count": 137,
   "metadata": {},
   "outputs": [],
   "source": [
    "clf = RandomForestClassifier(n_estimators=100, max_depth=3, min_samples_split=10, \\\n",
    "                             min_samples_leaf=5).fit(X_train, y_train)\n",
    "y_pred = clf.predict(X_test)"
   ]
  },
  {
   "cell_type": "code",
   "execution_count": 138,
   "metadata": {
    "scrolled": true
   },
   "outputs": [
    {
     "name": "stdout",
     "output_type": "stream",
     "text": [
      "Accuracy is 33.33333333333333 %\n"
     ]
    },
    {
     "name": "stderr",
     "output_type": "stream",
     "text": [
      "/Library/Frameworks/Python.framework/Versions/3.6/lib/python3.6/site-packages/ipykernel_launcher.py:15: RuntimeWarning: invalid value encountered in true_divide\n",
      "  from ipykernel import kernelapp as app\n"
     ]
    },
    {
     "data": {
      "image/png": "[encoded data removed]",
      "text/plain": [
       "<Figure size 432x288 with 2 Axes>"
      ]
     },
     "metadata": {},
     "output_type": "display_data"
    },
    {
     "name": "stdout",
     "output_type": "stream",
     "text": [
      "TPR = 0.0, FPR = 0.0, Precision = nan\n"
     ]
    }
   ],
   "source": [
    "scores = clf.predict_proba(X_test)\n",
    "scores = np.array(list(map(lambda x: x[1], scores)))\n",
    "\n",
    "acc, tpr, fpr, precision = plot_confusion_matrix(y_test, y_pred)\n",
    "plt.show()\n",
    "print(f\"TPR = {tpr}, FPR = {fpr}, Precision = {precision}\")"
   ]
  },
  {
   "cell_type": "markdown",
   "metadata": {},
   "source": [
    "## Playing with the gens"
   ]
  },
  {
   "cell_type": "code",
   "execution_count": 211,
   "metadata": {
    "scrolled": true
   },
   "outputs": [
    {
     "data": {
      "text/html": [
       "<div>\n",
       "<style scoped>\n",
       "    .dataframe tbody tr th:only-of-type {\n",
       "        vertical-align: middle;\n",
       "    }\n",
       "\n",
       "    .dataframe tbody tr th {\n",
       "        vertical-align: top;\n",
       "    }\n",
       "\n",
       "    .dataframe thead th {\n",
       "        text-align: right;\n",
       "    }\n",
       "</style>\n",
       "<table border=\"1\" class=\"dataframe\">\n",
       "  <thead>\n",
       "    <tr style=\"text-align: right;\">\n",
       "      <th></th>\n",
       "      <th>ENSG00000000003.13</th>\n",
       "      <th>ENSG00000000005.5</th>\n",
       "      <th>ENSG00000000419.11</th>\n",
       "      <th>ENSG00000000457.12</th>\n",
       "      <th>ENSG00000000460.15</th>\n",
       "      <th>ENSG00000000938.11</th>\n",
       "      <th>ENSG00000000971.14</th>\n",
       "      <th>ENSG00000001036.12</th>\n",
       "      <th>ENSG00000001084.9</th>\n",
       "      <th>ENSG00000001167.13</th>\n",
       "      <th>...</th>\n",
       "      <th>ENSGR0000263980.4</th>\n",
       "      <th>ENSGR0000264510.4</th>\n",
       "      <th>ENSGR0000264819.4</th>\n",
       "      <th>ENSGR0000265658.4</th>\n",
       "      <th>ENSGR0000270726.4</th>\n",
       "      <th>ENSGR0000275287.3</th>\n",
       "      <th>ENSGR0000276543.3</th>\n",
       "      <th>ENSGR0000277120.3</th>\n",
       "      <th>ENSGR0000280767.1</th>\n",
       "      <th>ENSGR0000281849.1</th>\n",
       "    </tr>\n",
       "  </thead>\n",
       "  <tbody>\n",
       "    <tr>\n",
       "      <th>0</th>\n",
       "      <td>2608.0</td>\n",
       "      <td>289.0</td>\n",
       "      <td>1661.0</td>\n",
       "      <td>2081.0</td>\n",
       "      <td>684.0</td>\n",
       "      <td>1261.0</td>\n",
       "      <td>8544.0</td>\n",
       "      <td>4815.0</td>\n",
       "      <td>2879.0</td>\n",
       "      <td>4088.0</td>\n",
       "      <td>...</td>\n",
       "      <td>0.0</td>\n",
       "      <td>0.0</td>\n",
       "      <td>0.0</td>\n",
       "      <td>0.0</td>\n",
       "      <td>0.0</td>\n",
       "      <td>0.0</td>\n",
       "      <td>0.0</td>\n",
       "      <td>0.0</td>\n",
       "      <td>0.0</td>\n",
       "      <td>0.0</td>\n",
       "    </tr>\n",
       "    <tr>\n",
       "      <th>1</th>\n",
       "      <td>5789.0</td>\n",
       "      <td>34.0</td>\n",
       "      <td>2538.0</td>\n",
       "      <td>2572.0</td>\n",
       "      <td>1292.0</td>\n",
       "      <td>284.0</td>\n",
       "      <td>2934.0</td>\n",
       "      <td>5797.0</td>\n",
       "      <td>3401.0</td>\n",
       "      <td>5931.0</td>\n",
       "      <td>...</td>\n",
       "      <td>0.0</td>\n",
       "      <td>0.0</td>\n",
       "      <td>0.0</td>\n",
       "      <td>0.0</td>\n",
       "      <td>0.0</td>\n",
       "      <td>0.0</td>\n",
       "      <td>0.0</td>\n",
       "      <td>0.0</td>\n",
       "      <td>0.0</td>\n",
       "      <td>0.0</td>\n",
       "    </tr>\n",
       "    <tr>\n",
       "      <th>2</th>\n",
       "      <td>4544.0</td>\n",
       "      <td>1881.0</td>\n",
       "      <td>1565.0</td>\n",
       "      <td>1356.0</td>\n",
       "      <td>294.0</td>\n",
       "      <td>1006.0</td>\n",
       "      <td>24121.0</td>\n",
       "      <td>3695.0</td>\n",
       "      <td>5097.0</td>\n",
       "      <td>2025.0</td>\n",
       "      <td>...</td>\n",
       "      <td>0.0</td>\n",
       "      <td>0.0</td>\n",
       "      <td>0.0</td>\n",
       "      <td>0.0</td>\n",
       "      <td>0.0</td>\n",
       "      <td>0.0</td>\n",
       "      <td>0.0</td>\n",
       "      <td>0.0</td>\n",
       "      <td>0.0</td>\n",
       "      <td>0.0</td>\n",
       "    </tr>\n",
       "    <tr>\n",
       "      <th>3</th>\n",
       "      <td>676.0</td>\n",
       "      <td>41.0</td>\n",
       "      <td>3732.0</td>\n",
       "      <td>3155.0</td>\n",
       "      <td>1010.0</td>\n",
       "      <td>910.0</td>\n",
       "      <td>5382.0</td>\n",
       "      <td>3559.0</td>\n",
       "      <td>2968.0</td>\n",
       "      <td>3704.0</td>\n",
       "      <td>...</td>\n",
       "      <td>0.0</td>\n",
       "      <td>0.0</td>\n",
       "      <td>0.0</td>\n",
       "      <td>0.0</td>\n",
       "      <td>0.0</td>\n",
       "      <td>0.0</td>\n",
       "      <td>0.0</td>\n",
       "      <td>0.0</td>\n",
       "      <td>0.0</td>\n",
       "      <td>0.0</td>\n",
       "    </tr>\n",
       "    <tr>\n",
       "      <th>4</th>\n",
       "      <td>2299.0</td>\n",
       "      <td>5.0</td>\n",
       "      <td>708.0</td>\n",
       "      <td>388.0</td>\n",
       "      <td>93.0</td>\n",
       "      <td>113.0</td>\n",
       "      <td>674.0</td>\n",
       "      <td>2219.0</td>\n",
       "      <td>871.0</td>\n",
       "      <td>923.0</td>\n",
       "      <td>...</td>\n",
       "      <td>0.0</td>\n",
       "      <td>0.0</td>\n",
       "      <td>0.0</td>\n",
       "      <td>0.0</td>\n",
       "      <td>0.0</td>\n",
       "      <td>0.0</td>\n",
       "      <td>0.0</td>\n",
       "      <td>0.0</td>\n",
       "      <td>0.0</td>\n",
       "      <td>0.0</td>\n",
       "    </tr>\n",
       "  </tbody>\n",
       "</table>\n",
       "<p>5 rows × 60483 columns</p>\n",
       "</div>"
      ],
      "text/plain": [
       "   ENSG00000000003.13  ENSG00000000005.5  ENSG00000000419.11  \\\n",
       "0              2608.0              289.0              1661.0   \n",
       "1              5789.0               34.0              2538.0   \n",
       "2              4544.0             1881.0              1565.0   \n",
       "3               676.0               41.0              3732.0   \n",
       "4              2299.0                5.0               708.0   \n",
       "\n",
       "   ENSG00000000457.12  ENSG00000000460.15  ENSG00000000938.11  \\\n",
       "0              2081.0               684.0              1261.0   \n",
       "1              2572.0              1292.0               284.0   \n",
       "2              1356.0               294.0              1006.0   \n",
       "3              3155.0              1010.0               910.0   \n",
       "4               388.0                93.0               113.0   \n",
       "\n",
       "   ENSG00000000971.14  ENSG00000001036.12  ENSG00000001084.9  \\\n",
       "0              8544.0              4815.0             2879.0   \n",
       "1              2934.0              5797.0             3401.0   \n",
       "2             24121.0              3695.0             5097.0   \n",
       "3              5382.0              3559.0             2968.0   \n",
       "4               674.0              2219.0              871.0   \n",
       "\n",
       "   ENSG00000001167.13  ...  ENSGR0000263980.4  ENSGR0000264510.4  \\\n",
       "0              4088.0  ...                0.0                0.0   \n",
       "1              5931.0  ...                0.0                0.0   \n",
       "2              2025.0  ...                0.0                0.0   \n",
       "3              3704.0  ...                0.0                0.0   \n",
       "4               923.0  ...                0.0                0.0   \n",
       "\n",
       "   ENSGR0000264819.4  ENSGR0000265658.4  ENSGR0000270726.4  ENSGR0000275287.3  \\\n",
       "0                0.0                0.0                0.0                0.0   \n",
       "1                0.0                0.0                0.0                0.0   \n",
       "2                0.0                0.0                0.0                0.0   \n",
       "3                0.0                0.0                0.0                0.0   \n",
       "4                0.0                0.0                0.0                0.0   \n",
       "\n",
       "   ENSGR0000276543.3  ENSGR0000277120.3  ENSGR0000280767.1  ENSGR0000281849.1  \n",
       "0                0.0                0.0                0.0                0.0  \n",
       "1                0.0                0.0                0.0                0.0  \n",
       "2                0.0                0.0                0.0                0.0  \n",
       "3                0.0                0.0                0.0                0.0  \n",
       "4                0.0                0.0                0.0                0.0  \n",
       "\n",
       "[5 rows x 60483 columns]"
      ]
     },
     "execution_count": 211,
     "metadata": {},
     "output_type": "execute_result"
    }
   ],
   "source": [
    "gens_indexes = df.columns[df.columns.str.startswith('ENSG')]\n",
    "gens = df[gens_indexes]\n",
    "gens.head()"
   ]
  },
  {
   "cell_type": "code",
   "execution_count": 210,
   "metadata": {},
   "outputs": [],
   "source": [
    "X, y = gens, df['tumor_stage']\n",
    "X_train, X_test, y_train, y_test = train_test_split(X, y, test_size=0.33, random_state=42)"
   ]
  },
  {
   "cell_type": "code",
   "execution_count": 212,
   "metadata": {},
   "outputs": [],
   "source": [
    "clf = RandomForestClassifier(n_estimators=100, max_depth=100, min_samples_split=10, \\\n",
    "                             min_samples_leaf=5).fit(X_train, y_train)\n",
    "y_pred = clf.predict(X_test)"
   ]
  },
  {
   "cell_type": "code",
   "execution_count": 213,
   "metadata": {},
   "outputs": [
    {
     "name": "stdout",
     "output_type": "stream",
     "text": [
      "Accuracy is 33.246753246753244 %\n"
     ]
    },
    {
     "name": "stderr",
     "output_type": "stream",
     "text": [
      "/Library/Frameworks/Python.framework/Versions/3.6/lib/python3.6/site-packages/ipykernel_launcher.py:15: RuntimeWarning: invalid value encountered in true_divide\n",
      "  from ipykernel import kernelapp as app\n"
     ]
    },
    {
     "data": {
      "image/png": "[encoded data removed]",
      "text/plain": [
       "<Figure size 432x288 with 2 Axes>"
      ]
     },
     "metadata": {},
     "output_type": "display_data"
    },
    {
     "name": "stdout",
     "output_type": "stream",
     "text": [
      "TPR = 0.0, FPR = 0.0, Precision = nan\n"
     ]
    }
   ],
   "source": [
    "scores = clf.predict_proba(X_test)\n",
    "scores = np.array(list(map(lambda x: x[1], scores)))\n",
    "\n",
    "acc, tpr, fpr, precision = plot_confusion_matrix(y_test, y_pred)\n",
    "plt.show()\n",
    "print(f\"TPR = {tpr}, FPR = {fpr}, Precision = {precision}\")\n",
    "\n",
    "# fpr, tpr, thresholds = roc_curve(y_test, scores)\n",
    "# plt.plot(fpr, tpr)\n",
    "# plt.xlabel(\"False positive rate\")\n",
    "# plt.ylabel(\"True positive rate (recall)\")\n",
    "# plt.title(\"ROC curve\")\n",
    "# plt.show()\n",
    "\n",
    "# precision, recall, thresholds = precision_recall_curve(y_test, scores)\n",
    "# plt.plot(recall,precision)\n",
    "# plt.xlabel(\"Recall\")\n",
    "# plt.ylabel(\"Precision\")\n",
    "# plt.title(\"PR curve\")\n",
    "# plt.show()"
   ]
  },
  {
   "cell_type": "code",
   "execution_count": 216,
   "metadata": {
    "scrolled": true
   },
   "outputs": [
    {
     "name": "stderr",
     "output_type": "stream",
     "text": [
      "/Library/Frameworks/Python.framework/Versions/3.6/lib/python3.6/site-packages/sklearn/linear_model/logistic.py:947: ConvergenceWarning: lbfgs failed to converge. Increase the number of iterations.\n",
      "  \"of iterations.\", ConvergenceWarning)\n"
     ]
    }
   ],
   "source": [
    "clf = LogisticRegression(solver='lbfgs', multi_class='multinomial').fit(X_train, y_train)"
   ]
  },
  {
   "cell_type": "code",
   "execution_count": 217,
   "metadata": {},
   "outputs": [],
   "source": [
    "y_pred = clf.predict(X_test)"
   ]
  },
  {
   "cell_type": "code",
   "execution_count": 218,
   "metadata": {},
   "outputs": [
    {
     "name": "stdout",
     "output_type": "stream",
     "text": [
      "Accuracy is 22.857142857142858 %\n"
     ]
    },
    {
     "data": {
      "image/png": "[encoded data removed]",
      "text/plain": [
       "<Figure size 432x288 with 2 Axes>"
      ]
     },
     "metadata": {},
     "output_type": "display_data"
    },
    {
     "name": "stdout",
     "output_type": "stream",
     "text": [
      "TPR = 0.09375, FPR = 0.0, Precision = 0.125\n"
     ]
    }
   ],
   "source": [
    "scores = clf.predict_proba(X_test)\n",
    "scores = np.array(list(map(lambda x: x[1], scores)))\n",
    "\n",
    "acc, tpr, fpr, precision = plot_confusion_matrix(y_test, y_pred)\n",
    "plt.show()\n",
    "print(f\"TPR = {tpr}, FPR = {fpr}, Precision = {precision}\")"
   ]
  },
  {
   "cell_type": "code",
   "execution_count": null,
   "metadata": {},
   "outputs": [],
   "source": []
  },
  {
   "cell_type": "markdown",
   "metadata": {},
   "source": [
    "## Testing class weights package"
   ]
  },
  {
   "cell_type": "code",
   "execution_count": 248,
   "metadata": {},
   "outputs": [
    {
     "data": {
      "text/plain": [
       "{'not reported': 7.490384615384615,\n",
       " 'stage i': 0.894374282433984,\n",
       " 'stage ia': 0.9987179487179487,\n",
       " 'stage ib': 14.98076923076923,\n",
       " 'stage ii': 19.974358974358974,\n",
       " 'stage iia': 0.24558638083228246,\n",
       " 'stage iib': 0.32744850777637663,\n",
       " 'stage iii': 29.96153846153846,\n",
       " 'stage iiia': 0.5078226857887875,\n",
       " 'stage iiib': 3.1538461538461537,\n",
       " 'stage iiic': 1.1984615384615385,\n",
       " 'stage iv': 4.28021978021978,\n",
       " 'stage x': 8.56043956043956}"
      ]
     },
     "execution_count": 248,
     "metadata": {},
     "output_type": "execute_result"
    }
   ],
   "source": [
    "class_weights = class_weight.compute_class_weight('balanced',\n",
    "                                                 np.unique(y_train),\n",
    "                                                 y_train)\n",
    "balancing = {x:y for x,y in zip(np.unique(y_train),class_weights)}\n",
    "balancing"
   ]
  },
  {
   "cell_type": "code",
   "execution_count": 249,
   "metadata": {},
   "outputs": [],
   "source": [
    "clf = RandomForestClassifier(n_estimators=100, max_depth=100, min_samples_split=10, \\\n",
    "                             min_samples_leaf=5,class_weight=balancing).fit(X_train, y_train)\n",
    "y_pred = clf.predict(X_test)"
   ]
  },
  {
   "cell_type": "code",
   "execution_count": 250,
   "metadata": {},
   "outputs": [
    {
     "name": "stdout",
     "output_type": "stream",
     "text": [
      "Accuracy is 21.818181818181817 %\n"
     ]
    },
    {
     "data": {
      "image/png": "[encoded data removed]",
      "text/plain": [
       "<Figure size 432x288 with 2 Axes>"
      ]
     },
     "metadata": {},
     "output_type": "display_data"
    },
    {
     "name": "stdout",
     "output_type": "stream",
     "text": [
      "TPR = 0.40625, FPR = 0.0, Precision = 0.17567567567567569\n"
     ]
    }
   ],
   "source": [
    "acc, tpr, fpr, precision = plot_confusion_matrix(y_test, y_pred)\n",
    "plt.show()\n",
    "print(f\"TPR = {tpr}, FPR = {fpr}, Precision = {precision}\")"
   ]
  },
  {
   "cell_type": "markdown",
   "metadata": {},
   "source": [
    "## On the genes..\n"
   ]
  },
  {
   "cell_type": "code",
   "execution_count": 251,
   "metadata": {
    "scrolled": true
   },
   "outputs": [
    {
     "name": "stdout",
     "output_type": "stream",
     "text": [
      "Accuracy is 28.05194805194805 %\n"
     ]
    },
    {
     "data": {
      "image/png": "[encoded data removed]",
      "text/plain": [
       "<Figure size 432x288 with 2 Axes>"
      ]
     },
     "metadata": {},
     "output_type": "display_data"
    },
    {
     "name": "stdout",
     "output_type": "stream",
     "text": [
      "TPR = 0.0625, FPR = 0.0, Precision = 0.2\n"
     ]
    }
   ],
   "source": [
    "X, y = gens, df['tumor_stage']\n",
    "X_train, X_test, y_train, y_test = train_test_split(X, y, test_size=0.33, random_state=42)\n",
    "\n",
    "class_weights = class_weight.compute_class_weight('balanced',\n",
    "                                                 np.unique(y_train),\n",
    "                                                 y_train)\n",
    "\n",
    "balancing = {x:y for x,y in zip(np.unique(y_train),class_weights)}\n",
    "\n",
    "clf = RandomForestClassifier(n_estimators=100, max_depth=100, min_samples_split=10, \\\n",
    "                             min_samples_leaf=5, class_weight=balancing).fit(X_train, y_train)\n",
    "y_pred = clf.predict(X_test)\n",
    "\n",
    "acc, tpr, fpr, precision = plot_confusion_matrix(y_test, y_pred)\n",
    "plt.show()\n",
    "print(f\"TPR = {tpr}, FPR = {fpr}, Precision = {precision}\")"
   ]
  },
  {
   "cell_type": "code",
   "execution_count": 252,
   "metadata": {},
   "outputs": [
    {
     "name": "stderr",
     "output_type": "stream",
     "text": [
      "/Library/Frameworks/Python.framework/Versions/3.6/lib/python3.6/site-packages/sklearn/linear_model/logistic.py:947: ConvergenceWarning: lbfgs failed to converge. Increase the number of iterations.\n",
      "  \"of iterations.\", ConvergenceWarning)\n"
     ]
    },
    {
     "name": "stdout",
     "output_type": "stream",
     "text": [
      "Accuracy is 23.896103896103895 %\n"
     ]
    },
    {
     "data": {
      "image/png": "[encoded data removed]",
      "text/plain": [
       "<Figure size 432x288 with 2 Axes>"
      ]
     },
     "metadata": {},
     "output_type": "display_data"
    },
    {
     "name": "stdout",
     "output_type": "stream",
     "text": [
      "TPR = 0.125, FPR = 0.0, Precision = 0.13333333333333333\n"
     ]
    }
   ],
   "source": [
    "\n",
    "X, y = gens, df['tumor_stage']\n",
    "X_train, X_test, y_train, y_test = train_test_split(X, y, test_size=0.33, random_state=42)\n",
    "\n",
    "class_weights = class_weight.compute_class_weight('balanced',\n",
    "                                                 np.unique(y_train),\n",
    "                                                 y_train)\n",
    "\n",
    "balancing = {x:y for x,y in zip(np.unique(y_train),class_weights)}\n",
    "\n",
    "clf = LogisticRegression(solver='lbfgs', multi_class='multinomial', class_weight=balancing).fit(X_train, y_train)\n",
    "\n",
    "y_pred = clf.predict(X_test)\n",
    "\n",
    "acc, tpr, fpr, precision = plot_confusion_matrix(y_test, y_pred)\n",
    "plt.show()\n",
    "print(f\"TPR = {tpr}, FPR = {fpr}, Precision = {precision}\")"
   ]
  }
 ],
 "metadata": {
  "kernelspec": {
   "display_name": "Python 3",
   "language": "python",
   "name": "python3"
  },
  "language_info": {
   "codemirror_mode": {
    "name": "ipython",
    "version": 3
   },
   "file_extension": ".py",
   "mimetype": "text/x-python",
   "name": "python",
   "nbconvert_exporter": "python",
   "pygments_lexer": "ipython3",
   "version": "3.7.3"
  }
 },
 "nbformat": 4,
 "nbformat_minor": 2
}
