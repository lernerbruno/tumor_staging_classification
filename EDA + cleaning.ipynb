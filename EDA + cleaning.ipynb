{
 "cells": [
  {
   "cell_type": "code",
   "execution_count": 36,
   "metadata": {},
   "outputs": [],
   "source": [
    "import pandas as pd\n",
    "import numpy as np\n",
    "import matplotlib.pyplot as plt"
   ]
  },
  {
   "cell_type": "markdown",
   "metadata": {},
   "source": [
    "# Some EDA and cleaning on the way"
   ]
  },
  {
   "cell_type": "code",
   "execution_count": 2,
   "metadata": {
    "scrolled": true
   },
   "outputs": [
    {
     "name": "stderr",
     "output_type": "stream",
     "text": [
      "/Library/Frameworks/Python.framework/Versions/3.6/lib/python3.6/site-packages/IPython/core/interactiveshell.py:3049: DtypeWarning: Columns (6,11,13,18,25,31) have mixed types. Specify dtype option on import or set low_memory=False.\n",
      "  interactivity=interactivity, compiler=compiler, result=result)\n"
     ]
    },
    {
     "data": {
      "text/html": [
       "<div>\n",
       "<style scoped>\n",
       "    .dataframe tbody tr th:only-of-type {\n",
       "        vertical-align: middle;\n",
       "    }\n",
       "\n",
       "    .dataframe tbody tr th {\n",
       "        vertical-align: top;\n",
       "    }\n",
       "\n",
       "    .dataframe thead th {\n",
       "        text-align: right;\n",
       "    }\n",
       "</style>\n",
       "<table border=\"1\" class=\"dataframe\">\n",
       "  <thead>\n",
       "    <tr style=\"text-align: right;\">\n",
       "      <th></th>\n",
       "      <th>Unnamed: 0</th>\n",
       "      <th>file_name</th>\n",
       "      <th>case_id</th>\n",
       "      <th>submitter_id</th>\n",
       "      <th>project_id</th>\n",
       "      <th>gender</th>\n",
       "      <th>year_of_birth</th>\n",
       "      <th>race</th>\n",
       "      <th>days_to_birth</th>\n",
       "      <th>ethnicity</th>\n",
       "      <th>...</th>\n",
       "      <th>ENSGR0000275287.3</th>\n",
       "      <th>ENSGR0000276543.3</th>\n",
       "      <th>ENSGR0000277120.3</th>\n",
       "      <th>ENSGR0000280767.1</th>\n",
       "      <th>ENSGR0000281849.1</th>\n",
       "      <th>__alignment_not_unique</th>\n",
       "      <th>__ambiguous</th>\n",
       "      <th>__no_feature</th>\n",
       "      <th>__not_aligned</th>\n",
       "      <th>__too_low_aQual</th>\n",
       "    </tr>\n",
       "  </thead>\n",
       "  <tbody>\n",
       "    <tr>\n",
       "      <th>0</th>\n",
       "      <td>0</td>\n",
       "      <td>2b5c518f-8327-478a-a282-01bfe59aca4c.htseq.cou...</td>\n",
       "      <td>4d0fec97-e024-4608-a0cc-426a3decc7b1</td>\n",
       "      <td>TCGA-AR-A252</td>\n",
       "      <td>TCGA-BRCA</td>\n",
       "      <td>female</td>\n",
       "      <td>1957</td>\n",
       "      <td>white</td>\n",
       "      <td>-18611</td>\n",
       "      <td>not hispanic or latino</td>\n",
       "      <td>...</td>\n",
       "      <td>0.0</td>\n",
       "      <td>0.0</td>\n",
       "      <td>0.0</td>\n",
       "      <td>0.0</td>\n",
       "      <td>0.0</td>\n",
       "      <td>33323894.0</td>\n",
       "      <td>3232629.0</td>\n",
       "      <td>5808920.0</td>\n",
       "      <td>0.0</td>\n",
       "      <td>0.0</td>\n",
       "    </tr>\n",
       "    <tr>\n",
       "      <th>1</th>\n",
       "      <td>1</td>\n",
       "      <td>64262505-9f17-4989-94c9-fc6db56ca676.htseq.cou...</td>\n",
       "      <td>bb8d42d3-ad65-4d88-ae1d-f9aadfc7962d</td>\n",
       "      <td>TCGA-AO-A1KS</td>\n",
       "      <td>TCGA-BRCA</td>\n",
       "      <td>female</td>\n",
       "      <td>1941</td>\n",
       "      <td>white</td>\n",
       "      <td>-25230</td>\n",
       "      <td>not hispanic or latino</td>\n",
       "      <td>...</td>\n",
       "      <td>0.0</td>\n",
       "      <td>0.0</td>\n",
       "      <td>0.0</td>\n",
       "      <td>0.0</td>\n",
       "      <td>0.0</td>\n",
       "      <td>19183901.0</td>\n",
       "      <td>2673271.0</td>\n",
       "      <td>6146344.0</td>\n",
       "      <td>0.0</td>\n",
       "      <td>0.0</td>\n",
       "    </tr>\n",
       "    <tr>\n",
       "      <th>2</th>\n",
       "      <td>2</td>\n",
       "      <td>f5d3e683-9177-45fc-93e3-357bf7366ac4.htseq.cou...</td>\n",
       "      <td>c694615c-b1c6-499c-8058-995633ebf948</td>\n",
       "      <td>TCGA-E9-A1RF</td>\n",
       "      <td>TCGA-BRCA</td>\n",
       "      <td>female</td>\n",
       "      <td>1943</td>\n",
       "      <td>white</td>\n",
       "      <td>-25119</td>\n",
       "      <td>not hispanic or latino</td>\n",
       "      <td>...</td>\n",
       "      <td>0.0</td>\n",
       "      <td>0.0</td>\n",
       "      <td>0.0</td>\n",
       "      <td>0.0</td>\n",
       "      <td>0.0</td>\n",
       "      <td>23874394.0</td>\n",
       "      <td>2400693.0</td>\n",
       "      <td>5278313.0</td>\n",
       "      <td>0.0</td>\n",
       "      <td>0.0</td>\n",
       "    </tr>\n",
       "    <tr>\n",
       "      <th>3</th>\n",
       "      <td>3</td>\n",
       "      <td>94bedc10-62c2-4bd2-bad9-0ec08c9bf5e9.htseq.cou...</td>\n",
       "      <td>c694615c-b1c6-499c-8058-995633ebf948</td>\n",
       "      <td>TCGA-E9-A1RF</td>\n",
       "      <td>TCGA-BRCA</td>\n",
       "      <td>female</td>\n",
       "      <td>1943</td>\n",
       "      <td>white</td>\n",
       "      <td>-25119</td>\n",
       "      <td>not hispanic or latino</td>\n",
       "      <td>...</td>\n",
       "      <td>0.0</td>\n",
       "      <td>0.0</td>\n",
       "      <td>0.0</td>\n",
       "      <td>0.0</td>\n",
       "      <td>0.0</td>\n",
       "      <td>21737695.0</td>\n",
       "      <td>3123055.0</td>\n",
       "      <td>5182286.0</td>\n",
       "      <td>0.0</td>\n",
       "      <td>0.0</td>\n",
       "    </tr>\n",
       "    <tr>\n",
       "      <th>4</th>\n",
       "      <td>4</td>\n",
       "      <td>6999d309-8502-49ee-8d80-9d0bde00081f.htseq.cou...</td>\n",
       "      <td>1285eb55-415c-494a-aa58-936f0427cdd0</td>\n",
       "      <td>TCGA-V7-A7HQ</td>\n",
       "      <td>TCGA-BRCA</td>\n",
       "      <td>female</td>\n",
       "      <td>1934</td>\n",
       "      <td>black or african american</td>\n",
       "      <td>-27684</td>\n",
       "      <td>not hispanic or latino</td>\n",
       "      <td>...</td>\n",
       "      <td>0.0</td>\n",
       "      <td>0.0</td>\n",
       "      <td>0.0</td>\n",
       "      <td>0.0</td>\n",
       "      <td>0.0</td>\n",
       "      <td>20631886.0</td>\n",
       "      <td>2996831.0</td>\n",
       "      <td>2104393.0</td>\n",
       "      <td>0.0</td>\n",
       "      <td>0.0</td>\n",
       "    </tr>\n",
       "  </tbody>\n",
       "</table>\n",
       "<p>5 rows × 60532 columns</p>\n",
       "</div>"
      ],
      "text/plain": [
       "   Unnamed: 0                                          file_name  \\\n",
       "0           0  2b5c518f-8327-478a-a282-01bfe59aca4c.htseq.cou...   \n",
       "1           1  64262505-9f17-4989-94c9-fc6db56ca676.htseq.cou...   \n",
       "2           2  f5d3e683-9177-45fc-93e3-357bf7366ac4.htseq.cou...   \n",
       "3           3  94bedc10-62c2-4bd2-bad9-0ec08c9bf5e9.htseq.cou...   \n",
       "4           4  6999d309-8502-49ee-8d80-9d0bde00081f.htseq.cou...   \n",
       "\n",
       "                                case_id  submitter_id project_id  gender  \\\n",
       "0  4d0fec97-e024-4608-a0cc-426a3decc7b1  TCGA-AR-A252  TCGA-BRCA  female   \n",
       "1  bb8d42d3-ad65-4d88-ae1d-f9aadfc7962d  TCGA-AO-A1KS  TCGA-BRCA  female   \n",
       "2  c694615c-b1c6-499c-8058-995633ebf948  TCGA-E9-A1RF  TCGA-BRCA  female   \n",
       "3  c694615c-b1c6-499c-8058-995633ebf948  TCGA-E9-A1RF  TCGA-BRCA  female   \n",
       "4  1285eb55-415c-494a-aa58-936f0427cdd0  TCGA-V7-A7HQ  TCGA-BRCA  female   \n",
       "\n",
       "  year_of_birth                       race  days_to_birth  \\\n",
       "0          1957                      white         -18611   \n",
       "1          1941                      white         -25230   \n",
       "2          1943                      white         -25119   \n",
       "3          1943                      white         -25119   \n",
       "4          1934  black or african american         -27684   \n",
       "\n",
       "                ethnicity  ... ENSGR0000275287.3 ENSGR0000276543.3  \\\n",
       "0  not hispanic or latino  ...               0.0               0.0   \n",
       "1  not hispanic or latino  ...               0.0               0.0   \n",
       "2  not hispanic or latino  ...               0.0               0.0   \n",
       "3  not hispanic or latino  ...               0.0               0.0   \n",
       "4  not hispanic or latino  ...               0.0               0.0   \n",
       "\n",
       "  ENSGR0000277120.3 ENSGR0000280767.1 ENSGR0000281849.1  \\\n",
       "0               0.0               0.0               0.0   \n",
       "1               0.0               0.0               0.0   \n",
       "2               0.0               0.0               0.0   \n",
       "3               0.0               0.0               0.0   \n",
       "4               0.0               0.0               0.0   \n",
       "\n",
       "  __alignment_not_unique __ambiguous __no_feature __not_aligned  \\\n",
       "0             33323894.0   3232629.0    5808920.0           0.0   \n",
       "1             19183901.0   2673271.0    6146344.0           0.0   \n",
       "2             23874394.0   2400693.0    5278313.0           0.0   \n",
       "3             21737695.0   3123055.0    5182286.0           0.0   \n",
       "4             20631886.0   2996831.0    2104393.0           0.0   \n",
       "\n",
       "  __too_low_aQual  \n",
       "0             0.0  \n",
       "1             0.0  \n",
       "2             0.0  \n",
       "3             0.0  \n",
       "4             0.0  \n",
       "\n",
       "[5 rows x 60532 columns]"
      ]
     },
     "execution_count": 2,
     "metadata": {},
     "output_type": "execute_result"
    }
   ],
   "source": [
    "df = pd.read_csv('breast_cancer_staging.csv')\n",
    "df.head()"
   ]
  },
  {
   "cell_type": "markdown",
   "metadata": {},
   "source": [
    "# Gens expressions"
   ]
  },
  {
   "cell_type": "code",
   "execution_count": 20,
   "metadata": {},
   "outputs": [],
   "source": [
    "def check_significant_features(feature):\n",
    "    print(feature.value_counts())\n",
    "    \n",
    "gens = df.drop(columns=['Unnamed: 0', 'file_name', 'case_id', 'submitter_id', 'project_id',\n",
    "       'gender', 'year_of_birth', 'race', 'days_to_birth', 'ethnicity', 'vital_status', 'days_to_death', 'age_at_index', 'year_of_death',\n",
    "       'year_of_diagnosis', 'classification_of_tumor',\n",
    "       'last_known_disease_status', 'primary_diagnosis', 'tumor_stage',\n",
    "       'age_at_diagnosis', 'morphology', 'days_to_last_known_disease_status', 'prior_treatment',\n",
    "       'days_to_recurrence', 'tumor_grade', 'icd_10_code', 'days_to_diagnosis',\n",
    "       'tissue_or_organ_of_origin', 'progression_or_recurrence',\n",
    "       'prior_malignancy', 'synchronous_malignancy', 'site_of_resection_or_biopsy',\n",
    "       'days_to_last_follow_up', 'days_to_treatment_start', 'treatment_effect',\n",
    "       'initial_disease_status', 'treatment_type', 'therapeutic_agents',\n",
    "       'regimen_or_line_of_therapy', 'treatment_intent_type', 'treatment_anatomic_site', 'treatment_outcome', 'days_to_treatment_end',\n",
    "       'treatment_or_therapy', '__alignment_not_unique',\n",
    "       '__ambiguous', '__no_feature', '__not_aligned', '__too_low_aQual'])\n",
    "\n",
    "# gens.apply(check_significant_features, axis=0)\n",
    "\n",
    "gens_varieties = gens.nunique()"
   ]
  },
  {
   "cell_type": "code",
   "execution_count": 37,
   "metadata": {},
   "outputs": [
    {
     "name": "stdout",
     "output_type": "stream",
     "text": [
      "The total number of gens we have is 60483\n",
      "But 3.67 % have the same value for all the dataset\n"
     ]
    }
   ],
   "source": [
    "percentage_of_non_varying = np.round(float(len(gens_varieties[gens_varieties == 1]))*100/len(gens_varieties), 2)\n",
    "print(f\"\"\"The total number of gens we have is {len(gens_varieties)}\n",
    "But {percentage_of_non_varying} % have the same value for all the dataset\"\"\")"
   ]
  },
  {
   "cell_type": "code",
   "execution_count": 41,
   "metadata": {
    "scrolled": true
   },
   "outputs": [
    {
     "data": {
      "text/plain": [
       "array(['ENSG00000100146.15', 'ENSG00000100219.15', 'ENSG00000100249.4',\n",
       "       ..., 'ENSGR0000277120.3', 'ENSGR0000280767.1', 'ENSGR0000281849.1'],\n",
       "      dtype=object)"
      ]
     },
     "execution_count": 41,
     "metadata": {},
     "output_type": "execute_result"
    }
   ],
   "source": [
    "insignificant_gens = np.array(gens_varieties[gens_varieties == 1].index)\n",
    "insignificant_gens"
   ]
  },
  {
   "cell_type": "markdown",
   "metadata": {},
   "source": [
    "### Dropping unsignificant gens from df"
   ]
  },
  {
   "cell_type": "code",
   "execution_count": 42,
   "metadata": {},
   "outputs": [],
   "source": [
    "df = df.drop(columns=insignificant_gens)"
   ]
  },
  {
   "cell_type": "code",
   "execution_count": 43,
   "metadata": {
    "scrolled": true
   },
   "outputs": [
    {
     "data": {
      "text/plain": [
       "(1164, 58312)"
      ]
     },
     "execution_count": 43,
     "metadata": {},
     "output_type": "execute_result"
    }
   ],
   "source": [
    "df.shape"
   ]
  },
  {
   "cell_type": "code",
   "execution_count": 49,
   "metadata": {
    "scrolled": true
   },
   "outputs": [
    {
     "data": {
      "text/plain": [
       "0.0     979\n",
       "1.0     128\n",
       "2.0      32\n",
       "4.0       7\n",
       "3.0       4\n",
       "6.0       3\n",
       "19.0      2\n",
       "24.0      2\n",
       "10.0      2\n",
       "11.0      2\n",
       "17.0      1\n",
       "5.0       1\n",
       "13.0      1\n",
       "Name: ENSG00000281910.1, dtype: int64"
      ]
     },
     "execution_count": 49,
     "metadata": {},
     "output_type": "execute_result"
    }
   ],
   "source": [
    "df['ENSG00000281910.1'].value_counts()"
   ]
  },
  {
   "cell_type": "markdown",
   "metadata": {},
   "source": [
    "# Clinical info\n"
   ]
  },
  {
   "cell_type": "code",
   "execution_count": 50,
   "metadata": {},
   "outputs": [
    {
     "data": {
      "text/plain": [
       "Index(['Unnamed: 0', 'file_name', 'case_id', 'submitter_id', 'project_id',\n",
       "       'gender', 'year_of_birth', 'race', 'days_to_birth', 'ethnicity',\n",
       "       ...\n",
       "       'ENSG00000281910.1', 'ENSG00000281912.1', 'ENSG00000281918.1',\n",
       "       'ENSG00000281920.1', 'ENSG00000281921.1', '__alignment_not_unique',\n",
       "       '__ambiguous', '__no_feature', '__not_aligned', '__too_low_aQual'],\n",
       "      dtype='object', length=58312)"
      ]
     },
     "execution_count": 50,
     "metadata": {},
     "output_type": "execute_result"
    }
   ],
   "source": [
    "df.columns"
   ]
  },
  {
   "cell_type": "markdown",
   "metadata": {},
   "source": [
    "### Year of birth"
   ]
  },
  {
   "cell_type": "code",
   "execution_count": 62,
   "metadata": {
    "scrolled": false
   },
   "outputs": [
    {
     "data": {
      "text/plain": [
       "4    1162\n",
       "2       2\n",
       "Name: year_of_birth, dtype: int64"
      ]
     },
     "execution_count": 62,
     "metadata": {},
     "output_type": "execute_result"
    }
   ],
   "source": [
    "df['year_of_birth'].astype(str).str.len().value_counts()"
   ]
  },
  {
   "cell_type": "markdown",
   "metadata": {},
   "source": [
    "So there is 2 rows where the years have 2 digits"
   ]
  },
  {
   "cell_type": "code",
   "execution_count": 64,
   "metadata": {
    "scrolled": true
   },
   "outputs": [
    {
     "data": {
      "text/plain": [
       "762    --\n",
       "866    --\n",
       "Name: year_of_birth, dtype: object"
      ]
     },
     "execution_count": 64,
     "metadata": {},
     "output_type": "execute_result"
    }
   ],
   "source": [
    "df[df['year_of_birth'].astype(str).str.len() == 2]['year_of_birth']"
   ]
  },
  {
   "cell_type": "markdown",
   "metadata": {},
   "source": [
    "We should replace this for nan"
   ]
  },
  {
   "cell_type": "code",
   "execution_count": 66,
   "metadata": {},
   "outputs": [],
   "source": [
    "indexes_to_replace = df[df['year_of_birth'].astype(str).str.len() == 2]['year_of_birth'].index\n",
    "df.loc[indexes_to_replace, 'year_of_birth'] = np.nan"
   ]
  },
  {
   "cell_type": "code",
   "execution_count": 75,
   "metadata": {},
   "outputs": [
    {
     "data": {
      "text/plain": [
       "Index([  1953,   1946,   1948,   1964,   1949,   1947,   1951,   1945,   1960,\n",
       "         1962,   1940,   1954,   1952,   1957,   1958,   1943,   1944,   1967,\n",
       "         1963,   1950,   1941,   1939,   1956,   1955,   1966,   1961,   1936,\n",
       "         1959,   1965,   1931,   1942,   1928,   1938,   1933,   1969,   1934,\n",
       "         1968,   1929,   1930,   1972,   1924,   1937,   1932,   1971,   1970,\n",
       "         1935,   1925,   1922,   1926,   1921,   1927,   1919,   1920,   1974,\n",
       "         1977,   1973,   1976,   1923,   1917,   1918,   1978,   1979, '1916',\n",
       "       '1920',   1983,   1984, '1938',   1916, '1954',   1981,   1913, '1950',\n",
       "         1910, '1952',   1909, '1942', '1965', '1937',   1914, '1946', '1941',\n",
       "       '1940',   1980, '1951', '1948', '1944',   1975, '1930', '1969', '1958',\n",
       "       '1939', '1924',   1902, '1947', '1966', '1928', '1960'],\n",
       "      dtype='object')"
      ]
     },
     "execution_count": 75,
     "metadata": {},
     "output_type": "execute_result"
    }
   ],
   "source": [
    "df['year_of_birth'].value_counts().index"
   ]
  },
  {
   "cell_type": "markdown",
   "metadata": {},
   "source": [
    "We see that they are still kind of messy, some of them have '' others not"
   ]
  },
  {
   "cell_type": "code",
   "execution_count": 81,
   "metadata": {
    "scrolled": true
   },
   "outputs": [
    {
     "data": {
      "text/plain": [
       "Index(['1954', '1938', '1916', '1952', '1920', '1950', '1951', '1941', '1947',\n",
       "       '1966', '1960', '1969', '1928', '1940', '1946', '1930', '1958', '1924',\n",
       "       '1939', '1937', '1944', '1965', '1942', '1948'],\n",
       "      dtype='object')"
      ]
     },
     "execution_count": 81,
     "metadata": {},
     "output_type": "execute_result"
    }
   ],
   "source": [
    "df['year_of_birth'] = df['year_of_birth'].str.strip(\"'\")\n",
    "df['year_of_birth'].value_counts().index"
   ]
  },
  {
   "cell_type": "markdown",
   "metadata": {},
   "source": [
    "### Race"
   ]
  },
  {
   "cell_type": "code",
   "execution_count": 84,
   "metadata": {},
   "outputs": [
    {
     "data": {
      "text/plain": [
       "white                               832\n",
       "black or african american           180\n",
       "not reported                         94\n",
       "asian                                57\n",
       "american indian or alaska native      1\n",
       "Name: race, dtype: int64"
      ]
     },
     "execution_count": 84,
     "metadata": {},
     "output_type": "execute_result"
    }
   ],
   "source": [
    "df['race'].value_counts()"
   ]
  },
  {
   "cell_type": "markdown",
   "metadata": {},
   "source": [
    "What can we do with this only `american indian or alaska native` row? Drop it?"
   ]
  },
  {
   "cell_type": "code",
   "execution_count": 85,
   "metadata": {},
   "outputs": [
    {
     "data": {
      "text/plain": [
       "not hispanic or latino    918\n",
       "not reported              195\n",
       "hispanic or latino         36\n",
       "Alive                      15\n",
       "Name: ethnicity, dtype: int64"
      ]
     },
     "execution_count": 85,
     "metadata": {},
     "output_type": "execute_result"
    }
   ],
   "source": [
    "df['ethnicity'].value_counts()"
   ]
  },
  {
   "cell_type": "code",
   "execution_count": null,
   "metadata": {},
   "outputs": [],
   "source": []
  },
  {
   "cell_type": "code",
   "execution_count": null,
   "metadata": {},
   "outputs": [],
   "source": []
  },
  {
   "cell_type": "code",
   "execution_count": null,
   "metadata": {},
   "outputs": [],
   "source": []
  },
  {
   "cell_type": "code",
   "execution_count": null,
   "metadata": {},
   "outputs": [],
   "source": []
  },
  {
   "cell_type": "code",
   "execution_count": null,
   "metadata": {},
   "outputs": [],
   "source": []
  },
  {
   "cell_type": "markdown",
   "metadata": {},
   "source": [
    "# Persist it after changing it"
   ]
  },
  {
   "cell_type": "code",
   "execution_count": 82,
   "metadata": {},
   "outputs": [
    {
     "ename": "KeyboardInterrupt",
     "evalue": "",
     "output_type": "error",
     "traceback": [
      "\u001b[0;31m---------------------------------------------------------------------------\u001b[0m",
      "\u001b[0;31mKeyboardInterrupt\u001b[0m                         Traceback (most recent call last)",
      "\u001b[0;32m<ipython-input-82-f99022ecbae9>\u001b[0m in \u001b[0;36m<module>\u001b[0;34m\u001b[0m\n\u001b[0;32m----> 1\u001b[0;31m \u001b[0mdf\u001b[0m\u001b[0;34m.\u001b[0m\u001b[0mto_csv\u001b[0m\u001b[0;34m(\u001b[0m\u001b[0;34m'cleaned_dataset.csv'\u001b[0m\u001b[0;34m)\u001b[0m\u001b[0;34m\u001b[0m\u001b[0;34m\u001b[0m\u001b[0m\n\u001b[0m",
      "\u001b[0;32m/Library/Frameworks/Python.framework/Versions/3.6/lib/python3.6/site-packages/pandas/core/generic.py\u001b[0m in \u001b[0;36mto_csv\u001b[0;34m(self, path_or_buf, sep, na_rep, float_format, columns, header, index, index_label, mode, encoding, compression, quoting, quotechar, line_terminator, chunksize, date_format, doublequote, escapechar, decimal)\u001b[0m\n\u001b[1;32m   3227\u001b[0m             \u001b[0mdecimal\u001b[0m\u001b[0;34m=\u001b[0m\u001b[0mdecimal\u001b[0m\u001b[0;34m,\u001b[0m\u001b[0;34m\u001b[0m\u001b[0;34m\u001b[0m\u001b[0m\n\u001b[1;32m   3228\u001b[0m         )\n\u001b[0;32m-> 3229\u001b[0;31m         \u001b[0mformatter\u001b[0m\u001b[0;34m.\u001b[0m\u001b[0msave\u001b[0m\u001b[0;34m(\u001b[0m\u001b[0;34m)\u001b[0m\u001b[0;34m\u001b[0m\u001b[0;34m\u001b[0m\u001b[0m\n\u001b[0m\u001b[1;32m   3230\u001b[0m \u001b[0;34m\u001b[0m\u001b[0m\n\u001b[1;32m   3231\u001b[0m         \u001b[0;32mif\u001b[0m \u001b[0mpath_or_buf\u001b[0m \u001b[0;32mis\u001b[0m \u001b[0;32mNone\u001b[0m\u001b[0;34m:\u001b[0m\u001b[0;34m\u001b[0m\u001b[0;34m\u001b[0m\u001b[0m\n",
      "\u001b[0;32m/Library/Frameworks/Python.framework/Versions/3.6/lib/python3.6/site-packages/pandas/io/formats/csvs.py\u001b[0m in \u001b[0;36msave\u001b[0;34m(self)\u001b[0m\n\u001b[1;32m    200\u001b[0m                 \u001b[0mself\u001b[0m\u001b[0;34m.\u001b[0m\u001b[0mwriter\u001b[0m \u001b[0;34m=\u001b[0m \u001b[0mUnicodeWriter\u001b[0m\u001b[0;34m(\u001b[0m\u001b[0mf\u001b[0m\u001b[0;34m,\u001b[0m \u001b[0;34m**\u001b[0m\u001b[0mwriter_kwargs\u001b[0m\u001b[0;34m)\u001b[0m\u001b[0;34m\u001b[0m\u001b[0;34m\u001b[0m\u001b[0m\n\u001b[1;32m    201\u001b[0m \u001b[0;34m\u001b[0m\u001b[0m\n\u001b[0;32m--> 202\u001b[0;31m             \u001b[0mself\u001b[0m\u001b[0;34m.\u001b[0m\u001b[0m_save\u001b[0m\u001b[0;34m(\u001b[0m\u001b[0;34m)\u001b[0m\u001b[0;34m\u001b[0m\u001b[0;34m\u001b[0m\u001b[0m\n\u001b[0m\u001b[1;32m    203\u001b[0m \u001b[0;34m\u001b[0m\u001b[0m\n\u001b[1;32m    204\u001b[0m         \u001b[0;32mfinally\u001b[0m\u001b[0;34m:\u001b[0m\u001b[0;34m\u001b[0m\u001b[0;34m\u001b[0m\u001b[0m\n",
      "\u001b[0;32m/Library/Frameworks/Python.framework/Versions/3.6/lib/python3.6/site-packages/pandas/io/formats/csvs.py\u001b[0m in \u001b[0;36m_save\u001b[0;34m(self)\u001b[0m\n\u001b[1;32m    322\u001b[0m                 \u001b[0;32mbreak\u001b[0m\u001b[0;34m\u001b[0m\u001b[0;34m\u001b[0m\u001b[0m\n\u001b[1;32m    323\u001b[0m \u001b[0;34m\u001b[0m\u001b[0m\n\u001b[0;32m--> 324\u001b[0;31m             \u001b[0mself\u001b[0m\u001b[0;34m.\u001b[0m\u001b[0m_save_chunk\u001b[0m\u001b[0;34m(\u001b[0m\u001b[0mstart_i\u001b[0m\u001b[0;34m,\u001b[0m \u001b[0mend_i\u001b[0m\u001b[0;34m)\u001b[0m\u001b[0;34m\u001b[0m\u001b[0;34m\u001b[0m\u001b[0m\n\u001b[0m\u001b[1;32m    325\u001b[0m \u001b[0;34m\u001b[0m\u001b[0m\n\u001b[1;32m    326\u001b[0m     \u001b[0;32mdef\u001b[0m \u001b[0m_save_chunk\u001b[0m\u001b[0;34m(\u001b[0m\u001b[0mself\u001b[0m\u001b[0;34m,\u001b[0m \u001b[0mstart_i\u001b[0m\u001b[0;34m,\u001b[0m \u001b[0mend_i\u001b[0m\u001b[0;34m)\u001b[0m\u001b[0;34m:\u001b[0m\u001b[0;34m\u001b[0m\u001b[0;34m\u001b[0m\u001b[0m\n",
      "\u001b[0;32m/Library/Frameworks/Python.framework/Versions/3.6/lib/python3.6/site-packages/pandas/io/formats/csvs.py\u001b[0m in \u001b[0;36m_save_chunk\u001b[0;34m(self, start_i, end_i)\u001b[0m\n\u001b[1;32m    338\u001b[0m                 \u001b[0mdecimal\u001b[0m\u001b[0;34m=\u001b[0m\u001b[0mself\u001b[0m\u001b[0;34m.\u001b[0m\u001b[0mdecimal\u001b[0m\u001b[0;34m,\u001b[0m\u001b[0;34m\u001b[0m\u001b[0;34m\u001b[0m\u001b[0m\n\u001b[1;32m    339\u001b[0m                 \u001b[0mdate_format\u001b[0m\u001b[0;34m=\u001b[0m\u001b[0mself\u001b[0m\u001b[0;34m.\u001b[0m\u001b[0mdate_format\u001b[0m\u001b[0;34m,\u001b[0m\u001b[0;34m\u001b[0m\u001b[0;34m\u001b[0m\u001b[0m\n\u001b[0;32m--> 340\u001b[0;31m                 \u001b[0mquoting\u001b[0m\u001b[0;34m=\u001b[0m\u001b[0mself\u001b[0m\u001b[0;34m.\u001b[0m\u001b[0mquoting\u001b[0m\u001b[0;34m,\u001b[0m\u001b[0;34m\u001b[0m\u001b[0;34m\u001b[0m\u001b[0m\n\u001b[0m\u001b[1;32m    341\u001b[0m             )\n\u001b[1;32m    342\u001b[0m \u001b[0;34m\u001b[0m\u001b[0m\n",
      "\u001b[0;32m/Library/Frameworks/Python.framework/Versions/3.6/lib/python3.6/site-packages/pandas/core/internals/blocks.py\u001b[0m in \u001b[0;36mto_native_types\u001b[0;34m(self, slicer, na_rep, float_format, decimal, quoting, **kwargs)\u001b[0m\n\u001b[1;32m   2112\u001b[0m \u001b[0;34m\u001b[0m\u001b[0m\n\u001b[1;32m   2113\u001b[0m             \u001b[0;32mif\u001b[0m \u001b[0;32mnot\u001b[0m \u001b[0mquoting\u001b[0m\u001b[0;34m:\u001b[0m\u001b[0;34m\u001b[0m\u001b[0;34m\u001b[0m\u001b[0m\n\u001b[0;32m-> 2114\u001b[0;31m                 \u001b[0mvalues\u001b[0m \u001b[0;34m=\u001b[0m \u001b[0mvalues\u001b[0m\u001b[0;34m.\u001b[0m\u001b[0mastype\u001b[0m\u001b[0;34m(\u001b[0m\u001b[0mstr\u001b[0m\u001b[0;34m)\u001b[0m\u001b[0;34m\u001b[0m\u001b[0;34m\u001b[0m\u001b[0m\n\u001b[0m\u001b[1;32m   2115\u001b[0m             \u001b[0;32melse\u001b[0m\u001b[0;34m:\u001b[0m\u001b[0;34m\u001b[0m\u001b[0;34m\u001b[0m\u001b[0m\n\u001b[1;32m   2116\u001b[0m                 \u001b[0mvalues\u001b[0m \u001b[0;34m=\u001b[0m \u001b[0mnp\u001b[0m\u001b[0;34m.\u001b[0m\u001b[0marray\u001b[0m\u001b[0;34m(\u001b[0m\u001b[0mvalues\u001b[0m\u001b[0;34m,\u001b[0m \u001b[0mdtype\u001b[0m\u001b[0;34m=\u001b[0m\u001b[0;34m\"object\"\u001b[0m\u001b[0;34m)\u001b[0m\u001b[0;34m\u001b[0m\u001b[0;34m\u001b[0m\u001b[0m\n",
      "\u001b[0;31mKeyboardInterrupt\u001b[0m: "
     ]
    }
   ],
   "source": [
    "df.to_csv('cleaned_dataset.csv')"
   ]
  }
 ],
 "metadata": {
  "kernelspec": {
   "display_name": "Python 3",
   "language": "python",
   "name": "python3"
  },
  "language_info": {
   "codemirror_mode": {
    "name": "ipython",
    "version": 3
   },
   "file_extension": ".py",
   "mimetype": "text/x-python",
   "name": "python",
   "nbconvert_exporter": "python",
   "pygments_lexer": "ipython3",
   "version": "3.6.8"
  }
 },
 "nbformat": 4,
 "nbformat_minor": 2
}
