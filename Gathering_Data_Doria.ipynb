{
 "cells": [
  {
   "cell_type": "code",
   "execution_count": 1,
   "metadata": {
    "ExecuteTime": {
     "end_time": "2019-08-19T13:24:56.297159Z",
     "start_time": "2019-08-19T13:24:45.362941Z"
    }
   },
   "outputs": [],
   "source": [
    "import pandas as pd\n",
    "import json\n",
    "import gzip\n",
    "import os\n",
    "import numpy as np\n",
    "import sys\n",
    "from tqdm import tqdm"
   ]
  },
  {
   "cell_type": "markdown",
   "metadata": {},
   "source": [
    "# Gathering all of the data"
   ]
  },
  {
   "cell_type": "markdown",
   "metadata": {},
   "source": [
    "## Mapping DF"
   ]
  },
  {
   "cell_type": "code",
   "execution_count": 2,
   "metadata": {
    "ExecuteTime": {
     "end_time": "2019-08-19T13:25:05.286777Z",
     "start_time": "2019-08-19T13:25:05.164130Z"
    }
   },
   "outputs": [
    {
     "data": {
      "text/html": [
       "<div>\n",
       "<style scoped>\n",
       "    .dataframe tbody tr th:only-of-type {\n",
       "        vertical-align: middle;\n",
       "    }\n",
       "\n",
       "    .dataframe tbody tr th {\n",
       "        vertical-align: top;\n",
       "    }\n",
       "\n",
       "    .dataframe thead th {\n",
       "        text-align: right;\n",
       "    }\n",
       "</style>\n",
       "<table border=\"1\" class=\"dataframe\">\n",
       "  <thead>\n",
       "    <tr style=\"text-align: right;\">\n",
       "      <th></th>\n",
       "      <th>file_name</th>\n",
       "      <th>data_format</th>\n",
       "      <th>access</th>\n",
       "      <th>data_category</th>\n",
       "      <th>file_size</th>\n",
       "      <th>cases</th>\n",
       "      <th>annotations</th>\n",
       "    </tr>\n",
       "  </thead>\n",
       "  <tbody>\n",
       "    <tr>\n",
       "      <th>0</th>\n",
       "      <td>2b5c518f-8327-478a-a282-01bfe59aca4c.htseq.cou...</td>\n",
       "      <td>TXT</td>\n",
       "      <td>open</td>\n",
       "      <td>Transcriptome Profiling</td>\n",
       "      <td>257725</td>\n",
       "      <td>[{'project': {'project_id': 'TCGA-BRCA'}, 'cas...</td>\n",
       "      <td>NaN</td>\n",
       "    </tr>\n",
       "    <tr>\n",
       "      <th>1</th>\n",
       "      <td>64262505-9f17-4989-94c9-fc6db56ca676.htseq.cou...</td>\n",
       "      <td>TXT</td>\n",
       "      <td>open</td>\n",
       "      <td>Transcriptome Profiling</td>\n",
       "      <td>256496</td>\n",
       "      <td>[{'project': {'project_id': 'TCGA-BRCA'}, 'cas...</td>\n",
       "      <td>NaN</td>\n",
       "    </tr>\n",
       "    <tr>\n",
       "      <th>2</th>\n",
       "      <td>f5d3e683-9177-45fc-93e3-357bf7366ac4.htseq.cou...</td>\n",
       "      <td>TXT</td>\n",
       "      <td>open</td>\n",
       "      <td>Transcriptome Profiling</td>\n",
       "      <td>252976</td>\n",
       "      <td>[{'project': {'project_id': 'TCGA-BRCA'}, 'cas...</td>\n",
       "      <td>NaN</td>\n",
       "    </tr>\n",
       "    <tr>\n",
       "      <th>3</th>\n",
       "      <td>6999d309-8502-49ee-8d80-9d0bde00081f.htseq.cou...</td>\n",
       "      <td>TXT</td>\n",
       "      <td>open</td>\n",
       "      <td>Transcriptome Profiling</td>\n",
       "      <td>250749</td>\n",
       "      <td>[{'project': {'project_id': 'TCGA-BRCA'}, 'cas...</td>\n",
       "      <td>NaN</td>\n",
       "    </tr>\n",
       "    <tr>\n",
       "      <th>4</th>\n",
       "      <td>aa623193-428e-41b8-b051-2d9693d852f8.htseq.cou...</td>\n",
       "      <td>TXT</td>\n",
       "      <td>open</td>\n",
       "      <td>Transcriptome Profiling</td>\n",
       "      <td>259222</td>\n",
       "      <td>[{'project': {'project_id': 'TCGA-BRCA'}, 'cas...</td>\n",
       "      <td>NaN</td>\n",
       "    </tr>\n",
       "  </tbody>\n",
       "</table>\n",
       "</div>"
      ],
      "text/plain": [
       "                                           file_name data_format access  \\\n",
       "0  2b5c518f-8327-478a-a282-01bfe59aca4c.htseq.cou...         TXT   open   \n",
       "1  64262505-9f17-4989-94c9-fc6db56ca676.htseq.cou...         TXT   open   \n",
       "2  f5d3e683-9177-45fc-93e3-357bf7366ac4.htseq.cou...         TXT   open   \n",
       "3  6999d309-8502-49ee-8d80-9d0bde00081f.htseq.cou...         TXT   open   \n",
       "4  aa623193-428e-41b8-b051-2d9693d852f8.htseq.cou...         TXT   open   \n",
       "\n",
       "             data_category  file_size  \\\n",
       "0  Transcriptome Profiling     257725   \n",
       "1  Transcriptome Profiling     256496   \n",
       "2  Transcriptome Profiling     252976   \n",
       "3  Transcriptome Profiling     250749   \n",
       "4  Transcriptome Profiling     259222   \n",
       "\n",
       "                                               cases annotations  \n",
       "0  [{'project': {'project_id': 'TCGA-BRCA'}, 'cas...         NaN  \n",
       "1  [{'project': {'project_id': 'TCGA-BRCA'}, 'cas...         NaN  \n",
       "2  [{'project': {'project_id': 'TCGA-BRCA'}, 'cas...         NaN  \n",
       "3  [{'project': {'project_id': 'TCGA-BRCA'}, 'cas...         NaN  \n",
       "4  [{'project': {'project_id': 'TCGA-BRCA'}, 'cas...         NaN  "
      ]
     },
     "execution_count": 2,
     "metadata": {},
     "output_type": "execute_result"
    }
   ],
   "source": [
    "df = pd.read_json('files-cases.json')\n",
    "df.head()"
   ]
  },
  {
   "cell_type": "code",
   "execution_count": 3,
   "metadata": {
    "ExecuteTime": {
     "end_time": "2019-08-19T13:25:09.503911Z",
     "start_time": "2019-08-19T13:25:09.424032Z"
    },
    "scrolled": true
   },
   "outputs": [],
   "source": [
    "def extract_case_id(row):\n",
    "    cases = row['cases']\n",
    "    return cases[0]['case_id']\n",
    "    \n",
    "\n",
    "df['case_id'] = df.apply(extract_case_id, axis=1)"
   ]
  },
  {
   "cell_type": "code",
   "execution_count": 4,
   "metadata": {
    "ExecuteTime": {
     "end_time": "2019-08-19T13:25:12.807277Z",
     "start_time": "2019-08-19T13:25:12.782345Z"
    }
   },
   "outputs": [
    {
     "data": {
      "text/html": [
       "<div>\n",
       "<style scoped>\n",
       "    .dataframe tbody tr th:only-of-type {\n",
       "        vertical-align: middle;\n",
       "    }\n",
       "\n",
       "    .dataframe tbody tr th {\n",
       "        vertical-align: top;\n",
       "    }\n",
       "\n",
       "    .dataframe thead th {\n",
       "        text-align: right;\n",
       "    }\n",
       "</style>\n",
       "<table border=\"1\" class=\"dataframe\">\n",
       "  <thead>\n",
       "    <tr style=\"text-align: right;\">\n",
       "      <th></th>\n",
       "      <th>file_name</th>\n",
       "      <th>data_format</th>\n",
       "      <th>access</th>\n",
       "      <th>data_category</th>\n",
       "      <th>file_size</th>\n",
       "      <th>cases</th>\n",
       "      <th>annotations</th>\n",
       "      <th>case_id</th>\n",
       "    </tr>\n",
       "  </thead>\n",
       "  <tbody>\n",
       "    <tr>\n",
       "      <th>0</th>\n",
       "      <td>2b5c518f-8327-478a-a282-01bfe59aca4c.htseq.cou...</td>\n",
       "      <td>TXT</td>\n",
       "      <td>open</td>\n",
       "      <td>Transcriptome Profiling</td>\n",
       "      <td>257725</td>\n",
       "      <td>[{'project': {'project_id': 'TCGA-BRCA'}, 'cas...</td>\n",
       "      <td>NaN</td>\n",
       "      <td>4d0fec97-e024-4608-a0cc-426a3decc7b1</td>\n",
       "    </tr>\n",
       "    <tr>\n",
       "      <th>1</th>\n",
       "      <td>64262505-9f17-4989-94c9-fc6db56ca676.htseq.cou...</td>\n",
       "      <td>TXT</td>\n",
       "      <td>open</td>\n",
       "      <td>Transcriptome Profiling</td>\n",
       "      <td>256496</td>\n",
       "      <td>[{'project': {'project_id': 'TCGA-BRCA'}, 'cas...</td>\n",
       "      <td>NaN</td>\n",
       "      <td>bb8d42d3-ad65-4d88-ae1d-f9aadfc7962d</td>\n",
       "    </tr>\n",
       "    <tr>\n",
       "      <th>2</th>\n",
       "      <td>f5d3e683-9177-45fc-93e3-357bf7366ac4.htseq.cou...</td>\n",
       "      <td>TXT</td>\n",
       "      <td>open</td>\n",
       "      <td>Transcriptome Profiling</td>\n",
       "      <td>252976</td>\n",
       "      <td>[{'project': {'project_id': 'TCGA-BRCA'}, 'cas...</td>\n",
       "      <td>NaN</td>\n",
       "      <td>c694615c-b1c6-499c-8058-995633ebf948</td>\n",
       "    </tr>\n",
       "    <tr>\n",
       "      <th>3</th>\n",
       "      <td>6999d309-8502-49ee-8d80-9d0bde00081f.htseq.cou...</td>\n",
       "      <td>TXT</td>\n",
       "      <td>open</td>\n",
       "      <td>Transcriptome Profiling</td>\n",
       "      <td>250749</td>\n",
       "      <td>[{'project': {'project_id': 'TCGA-BRCA'}, 'cas...</td>\n",
       "      <td>NaN</td>\n",
       "      <td>1285eb55-415c-494a-aa58-936f0427cdd0</td>\n",
       "    </tr>\n",
       "    <tr>\n",
       "      <th>4</th>\n",
       "      <td>aa623193-428e-41b8-b051-2d9693d852f8.htseq.cou...</td>\n",
       "      <td>TXT</td>\n",
       "      <td>open</td>\n",
       "      <td>Transcriptome Profiling</td>\n",
       "      <td>259222</td>\n",
       "      <td>[{'project': {'project_id': 'TCGA-BRCA'}, 'cas...</td>\n",
       "      <td>NaN</td>\n",
       "      <td>6e126b73-d3e8-4641-a128-306f3b313e40</td>\n",
       "    </tr>\n",
       "  </tbody>\n",
       "</table>\n",
       "</div>"
      ],
      "text/plain": [
       "                                           file_name data_format access  \\\n",
       "0  2b5c518f-8327-478a-a282-01bfe59aca4c.htseq.cou...         TXT   open   \n",
       "1  64262505-9f17-4989-94c9-fc6db56ca676.htseq.cou...         TXT   open   \n",
       "2  f5d3e683-9177-45fc-93e3-357bf7366ac4.htseq.cou...         TXT   open   \n",
       "3  6999d309-8502-49ee-8d80-9d0bde00081f.htseq.cou...         TXT   open   \n",
       "4  aa623193-428e-41b8-b051-2d9693d852f8.htseq.cou...         TXT   open   \n",
       "\n",
       "             data_category  file_size  \\\n",
       "0  Transcriptome Profiling     257725   \n",
       "1  Transcriptome Profiling     256496   \n",
       "2  Transcriptome Profiling     252976   \n",
       "3  Transcriptome Profiling     250749   \n",
       "4  Transcriptome Profiling     259222   \n",
       "\n",
       "                                               cases annotations  \\\n",
       "0  [{'project': {'project_id': 'TCGA-BRCA'}, 'cas...         NaN   \n",
       "1  [{'project': {'project_id': 'TCGA-BRCA'}, 'cas...         NaN   \n",
       "2  [{'project': {'project_id': 'TCGA-BRCA'}, 'cas...         NaN   \n",
       "3  [{'project': {'project_id': 'TCGA-BRCA'}, 'cas...         NaN   \n",
       "4  [{'project': {'project_id': 'TCGA-BRCA'}, 'cas...         NaN   \n",
       "\n",
       "                                case_id  \n",
       "0  4d0fec97-e024-4608-a0cc-426a3decc7b1  \n",
       "1  bb8d42d3-ad65-4d88-ae1d-f9aadfc7962d  \n",
       "2  c694615c-b1c6-499c-8058-995633ebf948  \n",
       "3  1285eb55-415c-494a-aa58-936f0427cdd0  \n",
       "4  6e126b73-d3e8-4641-a128-306f3b313e40  "
      ]
     },
     "execution_count": 4,
     "metadata": {},
     "output_type": "execute_result"
    }
   ],
   "source": [
    "df.head()"
   ]
  },
  {
   "cell_type": "code",
   "execution_count": 5,
   "metadata": {
    "ExecuteTime": {
     "end_time": "2019-08-19T13:25:17.582421Z",
     "start_time": "2019-08-19T13:25:17.575441Z"
    }
   },
   "outputs": [],
   "source": [
    "mapping_df = df[['file_name', 'case_id']]"
   ]
  },
  {
   "cell_type": "code",
   "execution_count": 6,
   "metadata": {
    "ExecuteTime": {
     "end_time": "2019-08-19T13:25:18.268063Z",
     "start_time": "2019-08-19T13:25:18.257093Z"
    },
    "scrolled": true
   },
   "outputs": [
    {
     "data": {
      "text/html": [
       "<div>\n",
       "<style scoped>\n",
       "    .dataframe tbody tr th:only-of-type {\n",
       "        vertical-align: middle;\n",
       "    }\n",
       "\n",
       "    .dataframe tbody tr th {\n",
       "        vertical-align: top;\n",
       "    }\n",
       "\n",
       "    .dataframe thead th {\n",
       "        text-align: right;\n",
       "    }\n",
       "</style>\n",
       "<table border=\"1\" class=\"dataframe\">\n",
       "  <thead>\n",
       "    <tr style=\"text-align: right;\">\n",
       "      <th></th>\n",
       "      <th>file_name</th>\n",
       "      <th>case_id</th>\n",
       "    </tr>\n",
       "  </thead>\n",
       "  <tbody>\n",
       "    <tr>\n",
       "      <th>0</th>\n",
       "      <td>2b5c518f-8327-478a-a282-01bfe59aca4c.htseq.cou...</td>\n",
       "      <td>4d0fec97-e024-4608-a0cc-426a3decc7b1</td>\n",
       "    </tr>\n",
       "    <tr>\n",
       "      <th>1</th>\n",
       "      <td>64262505-9f17-4989-94c9-fc6db56ca676.htseq.cou...</td>\n",
       "      <td>bb8d42d3-ad65-4d88-ae1d-f9aadfc7962d</td>\n",
       "    </tr>\n",
       "    <tr>\n",
       "      <th>2</th>\n",
       "      <td>f5d3e683-9177-45fc-93e3-357bf7366ac4.htseq.cou...</td>\n",
       "      <td>c694615c-b1c6-499c-8058-995633ebf948</td>\n",
       "    </tr>\n",
       "    <tr>\n",
       "      <th>3</th>\n",
       "      <td>6999d309-8502-49ee-8d80-9d0bde00081f.htseq.cou...</td>\n",
       "      <td>1285eb55-415c-494a-aa58-936f0427cdd0</td>\n",
       "    </tr>\n",
       "    <tr>\n",
       "      <th>4</th>\n",
       "      <td>aa623193-428e-41b8-b051-2d9693d852f8.htseq.cou...</td>\n",
       "      <td>6e126b73-d3e8-4641-a128-306f3b313e40</td>\n",
       "    </tr>\n",
       "  </tbody>\n",
       "</table>\n",
       "</div>"
      ],
      "text/plain": [
       "                                           file_name  \\\n",
       "0  2b5c518f-8327-478a-a282-01bfe59aca4c.htseq.cou...   \n",
       "1  64262505-9f17-4989-94c9-fc6db56ca676.htseq.cou...   \n",
       "2  f5d3e683-9177-45fc-93e3-357bf7366ac4.htseq.cou...   \n",
       "3  6999d309-8502-49ee-8d80-9d0bde00081f.htseq.cou...   \n",
       "4  aa623193-428e-41b8-b051-2d9693d852f8.htseq.cou...   \n",
       "\n",
       "                                case_id  \n",
       "0  4d0fec97-e024-4608-a0cc-426a3decc7b1  \n",
       "1  bb8d42d3-ad65-4d88-ae1d-f9aadfc7962d  \n",
       "2  c694615c-b1c6-499c-8058-995633ebf948  \n",
       "3  1285eb55-415c-494a-aa58-936f0427cdd0  \n",
       "4  6e126b73-d3e8-4641-a128-306f3b313e40  "
      ]
     },
     "execution_count": 6,
     "metadata": {},
     "output_type": "execute_result"
    }
   ],
   "source": [
    "mapping_df.head()"
   ]
  },
  {
   "cell_type": "code",
   "execution_count": 7,
   "metadata": {
    "ExecuteTime": {
     "end_time": "2019-08-19T13:25:26.284633Z",
     "start_time": "2019-08-19T13:25:26.278646Z"
    }
   },
   "outputs": [
    {
     "data": {
      "text/plain": [
       "(1164, 2)"
      ]
     },
     "execution_count": 7,
     "metadata": {},
     "output_type": "execute_result"
    }
   ],
   "source": [
    "mapping_df.shape"
   ]
  },
  {
   "cell_type": "code",
   "execution_count": 8,
   "metadata": {
    "ExecuteTime": {
     "end_time": "2019-08-19T13:25:27.823158Z",
     "start_time": "2019-08-19T13:25:27.816178Z"
    },
    "scrolled": false
   },
   "outputs": [
    {
     "data": {
      "text/plain": [
       "1036"
      ]
     },
     "execution_count": 8,
     "metadata": {},
     "output_type": "execute_result"
    }
   ],
   "source": [
    "len(set(mapping_df['case_id']))"
   ]
  },
  {
   "cell_type": "markdown",
   "metadata": {},
   "source": [
    "Although it has 1164 lines, it only says about 1036 patients, because some patients have multiple files"
   ]
  },
  {
   "cell_type": "code",
   "execution_count": 9,
   "metadata": {
    "ExecuteTime": {
     "end_time": "2019-08-19T13:25:34.164242Z",
     "start_time": "2019-08-19T13:25:34.155278Z"
    }
   },
   "outputs": [
    {
     "data": {
      "text/plain": [
       "file_name    0\n",
       "case_id      0\n",
       "dtype: int64"
      ]
     },
     "execution_count": 9,
     "metadata": {},
     "output_type": "execute_result"
    }
   ],
   "source": [
    "mapping_df.isnull().sum()"
   ]
  },
  {
   "cell_type": "markdown",
   "metadata": {},
   "source": [
    "## Clinical DF"
   ]
  },
  {
   "cell_type": "code",
   "execution_count": 10,
   "metadata": {
    "ExecuteTime": {
     "end_time": "2019-08-19T13:25:39.101497Z",
     "start_time": "2019-08-19T13:25:38.997774Z"
    },
    "scrolled": false
   },
   "outputs": [
    {
     "data": {
      "text/html": [
       "<div>\n",
       "<style scoped>\n",
       "    .dataframe tbody tr th:only-of-type {\n",
       "        vertical-align: middle;\n",
       "    }\n",
       "\n",
       "    .dataframe tbody tr th {\n",
       "        vertical-align: top;\n",
       "    }\n",
       "\n",
       "    .dataframe thead th {\n",
       "        text-align: right;\n",
       "    }\n",
       "</style>\n",
       "<table border=\"1\" class=\"dataframe\">\n",
       "  <thead>\n",
       "    <tr style=\"text-align: right;\">\n",
       "      <th></th>\n",
       "      <th>Unnamed: 0</th>\n",
       "      <th>case_id</th>\n",
       "      <th>submitter_id</th>\n",
       "      <th>tumor_stage</th>\n",
       "      <th>age_at_diagnosis</th>\n",
       "      <th>prior_malignancy</th>\n",
       "      <th>race_asian</th>\n",
       "      <th>race_black or african american</th>\n",
       "      <th>race_white</th>\n",
       "    </tr>\n",
       "  </thead>\n",
       "  <tbody>\n",
       "    <tr>\n",
       "      <th>0</th>\n",
       "      <td>0</td>\n",
       "      <td>dd96a9c7-899c-47cd-a0f9-b149ed07a5d6</td>\n",
       "      <td>TCGA-D8-A1JB</td>\n",
       "      <td>stage iib</td>\n",
       "      <td>54.306849</td>\n",
       "      <td>0</td>\n",
       "      <td>0</td>\n",
       "      <td>0</td>\n",
       "      <td>1</td>\n",
       "    </tr>\n",
       "    <tr>\n",
       "      <th>1</th>\n",
       "      <td>1</td>\n",
       "      <td>3f834fa7-6d7b-4b85-98c0-5c55d55b6c95</td>\n",
       "      <td>TCGA-B6-A0IE</td>\n",
       "      <td>stage iiia</td>\n",
       "      <td>38.306849</td>\n",
       "      <td>0</td>\n",
       "      <td>0</td>\n",
       "      <td>1</td>\n",
       "      <td>0</td>\n",
       "    </tr>\n",
       "    <tr>\n",
       "      <th>2</th>\n",
       "      <td>2</td>\n",
       "      <td>451e1a67-47e6-4738-99d7-fb7771ef61a3</td>\n",
       "      <td>TCGA-B6-A0RP</td>\n",
       "      <td>not reported</td>\n",
       "      <td>73.810959</td>\n",
       "      <td>0</td>\n",
       "      <td>0</td>\n",
       "      <td>0</td>\n",
       "      <td>1</td>\n",
       "    </tr>\n",
       "    <tr>\n",
       "      <th>3</th>\n",
       "      <td>3</td>\n",
       "      <td>178b2c48-c07d-422e-ae17-8bcfd996ad51</td>\n",
       "      <td>TCGA-B6-A0X1</td>\n",
       "      <td>not reported</td>\n",
       "      <td>48.284932</td>\n",
       "      <td>0</td>\n",
       "      <td>0</td>\n",
       "      <td>0</td>\n",
       "      <td>1</td>\n",
       "    </tr>\n",
       "    <tr>\n",
       "      <th>4</th>\n",
       "      <td>4</td>\n",
       "      <td>dddd8e2f-e540-418a-b02e-698d18a12c14</td>\n",
       "      <td>TCGA-A7-A26H</td>\n",
       "      <td>stage iia</td>\n",
       "      <td>72.391781</td>\n",
       "      <td>1</td>\n",
       "      <td>0</td>\n",
       "      <td>0</td>\n",
       "      <td>1</td>\n",
       "    </tr>\n",
       "  </tbody>\n",
       "</table>\n",
       "</div>"
      ],
      "text/plain": [
       "   Unnamed: 0                               case_id  submitter_id  \\\n",
       "0           0  dd96a9c7-899c-47cd-a0f9-b149ed07a5d6  TCGA-D8-A1JB   \n",
       "1           1  3f834fa7-6d7b-4b85-98c0-5c55d55b6c95  TCGA-B6-A0IE   \n",
       "2           2  451e1a67-47e6-4738-99d7-fb7771ef61a3  TCGA-B6-A0RP   \n",
       "3           3  178b2c48-c07d-422e-ae17-8bcfd996ad51  TCGA-B6-A0X1   \n",
       "4           4  dddd8e2f-e540-418a-b02e-698d18a12c14  TCGA-A7-A26H   \n",
       "\n",
       "    tumor_stage  age_at_diagnosis  prior_malignancy  race_asian  \\\n",
       "0     stage iib         54.306849                 0           0   \n",
       "1    stage iiia         38.306849                 0           0   \n",
       "2  not reported         73.810959                 0           0   \n",
       "3  not reported         48.284932                 0           0   \n",
       "4     stage iia         72.391781                 1           0   \n",
       "\n",
       "   race_black or african american  race_white  \n",
       "0                               0           1  \n",
       "1                               1           0  \n",
       "2                               0           1  \n",
       "3                               0           1  \n",
       "4                               0           1  "
      ]
     },
     "execution_count": 10,
     "metadata": {},
     "output_type": "execute_result"
    }
   ],
   "source": [
    "clinical = pd.read_csv('Clinical_Clean_Doria.csv')\n",
    "clinical.head()"
   ]
  },
  {
   "cell_type": "code",
   "execution_count": 11,
   "metadata": {
    "ExecuteTime": {
     "end_time": "2019-08-19T13:25:44.803104Z",
     "start_time": "2019-08-19T13:25:44.798105Z"
    }
   },
   "outputs": [],
   "source": [
    "clinical = clinical.drop(columns=['Unnamed: 0'])"
   ]
  },
  {
   "cell_type": "code",
   "execution_count": 12,
   "metadata": {
    "ExecuteTime": {
     "end_time": "2019-08-19T13:25:45.572855Z",
     "start_time": "2019-08-19T13:25:45.460150Z"
    }
   },
   "outputs": [
    {
     "data": {
      "text/plain": [
       "case_id                           0.0\n",
       "submitter_id                      0.0\n",
       "tumor_stage                       0.0\n",
       "age_at_diagnosis                  0.0\n",
       "prior_malignancy                  0.0\n",
       "race_asian                        0.0\n",
       "race_black or african american    0.0\n",
       "race_white                        0.0\n",
       "dtype: float64"
      ]
     },
     "execution_count": 12,
     "metadata": {},
     "output_type": "execute_result"
    }
   ],
   "source": [
    "clinical[clinical.isnull()].sum()"
   ]
  },
  {
   "cell_type": "code",
   "execution_count": 13,
   "metadata": {
    "ExecuteTime": {
     "end_time": "2019-08-19T13:25:50.821827Z",
     "start_time": "2019-08-19T13:25:50.810832Z"
    },
    "scrolled": true
   },
   "outputs": [
    {
     "name": "stdout",
     "output_type": "stream",
     "text": [
      "(1164, 2)\n",
      "(1036, 8)\n"
     ]
    }
   ],
   "source": [
    "print(mapping_df.shape)\n",
    "print(clinical.shape)"
   ]
  },
  {
   "cell_type": "code",
   "execution_count": 14,
   "metadata": {
    "ExecuteTime": {
     "end_time": "2019-08-19T13:25:54.681266Z",
     "start_time": "2019-08-19T13:25:54.647333Z"
    },
    "scrolled": true
   },
   "outputs": [
    {
     "data": {
      "text/html": [
       "<div>\n",
       "<style scoped>\n",
       "    .dataframe tbody tr th:only-of-type {\n",
       "        vertical-align: middle;\n",
       "    }\n",
       "\n",
       "    .dataframe tbody tr th {\n",
       "        vertical-align: top;\n",
       "    }\n",
       "\n",
       "    .dataframe thead th {\n",
       "        text-align: right;\n",
       "    }\n",
       "</style>\n",
       "<table border=\"1\" class=\"dataframe\">\n",
       "  <thead>\n",
       "    <tr style=\"text-align: right;\">\n",
       "      <th></th>\n",
       "      <th>file_name</th>\n",
       "      <th>case_id</th>\n",
       "      <th>submitter_id</th>\n",
       "      <th>tumor_stage</th>\n",
       "      <th>age_at_diagnosis</th>\n",
       "      <th>prior_malignancy</th>\n",
       "      <th>race_asian</th>\n",
       "      <th>race_black or african american</th>\n",
       "      <th>race_white</th>\n",
       "    </tr>\n",
       "  </thead>\n",
       "  <tbody>\n",
       "    <tr>\n",
       "      <th>0</th>\n",
       "      <td>2b5c518f-8327-478a-a282-01bfe59aca4c.htseq.cou...</td>\n",
       "      <td>4d0fec97-e024-4608-a0cc-426a3decc7b1</td>\n",
       "      <td>TCGA-AR-A252</td>\n",
       "      <td>stage i</td>\n",
       "      <td>50.989041</td>\n",
       "      <td>0</td>\n",
       "      <td>0</td>\n",
       "      <td>0</td>\n",
       "      <td>1</td>\n",
       "    </tr>\n",
       "    <tr>\n",
       "      <th>1</th>\n",
       "      <td>64262505-9f17-4989-94c9-fc6db56ca676.htseq.cou...</td>\n",
       "      <td>bb8d42d3-ad65-4d88-ae1d-f9aadfc7962d</td>\n",
       "      <td>TCGA-AO-A1KS</td>\n",
       "      <td>stage iia</td>\n",
       "      <td>69.123288</td>\n",
       "      <td>0</td>\n",
       "      <td>0</td>\n",
       "      <td>0</td>\n",
       "      <td>1</td>\n",
       "    </tr>\n",
       "    <tr>\n",
       "      <th>2</th>\n",
       "      <td>f5d3e683-9177-45fc-93e3-357bf7366ac4.htseq.cou...</td>\n",
       "      <td>c694615c-b1c6-499c-8058-995633ebf948</td>\n",
       "      <td>TCGA-E9-A1RF</td>\n",
       "      <td>stage iiia</td>\n",
       "      <td>68.819178</td>\n",
       "      <td>0</td>\n",
       "      <td>0</td>\n",
       "      <td>0</td>\n",
       "      <td>1</td>\n",
       "    </tr>\n",
       "    <tr>\n",
       "      <th>3</th>\n",
       "      <td>94bedc10-62c2-4bd2-bad9-0ec08c9bf5e9.htseq.cou...</td>\n",
       "      <td>c694615c-b1c6-499c-8058-995633ebf948</td>\n",
       "      <td>TCGA-E9-A1RF</td>\n",
       "      <td>stage iiia</td>\n",
       "      <td>68.819178</td>\n",
       "      <td>0</td>\n",
       "      <td>0</td>\n",
       "      <td>0</td>\n",
       "      <td>1</td>\n",
       "    </tr>\n",
       "    <tr>\n",
       "      <th>4</th>\n",
       "      <td>6999d309-8502-49ee-8d80-9d0bde00081f.htseq.cou...</td>\n",
       "      <td>1285eb55-415c-494a-aa58-936f0427cdd0</td>\n",
       "      <td>TCGA-V7-A7HQ</td>\n",
       "      <td>stage iiia</td>\n",
       "      <td>75.846575</td>\n",
       "      <td>0</td>\n",
       "      <td>0</td>\n",
       "      <td>1</td>\n",
       "      <td>0</td>\n",
       "    </tr>\n",
       "  </tbody>\n",
       "</table>\n",
       "</div>"
      ],
      "text/plain": [
       "                                           file_name  \\\n",
       "0  2b5c518f-8327-478a-a282-01bfe59aca4c.htseq.cou...   \n",
       "1  64262505-9f17-4989-94c9-fc6db56ca676.htseq.cou...   \n",
       "2  f5d3e683-9177-45fc-93e3-357bf7366ac4.htseq.cou...   \n",
       "3  94bedc10-62c2-4bd2-bad9-0ec08c9bf5e9.htseq.cou...   \n",
       "4  6999d309-8502-49ee-8d80-9d0bde00081f.htseq.cou...   \n",
       "\n",
       "                                case_id  submitter_id tumor_stage  \\\n",
       "0  4d0fec97-e024-4608-a0cc-426a3decc7b1  TCGA-AR-A252     stage i   \n",
       "1  bb8d42d3-ad65-4d88-ae1d-f9aadfc7962d  TCGA-AO-A1KS   stage iia   \n",
       "2  c694615c-b1c6-499c-8058-995633ebf948  TCGA-E9-A1RF  stage iiia   \n",
       "3  c694615c-b1c6-499c-8058-995633ebf948  TCGA-E9-A1RF  stage iiia   \n",
       "4  1285eb55-415c-494a-aa58-936f0427cdd0  TCGA-V7-A7HQ  stage iiia   \n",
       "\n",
       "   age_at_diagnosis  prior_malignancy  race_asian  \\\n",
       "0         50.989041                 0           0   \n",
       "1         69.123288                 0           0   \n",
       "2         68.819178                 0           0   \n",
       "3         68.819178                 0           0   \n",
       "4         75.846575                 0           0   \n",
       "\n",
       "   race_black or african american  race_white  \n",
       "0                               0           1  \n",
       "1                               0           1  \n",
       "2                               0           1  \n",
       "3                               0           1  \n",
       "4                               1           0  "
      ]
     },
     "execution_count": 14,
     "metadata": {},
     "output_type": "execute_result"
    }
   ],
   "source": [
    "joined = pd.merge(mapping_df, clinical, how='inner', on=\"case_id\")\n",
    "joined.head()"
   ]
  },
  {
   "cell_type": "code",
   "execution_count": 15,
   "metadata": {
    "ExecuteTime": {
     "end_time": "2019-08-19T13:25:59.065007Z",
     "start_time": "2019-08-19T13:25:59.059025Z"
    }
   },
   "outputs": [
    {
     "data": {
      "text/plain": [
       "(1164, 9)"
      ]
     },
     "execution_count": 15,
     "metadata": {},
     "output_type": "execute_result"
    }
   ],
   "source": [
    "joined.shape"
   ]
  },
  {
   "cell_type": "markdown",
   "metadata": {},
   "source": [
    "Perfect, we got all the files_names, so we can add the genes."
   ]
  },
  {
   "cell_type": "markdown",
   "metadata": {},
   "source": [
    "## Getting the genes"
   ]
  },
  {
   "cell_type": "markdown",
   "metadata": {},
   "source": [
    "First, let's look at an example file:"
   ]
  },
  {
   "cell_type": "code",
   "execution_count": 16,
   "metadata": {
    "ExecuteTime": {
     "end_time": "2019-08-19T13:26:06.856781Z",
     "start_time": "2019-08-19T13:26:06.693219Z"
    }
   },
   "outputs": [
    {
     "data": {
      "text/html": [
       "<div>\n",
       "<style scoped>\n",
       "    .dataframe tbody tr th:only-of-type {\n",
       "        vertical-align: middle;\n",
       "    }\n",
       "\n",
       "    .dataframe tbody tr th {\n",
       "        vertical-align: top;\n",
       "    }\n",
       "\n",
       "    .dataframe thead th {\n",
       "        text-align: right;\n",
       "    }\n",
       "</style>\n",
       "<table border=\"1\" class=\"dataframe\">\n",
       "  <thead>\n",
       "    <tr style=\"text-align: right;\">\n",
       "      <th></th>\n",
       "      <th>gene</th>\n",
       "      <th>count</th>\n",
       "    </tr>\n",
       "  </thead>\n",
       "  <tbody>\n",
       "    <tr>\n",
       "      <th>0</th>\n",
       "      <td>ENSG00000000003.13</td>\n",
       "      <td>2569.0</td>\n",
       "    </tr>\n",
       "    <tr>\n",
       "      <th>1</th>\n",
       "      <td>ENSG00000000005.5</td>\n",
       "      <td>1.0</td>\n",
       "    </tr>\n",
       "    <tr>\n",
       "      <th>2</th>\n",
       "      <td>ENSG00000000419.11</td>\n",
       "      <td>3180.0</td>\n",
       "    </tr>\n",
       "    <tr>\n",
       "      <th>3</th>\n",
       "      <td>ENSG00000000457.12</td>\n",
       "      <td>3332.0</td>\n",
       "    </tr>\n",
       "    <tr>\n",
       "      <th>4</th>\n",
       "      <td>ENSG00000000460.15</td>\n",
       "      <td>1621.0</td>\n",
       "    </tr>\n",
       "  </tbody>\n",
       "</table>\n",
       "</div>"
      ],
      "text/plain": [
       "                 gene   count\n",
       "0  ENSG00000000003.13  2569.0\n",
       "1   ENSG00000000005.5     1.0\n",
       "2  ENSG00000000419.11  3180.0\n",
       "3  ENSG00000000457.12  3332.0\n",
       "4  ENSG00000000460.15  1621.0"
      ]
     },
     "execution_count": 16,
     "metadata": {},
     "output_type": "execute_result"
    }
   ],
   "source": [
    "test = pd.read_csv('Genes_Files/0a2c1866-d6e1-4add-bcb0-b297ba1394ac.txt', sep='\\t', header=None, names=['gene', 'count'])\n",
    "test['count'] = test['count'].astype('float')\n",
    "test.head()"
   ]
  },
  {
   "cell_type": "code",
   "execution_count": 17,
   "metadata": {
    "ExecuteTime": {
     "end_time": "2019-08-19T13:26:17.774201Z",
     "start_time": "2019-08-19T13:26:17.593604Z"
    }
   },
   "outputs": [
    {
     "data": {
      "text/html": [
       "<div>\n",
       "<style scoped>\n",
       "    .dataframe tbody tr th:only-of-type {\n",
       "        vertical-align: middle;\n",
       "    }\n",
       "\n",
       "    .dataframe tbody tr th {\n",
       "        vertical-align: top;\n",
       "    }\n",
       "\n",
       "    .dataframe thead th {\n",
       "        text-align: right;\n",
       "    }\n",
       "</style>\n",
       "<table border=\"1\" class=\"dataframe\">\n",
       "  <thead>\n",
       "    <tr style=\"text-align: right;\">\n",
       "      <th>gene</th>\n",
       "      <th>ENSG00000000003.13</th>\n",
       "      <th>ENSG00000000005.5</th>\n",
       "      <th>ENSG00000000419.11</th>\n",
       "      <th>ENSG00000000457.12</th>\n",
       "      <th>ENSG00000000460.15</th>\n",
       "      <th>ENSG00000000938.11</th>\n",
       "      <th>ENSG00000000971.14</th>\n",
       "      <th>ENSG00000001036.12</th>\n",
       "      <th>ENSG00000001084.9</th>\n",
       "      <th>ENSG00000001167.13</th>\n",
       "      <th>...</th>\n",
       "      <th>ENSGR0000275287.3</th>\n",
       "      <th>ENSGR0000276543.3</th>\n",
       "      <th>ENSGR0000277120.3</th>\n",
       "      <th>ENSGR0000280767.1</th>\n",
       "      <th>ENSGR0000281849.1</th>\n",
       "      <th>__alignment_not_unique</th>\n",
       "      <th>__ambiguous</th>\n",
       "      <th>__no_feature</th>\n",
       "      <th>__not_aligned</th>\n",
       "      <th>__too_low_aQual</th>\n",
       "    </tr>\n",
       "  </thead>\n",
       "  <tbody>\n",
       "    <tr>\n",
       "      <th>count</th>\n",
       "      <td>2569.0</td>\n",
       "      <td>1.0</td>\n",
       "      <td>3180.0</td>\n",
       "      <td>3332.0</td>\n",
       "      <td>1621.0</td>\n",
       "      <td>530.0</td>\n",
       "      <td>7282.0</td>\n",
       "      <td>3312.0</td>\n",
       "      <td>2642.0</td>\n",
       "      <td>3322.0</td>\n",
       "      <td>...</td>\n",
       "      <td>0.0</td>\n",
       "      <td>0.0</td>\n",
       "      <td>0.0</td>\n",
       "      <td>0.0</td>\n",
       "      <td>0.0</td>\n",
       "      <td>23748640.0</td>\n",
       "      <td>3368739.0</td>\n",
       "      <td>3069305.0</td>\n",
       "      <td>0.0</td>\n",
       "      <td>0.0</td>\n",
       "    </tr>\n",
       "  </tbody>\n",
       "</table>\n",
       "<p>1 rows × 60488 columns</p>\n",
       "</div>"
      ],
      "text/plain": [
       "gene   ENSG00000000003.13  ENSG00000000005.5  ENSG00000000419.11  \\\n",
       "count              2569.0                1.0              3180.0   \n",
       "\n",
       "gene   ENSG00000000457.12  ENSG00000000460.15  ENSG00000000938.11  \\\n",
       "count              3332.0              1621.0               530.0   \n",
       "\n",
       "gene   ENSG00000000971.14  ENSG00000001036.12  ENSG00000001084.9  \\\n",
       "count              7282.0              3312.0             2642.0   \n",
       "\n",
       "gene   ENSG00000001167.13  ...  ENSGR0000275287.3  ENSGR0000276543.3  \\\n",
       "count              3322.0  ...                0.0                0.0   \n",
       "\n",
       "gene   ENSGR0000277120.3  ENSGR0000280767.1  ENSGR0000281849.1  \\\n",
       "count                0.0                0.0                0.0   \n",
       "\n",
       "gene   __alignment_not_unique  __ambiguous  __no_feature  __not_aligned  \\\n",
       "count              23748640.0    3368739.0     3069305.0            0.0   \n",
       "\n",
       "gene   __too_low_aQual  \n",
       "count              0.0  \n",
       "\n",
       "[1 rows x 60488 columns]"
      ]
     },
     "execution_count": 17,
     "metadata": {},
     "output_type": "execute_result"
    }
   ],
   "source": [
    "genes = pd.pivot_table(test, values='count', columns=['gene'])\n",
    "genes.head()"
   ]
  },
  {
   "cell_type": "code",
   "execution_count": 18,
   "metadata": {
    "ExecuteTime": {
     "end_time": "2019-08-19T13:34:49.179357Z",
     "start_time": "2019-08-19T13:26:27.307391Z"
    },
    "scrolled": true
   },
   "outputs": [
    {
     "name": "stderr",
     "output_type": "stream",
     "text": [
      "1164it [08:17,  1.37it/s]\n"
     ]
    }
   ],
   "source": [
    "genes_dataframe = pd.DataFrame(columns=genes.columns)\n",
    "root = 'Genes_Files/'\n",
    "for row in tqdm(joined.iterrows()):\n",
    "    row = row[1]\n",
    "    name = row['file_name']\n",
    "    name = root + name[:name.find('.')] + '.txt'\n",
    "    features = pd.read_csv(name, sep='\\t', header=None, names=['gene', 'count']) \n",
    "    features['count'] = features['count'].astype('float')\n",
    "    pivot_df = pd.pivot_table(features, values='count', columns=['gene'])\n",
    "    genes_dataframe = pd.concat([genes_dataframe, pivot_df], ignore_index=True)\n",
    "genes_dataframe['file_name'] = joined['file_name']"
   ]
  },
  {
   "cell_type": "code",
   "execution_count": 19,
   "metadata": {
    "ExecuteTime": {
     "end_time": "2019-08-19T13:47:04.452590Z",
     "start_time": "2019-08-19T13:47:04.402698Z"
    }
   },
   "outputs": [
    {
     "data": {
      "text/html": [
       "<div>\n",
       "<style scoped>\n",
       "    .dataframe tbody tr th:only-of-type {\n",
       "        vertical-align: middle;\n",
       "    }\n",
       "\n",
       "    .dataframe tbody tr th {\n",
       "        vertical-align: top;\n",
       "    }\n",
       "\n",
       "    .dataframe thead th {\n",
       "        text-align: right;\n",
       "    }\n",
       "</style>\n",
       "<table border=\"1\" class=\"dataframe\">\n",
       "  <thead>\n",
       "    <tr style=\"text-align: right;\">\n",
       "      <th>gene</th>\n",
       "      <th>ENSG00000000003.13</th>\n",
       "      <th>ENSG00000000005.5</th>\n",
       "      <th>ENSG00000000419.11</th>\n",
       "      <th>ENSG00000000457.12</th>\n",
       "      <th>ENSG00000000460.15</th>\n",
       "      <th>ENSG00000000938.11</th>\n",
       "      <th>ENSG00000000971.14</th>\n",
       "      <th>ENSG00000001036.12</th>\n",
       "      <th>ENSG00000001084.9</th>\n",
       "      <th>ENSG00000001167.13</th>\n",
       "      <th>...</th>\n",
       "      <th>ENSGR0000276543.3</th>\n",
       "      <th>ENSGR0000277120.3</th>\n",
       "      <th>ENSGR0000280767.1</th>\n",
       "      <th>ENSGR0000281849.1</th>\n",
       "      <th>__alignment_not_unique</th>\n",
       "      <th>__ambiguous</th>\n",
       "      <th>__no_feature</th>\n",
       "      <th>__not_aligned</th>\n",
       "      <th>__too_low_aQual</th>\n",
       "      <th>file_name</th>\n",
       "    </tr>\n",
       "  </thead>\n",
       "  <tbody>\n",
       "    <tr>\n",
       "      <th>0</th>\n",
       "      <td>2608.0</td>\n",
       "      <td>289.0</td>\n",
       "      <td>1661.0</td>\n",
       "      <td>2081.0</td>\n",
       "      <td>684.0</td>\n",
       "      <td>1261.0</td>\n",
       "      <td>8544.0</td>\n",
       "      <td>4815.0</td>\n",
       "      <td>2879.0</td>\n",
       "      <td>4088.0</td>\n",
       "      <td>...</td>\n",
       "      <td>0.0</td>\n",
       "      <td>0.0</td>\n",
       "      <td>0.0</td>\n",
       "      <td>0.0</td>\n",
       "      <td>33323894.0</td>\n",
       "      <td>3232629.0</td>\n",
       "      <td>5808920.0</td>\n",
       "      <td>0.0</td>\n",
       "      <td>0.0</td>\n",
       "      <td>2b5c518f-8327-478a-a282-01bfe59aca4c.htseq.cou...</td>\n",
       "    </tr>\n",
       "    <tr>\n",
       "      <th>1</th>\n",
       "      <td>5789.0</td>\n",
       "      <td>34.0</td>\n",
       "      <td>2538.0</td>\n",
       "      <td>2572.0</td>\n",
       "      <td>1292.0</td>\n",
       "      <td>284.0</td>\n",
       "      <td>2934.0</td>\n",
       "      <td>5797.0</td>\n",
       "      <td>3401.0</td>\n",
       "      <td>5931.0</td>\n",
       "      <td>...</td>\n",
       "      <td>0.0</td>\n",
       "      <td>0.0</td>\n",
       "      <td>0.0</td>\n",
       "      <td>0.0</td>\n",
       "      <td>19183901.0</td>\n",
       "      <td>2673271.0</td>\n",
       "      <td>6146344.0</td>\n",
       "      <td>0.0</td>\n",
       "      <td>0.0</td>\n",
       "      <td>64262505-9f17-4989-94c9-fc6db56ca676.htseq.cou...</td>\n",
       "    </tr>\n",
       "    <tr>\n",
       "      <th>2</th>\n",
       "      <td>4544.0</td>\n",
       "      <td>1881.0</td>\n",
       "      <td>1565.0</td>\n",
       "      <td>1356.0</td>\n",
       "      <td>294.0</td>\n",
       "      <td>1006.0</td>\n",
       "      <td>24121.0</td>\n",
       "      <td>3695.0</td>\n",
       "      <td>5097.0</td>\n",
       "      <td>2025.0</td>\n",
       "      <td>...</td>\n",
       "      <td>0.0</td>\n",
       "      <td>0.0</td>\n",
       "      <td>0.0</td>\n",
       "      <td>0.0</td>\n",
       "      <td>23874394.0</td>\n",
       "      <td>2400693.0</td>\n",
       "      <td>5278313.0</td>\n",
       "      <td>0.0</td>\n",
       "      <td>0.0</td>\n",
       "      <td>f5d3e683-9177-45fc-93e3-357bf7366ac4.htseq.cou...</td>\n",
       "    </tr>\n",
       "    <tr>\n",
       "      <th>3</th>\n",
       "      <td>676.0</td>\n",
       "      <td>41.0</td>\n",
       "      <td>3732.0</td>\n",
       "      <td>3155.0</td>\n",
       "      <td>1010.0</td>\n",
       "      <td>910.0</td>\n",
       "      <td>5382.0</td>\n",
       "      <td>3559.0</td>\n",
       "      <td>2968.0</td>\n",
       "      <td>3704.0</td>\n",
       "      <td>...</td>\n",
       "      <td>0.0</td>\n",
       "      <td>0.0</td>\n",
       "      <td>0.0</td>\n",
       "      <td>0.0</td>\n",
       "      <td>21737695.0</td>\n",
       "      <td>3123055.0</td>\n",
       "      <td>5182286.0</td>\n",
       "      <td>0.0</td>\n",
       "      <td>0.0</td>\n",
       "      <td>94bedc10-62c2-4bd2-bad9-0ec08c9bf5e9.htseq.cou...</td>\n",
       "    </tr>\n",
       "    <tr>\n",
       "      <th>4</th>\n",
       "      <td>2299.0</td>\n",
       "      <td>5.0</td>\n",
       "      <td>708.0</td>\n",
       "      <td>388.0</td>\n",
       "      <td>93.0</td>\n",
       "      <td>113.0</td>\n",
       "      <td>674.0</td>\n",
       "      <td>2219.0</td>\n",
       "      <td>871.0</td>\n",
       "      <td>923.0</td>\n",
       "      <td>...</td>\n",
       "      <td>0.0</td>\n",
       "      <td>0.0</td>\n",
       "      <td>0.0</td>\n",
       "      <td>0.0</td>\n",
       "      <td>20631886.0</td>\n",
       "      <td>2996831.0</td>\n",
       "      <td>2104393.0</td>\n",
       "      <td>0.0</td>\n",
       "      <td>0.0</td>\n",
       "      <td>6999d309-8502-49ee-8d80-9d0bde00081f.htseq.cou...</td>\n",
       "    </tr>\n",
       "  </tbody>\n",
       "</table>\n",
       "<p>5 rows × 60489 columns</p>\n",
       "</div>"
      ],
      "text/plain": [
       "gene  ENSG00000000003.13  ENSG00000000005.5  ENSG00000000419.11  \\\n",
       "0                 2608.0              289.0              1661.0   \n",
       "1                 5789.0               34.0              2538.0   \n",
       "2                 4544.0             1881.0              1565.0   \n",
       "3                  676.0               41.0              3732.0   \n",
       "4                 2299.0                5.0               708.0   \n",
       "\n",
       "gene  ENSG00000000457.12  ENSG00000000460.15  ENSG00000000938.11  \\\n",
       "0                 2081.0               684.0              1261.0   \n",
       "1                 2572.0              1292.0               284.0   \n",
       "2                 1356.0               294.0              1006.0   \n",
       "3                 3155.0              1010.0               910.0   \n",
       "4                  388.0                93.0               113.0   \n",
       "\n",
       "gene  ENSG00000000971.14  ENSG00000001036.12  ENSG00000001084.9  \\\n",
       "0                 8544.0              4815.0             2879.0   \n",
       "1                 2934.0              5797.0             3401.0   \n",
       "2                24121.0              3695.0             5097.0   \n",
       "3                 5382.0              3559.0             2968.0   \n",
       "4                  674.0              2219.0              871.0   \n",
       "\n",
       "gene  ENSG00000001167.13  ...  ENSGR0000276543.3  ENSGR0000277120.3  \\\n",
       "0                 4088.0  ...                0.0                0.0   \n",
       "1                 5931.0  ...                0.0                0.0   \n",
       "2                 2025.0  ...                0.0                0.0   \n",
       "3                 3704.0  ...                0.0                0.0   \n",
       "4                  923.0  ...                0.0                0.0   \n",
       "\n",
       "gene  ENSGR0000280767.1  ENSGR0000281849.1  __alignment_not_unique  \\\n",
       "0                   0.0                0.0              33323894.0   \n",
       "1                   0.0                0.0              19183901.0   \n",
       "2                   0.0                0.0              23874394.0   \n",
       "3                   0.0                0.0              21737695.0   \n",
       "4                   0.0                0.0              20631886.0   \n",
       "\n",
       "gene  __ambiguous  __no_feature  __not_aligned  __too_low_aQual  \\\n",
       "0       3232629.0     5808920.0            0.0              0.0   \n",
       "1       2673271.0     6146344.0            0.0              0.0   \n",
       "2       2400693.0     5278313.0            0.0              0.0   \n",
       "3       3123055.0     5182286.0            0.0              0.0   \n",
       "4       2996831.0     2104393.0            0.0              0.0   \n",
       "\n",
       "gene                                          file_name  \n",
       "0     2b5c518f-8327-478a-a282-01bfe59aca4c.htseq.cou...  \n",
       "1     64262505-9f17-4989-94c9-fc6db56ca676.htseq.cou...  \n",
       "2     f5d3e683-9177-45fc-93e3-357bf7366ac4.htseq.cou...  \n",
       "3     94bedc10-62c2-4bd2-bad9-0ec08c9bf5e9.htseq.cou...  \n",
       "4     6999d309-8502-49ee-8d80-9d0bde00081f.htseq.cou...  \n",
       "\n",
       "[5 rows x 60489 columns]"
      ]
     },
     "execution_count": 19,
     "metadata": {},
     "output_type": "execute_result"
    }
   ],
   "source": [
    "genes_dataframe.head()"
   ]
  },
  {
   "cell_type": "code",
   "execution_count": 20,
   "metadata": {
    "ExecuteTime": {
     "end_time": "2019-08-19T13:47:07.425966Z",
     "start_time": "2019-08-19T13:47:07.420007Z"
    }
   },
   "outputs": [
    {
     "data": {
      "text/plain": [
       "(1164, 60489)"
      ]
     },
     "execution_count": 20,
     "metadata": {},
     "output_type": "execute_result"
    }
   ],
   "source": [
    "genes_dataframe.shape"
   ]
  },
  {
   "cell_type": "markdown",
   "metadata": {},
   "source": [
    "## Putting everything together"
   ]
  },
  {
   "cell_type": "code",
   "execution_count": 21,
   "metadata": {
    "ExecuteTime": {
     "end_time": "2019-08-19T13:47:11.758118Z",
     "start_time": "2019-08-19T13:47:10.317784Z"
    }
   },
   "outputs": [
    {
     "data": {
      "text/html": [
       "<div>\n",
       "<style scoped>\n",
       "    .dataframe tbody tr th:only-of-type {\n",
       "        vertical-align: middle;\n",
       "    }\n",
       "\n",
       "    .dataframe tbody tr th {\n",
       "        vertical-align: top;\n",
       "    }\n",
       "\n",
       "    .dataframe thead th {\n",
       "        text-align: right;\n",
       "    }\n",
       "</style>\n",
       "<table border=\"1\" class=\"dataframe\">\n",
       "  <thead>\n",
       "    <tr style=\"text-align: right;\">\n",
       "      <th></th>\n",
       "      <th>file_name</th>\n",
       "      <th>case_id</th>\n",
       "      <th>submitter_id</th>\n",
       "      <th>tumor_stage</th>\n",
       "      <th>age_at_diagnosis</th>\n",
       "      <th>prior_malignancy</th>\n",
       "      <th>race_asian</th>\n",
       "      <th>race_black or african american</th>\n",
       "      <th>race_white</th>\n",
       "      <th>ENSG00000000003.13</th>\n",
       "      <th>...</th>\n",
       "      <th>ENSGR0000275287.3</th>\n",
       "      <th>ENSGR0000276543.3</th>\n",
       "      <th>ENSGR0000277120.3</th>\n",
       "      <th>ENSGR0000280767.1</th>\n",
       "      <th>ENSGR0000281849.1</th>\n",
       "      <th>__alignment_not_unique</th>\n",
       "      <th>__ambiguous</th>\n",
       "      <th>__no_feature</th>\n",
       "      <th>__not_aligned</th>\n",
       "      <th>__too_low_aQual</th>\n",
       "    </tr>\n",
       "  </thead>\n",
       "  <tbody>\n",
       "    <tr>\n",
       "      <th>0</th>\n",
       "      <td>2b5c518f-8327-478a-a282-01bfe59aca4c.htseq.cou...</td>\n",
       "      <td>4d0fec97-e024-4608-a0cc-426a3decc7b1</td>\n",
       "      <td>TCGA-AR-A252</td>\n",
       "      <td>stage i</td>\n",
       "      <td>50.989041</td>\n",
       "      <td>0</td>\n",
       "      <td>0</td>\n",
       "      <td>0</td>\n",
       "      <td>1</td>\n",
       "      <td>2608.0</td>\n",
       "      <td>...</td>\n",
       "      <td>0.0</td>\n",
       "      <td>0.0</td>\n",
       "      <td>0.0</td>\n",
       "      <td>0.0</td>\n",
       "      <td>0.0</td>\n",
       "      <td>33323894.0</td>\n",
       "      <td>3232629.0</td>\n",
       "      <td>5808920.0</td>\n",
       "      <td>0.0</td>\n",
       "      <td>0.0</td>\n",
       "    </tr>\n",
       "    <tr>\n",
       "      <th>1</th>\n",
       "      <td>64262505-9f17-4989-94c9-fc6db56ca676.htseq.cou...</td>\n",
       "      <td>bb8d42d3-ad65-4d88-ae1d-f9aadfc7962d</td>\n",
       "      <td>TCGA-AO-A1KS</td>\n",
       "      <td>stage iia</td>\n",
       "      <td>69.123288</td>\n",
       "      <td>0</td>\n",
       "      <td>0</td>\n",
       "      <td>0</td>\n",
       "      <td>1</td>\n",
       "      <td>5789.0</td>\n",
       "      <td>...</td>\n",
       "      <td>0.0</td>\n",
       "      <td>0.0</td>\n",
       "      <td>0.0</td>\n",
       "      <td>0.0</td>\n",
       "      <td>0.0</td>\n",
       "      <td>19183901.0</td>\n",
       "      <td>2673271.0</td>\n",
       "      <td>6146344.0</td>\n",
       "      <td>0.0</td>\n",
       "      <td>0.0</td>\n",
       "    </tr>\n",
       "    <tr>\n",
       "      <th>2</th>\n",
       "      <td>f5d3e683-9177-45fc-93e3-357bf7366ac4.htseq.cou...</td>\n",
       "      <td>c694615c-b1c6-499c-8058-995633ebf948</td>\n",
       "      <td>TCGA-E9-A1RF</td>\n",
       "      <td>stage iiia</td>\n",
       "      <td>68.819178</td>\n",
       "      <td>0</td>\n",
       "      <td>0</td>\n",
       "      <td>0</td>\n",
       "      <td>1</td>\n",
       "      <td>4544.0</td>\n",
       "      <td>...</td>\n",
       "      <td>0.0</td>\n",
       "      <td>0.0</td>\n",
       "      <td>0.0</td>\n",
       "      <td>0.0</td>\n",
       "      <td>0.0</td>\n",
       "      <td>23874394.0</td>\n",
       "      <td>2400693.0</td>\n",
       "      <td>5278313.0</td>\n",
       "      <td>0.0</td>\n",
       "      <td>0.0</td>\n",
       "    </tr>\n",
       "    <tr>\n",
       "      <th>3</th>\n",
       "      <td>94bedc10-62c2-4bd2-bad9-0ec08c9bf5e9.htseq.cou...</td>\n",
       "      <td>c694615c-b1c6-499c-8058-995633ebf948</td>\n",
       "      <td>TCGA-E9-A1RF</td>\n",
       "      <td>stage iiia</td>\n",
       "      <td>68.819178</td>\n",
       "      <td>0</td>\n",
       "      <td>0</td>\n",
       "      <td>0</td>\n",
       "      <td>1</td>\n",
       "      <td>676.0</td>\n",
       "      <td>...</td>\n",
       "      <td>0.0</td>\n",
       "      <td>0.0</td>\n",
       "      <td>0.0</td>\n",
       "      <td>0.0</td>\n",
       "      <td>0.0</td>\n",
       "      <td>21737695.0</td>\n",
       "      <td>3123055.0</td>\n",
       "      <td>5182286.0</td>\n",
       "      <td>0.0</td>\n",
       "      <td>0.0</td>\n",
       "    </tr>\n",
       "    <tr>\n",
       "      <th>4</th>\n",
       "      <td>6999d309-8502-49ee-8d80-9d0bde00081f.htseq.cou...</td>\n",
       "      <td>1285eb55-415c-494a-aa58-936f0427cdd0</td>\n",
       "      <td>TCGA-V7-A7HQ</td>\n",
       "      <td>stage iiia</td>\n",
       "      <td>75.846575</td>\n",
       "      <td>0</td>\n",
       "      <td>0</td>\n",
       "      <td>1</td>\n",
       "      <td>0</td>\n",
       "      <td>2299.0</td>\n",
       "      <td>...</td>\n",
       "      <td>0.0</td>\n",
       "      <td>0.0</td>\n",
       "      <td>0.0</td>\n",
       "      <td>0.0</td>\n",
       "      <td>0.0</td>\n",
       "      <td>20631886.0</td>\n",
       "      <td>2996831.0</td>\n",
       "      <td>2104393.0</td>\n",
       "      <td>0.0</td>\n",
       "      <td>0.0</td>\n",
       "    </tr>\n",
       "  </tbody>\n",
       "</table>\n",
       "<p>5 rows × 60497 columns</p>\n",
       "</div>"
      ],
      "text/plain": [
       "                                           file_name  \\\n",
       "0  2b5c518f-8327-478a-a282-01bfe59aca4c.htseq.cou...   \n",
       "1  64262505-9f17-4989-94c9-fc6db56ca676.htseq.cou...   \n",
       "2  f5d3e683-9177-45fc-93e3-357bf7366ac4.htseq.cou...   \n",
       "3  94bedc10-62c2-4bd2-bad9-0ec08c9bf5e9.htseq.cou...   \n",
       "4  6999d309-8502-49ee-8d80-9d0bde00081f.htseq.cou...   \n",
       "\n",
       "                                case_id  submitter_id tumor_stage  \\\n",
       "0  4d0fec97-e024-4608-a0cc-426a3decc7b1  TCGA-AR-A252     stage i   \n",
       "1  bb8d42d3-ad65-4d88-ae1d-f9aadfc7962d  TCGA-AO-A1KS   stage iia   \n",
       "2  c694615c-b1c6-499c-8058-995633ebf948  TCGA-E9-A1RF  stage iiia   \n",
       "3  c694615c-b1c6-499c-8058-995633ebf948  TCGA-E9-A1RF  stage iiia   \n",
       "4  1285eb55-415c-494a-aa58-936f0427cdd0  TCGA-V7-A7HQ  stage iiia   \n",
       "\n",
       "   age_at_diagnosis  prior_malignancy  race_asian  \\\n",
       "0         50.989041                 0           0   \n",
       "1         69.123288                 0           0   \n",
       "2         68.819178                 0           0   \n",
       "3         68.819178                 0           0   \n",
       "4         75.846575                 0           0   \n",
       "\n",
       "   race_black or african american  race_white  ENSG00000000003.13  ...  \\\n",
       "0                               0           1              2608.0  ...   \n",
       "1                               0           1              5789.0  ...   \n",
       "2                               0           1              4544.0  ...   \n",
       "3                               0           1               676.0  ...   \n",
       "4                               1           0              2299.0  ...   \n",
       "\n",
       "   ENSGR0000275287.3  ENSGR0000276543.3  ENSGR0000277120.3  ENSGR0000280767.1  \\\n",
       "0                0.0                0.0                0.0                0.0   \n",
       "1                0.0                0.0                0.0                0.0   \n",
       "2                0.0                0.0                0.0                0.0   \n",
       "3                0.0                0.0                0.0                0.0   \n",
       "4                0.0                0.0                0.0                0.0   \n",
       "\n",
       "   ENSGR0000281849.1  __alignment_not_unique  __ambiguous  __no_feature  \\\n",
       "0                0.0              33323894.0    3232629.0     5808920.0   \n",
       "1                0.0              19183901.0    2673271.0     6146344.0   \n",
       "2                0.0              23874394.0    2400693.0     5278313.0   \n",
       "3                0.0              21737695.0    3123055.0     5182286.0   \n",
       "4                0.0              20631886.0    2996831.0     2104393.0   \n",
       "\n",
       "   __not_aligned  __too_low_aQual  \n",
       "0            0.0              0.0  \n",
       "1            0.0              0.0  \n",
       "2            0.0              0.0  \n",
       "3            0.0              0.0  \n",
       "4            0.0              0.0  \n",
       "\n",
       "[5 rows x 60497 columns]"
      ]
     },
     "execution_count": 21,
     "metadata": {},
     "output_type": "execute_result"
    }
   ],
   "source": [
    "joined = pd.merge(joined, genes_dataframe, how='inner', on=\"file_name\")\n",
    "joined.head()"
   ]
  },
  {
   "cell_type": "code",
   "execution_count": 22,
   "metadata": {
    "ExecuteTime": {
     "end_time": "2019-08-19T13:47:16.176934Z",
     "start_time": "2019-08-19T13:47:16.170950Z"
    }
   },
   "outputs": [
    {
     "data": {
      "text/plain": [
       "(1164, 60497)"
      ]
     },
     "execution_count": 22,
     "metadata": {},
     "output_type": "execute_result"
    }
   ],
   "source": [
    "joined.shape"
   ]
  },
  {
   "cell_type": "markdown",
   "metadata": {},
   "source": [
    "## Exporting the data"
   ]
  },
  {
   "cell_type": "markdown",
   "metadata": {},
   "source": [
    "Before exporting, I will remove unnecessary columns, to make the file a bit lighter:"
   ]
  },
  {
   "cell_type": "code",
   "execution_count": 23,
   "metadata": {
    "ExecuteTime": {
     "end_time": "2019-08-19T13:47:41.660984Z",
     "start_time": "2019-08-19T13:47:40.382396Z"
    }
   },
   "outputs": [],
   "source": [
    "joined = joined.drop(columns=['file_name', 'case_id', 'submitter_id', '__alignment_not_unique', '__ambiguous', '__no_feature', '__not_aligned', '__too_low_aQual'])"
   ]
  },
  {
   "cell_type": "code",
   "execution_count": 24,
   "metadata": {
    "ExecuteTime": {
     "end_time": "2019-08-19T13:50:26.293618Z",
     "start_time": "2019-08-19T13:47:43.669492Z"
    }
   },
   "outputs": [],
   "source": [
    "joined.to_csv(\"Joined_Data_All_Genes.csv\")"
   ]
  }
 ],
 "metadata": {
  "kernelspec": {
   "display_name": "Python 3",
   "language": "python",
   "name": "python3"
  },
  "latex_envs": {
   "LaTeX_envs_menu_present": true,
   "autoclose": false,
   "autocomplete": true,
   "bibliofile": "biblio.bib",
   "cite_by": "apalike",
   "current_citInitial": 1,
   "eqLabelWithNumbers": true,
   "eqNumInitial": 1,
   "hotkeys": {
    "equation": "Ctrl-E",
    "itemize": "Ctrl-I"
   },
   "labels_anchors": false,
   "latex_user_defs": false,
   "report_style_numbering": false,
   "user_envs_cfg": false
  },
  "toc": {
   "base_numbering": 1,
   "nav_menu": {},
   "number_sections": true,
   "sideBar": true,
   "skip_h1_title": false,
   "title_cell": "Table of Contents",
   "title_sidebar": "Contents",
   "toc_cell": false,
   "toc_position": {},
   "toc_section_display": true,
   "toc_window_display": false
  }
 },
 "nbformat": 4,
 "nbformat_minor": 2
}
