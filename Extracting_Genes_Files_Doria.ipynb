{
 "cells": [
  {
   "cell_type": "code",
   "execution_count": 63,
   "metadata": {
    "ExecuteTime": {
     "end_time": "2019-08-18T09:21:22.289405Z",
     "start_time": "2019-08-18T09:21:22.267487Z"
    }
   },
   "outputs": [],
   "source": [
    "%matplotlib inline\n",
    "import pandas as pd\n",
    "import json\n",
    "import gzip\n",
    "import zipfile\n",
    "import os\n",
    "import numpy as np\n",
    "import sys\n",
    "from pandas.io.json import json_normalize\n",
    "import seaborn as sns\n",
    "import shutil"
   ]
  },
  {
   "cell_type": "markdown",
   "metadata": {},
   "source": [
    "# Extracting the files from their zipped folders"
   ]
  },
  {
   "cell_type": "code",
   "execution_count": 68,
   "metadata": {
    "ExecuteTime": {
     "end_time": "2019-08-18T09:25:41.414620Z",
     "start_time": "2019-08-18T09:25:41.411625Z"
    }
   },
   "outputs": [],
   "source": [
    "rootdir = 'files'\n",
    "extract_files = False\n",
    "if extract_files:\n",
    "    for subdir, dirs, files in os.walk(rootdir):\n",
    "        for file in files:\n",
    "            if not file.startswith('.') and file != 'MANIFEST.txt':\n",
    "                os.rename(os.path.join(subdir, file), os.path.join(rootdir, file))"
   ]
  },
  {
   "cell_type": "code",
   "execution_count": 69,
   "metadata": {
    "ExecuteTime": {
     "end_time": "2019-08-18T09:25:54.503836Z",
     "start_time": "2019-08-18T09:25:54.499845Z"
    }
   },
   "outputs": [],
   "source": [
    "for root, dirs, files in os.walk('Genes_Files'):\n",
    "    for file in files:\n",
    "        with gzip.open(root + '/' + file, 'rb') as zip_file:\n",
    "            new_name = file[:file.find('.')] + '.txt'\n",
    "            with open(root + '/' + new_name, 'wb') as new_file:\n",
    "                shutil.copyfileobj(zip_file, new_file)"
   ]
  },
  {
   "cell_type": "markdown",
   "metadata": {},
   "source": [
    "Example of one file:"
   ]
  },
  {
   "cell_type": "code",
   "execution_count": 65,
   "metadata": {
    "ExecuteTime": {
     "end_time": "2019-08-18T09:24:41.422178Z",
     "start_time": "2019-08-18T09:24:41.325065Z"
    }
   },
   "outputs": [
    {
     "data": {
      "text/html": [
       "<div>\n",
       "<style scoped>\n",
       "    .dataframe tbody tr th:only-of-type {\n",
       "        vertical-align: middle;\n",
       "    }\n",
       "\n",
       "    .dataframe tbody tr th {\n",
       "        vertical-align: top;\n",
       "    }\n",
       "\n",
       "    .dataframe thead th {\n",
       "        text-align: right;\n",
       "    }\n",
       "</style>\n",
       "<table border=\"1\" class=\"dataframe\">\n",
       "  <thead>\n",
       "    <tr style=\"text-align: right;\">\n",
       "      <th></th>\n",
       "      <th>gene</th>\n",
       "      <th>count</th>\n",
       "    </tr>\n",
       "  </thead>\n",
       "  <tbody>\n",
       "    <tr>\n",
       "      <th>0</th>\n",
       "      <td>ENSG00000000003.13</td>\n",
       "      <td>2569.0</td>\n",
       "    </tr>\n",
       "    <tr>\n",
       "      <th>1</th>\n",
       "      <td>ENSG00000000005.5</td>\n",
       "      <td>1.0</td>\n",
       "    </tr>\n",
       "    <tr>\n",
       "      <th>2</th>\n",
       "      <td>ENSG00000000419.11</td>\n",
       "      <td>3180.0</td>\n",
       "    </tr>\n",
       "    <tr>\n",
       "      <th>3</th>\n",
       "      <td>ENSG00000000457.12</td>\n",
       "      <td>3332.0</td>\n",
       "    </tr>\n",
       "    <tr>\n",
       "      <th>4</th>\n",
       "      <td>ENSG00000000460.15</td>\n",
       "      <td>1621.0</td>\n",
       "    </tr>\n",
       "  </tbody>\n",
       "</table>\n",
       "</div>"
      ],
      "text/plain": [
       "                 gene   count\n",
       "0  ENSG00000000003.13  2569.0\n",
       "1   ENSG00000000005.5     1.0\n",
       "2  ENSG00000000419.11  3180.0\n",
       "3  ENSG00000000457.12  3332.0\n",
       "4  ENSG00000000460.15  1621.0"
      ]
     },
     "execution_count": 65,
     "metadata": {},
     "output_type": "execute_result"
    }
   ],
   "source": [
    "test = pd.read_csv('Genes_Files/0a2c1866-d6e1-4add-bcb0-b297ba1394ac.txt', sep='\\t', header=None, names=['gene', 'count'])\n",
    "test['count'] = test['count'].astype('float')\n",
    "test.head()"
   ]
  },
  {
   "cell_type": "code",
   "execution_count": 66,
   "metadata": {
    "ExecuteTime": {
     "end_time": "2019-08-18T09:24:47.702239Z",
     "start_time": "2019-08-18T09:24:47.411631Z"
    }
   },
   "outputs": [
    {
     "data": {
      "text/html": [
       "<div>\n",
       "<style scoped>\n",
       "    .dataframe tbody tr th:only-of-type {\n",
       "        vertical-align: middle;\n",
       "    }\n",
       "\n",
       "    .dataframe tbody tr th {\n",
       "        vertical-align: top;\n",
       "    }\n",
       "\n",
       "    .dataframe thead th {\n",
       "        text-align: right;\n",
       "    }\n",
       "</style>\n",
       "<table border=\"1\" class=\"dataframe\">\n",
       "  <thead>\n",
       "    <tr style=\"text-align: right;\">\n",
       "      <th>gene</th>\n",
       "      <th>ENSG00000000003.13</th>\n",
       "      <th>ENSG00000000005.5</th>\n",
       "      <th>ENSG00000000419.11</th>\n",
       "      <th>ENSG00000000457.12</th>\n",
       "      <th>ENSG00000000460.15</th>\n",
       "      <th>ENSG00000000938.11</th>\n",
       "      <th>ENSG00000000971.14</th>\n",
       "      <th>ENSG00000001036.12</th>\n",
       "      <th>ENSG00000001084.9</th>\n",
       "      <th>ENSG00000001167.13</th>\n",
       "      <th>...</th>\n",
       "      <th>ENSGR0000275287.3</th>\n",
       "      <th>ENSGR0000276543.3</th>\n",
       "      <th>ENSGR0000277120.3</th>\n",
       "      <th>ENSGR0000280767.1</th>\n",
       "      <th>ENSGR0000281849.1</th>\n",
       "      <th>__alignment_not_unique</th>\n",
       "      <th>__ambiguous</th>\n",
       "      <th>__no_feature</th>\n",
       "      <th>__not_aligned</th>\n",
       "      <th>__too_low_aQual</th>\n",
       "    </tr>\n",
       "  </thead>\n",
       "  <tbody>\n",
       "    <tr>\n",
       "      <th>count</th>\n",
       "      <td>2569.0</td>\n",
       "      <td>1.0</td>\n",
       "      <td>3180.0</td>\n",
       "      <td>3332.0</td>\n",
       "      <td>1621.0</td>\n",
       "      <td>530.0</td>\n",
       "      <td>7282.0</td>\n",
       "      <td>3312.0</td>\n",
       "      <td>2642.0</td>\n",
       "      <td>3322.0</td>\n",
       "      <td>...</td>\n",
       "      <td>0.0</td>\n",
       "      <td>0.0</td>\n",
       "      <td>0.0</td>\n",
       "      <td>0.0</td>\n",
       "      <td>0.0</td>\n",
       "      <td>23748640.0</td>\n",
       "      <td>3368739.0</td>\n",
       "      <td>3069305.0</td>\n",
       "      <td>0.0</td>\n",
       "      <td>0.0</td>\n",
       "    </tr>\n",
       "  </tbody>\n",
       "</table>\n",
       "<p>1 rows × 60488 columns</p>\n",
       "</div>"
      ],
      "text/plain": [
       "gene   ENSG00000000003.13  ENSG00000000005.5  ENSG00000000419.11  \\\n",
       "count              2569.0                1.0              3180.0   \n",
       "\n",
       "gene   ENSG00000000457.12  ENSG00000000460.15  ENSG00000000938.11  \\\n",
       "count              3332.0              1621.0               530.0   \n",
       "\n",
       "gene   ENSG00000000971.14  ENSG00000001036.12  ENSG00000001084.9  \\\n",
       "count              7282.0              3312.0             2642.0   \n",
       "\n",
       "gene   ENSG00000001167.13  ...  ENSGR0000275287.3  ENSGR0000276543.3  \\\n",
       "count              3322.0  ...                0.0                0.0   \n",
       "\n",
       "gene   ENSGR0000277120.3  ENSGR0000280767.1  ENSGR0000281849.1  \\\n",
       "count                0.0                0.0                0.0   \n",
       "\n",
       "gene   __alignment_not_unique  __ambiguous  __no_feature  __not_aligned  \\\n",
       "count              23748640.0    3368739.0     3069305.0            0.0   \n",
       "\n",
       "gene   __too_low_aQual  \n",
       "count              0.0  \n",
       "\n",
       "[1 rows x 60488 columns]"
      ]
     },
     "execution_count": 66,
     "metadata": {},
     "output_type": "execute_result"
    }
   ],
   "source": [
    "genes = pd.pivot_table(test, values='count', columns=['gene'])\n",
    "genes.head()"
   ]
  },
  {
   "cell_type": "code",
   "execution_count": 67,
   "metadata": {
    "ExecuteTime": {
     "end_time": "2019-08-18T09:24:52.107145Z",
     "start_time": "2019-08-18T09:24:52.100164Z"
    }
   },
   "outputs": [
    {
     "data": {
      "text/plain": [
       "Index(['ENSG00000000003.13', 'ENSG00000000005.5', 'ENSG00000000419.11',\n",
       "       'ENSG00000000457.12', 'ENSG00000000460.15', 'ENSG00000000938.11',\n",
       "       'ENSG00000000971.14', 'ENSG00000001036.12', 'ENSG00000001084.9',\n",
       "       'ENSG00000001167.13',\n",
       "       ...\n",
       "       'ENSGR0000275287.3', 'ENSGR0000276543.3', 'ENSGR0000277120.3',\n",
       "       'ENSGR0000280767.1', 'ENSGR0000281849.1', '__alignment_not_unique',\n",
       "       '__ambiguous', '__no_feature', '__not_aligned', '__too_low_aQual'],\n",
       "      dtype='object', name='gene', length=60488)"
      ]
     },
     "execution_count": 67,
     "metadata": {},
     "output_type": "execute_result"
    }
   ],
   "source": [
    "genes.columns"
   ]
  }
 ],
 "metadata": {
  "kernelspec": {
   "display_name": "Python 3",
   "language": "python",
   "name": "python3"
  },
  "language_info": {
   "codemirror_mode": {
    "name": "ipython",
    "version": 3
   },
   "file_extension": ".py",
   "mimetype": "text/x-python",
   "name": "python",
   "nbconvert_exporter": "python",
   "pygments_lexer": "ipython3",
   "version": "3.6.7"
  },
  "latex_envs": {
   "LaTeX_envs_menu_present": true,
   "autoclose": false,
   "autocomplete": true,
   "bibliofile": "biblio.bib",
   "cite_by": "apalike",
   "current_citInitial": 1,
   "eqLabelWithNumbers": true,
   "eqNumInitial": 1,
   "hotkeys": {
    "equation": "Ctrl-E",
    "itemize": "Ctrl-I"
   },
   "labels_anchors": false,
   "latex_user_defs": false,
   "report_style_numbering": false,
   "user_envs_cfg": false
  },
  "toc": {
   "base_numbering": 1,
   "nav_menu": {},
   "number_sections": true,
   "sideBar": true,
   "skip_h1_title": false,
   "title_cell": "Table of Contents",
   "title_sidebar": "Contents",
   "toc_cell": false,
   "toc_position": {},
   "toc_section_display": true,
   "toc_window_display": false
  }
 },
 "nbformat": 4,
 "nbformat_minor": 2
}
